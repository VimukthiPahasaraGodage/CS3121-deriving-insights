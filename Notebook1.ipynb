{
 "cells": [
  {
   "cell_type": "code",
   "execution_count": 2,
   "metadata": {
    "collapsed": true,
    "ExecuteTime": {
     "start_time": "2023-07-14T19:42:50.601267Z",
     "end_time": "2023-07-14T19:42:50.985840Z"
    }
   },
   "outputs": [],
   "source": [
    "import numpy as np\n",
    "import pandas as pd\n",
    "import seaborn as sns\n",
    "import matplotlib.pyplot as plt\n",
    "from sklearn.preprocessing import OneHotEncoder\n",
    "from sklearn.preprocessing import LabelEncoder\n",
    "from sklearn.preprocessing import StandardScaler\n",
    "from sklearn.tree import DecisionTreeClassifier\n",
    "from sklearn.tree import DecisionTreeRegressor\n",
    "from sklearn.neural_network import MLPRegressor\n",
    "from sklearn.model_selection import RandomizedSearchCV\n",
    "from sklearn.model_selection import train_test_split\n",
    "import sklearn.metrics as metrics\n",
    "from sklearn.metrics import mean_squared_error\n",
    "from datetime import datetime"
   ]
  },
  {
   "cell_type": "code",
   "execution_count": 3,
   "outputs": [],
   "source": [
    "chatterbox = pd.read_csv('employees.csv', low_memory=False)\n",
    "attendance = pd.read_csv('train-attendance.csv', low_memory=False)\n",
    "salary = pd.read_csv('train-salary.csv', low_memory=False)"
   ],
   "metadata": {
    "collapsed": false,
    "ExecuteTime": {
     "start_time": "2023-07-14T19:42:50.988839Z",
     "end_time": "2023-07-14T19:42:51.537995Z"
    }
   }
  },
  {
   "cell_type": "code",
   "execution_count": 4,
   "outputs": [
    {
     "data": {
      "text/plain": "   Employee_No  year  month  SiteNo      Area  Accomadation Allowance  \\\n0          347  2021      7     1.0  Colombo                      0.0   \n1          347  2021      8     1.0  Colombo                      0.0   \n2          347  2021      9     1.0  Colombo                      0.0   \n3          347  2021     10     1.0  Colombo                      0.0   \n4          347  2021     11     1.0  Colombo                      0.0   \n\n   Accommodation Allowance  Add. Allow. No Pay Deduction  \\\n0                      0.0                           0.0   \n1                      0.0                           0.0   \n2                      0.0                           0.0   \n3                      0.0                           0.0   \n4                      0.0                           0.0   \n\n   Additional Allowance_0  Additional Allowance_2  ...  \\\n0                     0.0                     0.0  ...   \n1                     0.0                     0.0  ...   \n2                     0.0                     0.0  ...   \n3                     0.0                     0.0  ...   \n4                     0.0                     0.0  ...   \n\n   WSL No of Full Worked Days  WSL No of Half Days  WSL OT 1.5  \\\n0                         0.0                  0.0         0.0   \n1                         0.0                  0.0         0.0   \n2                         0.0                  0.0         0.0   \n3                         0.0                  0.0         0.0   \n4                         0.0                  0.0         0.0   \n\n   WSL OT Hours 1.5  WSL OT Rate  WSL Total Earning  WSL Total Working Days  \\\n0               0.0          0.0                0.0                     0.0   \n1               0.0          0.0                0.0                     0.0   \n2               0.0          0.0                0.0                     0.0   \n3               0.0          0.0                0.0                     0.0   \n4               0.0          0.0                0.0                     0.0   \n\n   WSLOther Allowance Rate  Working Days - Full  Working Days - Half Day  \n0                      0.0                  0.0                      0.0  \n1                      0.0                  0.0                      0.0  \n2                      0.0                  0.0                      0.0  \n3                      0.0                  0.0                      0.0  \n4                      0.0                  0.0                      0.0  \n\n[5 rows x 109 columns]",
      "text/html": "<div>\n<style scoped>\n    .dataframe tbody tr th:only-of-type {\n        vertical-align: middle;\n    }\n\n    .dataframe tbody tr th {\n        vertical-align: top;\n    }\n\n    .dataframe thead th {\n        text-align: right;\n    }\n</style>\n<table border=\"1\" class=\"dataframe\">\n  <thead>\n    <tr style=\"text-align: right;\">\n      <th></th>\n      <th>Employee_No</th>\n      <th>year</th>\n      <th>month</th>\n      <th>SiteNo</th>\n      <th>Area</th>\n      <th>Accomadation Allowance</th>\n      <th>Accommodation Allowance</th>\n      <th>Add. Allow. No Pay Deduction</th>\n      <th>Additional Allowance_0</th>\n      <th>Additional Allowance_2</th>\n      <th>...</th>\n      <th>WSL No of Full Worked Days</th>\n      <th>WSL No of Half Days</th>\n      <th>WSL OT 1.5</th>\n      <th>WSL OT Hours 1.5</th>\n      <th>WSL OT Rate</th>\n      <th>WSL Total Earning</th>\n      <th>WSL Total Working Days</th>\n      <th>WSLOther Allowance Rate</th>\n      <th>Working Days - Full</th>\n      <th>Working Days - Half Day</th>\n    </tr>\n  </thead>\n  <tbody>\n    <tr>\n      <th>0</th>\n      <td>347</td>\n      <td>2021</td>\n      <td>7</td>\n      <td>1.0</td>\n      <td>Colombo</td>\n      <td>0.0</td>\n      <td>0.0</td>\n      <td>0.0</td>\n      <td>0.0</td>\n      <td>0.0</td>\n      <td>...</td>\n      <td>0.0</td>\n      <td>0.0</td>\n      <td>0.0</td>\n      <td>0.0</td>\n      <td>0.0</td>\n      <td>0.0</td>\n      <td>0.0</td>\n      <td>0.0</td>\n      <td>0.0</td>\n      <td>0.0</td>\n    </tr>\n    <tr>\n      <th>1</th>\n      <td>347</td>\n      <td>2021</td>\n      <td>8</td>\n      <td>1.0</td>\n      <td>Colombo</td>\n      <td>0.0</td>\n      <td>0.0</td>\n      <td>0.0</td>\n      <td>0.0</td>\n      <td>0.0</td>\n      <td>...</td>\n      <td>0.0</td>\n      <td>0.0</td>\n      <td>0.0</td>\n      <td>0.0</td>\n      <td>0.0</td>\n      <td>0.0</td>\n      <td>0.0</td>\n      <td>0.0</td>\n      <td>0.0</td>\n      <td>0.0</td>\n    </tr>\n    <tr>\n      <th>2</th>\n      <td>347</td>\n      <td>2021</td>\n      <td>9</td>\n      <td>1.0</td>\n      <td>Colombo</td>\n      <td>0.0</td>\n      <td>0.0</td>\n      <td>0.0</td>\n      <td>0.0</td>\n      <td>0.0</td>\n      <td>...</td>\n      <td>0.0</td>\n      <td>0.0</td>\n      <td>0.0</td>\n      <td>0.0</td>\n      <td>0.0</td>\n      <td>0.0</td>\n      <td>0.0</td>\n      <td>0.0</td>\n      <td>0.0</td>\n      <td>0.0</td>\n    </tr>\n    <tr>\n      <th>3</th>\n      <td>347</td>\n      <td>2021</td>\n      <td>10</td>\n      <td>1.0</td>\n      <td>Colombo</td>\n      <td>0.0</td>\n      <td>0.0</td>\n      <td>0.0</td>\n      <td>0.0</td>\n      <td>0.0</td>\n      <td>...</td>\n      <td>0.0</td>\n      <td>0.0</td>\n      <td>0.0</td>\n      <td>0.0</td>\n      <td>0.0</td>\n      <td>0.0</td>\n      <td>0.0</td>\n      <td>0.0</td>\n      <td>0.0</td>\n      <td>0.0</td>\n    </tr>\n    <tr>\n      <th>4</th>\n      <td>347</td>\n      <td>2021</td>\n      <td>11</td>\n      <td>1.0</td>\n      <td>Colombo</td>\n      <td>0.0</td>\n      <td>0.0</td>\n      <td>0.0</td>\n      <td>0.0</td>\n      <td>0.0</td>\n      <td>...</td>\n      <td>0.0</td>\n      <td>0.0</td>\n      <td>0.0</td>\n      <td>0.0</td>\n      <td>0.0</td>\n      <td>0.0</td>\n      <td>0.0</td>\n      <td>0.0</td>\n      <td>0.0</td>\n      <td>0.0</td>\n    </tr>\n  </tbody>\n</table>\n<p>5 rows × 109 columns</p>\n</div>"
     },
     "execution_count": 4,
     "metadata": {},
     "output_type": "execute_result"
    }
   ],
   "source": [
    "salary.head()"
   ],
   "metadata": {
    "collapsed": false,
    "ExecuteTime": {
     "start_time": "2023-07-14T19:42:51.512993Z",
     "end_time": "2023-07-14T19:42:51.561995Z"
    }
   }
  },
  {
   "cell_type": "code",
   "execution_count": 5,
   "outputs": [
    {
     "data": {
      "text/plain": "(9035, 109)"
     },
     "execution_count": 5,
     "metadata": {},
     "output_type": "execute_result"
    }
   ],
   "source": [
    "salary.shape"
   ],
   "metadata": {
    "collapsed": false,
    "ExecuteTime": {
     "start_time": "2023-07-14T19:42:51.555994Z",
     "end_time": "2023-07-14T19:42:51.604513Z"
    }
   }
  },
  {
   "cell_type": "code",
   "execution_count": 6,
   "outputs": [
    {
     "name": "stdout",
     "output_type": "stream",
     "text": [
      "1598\n"
     ]
    }
   ],
   "source": [
    "print(salary['Employee_No'].nunique())"
   ],
   "metadata": {
    "collapsed": false,
    "ExecuteTime": {
     "start_time": "2023-07-14T19:42:51.572993Z",
     "end_time": "2023-07-14T19:42:51.663514Z"
    }
   }
  },
  {
   "cell_type": "code",
   "execution_count": 7,
   "outputs": [
    {
     "name": "stdout",
     "output_type": "stream",
     "text": [
      "['Employee_No', 'year', 'month', 'SiteNo', 'Area', 'Accomadation Allowance', 'Accommodation Allowance', 'Add. Allow. No Pay Deduction', 'Additional Allowance_0', 'Additional Allowance_2', 'Allow - Extra Working Hours', 'Attendance Allowance Rate', 'Attendance Allowance_0', 'Attendance Allowance_2', 'BRA1', 'BRA1 Amount', 'BRA1WSL', 'BRA2', 'BRA2 Amount', 'BRA2WSL', 'Basic Day Rate', 'Basic Rate for EPF', 'Basic Rate_2', 'Basic Rate_3', 'Basic Salary for EPF', 'Basic Salary_0', 'Basic Salary_2', 'Basic per Day', 'EPF Employee 8%', 'EPF Employer 12%', 'EPF Staff No Pay Full Day', 'EPF Staff No Pay Half Day', 'EPF staff Halfdays', 'EPF staff full workdays', 'ETF Employer 3%', 'Ex Work Hours Allownace', 'Fixed Amount', 'Fixed OT Entitlement', 'Fixed OT Hours', 'Hard Ship Allowance Rate', 'Hard Ship Allowance_0', 'Hard Ship Allowance_2', 'Hard ship Allowance Rate', 'Leave Leave Full Day', 'Leave Leave Halfday', 'Lieu Leave', 'Meal Allowance', 'Month Day Count', 'Net Salary', 'No Pay', 'No Pay Days', 'No Pay Deduction', 'No Pay Rate', 'No of Full Worked Days', 'No of Half Days', 'OT (Type = 2)', 'OT Amount 1.5_0', 'OT Amount 1.5_2', 'OT Hours', 'OT Rate', 'OT Rate 1.5', 'OT Rate 2', 'Other Allowance', 'Other Allowance Amount', 'Other Allowance Rate', 'Other Deduction', 'Payee Month', 'Per Day Rate Total', 'Performance Allowance', 'Performance Allowance Rate', 'Performance Allownace Fixed', 'Salary Advance', 'Salary Arrears_0', 'Salary Arrears_2', 'Site Fixed Allowance', 'Special Allowance', 'Special Task Allowance', 'Stamp Duty', 'Telephone Allowance', 'Telephone Deduction', 'Total Cost to the Company', 'Total Deduction', 'Total Earnings_0', 'Total Earnings_2', 'Total Fixed', 'Total V.Allowance', 'Total Working Days', 'Travelling Allowance', 'V. ALLW -Site', 'V. ALLW Rate -Site', 'V. Allow - Drivers Travel', 'V. Allow - Operator', 'V. Allowance Attendance', 'Vehicle Allownace', 'WSL Advance', 'WSL Basic', 'WSL Basic Salary', 'WSL Day Rate', 'WSL Net Salary', 'WSL No of Full Worked Days', 'WSL No of Half Days', 'WSL OT 1.5', 'WSL OT Hours 1.5', 'WSL OT Rate', 'WSL Total Earning', 'WSL Total Working Days', 'WSLOther Allowance Rate', 'Working Days - Full', 'Working Days - Half Day']\n"
     ]
    }
   ],
   "source": [
    "print(salary.columns.tolist())"
   ],
   "metadata": {
    "collapsed": false,
    "ExecuteTime": {
     "start_time": "2023-07-14T19:42:51.589002Z",
     "end_time": "2023-07-14T19:42:51.709034Z"
    }
   }
  },
  {
   "cell_type": "code",
   "execution_count": 8,
   "outputs": [
    {
     "data": {
      "text/plain": "      Salary Advance  OT Hours  No of Half Days  No of Full Worked Days  \\\n0                0.0     16.35              0.0                     0.0   \n1                0.0      4.81              0.0                     0.0   \n2                0.0     21.95              0.0                     0.0   \n3                0.0     10.25              0.0                     0.0   \n4                0.0     14.25              0.0                     0.0   \n...              ...       ...              ...                     ...   \n9030             0.0      4.25              0.0                    14.0   \n9031             0.0      4.25              0.0                    15.0   \n9032             0.0      5.00              0.0                    15.0   \n9033             0.0      0.00              0.0                     0.0   \n9034             0.0      0.00              0.0                     0.0   \n\n      Net Salary  Leave Leave Full Day  Leave Leave Halfday  \n0       35107.43                   0.0                  0.0  \n1       33051.81                   0.0                  0.0  \n2           0.00                   0.0                  0.0  \n3       34020.83                   0.0                  0.0  \n4       34733.35                   0.0                  0.0  \n...          ...                   ...                  ...  \n9030    24310.00                   0.0                  0.0  \n9031    25985.00                   0.0                  0.0  \n9032    26075.00                   0.0                  0.0  \n9033    12933.33                   0.0                  0.0  \n9034        0.00                   0.0                  0.0  \n\n[9035 rows x 7 columns]",
      "text/html": "<div>\n<style scoped>\n    .dataframe tbody tr th:only-of-type {\n        vertical-align: middle;\n    }\n\n    .dataframe tbody tr th {\n        vertical-align: top;\n    }\n\n    .dataframe thead th {\n        text-align: right;\n    }\n</style>\n<table border=\"1\" class=\"dataframe\">\n  <thead>\n    <tr style=\"text-align: right;\">\n      <th></th>\n      <th>Salary Advance</th>\n      <th>OT Hours</th>\n      <th>No of Half Days</th>\n      <th>No of Full Worked Days</th>\n      <th>Net Salary</th>\n      <th>Leave Leave Full Day</th>\n      <th>Leave Leave Halfday</th>\n    </tr>\n  </thead>\n  <tbody>\n    <tr>\n      <th>0</th>\n      <td>0.0</td>\n      <td>16.35</td>\n      <td>0.0</td>\n      <td>0.0</td>\n      <td>35107.43</td>\n      <td>0.0</td>\n      <td>0.0</td>\n    </tr>\n    <tr>\n      <th>1</th>\n      <td>0.0</td>\n      <td>4.81</td>\n      <td>0.0</td>\n      <td>0.0</td>\n      <td>33051.81</td>\n      <td>0.0</td>\n      <td>0.0</td>\n    </tr>\n    <tr>\n      <th>2</th>\n      <td>0.0</td>\n      <td>21.95</td>\n      <td>0.0</td>\n      <td>0.0</td>\n      <td>0.00</td>\n      <td>0.0</td>\n      <td>0.0</td>\n    </tr>\n    <tr>\n      <th>3</th>\n      <td>0.0</td>\n      <td>10.25</td>\n      <td>0.0</td>\n      <td>0.0</td>\n      <td>34020.83</td>\n      <td>0.0</td>\n      <td>0.0</td>\n    </tr>\n    <tr>\n      <th>4</th>\n      <td>0.0</td>\n      <td>14.25</td>\n      <td>0.0</td>\n      <td>0.0</td>\n      <td>34733.35</td>\n      <td>0.0</td>\n      <td>0.0</td>\n    </tr>\n    <tr>\n      <th>...</th>\n      <td>...</td>\n      <td>...</td>\n      <td>...</td>\n      <td>...</td>\n      <td>...</td>\n      <td>...</td>\n      <td>...</td>\n    </tr>\n    <tr>\n      <th>9030</th>\n      <td>0.0</td>\n      <td>4.25</td>\n      <td>0.0</td>\n      <td>14.0</td>\n      <td>24310.00</td>\n      <td>0.0</td>\n      <td>0.0</td>\n    </tr>\n    <tr>\n      <th>9031</th>\n      <td>0.0</td>\n      <td>4.25</td>\n      <td>0.0</td>\n      <td>15.0</td>\n      <td>25985.00</td>\n      <td>0.0</td>\n      <td>0.0</td>\n    </tr>\n    <tr>\n      <th>9032</th>\n      <td>0.0</td>\n      <td>5.00</td>\n      <td>0.0</td>\n      <td>15.0</td>\n      <td>26075.00</td>\n      <td>0.0</td>\n      <td>0.0</td>\n    </tr>\n    <tr>\n      <th>9033</th>\n      <td>0.0</td>\n      <td>0.00</td>\n      <td>0.0</td>\n      <td>0.0</td>\n      <td>12933.33</td>\n      <td>0.0</td>\n      <td>0.0</td>\n    </tr>\n    <tr>\n      <th>9034</th>\n      <td>0.0</td>\n      <td>0.00</td>\n      <td>0.0</td>\n      <td>0.0</td>\n      <td>0.00</td>\n      <td>0.0</td>\n      <td>0.0</td>\n    </tr>\n  </tbody>\n</table>\n<p>9035 rows × 7 columns</p>\n</div>"
     },
     "execution_count": 8,
     "metadata": {},
     "output_type": "execute_result"
    }
   ],
   "source": [
    "salary[['Salary Advance', 'OT Hours', 'No of Half Days', 'No of Full Worked Days', 'Net Salary', 'Leave Leave Full Day', 'Leave Leave Halfday']]"
   ],
   "metadata": {
    "collapsed": false,
    "ExecuteTime": {
     "start_time": "2023-07-14T19:42:51.612515Z",
     "end_time": "2023-07-14T19:42:51.966084Z"
    }
   }
  },
  {
   "cell_type": "code",
   "execution_count": 9,
   "outputs": [
    {
     "name": "stdout",
     "output_type": "stream",
     "text": [
      "False\n"
     ]
    }
   ],
   "source": [
    "print(salary.duplicated().any())"
   ],
   "metadata": {
    "collapsed": false,
    "ExecuteTime": {
     "start_time": "2023-07-14T19:42:51.637513Z",
     "end_time": "2023-07-14T19:42:51.994698Z"
    }
   }
  },
  {
   "cell_type": "code",
   "execution_count": 12,
   "outputs": [
    {
     "data": {
      "text/plain": "Employee_No                 0\nyear                        0\nmonth                       0\nSiteNo                     45\nArea                        0\n                           ..\nWSL Total Earning           0\nWSL Total Working Days      0\nWSLOther Allowance Rate     0\nWorking Days - Full         0\nWorking Days - Half Day     0\nLength: 109, dtype: int64"
     },
     "metadata": {},
     "output_type": "display_data"
    }
   ],
   "source": [
    "display(salary.isna().sum())"
   ],
   "metadata": {
    "collapsed": false,
    "ExecuteTime": {
     "start_time": "2023-07-14T19:44:00.157644Z",
     "end_time": "2023-07-14T19:44:00.228476Z"
    }
   }
  },
  {
   "cell_type": "code",
   "execution_count": 75,
   "outputs": [
    {
     "data": {
      "text/plain": "Employee_No                  int64\nyear                         int64\nmonth                        int64\nSiteNo                     float64\nArea                        object\n                            ...   \nWSL Total Earning          float64\nWSL Total Working Days     float64\nWSLOther Allowance Rate    float64\nWorking Days - Full        float64\nWorking Days - Half Day    float64\nLength: 109, dtype: object"
     },
     "execution_count": 75,
     "metadata": {},
     "output_type": "execute_result"
    }
   ],
   "source": [
    "salary.dtypes"
   ],
   "metadata": {
    "collapsed": false,
    "ExecuteTime": {
     "start_time": "2023-06-11T21:26:24.526207Z",
     "end_time": "2023-06-11T21:26:24.729398Z"
    }
   }
  },
  {
   "cell_type": "code",
   "execution_count": 76,
   "outputs": [
    {
     "data": {
      "text/plain": "   Employee_No  Salary Advance  OT Hours  No of Half Days  \\\n0          347             0.0     16.35              0.0   \n1          347             0.0      4.81              0.0   \n2          347             0.0     21.95              0.0   \n3          347             0.0     10.25              0.0   \n4          347             0.0     14.25              0.0   \n\n   No of Full Worked Days  Net Salary  Leave Leave Full Day  \\\n0                     0.0    35107.43                   0.0   \n1                     0.0    33051.81                   0.0   \n2                     0.0        0.00                   0.0   \n3                     0.0    34020.83                   0.0   \n4                     0.0    34733.35                   0.0   \n\n   Leave Leave Halfday  \n0                  0.0  \n1                  0.0  \n2                  0.0  \n3                  0.0  \n4                  0.0  ",
      "text/html": "<div>\n<style scoped>\n    .dataframe tbody tr th:only-of-type {\n        vertical-align: middle;\n    }\n\n    .dataframe tbody tr th {\n        vertical-align: top;\n    }\n\n    .dataframe thead th {\n        text-align: right;\n    }\n</style>\n<table border=\"1\" class=\"dataframe\">\n  <thead>\n    <tr style=\"text-align: right;\">\n      <th></th>\n      <th>Employee_No</th>\n      <th>Salary Advance</th>\n      <th>OT Hours</th>\n      <th>No of Half Days</th>\n      <th>No of Full Worked Days</th>\n      <th>Net Salary</th>\n      <th>Leave Leave Full Day</th>\n      <th>Leave Leave Halfday</th>\n    </tr>\n  </thead>\n  <tbody>\n    <tr>\n      <th>0</th>\n      <td>347</td>\n      <td>0.0</td>\n      <td>16.35</td>\n      <td>0.0</td>\n      <td>0.0</td>\n      <td>35107.43</td>\n      <td>0.0</td>\n      <td>0.0</td>\n    </tr>\n    <tr>\n      <th>1</th>\n      <td>347</td>\n      <td>0.0</td>\n      <td>4.81</td>\n      <td>0.0</td>\n      <td>0.0</td>\n      <td>33051.81</td>\n      <td>0.0</td>\n      <td>0.0</td>\n    </tr>\n    <tr>\n      <th>2</th>\n      <td>347</td>\n      <td>0.0</td>\n      <td>21.95</td>\n      <td>0.0</td>\n      <td>0.0</td>\n      <td>0.00</td>\n      <td>0.0</td>\n      <td>0.0</td>\n    </tr>\n    <tr>\n      <th>3</th>\n      <td>347</td>\n      <td>0.0</td>\n      <td>10.25</td>\n      <td>0.0</td>\n      <td>0.0</td>\n      <td>34020.83</td>\n      <td>0.0</td>\n      <td>0.0</td>\n    </tr>\n    <tr>\n      <th>4</th>\n      <td>347</td>\n      <td>0.0</td>\n      <td>14.25</td>\n      <td>0.0</td>\n      <td>0.0</td>\n      <td>34733.35</td>\n      <td>0.0</td>\n      <td>0.0</td>\n    </tr>\n  </tbody>\n</table>\n</div>"
     },
     "execution_count": 76,
     "metadata": {},
     "output_type": "execute_result"
    }
   ],
   "source": [
    "salary_filtered = salary[['Employee_No', 'Salary Advance', 'OT Hours', 'No of Half Days', 'No of Full Worked Days', 'Net Salary', 'Leave Leave Full Day', 'Leave Leave Halfday']]\n",
    "salary_filtered.head()"
   ],
   "metadata": {
    "collapsed": false,
    "ExecuteTime": {
     "start_time": "2023-06-11T21:26:24.549207Z",
     "end_time": "2023-06-11T21:26:24.729398Z"
    }
   }
  },
  {
   "cell_type": "code",
   "execution_count": 77,
   "outputs": [
    {
     "data": {
      "text/plain": "            Salary Advance                  OT Hours                     \\\n                       max  min        mean      max    min        mean   \nEmployee_No                                                               \n347                    0.0  0.0    0.000000    27.75   0.75   12.450556   \n348                 5000.0  0.0  277.777778   193.75  11.50  114.636111   \n351                    0.0  0.0    0.000000    10.68   1.00    5.726667   \n352                    0.0  0.0    0.000000   100.60   0.00   42.830588   \n354                    0.0  0.0    0.000000   180.00   4.23  124.582353   \n\n            No of Half Days           No of Full Worked Days  ...       \\\n                        max  min mean                    max  ... mean   \nEmployee_No                                                   ...        \n347                     0.0  0.0  0.0                    0.0  ...  0.0   \n348                     0.0  0.0  0.0                    0.0  ...  0.0   \n351                     0.0  0.0  0.0                    0.0  ...  0.0   \n352                     0.0  0.0  0.0                    0.0  ...  0.0   \n354                     0.0  0.0  0.0                    0.0  ...  0.0   \n\n            Net Salary                         Leave Leave Full Day       \\\n                   max       min          mean                  max  min   \nEmployee_No                                                                \n347           37138.11      0.00  32317.488333                  0.0  0.0   \n348           89251.50      0.00  55814.944444                  0.0  0.0   \n351           48899.50  40263.55  45578.643333                  0.0  0.0   \n352           45361.06  14058.03  33220.818235                  4.0  0.0   \n354           82640.00  35881.49  66650.151765                  0.0  0.0   \n\n                      Leave Leave Halfday                 \n                 mean                 max  min      mean  \nEmployee_No                                               \n347          0.000000                 0.0  0.0  0.000000  \n348          0.000000                 0.0  0.0  0.000000  \n351          0.000000                 0.0  0.0  0.000000  \n352          0.529412                 3.0  0.0  0.529412  \n354          0.000000                 0.0  0.0  0.000000  \n\n[5 rows x 21 columns]",
      "text/html": "<div>\n<style scoped>\n    .dataframe tbody tr th:only-of-type {\n        vertical-align: middle;\n    }\n\n    .dataframe tbody tr th {\n        vertical-align: top;\n    }\n\n    .dataframe thead tr th {\n        text-align: left;\n    }\n\n    .dataframe thead tr:last-of-type th {\n        text-align: right;\n    }\n</style>\n<table border=\"1\" class=\"dataframe\">\n  <thead>\n    <tr>\n      <th></th>\n      <th colspan=\"3\" halign=\"left\">Salary Advance</th>\n      <th colspan=\"3\" halign=\"left\">OT Hours</th>\n      <th colspan=\"3\" halign=\"left\">No of Half Days</th>\n      <th colspan=\"3\" halign=\"left\">No of Full Worked Days</th>\n      <th colspan=\"3\" halign=\"left\">Net Salary</th>\n      <th colspan=\"3\" halign=\"left\">Leave Leave Full Day</th>\n      <th colspan=\"3\" halign=\"left\">Leave Leave Halfday</th>\n    </tr>\n    <tr>\n      <th></th>\n      <th>max</th>\n      <th>min</th>\n      <th>mean</th>\n      <th>max</th>\n      <th>min</th>\n      <th>mean</th>\n      <th>max</th>\n      <th>min</th>\n      <th>mean</th>\n      <th>max</th>\n      <th>...</th>\n      <th>mean</th>\n      <th>max</th>\n      <th>min</th>\n      <th>mean</th>\n      <th>max</th>\n      <th>min</th>\n      <th>mean</th>\n      <th>max</th>\n      <th>min</th>\n      <th>mean</th>\n    </tr>\n    <tr>\n      <th>Employee_No</th>\n      <th></th>\n      <th></th>\n      <th></th>\n      <th></th>\n      <th></th>\n      <th></th>\n      <th></th>\n      <th></th>\n      <th></th>\n      <th></th>\n      <th></th>\n      <th></th>\n      <th></th>\n      <th></th>\n      <th></th>\n      <th></th>\n      <th></th>\n      <th></th>\n      <th></th>\n      <th></th>\n      <th></th>\n    </tr>\n  </thead>\n  <tbody>\n    <tr>\n      <th>347</th>\n      <td>0.0</td>\n      <td>0.0</td>\n      <td>0.000000</td>\n      <td>27.75</td>\n      <td>0.75</td>\n      <td>12.450556</td>\n      <td>0.0</td>\n      <td>0.0</td>\n      <td>0.0</td>\n      <td>0.0</td>\n      <td>...</td>\n      <td>0.0</td>\n      <td>37138.11</td>\n      <td>0.00</td>\n      <td>32317.488333</td>\n      <td>0.0</td>\n      <td>0.0</td>\n      <td>0.000000</td>\n      <td>0.0</td>\n      <td>0.0</td>\n      <td>0.000000</td>\n    </tr>\n    <tr>\n      <th>348</th>\n      <td>5000.0</td>\n      <td>0.0</td>\n      <td>277.777778</td>\n      <td>193.75</td>\n      <td>11.50</td>\n      <td>114.636111</td>\n      <td>0.0</td>\n      <td>0.0</td>\n      <td>0.0</td>\n      <td>0.0</td>\n      <td>...</td>\n      <td>0.0</td>\n      <td>89251.50</td>\n      <td>0.00</td>\n      <td>55814.944444</td>\n      <td>0.0</td>\n      <td>0.0</td>\n      <td>0.000000</td>\n      <td>0.0</td>\n      <td>0.0</td>\n      <td>0.000000</td>\n    </tr>\n    <tr>\n      <th>351</th>\n      <td>0.0</td>\n      <td>0.0</td>\n      <td>0.000000</td>\n      <td>10.68</td>\n      <td>1.00</td>\n      <td>5.726667</td>\n      <td>0.0</td>\n      <td>0.0</td>\n      <td>0.0</td>\n      <td>0.0</td>\n      <td>...</td>\n      <td>0.0</td>\n      <td>48899.50</td>\n      <td>40263.55</td>\n      <td>45578.643333</td>\n      <td>0.0</td>\n      <td>0.0</td>\n      <td>0.000000</td>\n      <td>0.0</td>\n      <td>0.0</td>\n      <td>0.000000</td>\n    </tr>\n    <tr>\n      <th>352</th>\n      <td>0.0</td>\n      <td>0.0</td>\n      <td>0.000000</td>\n      <td>100.60</td>\n      <td>0.00</td>\n      <td>42.830588</td>\n      <td>0.0</td>\n      <td>0.0</td>\n      <td>0.0</td>\n      <td>0.0</td>\n      <td>...</td>\n      <td>0.0</td>\n      <td>45361.06</td>\n      <td>14058.03</td>\n      <td>33220.818235</td>\n      <td>4.0</td>\n      <td>0.0</td>\n      <td>0.529412</td>\n      <td>3.0</td>\n      <td>0.0</td>\n      <td>0.529412</td>\n    </tr>\n    <tr>\n      <th>354</th>\n      <td>0.0</td>\n      <td>0.0</td>\n      <td>0.000000</td>\n      <td>180.00</td>\n      <td>4.23</td>\n      <td>124.582353</td>\n      <td>0.0</td>\n      <td>0.0</td>\n      <td>0.0</td>\n      <td>0.0</td>\n      <td>...</td>\n      <td>0.0</td>\n      <td>82640.00</td>\n      <td>35881.49</td>\n      <td>66650.151765</td>\n      <td>0.0</td>\n      <td>0.0</td>\n      <td>0.000000</td>\n      <td>0.0</td>\n      <td>0.0</td>\n      <td>0.000000</td>\n    </tr>\n  </tbody>\n</table>\n<p>5 rows × 21 columns</p>\n</div>"
     },
     "metadata": {},
     "output_type": "display_data"
    },
    {
     "name": "stdout",
     "output_type": "stream",
     "text": [
      "['max_Salary Advance', 'min_Salary Advance', 'mean_Salary Advance', 'max_OT Hours', 'min_OT Hours', 'mean_OT Hours', 'max_No of Half Days', 'min_No of Half Days', 'mean_No of Half Days', 'max_No of Full Worked Days', 'min_No of Full Worked Days', 'mean_No of Full Worked Days', 'max_Net Salary', 'min_Net Salary', 'mean_Net Salary', 'max_Leave Leave Full Day', 'min_Leave Leave Full Day', 'mean_Leave Leave Full Day', 'max_Leave Leave Halfday', 'min_Leave Leave Halfday', 'mean_Leave Leave Halfday']\n"
     ]
    },
    {
     "data": {
      "text/plain": "   Employee_No  max_Salary Advance  min_Salary Advance  mean_Salary Advance  \\\n0          347                 0.0                 0.0             0.000000   \n1          348              5000.0                 0.0           277.777778   \n2          351                 0.0                 0.0             0.000000   \n3          352                 0.0                 0.0             0.000000   \n4          354                 0.0                 0.0             0.000000   \n\n   max_OT Hours  min_OT Hours  mean_OT Hours  max_No of Half Days  \\\n0         27.75          0.75      12.450556                  0.0   \n1        193.75         11.50     114.636111                  0.0   \n2         10.68          1.00       5.726667                  0.0   \n3        100.60          0.00      42.830588                  0.0   \n4        180.00          4.23     124.582353                  0.0   \n\n   min_No of Half Days  mean_No of Half Days  ...  \\\n0                  0.0                   0.0  ...   \n1                  0.0                   0.0  ...   \n2                  0.0                   0.0  ...   \n3                  0.0                   0.0  ...   \n4                  0.0                   0.0  ...   \n\n   mean_No of Full Worked Days  max_Net Salary  min_Net Salary  \\\n0                          0.0        37138.11            0.00   \n1                          0.0        89251.50            0.00   \n2                          0.0        48899.50        40263.55   \n3                          0.0        45361.06        14058.03   \n4                          0.0        82640.00        35881.49   \n\n   mean_Net Salary  max_Leave Leave Full Day  min_Leave Leave Full Day  \\\n0     32317.488333                       0.0                       0.0   \n1     55814.944444                       0.0                       0.0   \n2     45578.643333                       0.0                       0.0   \n3     33220.818235                       4.0                       0.0   \n4     66650.151765                       0.0                       0.0   \n\n   mean_Leave Leave Full Day  max_Leave Leave Halfday  \\\n0                   0.000000                      0.0   \n1                   0.000000                      0.0   \n2                   0.000000                      0.0   \n3                   0.529412                      3.0   \n4                   0.000000                      0.0   \n\n   min_Leave Leave Halfday  mean_Leave Leave Halfday  \n0                      0.0                  0.000000  \n1                      0.0                  0.000000  \n2                      0.0                  0.000000  \n3                      0.0                  0.529412  \n4                      0.0                  0.000000  \n\n[5 rows x 22 columns]",
      "text/html": "<div>\n<style scoped>\n    .dataframe tbody tr th:only-of-type {\n        vertical-align: middle;\n    }\n\n    .dataframe tbody tr th {\n        vertical-align: top;\n    }\n\n    .dataframe thead th {\n        text-align: right;\n    }\n</style>\n<table border=\"1\" class=\"dataframe\">\n  <thead>\n    <tr style=\"text-align: right;\">\n      <th></th>\n      <th>Employee_No</th>\n      <th>max_Salary Advance</th>\n      <th>min_Salary Advance</th>\n      <th>mean_Salary Advance</th>\n      <th>max_OT Hours</th>\n      <th>min_OT Hours</th>\n      <th>mean_OT Hours</th>\n      <th>max_No of Half Days</th>\n      <th>min_No of Half Days</th>\n      <th>mean_No of Half Days</th>\n      <th>...</th>\n      <th>mean_No of Full Worked Days</th>\n      <th>max_Net Salary</th>\n      <th>min_Net Salary</th>\n      <th>mean_Net Salary</th>\n      <th>max_Leave Leave Full Day</th>\n      <th>min_Leave Leave Full Day</th>\n      <th>mean_Leave Leave Full Day</th>\n      <th>max_Leave Leave Halfday</th>\n      <th>min_Leave Leave Halfday</th>\n      <th>mean_Leave Leave Halfday</th>\n    </tr>\n  </thead>\n  <tbody>\n    <tr>\n      <th>0</th>\n      <td>347</td>\n      <td>0.0</td>\n      <td>0.0</td>\n      <td>0.000000</td>\n      <td>27.75</td>\n      <td>0.75</td>\n      <td>12.450556</td>\n      <td>0.0</td>\n      <td>0.0</td>\n      <td>0.0</td>\n      <td>...</td>\n      <td>0.0</td>\n      <td>37138.11</td>\n      <td>0.00</td>\n      <td>32317.488333</td>\n      <td>0.0</td>\n      <td>0.0</td>\n      <td>0.000000</td>\n      <td>0.0</td>\n      <td>0.0</td>\n      <td>0.000000</td>\n    </tr>\n    <tr>\n      <th>1</th>\n      <td>348</td>\n      <td>5000.0</td>\n      <td>0.0</td>\n      <td>277.777778</td>\n      <td>193.75</td>\n      <td>11.50</td>\n      <td>114.636111</td>\n      <td>0.0</td>\n      <td>0.0</td>\n      <td>0.0</td>\n      <td>...</td>\n      <td>0.0</td>\n      <td>89251.50</td>\n      <td>0.00</td>\n      <td>55814.944444</td>\n      <td>0.0</td>\n      <td>0.0</td>\n      <td>0.000000</td>\n      <td>0.0</td>\n      <td>0.0</td>\n      <td>0.000000</td>\n    </tr>\n    <tr>\n      <th>2</th>\n      <td>351</td>\n      <td>0.0</td>\n      <td>0.0</td>\n      <td>0.000000</td>\n      <td>10.68</td>\n      <td>1.00</td>\n      <td>5.726667</td>\n      <td>0.0</td>\n      <td>0.0</td>\n      <td>0.0</td>\n      <td>...</td>\n      <td>0.0</td>\n      <td>48899.50</td>\n      <td>40263.55</td>\n      <td>45578.643333</td>\n      <td>0.0</td>\n      <td>0.0</td>\n      <td>0.000000</td>\n      <td>0.0</td>\n      <td>0.0</td>\n      <td>0.000000</td>\n    </tr>\n    <tr>\n      <th>3</th>\n      <td>352</td>\n      <td>0.0</td>\n      <td>0.0</td>\n      <td>0.000000</td>\n      <td>100.60</td>\n      <td>0.00</td>\n      <td>42.830588</td>\n      <td>0.0</td>\n      <td>0.0</td>\n      <td>0.0</td>\n      <td>...</td>\n      <td>0.0</td>\n      <td>45361.06</td>\n      <td>14058.03</td>\n      <td>33220.818235</td>\n      <td>4.0</td>\n      <td>0.0</td>\n      <td>0.529412</td>\n      <td>3.0</td>\n      <td>0.0</td>\n      <td>0.529412</td>\n    </tr>\n    <tr>\n      <th>4</th>\n      <td>354</td>\n      <td>0.0</td>\n      <td>0.0</td>\n      <td>0.000000</td>\n      <td>180.00</td>\n      <td>4.23</td>\n      <td>124.582353</td>\n      <td>0.0</td>\n      <td>0.0</td>\n      <td>0.0</td>\n      <td>...</td>\n      <td>0.0</td>\n      <td>82640.00</td>\n      <td>35881.49</td>\n      <td>66650.151765</td>\n      <td>0.0</td>\n      <td>0.0</td>\n      <td>0.000000</td>\n      <td>0.0</td>\n      <td>0.0</td>\n      <td>0.000000</td>\n    </tr>\n  </tbody>\n</table>\n<p>5 rows × 22 columns</p>\n</div>"
     },
     "metadata": {},
     "output_type": "display_data"
    }
   ],
   "source": [
    "salary = salary_filtered.groupby('Employee_No').agg({'Salary Advance':['max', 'min', 'mean'], 'OT Hours':['max', 'min', 'mean'], 'No of Half Days': ['max', 'min', 'mean'], 'No of Full Worked Days': ['max', 'min', 'mean'], 'Net Salary': ['max', 'min', 'mean'], 'Leave Leave Full Day': ['max', 'min', 'mean'], 'Leave Leave Halfday': ['max', 'min', 'mean']})\n",
    "display(salary.head())\n",
    "\n",
    "_columns_labels = []\n",
    "_columns = salary.columns.tolist()\n",
    "for i in range(len(_columns)):\n",
    "    _columns_labels.append(_columns[i][1] + \"_\" + _columns[i][0])\n",
    "\n",
    "print(_columns_labels)\n",
    "\n",
    "salary = salary.reset_index(level=[0])\n",
    "\n",
    "columns_labels = ['Employee_No'] + _columns_labels\n",
    "\n",
    "salary.columns = columns_labels\n",
    "\n",
    "display(salary.head())"
   ],
   "metadata": {
    "collapsed": false,
    "ExecuteTime": {
     "start_time": "2023-06-11T21:26:24.560206Z",
     "end_time": "2023-06-11T21:26:24.733398Z"
    }
   }
  },
  {
   "cell_type": "code",
   "execution_count": 78,
   "outputs": [
    {
     "data": {
      "text/plain": "       id  project_code      date  out_date  Employee_No   in_time  out_time  \\\n0  280220         100.0  2/1/2021  2/1/2021         1272   8:30:00  17:00:00   \n1  280307           1.0  2/1/2021  2/1/2021         1539   8:30:00  17:00:00   \n2  280312           1.0  2/1/2021  2/1/2021         1540   7:45:00  17:00:00   \n3  280385         100.0  2/1/2021  2/1/2021         1273   8:00:00  18:00:00   \n4  322526           1.0  2/1/2021  2/1/2021          573  23:22:28  23:22:28   \n\n  Hourly_Time Shift_Start Shift_End  \n0         8.5     8:30:00  17:00:00  \n1         8.5     8:30:00  17:00:00  \n2        9.25     8:30:00  17:00:00  \n3          10     8:30:00  17:00:00  \n4           0     8:30:00  17:00:00  ",
      "text/html": "<div>\n<style scoped>\n    .dataframe tbody tr th:only-of-type {\n        vertical-align: middle;\n    }\n\n    .dataframe tbody tr th {\n        vertical-align: top;\n    }\n\n    .dataframe thead th {\n        text-align: right;\n    }\n</style>\n<table border=\"1\" class=\"dataframe\">\n  <thead>\n    <tr style=\"text-align: right;\">\n      <th></th>\n      <th>id</th>\n      <th>project_code</th>\n      <th>date</th>\n      <th>out_date</th>\n      <th>Employee_No</th>\n      <th>in_time</th>\n      <th>out_time</th>\n      <th>Hourly_Time</th>\n      <th>Shift_Start</th>\n      <th>Shift_End</th>\n    </tr>\n  </thead>\n  <tbody>\n    <tr>\n      <th>0</th>\n      <td>280220</td>\n      <td>100.0</td>\n      <td>2/1/2021</td>\n      <td>2/1/2021</td>\n      <td>1272</td>\n      <td>8:30:00</td>\n      <td>17:00:00</td>\n      <td>8.5</td>\n      <td>8:30:00</td>\n      <td>17:00:00</td>\n    </tr>\n    <tr>\n      <th>1</th>\n      <td>280307</td>\n      <td>1.0</td>\n      <td>2/1/2021</td>\n      <td>2/1/2021</td>\n      <td>1539</td>\n      <td>8:30:00</td>\n      <td>17:00:00</td>\n      <td>8.5</td>\n      <td>8:30:00</td>\n      <td>17:00:00</td>\n    </tr>\n    <tr>\n      <th>2</th>\n      <td>280312</td>\n      <td>1.0</td>\n      <td>2/1/2021</td>\n      <td>2/1/2021</td>\n      <td>1540</td>\n      <td>7:45:00</td>\n      <td>17:00:00</td>\n      <td>9.25</td>\n      <td>8:30:00</td>\n      <td>17:00:00</td>\n    </tr>\n    <tr>\n      <th>3</th>\n      <td>280385</td>\n      <td>100.0</td>\n      <td>2/1/2021</td>\n      <td>2/1/2021</td>\n      <td>1273</td>\n      <td>8:00:00</td>\n      <td>18:00:00</td>\n      <td>10</td>\n      <td>8:30:00</td>\n      <td>17:00:00</td>\n    </tr>\n    <tr>\n      <th>4</th>\n      <td>322526</td>\n      <td>1.0</td>\n      <td>2/1/2021</td>\n      <td>2/1/2021</td>\n      <td>573</td>\n      <td>23:22:28</td>\n      <td>23:22:28</td>\n      <td>0</td>\n      <td>8:30:00</td>\n      <td>17:00:00</td>\n    </tr>\n  </tbody>\n</table>\n</div>"
     },
     "execution_count": 78,
     "metadata": {},
     "output_type": "execute_result"
    }
   ],
   "source": [
    "attendance.head()"
   ],
   "metadata": {
    "collapsed": false,
    "ExecuteTime": {
     "start_time": "2023-06-11T21:26:24.605208Z",
     "end_time": "2023-06-11T21:26:24.734397Z"
    }
   }
  },
  {
   "cell_type": "code",
   "execution_count": 79,
   "outputs": [
    {
     "data": {
      "text/plain": "(224057, 10)"
     },
     "execution_count": 79,
     "metadata": {},
     "output_type": "execute_result"
    }
   ],
   "source": [
    "attendance.shape"
   ],
   "metadata": {
    "collapsed": false,
    "ExecuteTime": {
     "start_time": "2023-06-11T21:26:24.624206Z",
     "end_time": "2023-06-11T21:26:24.734397Z"
    }
   }
  },
  {
   "cell_type": "code",
   "execution_count": 80,
   "outputs": [
    {
     "data": {
      "text/plain": "Index(['id', 'project_code', 'date', 'out_date', 'Employee_No', 'in_time',\n       'out_time', 'Hourly_Time', 'Shift_Start', 'Shift_End'],\n      dtype='object')"
     },
     "execution_count": 80,
     "metadata": {},
     "output_type": "execute_result"
    }
   ],
   "source": [
    "attendance.columns"
   ],
   "metadata": {
    "collapsed": false,
    "ExecuteTime": {
     "start_time": "2023-06-11T21:26:24.635206Z",
     "end_time": "2023-06-11T21:26:24.735397Z"
    }
   }
  },
  {
   "cell_type": "code",
   "execution_count": 81,
   "outputs": [
    {
     "data": {
      "text/plain": "id                int64\nproject_code    float64\ndate             object\nout_date         object\nEmployee_No       int64\nin_time          object\nout_time         object\nHourly_Time      object\nShift_Start      object\nShift_End        object\ndtype: object"
     },
     "execution_count": 81,
     "metadata": {},
     "output_type": "execute_result"
    }
   ],
   "source": [
    "attendance.dtypes"
   ],
   "metadata": {
    "collapsed": false,
    "ExecuteTime": {
     "start_time": "2023-06-11T21:26:24.654207Z",
     "end_time": "2023-06-11T21:26:24.735397Z"
    }
   }
  },
  {
   "cell_type": "code",
   "execution_count": 82,
   "outputs": [
    {
     "name": "stdout",
     "output_type": "stream",
     "text": [
      "True\n"
     ]
    }
   ],
   "source": [
    "print(attendance['id'].is_unique)"
   ],
   "metadata": {
    "collapsed": false,
    "ExecuteTime": {
     "start_time": "2023-06-11T21:26:24.668892Z",
     "end_time": "2023-06-11T21:26:24.866483Z"
    }
   }
  },
  {
   "cell_type": "code",
   "execution_count": 83,
   "outputs": [
    {
     "name": "stdout",
     "output_type": "stream",
     "text": [
      "Employee No :  1883\n",
      "Shift Start :  9\n",
      "Shift End :  9\n",
      "Shift Start :  ['8:30:00' '8:00:00' '0:00:00' '7:00:00' '18:00:00' '7:30:00' '6:00:00'\n",
      " '19:00:00' '17:00:00']\n",
      "Shift End :  ['17:00:00' '13:30:00' '0:00:00' '6:59:00' '7:00:00' '6:00:00' '18:00:00'\n",
      " '22:00:00' '8:00:00']\n"
     ]
    }
   ],
   "source": [
    "print('Employee No : ', attendance['Employee_No'].nunique())\n",
    "print('Shift Start : ', attendance['Shift_Start'].nunique())\n",
    "print('Shift End : ', attendance['Shift_End'].nunique())\n",
    "\n",
    "print('Shift Start : ', attendance['Shift_Start'].unique())\n",
    "print('Shift End : ', attendance['Shift_End'].unique())"
   ],
   "metadata": {
    "collapsed": false,
    "ExecuteTime": {
     "start_time": "2023-06-11T21:26:24.685892Z",
     "end_time": "2023-06-11T21:26:24.893396Z"
    }
   }
  },
  {
   "cell_type": "code",
   "execution_count": 84,
   "outputs": [
    {
     "data": {
      "text/plain": "id              0\nproject_code    0\ndate            0\nout_date        0\nEmployee_No     0\nin_time         0\nout_time        0\nHourly_Time     0\nShift_Start     0\nShift_End       0\ndtype: int64"
     },
     "execution_count": 84,
     "metadata": {},
     "output_type": "execute_result"
    }
   ],
   "source": [
    "attendance.isna().sum()"
   ],
   "metadata": {
    "collapsed": false,
    "ExecuteTime": {
     "start_time": "2023-06-11T21:26:24.731398Z",
     "end_time": "2023-06-11T21:26:25.085524Z"
    }
   }
  },
  {
   "cell_type": "code",
   "execution_count": 85,
   "outputs": [
    {
     "name": "stdout",
     "output_type": "stream",
     "text": [
      "15\n",
      "6725\n"
     ]
    }
   ],
   "source": [
    "print((attendance['Hourly_Time'] == '\\\\N').sum())\n",
    "print((attendance['Hourly_Time'] == '0').sum())"
   ],
   "metadata": {
    "collapsed": false,
    "ExecuteTime": {
     "start_time": "2023-06-11T21:26:24.908397Z",
     "end_time": "2023-06-11T21:26:25.245032Z"
    }
   }
  },
  {
   "cell_type": "code",
   "execution_count": 86,
   "outputs": [
    {
     "name": "stdout",
     "output_type": "stream",
     "text": [
      "0\n",
      "0\n"
     ]
    },
    {
     "data": {
      "text/plain": "       id  project_code      date  out_date  Employee_No   in_time  out_time  \\\n0  280220         100.0  2/1/2021  2/1/2021         1272   8:30:00  17:00:00   \n1  280307           1.0  2/1/2021  2/1/2021         1539   8:30:00  17:00:00   \n2  280312           1.0  2/1/2021  2/1/2021         1540   7:45:00  17:00:00   \n3  280385         100.0  2/1/2021  2/1/2021         1273   8:00:00  18:00:00   \n4  322526           1.0  2/1/2021  2/1/2021          573  23:22:28  23:22:28   \n\n  Hourly_Time Shift_Start Shift_End  Shift_Start_Minutes  Shift_End_Minutes  \\\n0         8.5     8:30:00  17:00:00                  510               1020   \n1         8.5     8:30:00  17:00:00                  510               1020   \n2        9.25     8:30:00  17:00:00                  510               1020   \n3          10     8:30:00  17:00:00                  510               1020   \n4           0     8:30:00  17:00:00                  510               1020   \n\n   in_time_Minutes  out_time_Minutes  Time_Minutes  \n0              510              1020           510  \n1              510              1020           510  \n2              465              1020           555  \n3              480              1080           600  \n4             1402              1402             0  ",
      "text/html": "<div>\n<style scoped>\n    .dataframe tbody tr th:only-of-type {\n        vertical-align: middle;\n    }\n\n    .dataframe tbody tr th {\n        vertical-align: top;\n    }\n\n    .dataframe thead th {\n        text-align: right;\n    }\n</style>\n<table border=\"1\" class=\"dataframe\">\n  <thead>\n    <tr style=\"text-align: right;\">\n      <th></th>\n      <th>id</th>\n      <th>project_code</th>\n      <th>date</th>\n      <th>out_date</th>\n      <th>Employee_No</th>\n      <th>in_time</th>\n      <th>out_time</th>\n      <th>Hourly_Time</th>\n      <th>Shift_Start</th>\n      <th>Shift_End</th>\n      <th>Shift_Start_Minutes</th>\n      <th>Shift_End_Minutes</th>\n      <th>in_time_Minutes</th>\n      <th>out_time_Minutes</th>\n      <th>Time_Minutes</th>\n    </tr>\n  </thead>\n  <tbody>\n    <tr>\n      <th>0</th>\n      <td>280220</td>\n      <td>100.0</td>\n      <td>2/1/2021</td>\n      <td>2/1/2021</td>\n      <td>1272</td>\n      <td>8:30:00</td>\n      <td>17:00:00</td>\n      <td>8.5</td>\n      <td>8:30:00</td>\n      <td>17:00:00</td>\n      <td>510</td>\n      <td>1020</td>\n      <td>510</td>\n      <td>1020</td>\n      <td>510</td>\n    </tr>\n    <tr>\n      <th>1</th>\n      <td>280307</td>\n      <td>1.0</td>\n      <td>2/1/2021</td>\n      <td>2/1/2021</td>\n      <td>1539</td>\n      <td>8:30:00</td>\n      <td>17:00:00</td>\n      <td>8.5</td>\n      <td>8:30:00</td>\n      <td>17:00:00</td>\n      <td>510</td>\n      <td>1020</td>\n      <td>510</td>\n      <td>1020</td>\n      <td>510</td>\n    </tr>\n    <tr>\n      <th>2</th>\n      <td>280312</td>\n      <td>1.0</td>\n      <td>2/1/2021</td>\n      <td>2/1/2021</td>\n      <td>1540</td>\n      <td>7:45:00</td>\n      <td>17:00:00</td>\n      <td>9.25</td>\n      <td>8:30:00</td>\n      <td>17:00:00</td>\n      <td>510</td>\n      <td>1020</td>\n      <td>465</td>\n      <td>1020</td>\n      <td>555</td>\n    </tr>\n    <tr>\n      <th>3</th>\n      <td>280385</td>\n      <td>100.0</td>\n      <td>2/1/2021</td>\n      <td>2/1/2021</td>\n      <td>1273</td>\n      <td>8:00:00</td>\n      <td>18:00:00</td>\n      <td>10</td>\n      <td>8:30:00</td>\n      <td>17:00:00</td>\n      <td>510</td>\n      <td>1020</td>\n      <td>480</td>\n      <td>1080</td>\n      <td>600</td>\n    </tr>\n    <tr>\n      <th>4</th>\n      <td>322526</td>\n      <td>1.0</td>\n      <td>2/1/2021</td>\n      <td>2/1/2021</td>\n      <td>573</td>\n      <td>23:22:28</td>\n      <td>23:22:28</td>\n      <td>0</td>\n      <td>8:30:00</td>\n      <td>17:00:00</td>\n      <td>510</td>\n      <td>1020</td>\n      <td>1402</td>\n      <td>1402</td>\n      <td>0</td>\n    </tr>\n  </tbody>\n</table>\n</div>"
     },
     "metadata": {},
     "output_type": "display_data"
    }
   ],
   "source": [
    "attendance['Shift_Start_Minutes'] = attendance['Shift_Start'].str.split(':').apply(lambda x: int(x[0]) * 60 + int(x[1]))\n",
    "attendance['Shift_End_Minutes'] = attendance['Shift_End'].str.split(':').apply(lambda x: int(x[0]) * 60 + int(x[1]))\n",
    "attendance['in_time_Minutes'] = attendance['in_time'].str.split(':').apply(lambda x: int(x[0]) * 60 + int(x[1]))\n",
    "attendance['out_time_Minutes'] = attendance['out_time'].str.split(':').apply(lambda x: int(x[0]) * 60 + int(x[1]))\n",
    "attendance['Time_Minutes'] = attendance['out_time_Minutes'] - attendance['in_time_Minutes']\n",
    "\n",
    "print(attendance['Shift_Start_Minutes'].isna().sum())\n",
    "print(attendance['Shift_End_Minutes'].isna().sum())\n",
    "\n",
    "display(attendance.head())"
   ],
   "metadata": {
    "collapsed": false,
    "ExecuteTime": {
     "start_time": "2023-06-11T21:26:24.920396Z",
     "end_time": "2023-06-11T21:26:27.002160Z"
    }
   }
  },
  {
   "cell_type": "code",
   "execution_count": 87,
   "outputs": [
    {
     "data": {
      "text/plain": "   Employee_No  Shift_Start_Minutes  Shift_End_Minutes  in_time_Minutes  \\\n0         1272                  510               1020              510   \n1         1539                  510               1020              510   \n2         1540                  510               1020              465   \n3         1273                  510               1020              480   \n4          573                  510               1020             1402   \n\n   out_time_Minutes  Time_Minutes  \n0              1020           510  \n1              1020           510  \n2              1020           555  \n3              1080           600  \n4              1402             0  ",
      "text/html": "<div>\n<style scoped>\n    .dataframe tbody tr th:only-of-type {\n        vertical-align: middle;\n    }\n\n    .dataframe tbody tr th {\n        vertical-align: top;\n    }\n\n    .dataframe thead th {\n        text-align: right;\n    }\n</style>\n<table border=\"1\" class=\"dataframe\">\n  <thead>\n    <tr style=\"text-align: right;\">\n      <th></th>\n      <th>Employee_No</th>\n      <th>Shift_Start_Minutes</th>\n      <th>Shift_End_Minutes</th>\n      <th>in_time_Minutes</th>\n      <th>out_time_Minutes</th>\n      <th>Time_Minutes</th>\n    </tr>\n  </thead>\n  <tbody>\n    <tr>\n      <th>0</th>\n      <td>1272</td>\n      <td>510</td>\n      <td>1020</td>\n      <td>510</td>\n      <td>1020</td>\n      <td>510</td>\n    </tr>\n    <tr>\n      <th>1</th>\n      <td>1539</td>\n      <td>510</td>\n      <td>1020</td>\n      <td>510</td>\n      <td>1020</td>\n      <td>510</td>\n    </tr>\n    <tr>\n      <th>2</th>\n      <td>1540</td>\n      <td>510</td>\n      <td>1020</td>\n      <td>465</td>\n      <td>1020</td>\n      <td>555</td>\n    </tr>\n    <tr>\n      <th>3</th>\n      <td>1273</td>\n      <td>510</td>\n      <td>1020</td>\n      <td>480</td>\n      <td>1080</td>\n      <td>600</td>\n    </tr>\n    <tr>\n      <th>4</th>\n      <td>573</td>\n      <td>510</td>\n      <td>1020</td>\n      <td>1402</td>\n      <td>1402</td>\n      <td>0</td>\n    </tr>\n  </tbody>\n</table>\n</div>"
     },
     "execution_count": 87,
     "metadata": {},
     "output_type": "execute_result"
    }
   ],
   "source": [
    "attendance = attendance.drop(['id', 'project_code', 'date', 'out_date', 'in_time', 'out_time', 'Hourly_Time', 'Shift_Start', 'Shift_End'], axis=1)\n",
    "\n",
    "attendance.head()"
   ],
   "metadata": {
    "collapsed": false,
    "ExecuteTime": {
     "start_time": "2023-06-11T21:26:27.004160Z",
     "end_time": "2023-06-11T21:26:27.047260Z"
    }
   }
  },
  {
   "cell_type": "code",
   "execution_count": 88,
   "outputs": [
    {
     "name": "stdout",
     "output_type": "stream",
     "text": [
      "6923\n"
     ]
    }
   ],
   "source": [
    "print((attendance['Time_Minutes'] == 0).sum())"
   ],
   "metadata": {
    "collapsed": false,
    "ExecuteTime": {
     "start_time": "2023-06-11T21:26:27.019162Z",
     "end_time": "2023-06-11T21:26:27.093602Z"
    }
   }
  },
  {
   "cell_type": "code",
   "execution_count": 89,
   "outputs": [
    {
     "name": "stdout",
     "output_type": "stream",
     "text": [
      "(217134, 6)\n",
      "Employee No :  1870\n",
      "Shift_Start_Minutes [0, 360, 420, 450, 480, 510, 1020, 1080, 1140]\n",
      "Shift_End_Minutes [0, 360, 419, 420, 480, 810, 1020, 1080, 1320]\n"
     ]
    }
   ],
   "source": [
    "attendance = attendance[attendance['Time_Minutes'] != 0]\n",
    "print(attendance.shape)\n",
    "print('Employee No : ', attendance['Employee_No'].nunique())\n",
    "print('Shift_Start_Minutes', sorted(attendance['Shift_Start_Minutes'].unique()))\n",
    "print('Shift_End_Minutes', sorted(attendance['Shift_End_Minutes'].unique()))"
   ],
   "metadata": {
    "collapsed": false,
    "ExecuteTime": {
     "start_time": "2023-06-11T21:26:27.034160Z",
     "end_time": "2023-06-11T21:26:27.135608Z"
    }
   }
  },
  {
   "cell_type": "code",
   "execution_count": 90,
   "outputs": [
    {
     "name": "stdout",
     "output_type": "stream",
     "text": [
      "Shift_End_Minutes [0, 360, 420, 480, 810, 1020, 1080, 1320]\n"
     ]
    }
   ],
   "source": [
    "attendance.loc[attendance['Shift_End_Minutes'] == 419, 'Shift_End_Minutes'] = 420\n",
    "print('Shift_End_Minutes', sorted(attendance['Shift_End_Minutes'].unique()))"
   ],
   "metadata": {
    "collapsed": false,
    "ExecuteTime": {
     "start_time": "2023-06-11T21:26:27.067261Z",
     "end_time": "2023-06-11T21:26:27.204069Z"
    }
   }
  },
  {
   "cell_type": "code",
   "execution_count": 91,
   "outputs": [
    {
     "data": {
      "text/plain": "<Figure size 500x500 with 1 Axes>",
      "image/png": "[encoded data removed]"
     },
     "metadata": {},
     "output_type": "display_data"
    },
    {
     "data": {
      "text/plain": "<Figure size 500x500 with 1 Axes>",
      "image/png": "[encoded data removed]"
     },
     "metadata": {},
     "output_type": "display_data"
    },
    {
     "data": {
      "text/plain": "<Figure size 500x500 with 1 Axes>",
      "image/png": "[encoded data removed]"
     },
     "metadata": {},
     "output_type": "display_data"
    }
   ],
   "source": [
    "sns.displot(attendance, x='Time_Minutes')\n",
    "plt.show()\n",
    "\n",
    "sns.displot(attendance, x='in_time_Minutes')\n",
    "plt.show()\n",
    "\n",
    "sns.displot(attendance, x='out_time_Minutes')\n",
    "plt.show()"
   ],
   "metadata": {
    "collapsed": false,
    "ExecuteTime": {
     "start_time": "2023-06-11T21:26:27.081584Z",
     "end_time": "2023-06-11T21:26:30.373516Z"
    }
   }
  },
  {
   "cell_type": "code",
   "execution_count": 92,
   "outputs": [
    {
     "data": {
      "text/plain": "   Employee_No  Shift_Start_Minutes  Shift_End_Minutes  in_time_Minutes  \\\n0         1272                  510               1020              510   \n1         1539                  510               1020              510   \n2         1540                  510               1020              465   \n3         1273                  510               1020              480   \n4          572                  510               1020              559   \n\n   out_time_Minutes  Time_Minutes  start_0  start_360  start_420  start_450  \\\n0              1020           510      0.0        0.0        0.0        0.0   \n1              1020           510      0.0        0.0        0.0        0.0   \n2              1020           555      0.0        0.0        0.0        0.0   \n3              1080           600      0.0        0.0        0.0        0.0   \n4              1057           498      0.0        0.0        0.0        0.0   \n\n   ...  start_1080  start_1140  end_0  end_360  end_420  end_480  end_810  \\\n0  ...         0.0         0.0    0.0      0.0      0.0      0.0      0.0   \n1  ...         0.0         0.0    0.0      0.0      0.0      0.0      0.0   \n2  ...         0.0         0.0    0.0      0.0      0.0      0.0      0.0   \n3  ...         0.0         0.0    0.0      0.0      0.0      0.0      0.0   \n4  ...         0.0         0.0    0.0      0.0      0.0      0.0      0.0   \n\n   end_1020  end_1080  end_1320  \n0       1.0       0.0       0.0  \n1       1.0       0.0       0.0  \n2       1.0       0.0       0.0  \n3       1.0       0.0       0.0  \n4       1.0       0.0       0.0  \n\n[5 rows x 23 columns]",
      "text/html": "<div>\n<style scoped>\n    .dataframe tbody tr th:only-of-type {\n        vertical-align: middle;\n    }\n\n    .dataframe tbody tr th {\n        vertical-align: top;\n    }\n\n    .dataframe thead th {\n        text-align: right;\n    }\n</style>\n<table border=\"1\" class=\"dataframe\">\n  <thead>\n    <tr style=\"text-align: right;\">\n      <th></th>\n      <th>Employee_No</th>\n      <th>Shift_Start_Minutes</th>\n      <th>Shift_End_Minutes</th>\n      <th>in_time_Minutes</th>\n      <th>out_time_Minutes</th>\n      <th>Time_Minutes</th>\n      <th>start_0</th>\n      <th>start_360</th>\n      <th>start_420</th>\n      <th>start_450</th>\n      <th>...</th>\n      <th>start_1080</th>\n      <th>start_1140</th>\n      <th>end_0</th>\n      <th>end_360</th>\n      <th>end_420</th>\n      <th>end_480</th>\n      <th>end_810</th>\n      <th>end_1020</th>\n      <th>end_1080</th>\n      <th>end_1320</th>\n    </tr>\n  </thead>\n  <tbody>\n    <tr>\n      <th>0</th>\n      <td>1272</td>\n      <td>510</td>\n      <td>1020</td>\n      <td>510</td>\n      <td>1020</td>\n      <td>510</td>\n      <td>0.0</td>\n      <td>0.0</td>\n      <td>0.0</td>\n      <td>0.0</td>\n      <td>...</td>\n      <td>0.0</td>\n      <td>0.0</td>\n      <td>0.0</td>\n      <td>0.0</td>\n      <td>0.0</td>\n      <td>0.0</td>\n      <td>0.0</td>\n      <td>1.0</td>\n      <td>0.0</td>\n      <td>0.0</td>\n    </tr>\n    <tr>\n      <th>1</th>\n      <td>1539</td>\n      <td>510</td>\n      <td>1020</td>\n      <td>510</td>\n      <td>1020</td>\n      <td>510</td>\n      <td>0.0</td>\n      <td>0.0</td>\n      <td>0.0</td>\n      <td>0.0</td>\n      <td>...</td>\n      <td>0.0</td>\n      <td>0.0</td>\n      <td>0.0</td>\n      <td>0.0</td>\n      <td>0.0</td>\n      <td>0.0</td>\n      <td>0.0</td>\n      <td>1.0</td>\n      <td>0.0</td>\n      <td>0.0</td>\n    </tr>\n    <tr>\n      <th>2</th>\n      <td>1540</td>\n      <td>510</td>\n      <td>1020</td>\n      <td>465</td>\n      <td>1020</td>\n      <td>555</td>\n      <td>0.0</td>\n      <td>0.0</td>\n      <td>0.0</td>\n      <td>0.0</td>\n      <td>...</td>\n      <td>0.0</td>\n      <td>0.0</td>\n      <td>0.0</td>\n      <td>0.0</td>\n      <td>0.0</td>\n      <td>0.0</td>\n      <td>0.0</td>\n      <td>1.0</td>\n      <td>0.0</td>\n      <td>0.0</td>\n    </tr>\n    <tr>\n      <th>3</th>\n      <td>1273</td>\n      <td>510</td>\n      <td>1020</td>\n      <td>480</td>\n      <td>1080</td>\n      <td>600</td>\n      <td>0.0</td>\n      <td>0.0</td>\n      <td>0.0</td>\n      <td>0.0</td>\n      <td>...</td>\n      <td>0.0</td>\n      <td>0.0</td>\n      <td>0.0</td>\n      <td>0.0</td>\n      <td>0.0</td>\n      <td>0.0</td>\n      <td>0.0</td>\n      <td>1.0</td>\n      <td>0.0</td>\n      <td>0.0</td>\n    </tr>\n    <tr>\n      <th>4</th>\n      <td>572</td>\n      <td>510</td>\n      <td>1020</td>\n      <td>559</td>\n      <td>1057</td>\n      <td>498</td>\n      <td>0.0</td>\n      <td>0.0</td>\n      <td>0.0</td>\n      <td>0.0</td>\n      <td>...</td>\n      <td>0.0</td>\n      <td>0.0</td>\n      <td>0.0</td>\n      <td>0.0</td>\n      <td>0.0</td>\n      <td>0.0</td>\n      <td>0.0</td>\n      <td>1.0</td>\n      <td>0.0</td>\n      <td>0.0</td>\n    </tr>\n  </tbody>\n</table>\n<p>5 rows × 23 columns</p>\n</div>"
     },
     "metadata": {},
     "output_type": "display_data"
    },
    {
     "name": "stdout",
     "output_type": "stream",
     "text": [
      "(217134, 23)\n",
      "Index(['Employee_No', 'Shift_Start_Minutes', 'Shift_End_Minutes',\n",
      "       'in_time_Minutes', 'out_time_Minutes', 'Time_Minutes', 'start_0',\n",
      "       'start_360', 'start_420', 'start_450', 'start_480', 'start_510',\n",
      "       'start_1020', 'start_1080', 'start_1140', 'end_0', 'end_360', 'end_420',\n",
      "       'end_480', 'end_810', 'end_1020', 'end_1080', 'end_1320'],\n",
      "      dtype='object')\n"
     ]
    }
   ],
   "source": [
    "OneHotEncoders = {}\n",
    "\n",
    "attendance = attendance.reset_index(drop=True)\n",
    "\n",
    "for j in ['Shift_Start_Minutes', 'Shift_End_Minutes']:\n",
    "    ohe = OneHotEncoder()\n",
    "    feature_array = ohe.fit_transform(attendance[[j]]).toarray()\n",
    "    feature_labels = np.array(ohe.categories_).ravel()\n",
    "    labels = []\n",
    "    for i in range(len(feature_labels)):\n",
    "        if j == 'Shift_Start_Minutes':\n",
    "            labels.append('start_' + str(int(feature_labels[i])))\n",
    "        else:\n",
    "            labels.append('end_' + str(int(feature_labels[i])))\n",
    "    features = pd.DataFrame(feature_array, columns=labels)\n",
    "    attendance = pd.concat([attendance, features], axis=1)\n",
    "\n",
    "    OneHotEncoders['attendance_' + j] = ohe\n",
    "\n",
    "display(attendance.head())\n",
    "print(attendance.shape)\n",
    "print(attendance.columns)"
   ],
   "metadata": {
    "collapsed": false,
    "ExecuteTime": {
     "start_time": "2023-06-11T21:26:30.377516Z",
     "end_time": "2023-06-11T21:26:30.459516Z"
    }
   }
  },
  {
   "cell_type": "code",
   "execution_count": 93,
   "outputs": [
    {
     "data": {
      "text/plain": "   Employee_No  in_time_Minutes  out_time_Minutes  Time_Minutes  start_0  \\\n0          347       518.991416            1050.0         530.0      1.0   \n1          348       459.008316            1136.0         638.0     27.0   \n2          349       537.375000            1086.0         553.5      0.0   \n3          351       509.446043            1020.0         523.0      0.0   \n4          352       479.323741            1090.0         619.0     38.0   \n\n   start_360  start_420  start_450  start_480  start_510  ...  start_1080  \\\n0        0.0        0.0        0.0        0.0      465.0  ...         0.0   \n1        0.0        0.0        0.0        0.0      454.0  ...         0.0   \n2        0.0        0.0        0.0        0.0       64.0  ...         0.0   \n3        0.0        0.0        0.0        0.0      139.0  ...         0.0   \n4        0.0        0.0        0.0      464.0       54.0  ...         0.0   \n\n   start_1140  end_0  end_360  end_420  end_480  end_810  end_1020  end_1080  \\\n0         0.0    1.0      0.0      0.0      0.0     61.0     404.0       0.0   \n1         0.0   27.0      0.0      0.0      0.0     68.0     386.0       0.0   \n2         0.0    0.0      0.0      0.0      0.0      9.0      55.0       0.0   \n3         0.0    0.0      0.0      0.0      0.0     19.0     120.0       0.0   \n4         0.0   38.0      0.0      0.0      0.0     54.0     464.0       0.0   \n\n   end_1320  \n0       0.0  \n1       0.0  \n2       0.0  \n3       0.0  \n4       0.0  \n\n[5 rows x 21 columns]",
      "text/html": "<div>\n<style scoped>\n    .dataframe tbody tr th:only-of-type {\n        vertical-align: middle;\n    }\n\n    .dataframe tbody tr th {\n        vertical-align: top;\n    }\n\n    .dataframe thead th {\n        text-align: right;\n    }\n</style>\n<table border=\"1\" class=\"dataframe\">\n  <thead>\n    <tr style=\"text-align: right;\">\n      <th></th>\n      <th>Employee_No</th>\n      <th>in_time_Minutes</th>\n      <th>out_time_Minutes</th>\n      <th>Time_Minutes</th>\n      <th>start_0</th>\n      <th>start_360</th>\n      <th>start_420</th>\n      <th>start_450</th>\n      <th>start_480</th>\n      <th>start_510</th>\n      <th>...</th>\n      <th>start_1080</th>\n      <th>start_1140</th>\n      <th>end_0</th>\n      <th>end_360</th>\n      <th>end_420</th>\n      <th>end_480</th>\n      <th>end_810</th>\n      <th>end_1020</th>\n      <th>end_1080</th>\n      <th>end_1320</th>\n    </tr>\n  </thead>\n  <tbody>\n    <tr>\n      <th>0</th>\n      <td>347</td>\n      <td>518.991416</td>\n      <td>1050.0</td>\n      <td>530.0</td>\n      <td>1.0</td>\n      <td>0.0</td>\n      <td>0.0</td>\n      <td>0.0</td>\n      <td>0.0</td>\n      <td>465.0</td>\n      <td>...</td>\n      <td>0.0</td>\n      <td>0.0</td>\n      <td>1.0</td>\n      <td>0.0</td>\n      <td>0.0</td>\n      <td>0.0</td>\n      <td>61.0</td>\n      <td>404.0</td>\n      <td>0.0</td>\n      <td>0.0</td>\n    </tr>\n    <tr>\n      <th>1</th>\n      <td>348</td>\n      <td>459.008316</td>\n      <td>1136.0</td>\n      <td>638.0</td>\n      <td>27.0</td>\n      <td>0.0</td>\n      <td>0.0</td>\n      <td>0.0</td>\n      <td>0.0</td>\n      <td>454.0</td>\n      <td>...</td>\n      <td>0.0</td>\n      <td>0.0</td>\n      <td>27.0</td>\n      <td>0.0</td>\n      <td>0.0</td>\n      <td>0.0</td>\n      <td>68.0</td>\n      <td>386.0</td>\n      <td>0.0</td>\n      <td>0.0</td>\n    </tr>\n    <tr>\n      <th>2</th>\n      <td>349</td>\n      <td>537.375000</td>\n      <td>1086.0</td>\n      <td>553.5</td>\n      <td>0.0</td>\n      <td>0.0</td>\n      <td>0.0</td>\n      <td>0.0</td>\n      <td>0.0</td>\n      <td>64.0</td>\n      <td>...</td>\n      <td>0.0</td>\n      <td>0.0</td>\n      <td>0.0</td>\n      <td>0.0</td>\n      <td>0.0</td>\n      <td>0.0</td>\n      <td>9.0</td>\n      <td>55.0</td>\n      <td>0.0</td>\n      <td>0.0</td>\n    </tr>\n    <tr>\n      <th>3</th>\n      <td>351</td>\n      <td>509.446043</td>\n      <td>1020.0</td>\n      <td>523.0</td>\n      <td>0.0</td>\n      <td>0.0</td>\n      <td>0.0</td>\n      <td>0.0</td>\n      <td>0.0</td>\n      <td>139.0</td>\n      <td>...</td>\n      <td>0.0</td>\n      <td>0.0</td>\n      <td>0.0</td>\n      <td>0.0</td>\n      <td>0.0</td>\n      <td>0.0</td>\n      <td>19.0</td>\n      <td>120.0</td>\n      <td>0.0</td>\n      <td>0.0</td>\n    </tr>\n    <tr>\n      <th>4</th>\n      <td>352</td>\n      <td>479.323741</td>\n      <td>1090.0</td>\n      <td>619.0</td>\n      <td>38.0</td>\n      <td>0.0</td>\n      <td>0.0</td>\n      <td>0.0</td>\n      <td>464.0</td>\n      <td>54.0</td>\n      <td>...</td>\n      <td>0.0</td>\n      <td>0.0</td>\n      <td>38.0</td>\n      <td>0.0</td>\n      <td>0.0</td>\n      <td>0.0</td>\n      <td>54.0</td>\n      <td>464.0</td>\n      <td>0.0</td>\n      <td>0.0</td>\n    </tr>\n  </tbody>\n</table>\n<p>5 rows × 21 columns</p>\n</div>"
     },
     "metadata": {},
     "output_type": "display_data"
    },
    {
     "name": "stdout",
     "output_type": "stream",
     "text": [
      "(1870, 21)\n",
      "Index(['Employee_No', 'in_time_Minutes', 'out_time_Minutes', 'Time_Minutes',\n",
      "       'start_0', 'start_360', 'start_420', 'start_450', 'start_480',\n",
      "       'start_510', 'start_1020', 'start_1080', 'start_1140', 'end_0',\n",
      "       'end_360', 'end_420', 'end_480', 'end_810', 'end_1020', 'end_1080',\n",
      "       'end_1320'],\n",
      "      dtype='object')\n"
     ]
    }
   ],
   "source": [
    "attendance = attendance.groupby('Employee_No').agg({'in_time_Minutes':['mean'], 'out_time_Minutes':['median'],\n",
    "                                                    'Time_Minutes':['median'], 'start_0':['sum'],\n",
    "                                                   'start_360':['sum'], 'start_420':['sum'], 'start_450':['sum'], 'start_480':['sum'], 'start_510':['sum'],\n",
    "                                                   'start_1020':['sum'], 'start_1080':['sum'], 'start_1140':['sum'], 'end_0':['sum'], 'end_360':['sum'], 'end_420':['sum'],\n",
    "                                                   'end_480':['sum'], 'end_810':['sum'], 'end_1020':['sum'], 'end_1080':['sum'], 'end_1320':['sum']})\n",
    "\n",
    "attendance = attendance.reset_index(level=[0])\n",
    "\n",
    "attendance.columns = ['Employee_No', 'in_time_Minutes', 'out_time_Minutes', 'Time_Minutes', 'start_0',\n",
    "                      'start_360', 'start_420', 'start_450', 'start_480', 'start_510',\n",
    "                      'start_1020', 'start_1080', 'start_1140', 'end_0', 'end_360', 'end_420',\n",
    "                      'end_480', 'end_810', 'end_1020', 'end_1080', 'end_1320']\n",
    "display(attendance.head())\n",
    "print(attendance.shape)\n",
    "print(attendance.columns)"
   ],
   "metadata": {
    "collapsed": false,
    "ExecuteTime": {
     "start_time": "2023-06-11T21:26:30.453516Z",
     "end_time": "2023-06-11T21:26:30.600619Z"
    }
   }
  },
  {
   "cell_type": "code",
   "execution_count": 94,
   "outputs": [
    {
     "data": {
      "text/plain": "     Employee_No  Employee_Code                 Name Title  Gender  \\\n0            347              6    Myrl Bechtelar MD    Mr    Male   \n1            348             33         Francis Mraz    Mr    Male   \n2            349             53    Mr Emmet Blick Jr    Mr    Male   \n3            351             77  Mr Nelson Braun PhD    Ms  Female   \n4            352             88     Maximillian Hand    Mr    Male   \n..           ...            ...                  ...   ...     ...   \n992         2836           5434       Janis Borer Jr    Ms  Female   \n993         2890           5479        Delphia Haley    Mr    Male   \n994         2972           5480        Lance Stanton    Mr    Male   \n995         2973           5481      Chauncey Reilly    Mr    Male   \n996         3041           5482               Sudath    Mr    Male   \n\n     Religion_ID Marital_Status  Designation_ID Date_Joined Date_Resigned  \\\n0              1        Married              24   12/8/1993            \\N   \n1              1        Married              24   3/14/1995            \\N   \n2              1        Married              23   1/27/1988     6/28/2021   \n3              4        Married              40   10/1/1999     1/31/2022   \n4              1        Married               7   1/26/2001            \\N   \n..           ...            ...             ...         ...           ...   \n992            1         Single              17   11/1/2022    12/22/2022   \n993            1         Single               8  11/21/2022    0000-00-00   \n994            1         Single             201   12/5/2022            \\N   \n995            1         Single               8   12/8/2022    0000-00-00   \n996            1        Married             104  12/20/2022            \\N   \n\n       Status Inactive_Date Reporting_emp_1 Reporting_emp_2  \\\n0      Active            \\N              \\N              \\N   \n1      Active            \\N              \\N              \\N   \n2    Inactive     6/28/2021              \\N              \\N   \n3    Inactive     1/31/2022              \\N              \\N   \n4      Active            \\N              \\N              \\N   \n..        ...           ...             ...             ...   \n992  Inactive    12/22/2022              \\N              \\N   \n993    Active    0000-00-00              \\N              \\N   \n994    Active            \\N              \\N              \\N   \n995    Active    0000-00-00              \\N              \\N   \n996    Active            \\N              \\N              \\N   \n\n    Employment_Category Employment_Type  Religion         Designation  \\\n0                 Staff       Permanant  Buddhist              Driver   \n1                 Staff       Permanant  Buddhist              Driver   \n2                 Staff       Permanant  Buddhist       Account Clerk   \n3                 Staff       Permanant  Catholic  Purchasing Officer   \n4                 Staff       Permanant  Buddhist        Store Keeper   \n..                  ...             ...       ...                 ...   \n992               Staff  Contarct Basis  Buddhist   Account Executive   \n993               Staff  Contarct Basis  Buddhist   Quantity Surveyor   \n994               Staff  Contarct Basis  Buddhist  Software Developer   \n995               Staff  Contarct Basis  Buddhist   Quantity Surveyor   \n996          Management  Contarct Basis  Buddhist          Accountant   \n\n    Year_of_Birth  \n0            1965  \n1            1973  \n2            1974  \n3            1974  \n4            1980  \n..            ...  \n992          1993  \n993          1994  \n994          1997  \n995          1990  \n996          1979  \n\n[997 rows x 19 columns]",
      "text/html": "<div>\n<style scoped>\n    .dataframe tbody tr th:only-of-type {\n        vertical-align: middle;\n    }\n\n    .dataframe tbody tr th {\n        vertical-align: top;\n    }\n\n    .dataframe thead th {\n        text-align: right;\n    }\n</style>\n<table border=\"1\" class=\"dataframe\">\n  <thead>\n    <tr style=\"text-align: right;\">\n      <th></th>\n      <th>Employee_No</th>\n      <th>Employee_Code</th>\n      <th>Name</th>\n      <th>Title</th>\n      <th>Gender</th>\n      <th>Religion_ID</th>\n      <th>Marital_Status</th>\n      <th>Designation_ID</th>\n      <th>Date_Joined</th>\n      <th>Date_Resigned</th>\n      <th>Status</th>\n      <th>Inactive_Date</th>\n      <th>Reporting_emp_1</th>\n      <th>Reporting_emp_2</th>\n      <th>Employment_Category</th>\n      <th>Employment_Type</th>\n      <th>Religion</th>\n      <th>Designation</th>\n      <th>Year_of_Birth</th>\n    </tr>\n  </thead>\n  <tbody>\n    <tr>\n      <th>0</th>\n      <td>347</td>\n      <td>6</td>\n      <td>Myrl Bechtelar MD</td>\n      <td>Mr</td>\n      <td>Male</td>\n      <td>1</td>\n      <td>Married</td>\n      <td>24</td>\n      <td>12/8/1993</td>\n      <td>\\N</td>\n      <td>Active</td>\n      <td>\\N</td>\n      <td>\\N</td>\n      <td>\\N</td>\n      <td>Staff</td>\n      <td>Permanant</td>\n      <td>Buddhist</td>\n      <td>Driver</td>\n      <td>1965</td>\n    </tr>\n    <tr>\n      <th>1</th>\n      <td>348</td>\n      <td>33</td>\n      <td>Francis Mraz</td>\n      <td>Mr</td>\n      <td>Male</td>\n      <td>1</td>\n      <td>Married</td>\n      <td>24</td>\n      <td>3/14/1995</td>\n      <td>\\N</td>\n      <td>Active</td>\n      <td>\\N</td>\n      <td>\\N</td>\n      <td>\\N</td>\n      <td>Staff</td>\n      <td>Permanant</td>\n      <td>Buddhist</td>\n      <td>Driver</td>\n      <td>1973</td>\n    </tr>\n    <tr>\n      <th>2</th>\n      <td>349</td>\n      <td>53</td>\n      <td>Mr Emmet Blick Jr</td>\n      <td>Mr</td>\n      <td>Male</td>\n      <td>1</td>\n      <td>Married</td>\n      <td>23</td>\n      <td>1/27/1988</td>\n      <td>6/28/2021</td>\n      <td>Inactive</td>\n      <td>6/28/2021</td>\n      <td>\\N</td>\n      <td>\\N</td>\n      <td>Staff</td>\n      <td>Permanant</td>\n      <td>Buddhist</td>\n      <td>Account Clerk</td>\n      <td>1974</td>\n    </tr>\n    <tr>\n      <th>3</th>\n      <td>351</td>\n      <td>77</td>\n      <td>Mr Nelson Braun PhD</td>\n      <td>Ms</td>\n      <td>Female</td>\n      <td>4</td>\n      <td>Married</td>\n      <td>40</td>\n      <td>10/1/1999</td>\n      <td>1/31/2022</td>\n      <td>Inactive</td>\n      <td>1/31/2022</td>\n      <td>\\N</td>\n      <td>\\N</td>\n      <td>Staff</td>\n      <td>Permanant</td>\n      <td>Catholic</td>\n      <td>Purchasing Officer</td>\n      <td>1974</td>\n    </tr>\n    <tr>\n      <th>4</th>\n      <td>352</td>\n      <td>88</td>\n      <td>Maximillian Hand</td>\n      <td>Mr</td>\n      <td>Male</td>\n      <td>1</td>\n      <td>Married</td>\n      <td>7</td>\n      <td>1/26/2001</td>\n      <td>\\N</td>\n      <td>Active</td>\n      <td>\\N</td>\n      <td>\\N</td>\n      <td>\\N</td>\n      <td>Staff</td>\n      <td>Permanant</td>\n      <td>Buddhist</td>\n      <td>Store Keeper</td>\n      <td>1980</td>\n    </tr>\n    <tr>\n      <th>...</th>\n      <td>...</td>\n      <td>...</td>\n      <td>...</td>\n      <td>...</td>\n      <td>...</td>\n      <td>...</td>\n      <td>...</td>\n      <td>...</td>\n      <td>...</td>\n      <td>...</td>\n      <td>...</td>\n      <td>...</td>\n      <td>...</td>\n      <td>...</td>\n      <td>...</td>\n      <td>...</td>\n      <td>...</td>\n      <td>...</td>\n      <td>...</td>\n    </tr>\n    <tr>\n      <th>992</th>\n      <td>2836</td>\n      <td>5434</td>\n      <td>Janis Borer Jr</td>\n      <td>Ms</td>\n      <td>Female</td>\n      <td>1</td>\n      <td>Single</td>\n      <td>17</td>\n      <td>11/1/2022</td>\n      <td>12/22/2022</td>\n      <td>Inactive</td>\n      <td>12/22/2022</td>\n      <td>\\N</td>\n      <td>\\N</td>\n      <td>Staff</td>\n      <td>Contarct Basis</td>\n      <td>Buddhist</td>\n      <td>Account Executive</td>\n      <td>1993</td>\n    </tr>\n    <tr>\n      <th>993</th>\n      <td>2890</td>\n      <td>5479</td>\n      <td>Delphia Haley</td>\n      <td>Mr</td>\n      <td>Male</td>\n      <td>1</td>\n      <td>Single</td>\n      <td>8</td>\n      <td>11/21/2022</td>\n      <td>0000-00-00</td>\n      <td>Active</td>\n      <td>0000-00-00</td>\n      <td>\\N</td>\n      <td>\\N</td>\n      <td>Staff</td>\n      <td>Contarct Basis</td>\n      <td>Buddhist</td>\n      <td>Quantity Surveyor</td>\n      <td>1994</td>\n    </tr>\n    <tr>\n      <th>994</th>\n      <td>2972</td>\n      <td>5480</td>\n      <td>Lance Stanton</td>\n      <td>Mr</td>\n      <td>Male</td>\n      <td>1</td>\n      <td>Single</td>\n      <td>201</td>\n      <td>12/5/2022</td>\n      <td>\\N</td>\n      <td>Active</td>\n      <td>\\N</td>\n      <td>\\N</td>\n      <td>\\N</td>\n      <td>Staff</td>\n      <td>Contarct Basis</td>\n      <td>Buddhist</td>\n      <td>Software Developer</td>\n      <td>1997</td>\n    </tr>\n    <tr>\n      <th>995</th>\n      <td>2973</td>\n      <td>5481</td>\n      <td>Chauncey Reilly</td>\n      <td>Mr</td>\n      <td>Male</td>\n      <td>1</td>\n      <td>Single</td>\n      <td>8</td>\n      <td>12/8/2022</td>\n      <td>0000-00-00</td>\n      <td>Active</td>\n      <td>0000-00-00</td>\n      <td>\\N</td>\n      <td>\\N</td>\n      <td>Staff</td>\n      <td>Contarct Basis</td>\n      <td>Buddhist</td>\n      <td>Quantity Surveyor</td>\n      <td>1990</td>\n    </tr>\n    <tr>\n      <th>996</th>\n      <td>3041</td>\n      <td>5482</td>\n      <td>Sudath</td>\n      <td>Mr</td>\n      <td>Male</td>\n      <td>1</td>\n      <td>Married</td>\n      <td>104</td>\n      <td>12/20/2022</td>\n      <td>\\N</td>\n      <td>Active</td>\n      <td>\\N</td>\n      <td>\\N</td>\n      <td>\\N</td>\n      <td>Management</td>\n      <td>Contarct Basis</td>\n      <td>Buddhist</td>\n      <td>Accountant</td>\n      <td>1979</td>\n    </tr>\n  </tbody>\n</table>\n<p>997 rows × 19 columns</p>\n</div>"
     },
     "execution_count": 94,
     "metadata": {},
     "output_type": "execute_result"
    }
   ],
   "source": [
    "chatterbox"
   ],
   "metadata": {
    "collapsed": false,
    "ExecuteTime": {
     "start_time": "2023-06-11T21:26:30.531829Z",
     "end_time": "2023-06-11T21:26:30.624304Z"
    }
   }
  },
  {
   "cell_type": "code",
   "execution_count": 95,
   "outputs": [
    {
     "data": {
      "text/plain": "(997, 19)"
     },
     "execution_count": 95,
     "metadata": {},
     "output_type": "execute_result"
    }
   ],
   "source": [
    "chatterbox.shape"
   ],
   "metadata": {
    "collapsed": false,
    "ExecuteTime": {
     "start_time": "2023-06-11T21:26:30.546828Z",
     "end_time": "2023-06-11T21:26:30.624304Z"
    }
   }
  },
  {
   "cell_type": "code",
   "execution_count": 96,
   "outputs": [
    {
     "name": "stdout",
     "output_type": "stream",
     "text": [
      "['Employee_No', 'Employee_Code', 'Name', 'Title', 'Gender', 'Religion_ID', 'Marital_Status', 'Designation_ID', 'Date_Joined', 'Date_Resigned', 'Status', 'Inactive_Date', 'Reporting_emp_1', 'Reporting_emp_2', 'Employment_Category', 'Employment_Type', 'Religion', 'Designation', 'Year_of_Birth']\n"
     ]
    }
   ],
   "source": [
    "Cols = chatterbox.columns.tolist()\n",
    "print(Cols)"
   ],
   "metadata": {
    "collapsed": false,
    "ExecuteTime": {
     "start_time": "2023-06-11T21:26:30.562387Z",
     "end_time": "2023-06-11T21:26:30.624304Z"
    }
   }
  },
  {
   "cell_type": "code",
   "execution_count": 97,
   "outputs": [
    {
     "name": "stdout",
     "output_type": "stream",
     "text": [
      "True\n",
      "False\n"
     ]
    }
   ],
   "source": [
    "print(chatterbox['Employee_No'].is_unique)\n",
    "print(chatterbox.duplicated().any())"
   ],
   "metadata": {
    "collapsed": false,
    "ExecuteTime": {
     "start_time": "2023-06-11T21:26:30.577619Z",
     "end_time": "2023-06-11T21:26:30.700872Z"
    }
   }
  },
  {
   "cell_type": "code",
   "execution_count": 98,
   "outputs": [
    {
     "data": {
      "text/plain": "Employee_No             int64\nEmployee_Code           int64\nName                   object\nTitle                  object\nGender                 object\nReligion_ID             int64\nMarital_Status         object\nDesignation_ID          int64\nDate_Joined            object\nDate_Resigned          object\nStatus                 object\nInactive_Date          object\nReporting_emp_1        object\nReporting_emp_2        object\nEmployment_Category    object\nEmployment_Type        object\nReligion               object\nDesignation            object\nYear_of_Birth          object\ndtype: object"
     },
     "execution_count": 98,
     "metadata": {},
     "output_type": "execute_result"
    }
   ],
   "source": [
    "chatterbox.dtypes"
   ],
   "metadata": {
    "collapsed": false,
    "ExecuteTime": {
     "start_time": "2023-06-11T21:26:30.593618Z",
     "end_time": "2023-06-11T21:26:30.721856Z"
    }
   }
  },
  {
   "cell_type": "code",
   "execution_count": 99,
   "outputs": [
    {
     "name": "stdout",
     "output_type": "stream",
     "text": [
      "Employee_No :  997\n",
      "Employee_Code :  997\n",
      "Name :  997\n",
      "Title :  3\n",
      "Gender :  2\n",
      "Religion_ID :  4\n",
      "Marital_Status :  2\n",
      "Designation_ID :  129\n",
      "Date_Joined :  549\n",
      "Date_Resigned :  256\n",
      "Status :  2\n",
      "Inactive_Date :  352\n",
      "Reporting_emp_1 :  24\n",
      "Reporting_emp_2 :  1\n",
      "Employment_Category :  3\n",
      "Employment_Type :  2\n",
      "Religion :  4\n",
      "Designation :  129\n",
      "Year_of_Birth :  60\n"
     ]
    }
   ],
   "source": [
    "for col in Cols:\n",
    "    print(f'{col} : ', chatterbox[col].nunique())"
   ],
   "metadata": {
    "collapsed": false,
    "ExecuteTime": {
     "start_time": "2023-06-11T21:26:30.610559Z",
     "end_time": "2023-06-11T21:26:30.721856Z"
    }
   }
  },
  {
   "cell_type": "code",
   "execution_count": 100,
   "outputs": [
    {
     "data": {
      "text/plain": "Employee_No             0\nEmployee_Code           0\nName                    0\nTitle                   0\nGender                  0\nReligion_ID             0\nMarital_Status         67\nDesignation_ID          0\nDate_Joined             0\nDate_Resigned           0\nStatus                  0\nInactive_Date           0\nReporting_emp_1         0\nReporting_emp_2         0\nEmployment_Category     0\nEmployment_Type         0\nReligion                0\nDesignation             0\nYear_of_Birth           0\ndtype: int64"
     },
     "execution_count": 100,
     "metadata": {},
     "output_type": "execute_result"
    }
   ],
   "source": [
    "chatterbox.isna().sum()"
   ],
   "metadata": {
    "collapsed": false,
    "ExecuteTime": {
     "start_time": "2023-06-11T21:26:30.627321Z",
     "end_time": "2023-06-11T21:26:30.795497Z"
    }
   }
  },
  {
   "cell_type": "code",
   "execution_count": 101,
   "outputs": [
    {
     "name": "stdout",
     "output_type": "stream",
     "text": [
      "103\n",
      "0\n",
      "273\n",
      "128\n",
      "0\n",
      "183\n",
      "105\n"
     ]
    }
   ],
   "source": [
    "print((chatterbox['Year_of_Birth'] == \"'0000'\").sum())\n",
    "print((chatterbox['Date_Joined'] == \"\\\\N\").sum())\n",
    "print((chatterbox['Date_Resigned'] == \"\\\\N\").sum())\n",
    "print((chatterbox['Inactive_Date'] == \"\\\\N\").sum())\n",
    "print((chatterbox['Date_Joined'] == \"0000-00-00\").sum())\n",
    "print((chatterbox['Date_Resigned'] == \"0000-00-00\").sum())\n",
    "print((chatterbox['Inactive_Date'] == \"0000-00-00\").sum())"
   ],
   "metadata": {
    "collapsed": false,
    "ExecuteTime": {
     "start_time": "2023-06-11T21:26:30.647669Z",
     "end_time": "2023-06-11T21:26:30.821618Z"
    }
   }
  },
  {
   "cell_type": "code",
   "execution_count": 102,
   "outputs": [
    {
     "name": "stdout",
     "output_type": "stream",
     "text": [
      "Marital_Status :  ['Married' 'Single' nan]\n",
      "Title :  ['Mr' 'Ms' 'Miss']\n",
      "Gender :  ['Male' 'Female']\n",
      "Religion_ID :  [1 4 3 5]\n"
     ]
    }
   ],
   "source": [
    "print('Marital_Status : ', chatterbox['Marital_Status'].unique())\n",
    "print('Title : ', chatterbox['Title'].unique())\n",
    "print('Gender : ', chatterbox['Gender'].unique())\n",
    "print('Religion_ID : ', chatterbox['Religion_ID'].unique())"
   ],
   "metadata": {
    "collapsed": false,
    "ExecuteTime": {
     "start_time": "2023-06-11T21:26:30.656982Z",
     "end_time": "2023-06-11T21:26:30.821618Z"
    }
   }
  },
  {
   "cell_type": "code",
   "execution_count": 103,
   "outputs": [
    {
     "data": {
      "text/plain": "<Figure size 640x480 with 1 Axes>",
      "image/png": "[encoded data removed]"
     },
     "metadata": {},
     "output_type": "display_data"
    }
   ],
   "source": [
    "sns.countplot(data=chatterbox, x='Title', hue='Marital_Status')\n",
    "plt.show()"
   ],
   "metadata": {
    "collapsed": false,
    "ExecuteTime": {
     "start_time": "2023-06-11T21:26:30.672855Z",
     "end_time": "2023-06-11T21:26:31.005699Z"
    }
   }
  },
  {
   "cell_type": "code",
   "execution_count": 104,
   "outputs": [
    {
     "data": {
      "text/plain": "<Figure size 640x480 with 1 Axes>",
      "image/png": "[encoded data removed]"
     },
     "metadata": {},
     "output_type": "display_data"
    }
   ],
   "source": [
    "sns.countplot(data=chatterbox, x='Gender', hue='Marital_Status')\n",
    "plt.show()"
   ],
   "metadata": {
    "collapsed": false,
    "ExecuteTime": {
     "start_time": "2023-06-11T21:26:30.800618Z",
     "end_time": "2023-06-11T21:26:31.032619Z"
    }
   }
  },
  {
   "cell_type": "code",
   "execution_count": 105,
   "outputs": [
    {
     "data": {
      "text/plain": "<Figure size 640x480 with 1 Axes>",
      "image/png": "[encoded data removed]"
     },
     "metadata": {},
     "output_type": "display_data"
    }
   ],
   "source": [
    "sns.countplot(data=chatterbox, x='Year_of_Birth', hue='Marital_Status')\n",
    "plt.show()"
   ],
   "metadata": {
    "collapsed": false,
    "ExecuteTime": {
     "start_time": "2023-06-11T21:26:30.926619Z",
     "end_time": "2023-06-11T21:26:31.698658Z"
    }
   }
  },
  {
   "cell_type": "code",
   "execution_count": 106,
   "outputs": [
    {
     "data": {
      "text/plain": "<Figure size 640x480 with 1 Axes>",
      "image/png": "[encoded data removed]"
     },
     "metadata": {},
     "output_type": "display_data"
    }
   ],
   "source": [
    "sns.countplot(data=chatterbox, x='Religion_ID', hue='Marital_Status')\n",
    "plt.show()"
   ],
   "metadata": {
    "collapsed": false,
    "ExecuteTime": {
     "start_time": "2023-06-11T21:26:31.705658Z",
     "end_time": "2023-06-11T21:26:31.843231Z"
    }
   }
  },
  {
   "cell_type": "code",
   "execution_count": 107,
   "outputs": [
    {
     "data": {
      "text/plain": "<Figure size 640x480 with 1 Axes>",
      "image/png": "[encoded data removed]"
     },
     "metadata": {},
     "output_type": "display_data"
    }
   ],
   "source": [
    "sns.countplot(data=chatterbox, x='Employment_Category', hue='Marital_Status')\n",
    "plt.show()"
   ],
   "metadata": {
    "collapsed": false,
    "ExecuteTime": {
     "start_time": "2023-06-11T21:26:31.844228Z",
     "end_time": "2023-06-11T21:26:31.983063Z"
    }
   }
  },
  {
   "cell_type": "code",
   "execution_count": 108,
   "outputs": [
    {
     "data": {
      "text/plain": "<Figure size 640x480 with 1 Axes>",
      "image/png": "[encoded data removed]"
     },
     "metadata": {},
     "output_type": "display_data"
    }
   ],
   "source": [
    "sns.countplot(data=chatterbox, x='Employment_Type', hue='Marital_Status')\n",
    "plt.show()"
   ],
   "metadata": {
    "collapsed": false,
    "ExecuteTime": {
     "start_time": "2023-06-11T21:26:31.985063Z",
     "end_time": "2023-06-11T21:26:32.206219Z"
    }
   }
  },
  {
   "cell_type": "code",
   "execution_count": 109,
   "outputs": [
    {
     "data": {
      "text/plain": "<Figure size 640x480 with 1 Axes>",
      "image/png": "[encoded data removed]"
     },
     "metadata": {},
     "output_type": "display_data"
    }
   ],
   "source": [
    "sns.countplot(data=chatterbox, x='Status', hue='Marital_Status')\n",
    "plt.show()"
   ],
   "metadata": {
    "collapsed": false,
    "ExecuteTime": {
     "start_time": "2023-06-11T21:26:32.208201Z",
     "end_time": "2023-06-11T21:26:32.360380Z"
    }
   }
  },
  {
   "cell_type": "code",
   "execution_count": 110,
   "outputs": [
    {
     "name": "stdout",
     "output_type": "stream",
     "text": [
      "9\n",
      "717\n"
     ]
    }
   ],
   "source": [
    "partial = chatterbox[chatterbox['Year_of_Birth'] == \"'0000'\"]\n",
    "print(partial['Marital_Status'].isna().sum())\n",
    "\n",
    "partial = chatterbox[chatterbox['Status'] == 'Inactive']\n",
    "print(partial['Marital_Status'].notna().sum())"
   ],
   "metadata": {
    "collapsed": false,
    "ExecuteTime": {
     "start_time": "2023-06-11T21:26:32.318465Z",
     "end_time": "2023-06-11T21:26:32.376440Z"
    }
   }
  },
  {
   "cell_type": "code",
   "execution_count": 111,
   "outputs": [
    {
     "data": {
      "text/plain": "   Employee_No Title  Gender Marital_Status Date_Joined    Status  \\\n0          347    Mr    Male        Married   12/8/1993    Active   \n1          348    Mr    Male        Married   3/14/1995    Active   \n2          349    Mr    Male        Married   1/27/1988  Inactive   \n3          351    Ms  Female        Married   10/1/1999  Inactive   \n4          352    Mr    Male        Married   1/26/2001    Active   \n\n  Employment_Category Employment_Type  Religion         Designation  \\\n0               Staff       Permanant  Buddhist              Driver   \n1               Staff       Permanant  Buddhist              Driver   \n2               Staff       Permanant  Buddhist       Account Clerk   \n3               Staff       Permanant  Catholic  Purchasing Officer   \n4               Staff       Permanant  Buddhist        Store Keeper   \n\n  Year_of_Birth  \n0          1965  \n1          1973  \n2          1974  \n3          1974  \n4          1980  ",
      "text/html": "<div>\n<style scoped>\n    .dataframe tbody tr th:only-of-type {\n        vertical-align: middle;\n    }\n\n    .dataframe tbody tr th {\n        vertical-align: top;\n    }\n\n    .dataframe thead th {\n        text-align: right;\n    }\n</style>\n<table border=\"1\" class=\"dataframe\">\n  <thead>\n    <tr style=\"text-align: right;\">\n      <th></th>\n      <th>Employee_No</th>\n      <th>Title</th>\n      <th>Gender</th>\n      <th>Marital_Status</th>\n      <th>Date_Joined</th>\n      <th>Status</th>\n      <th>Employment_Category</th>\n      <th>Employment_Type</th>\n      <th>Religion</th>\n      <th>Designation</th>\n      <th>Year_of_Birth</th>\n    </tr>\n  </thead>\n  <tbody>\n    <tr>\n      <th>0</th>\n      <td>347</td>\n      <td>Mr</td>\n      <td>Male</td>\n      <td>Married</td>\n      <td>12/8/1993</td>\n      <td>Active</td>\n      <td>Staff</td>\n      <td>Permanant</td>\n      <td>Buddhist</td>\n      <td>Driver</td>\n      <td>1965</td>\n    </tr>\n    <tr>\n      <th>1</th>\n      <td>348</td>\n      <td>Mr</td>\n      <td>Male</td>\n      <td>Married</td>\n      <td>3/14/1995</td>\n      <td>Active</td>\n      <td>Staff</td>\n      <td>Permanant</td>\n      <td>Buddhist</td>\n      <td>Driver</td>\n      <td>1973</td>\n    </tr>\n    <tr>\n      <th>2</th>\n      <td>349</td>\n      <td>Mr</td>\n      <td>Male</td>\n      <td>Married</td>\n      <td>1/27/1988</td>\n      <td>Inactive</td>\n      <td>Staff</td>\n      <td>Permanant</td>\n      <td>Buddhist</td>\n      <td>Account Clerk</td>\n      <td>1974</td>\n    </tr>\n    <tr>\n      <th>3</th>\n      <td>351</td>\n      <td>Ms</td>\n      <td>Female</td>\n      <td>Married</td>\n      <td>10/1/1999</td>\n      <td>Inactive</td>\n      <td>Staff</td>\n      <td>Permanant</td>\n      <td>Catholic</td>\n      <td>Purchasing Officer</td>\n      <td>1974</td>\n    </tr>\n    <tr>\n      <th>4</th>\n      <td>352</td>\n      <td>Mr</td>\n      <td>Male</td>\n      <td>Married</td>\n      <td>1/26/2001</td>\n      <td>Active</td>\n      <td>Staff</td>\n      <td>Permanant</td>\n      <td>Buddhist</td>\n      <td>Store Keeper</td>\n      <td>1980</td>\n    </tr>\n  </tbody>\n</table>\n</div>"
     },
     "metadata": {},
     "output_type": "display_data"
    },
    {
     "name": "stdout",
     "output_type": "stream",
     "text": [
      "(997, 11)\n",
      "Index(['Employee_No', 'Title', 'Gender', 'Marital_Status', 'Date_Joined',\n",
      "       'Status', 'Employment_Category', 'Employment_Type', 'Religion',\n",
      "       'Designation', 'Year_of_Birth'],\n",
      "      dtype='object')\n"
     ]
    }
   ],
   "source": [
    "_chatterbox = chatterbox.copy()\n",
    "_chatterbox = _chatterbox.drop(['Employee_Code', 'Name', 'Religion_ID', 'Designation_ID', 'Date_Resigned', 'Inactive_Date', 'Reporting_emp_1', 'Reporting_emp_2'], axis=1)\n",
    "display(_chatterbox.head())\n",
    "print(_chatterbox.shape)\n",
    "print(_chatterbox.columns)"
   ],
   "metadata": {
    "collapsed": false,
    "ExecuteTime": {
     "start_time": "2023-06-11T21:26:32.334363Z",
     "end_time": "2023-06-11T21:26:32.376440Z"
    }
   }
  },
  {
   "cell_type": "code",
   "execution_count": 112,
   "outputs": [
    {
     "data": {
      "text/plain": "   Employee_No Marital_Status Year_of_Birth  Date_Joined_Days  Title_Miss  \\\n0          347        Married          1965            8741.0         0.0   \n1          348        Married          1973            9202.0         0.0   \n2          349        Married          1974            6599.0         0.0   \n3          351        Married          1974           10864.0         0.0   \n4          352        Married          1980           11347.0         0.0   \n\n   Title_Mr  Title_Ms  Gender_Female  Gender_Male  Status_Active  ...  \\\n0       1.0       0.0            0.0          1.0            1.0  ...   \n1       1.0       0.0            0.0          1.0            1.0  ...   \n2       1.0       0.0            0.0          1.0            0.0  ...   \n3       0.0       1.0            1.0          0.0            0.0  ...   \n4       1.0       0.0            0.0          1.0            1.0  ...   \n\n   Designation_Trainee Engineer  Designation_Trainee Purchasing Officer  \\\n0                           0.0                                     0.0   \n1                           0.0                                     0.0   \n2                           0.0                                     0.0   \n3                           0.0                                     0.0   \n4                           0.0                                     0.0   \n\n   Designation_Trainee QS  Designation_Trainee Safety Officer  \\\n0                     0.0                                 0.0   \n1                     0.0                                 0.0   \n2                     0.0                                 0.0   \n3                     0.0                                 0.0   \n4                     0.0                                 0.0   \n\n   Designation_Trainee Technical Officer  Designation_Transport Assistant  \\\n0                                    0.0                              0.0   \n1                                    0.0                              0.0   \n2                                    0.0                              0.0   \n3                                    0.0                              0.0   \n4                                    0.0                              0.0   \n\n   Designation_Transport Officer  Designation_Unskilled Labor  \\\n0                            0.0                          0.0   \n1                            0.0                          0.0   \n2                            0.0                          0.0   \n3                            0.0                          0.0   \n4                            0.0                          0.0   \n\n   Designation_Wacher  Designation_Welder  \n0                 0.0                 0.0  \n1                 0.0                 0.0  \n2                 0.0                 0.0  \n3                 0.0                 0.0  \n4                 0.0                 0.0  \n\n[5 rows x 149 columns]",
      "text/html": "<div>\n<style scoped>\n    .dataframe tbody tr th:only-of-type {\n        vertical-align: middle;\n    }\n\n    .dataframe tbody tr th {\n        vertical-align: top;\n    }\n\n    .dataframe thead th {\n        text-align: right;\n    }\n</style>\n<table border=\"1\" class=\"dataframe\">\n  <thead>\n    <tr style=\"text-align: right;\">\n      <th></th>\n      <th>Employee_No</th>\n      <th>Marital_Status</th>\n      <th>Year_of_Birth</th>\n      <th>Date_Joined_Days</th>\n      <th>Title_Miss</th>\n      <th>Title_Mr</th>\n      <th>Title_Ms</th>\n      <th>Gender_Female</th>\n      <th>Gender_Male</th>\n      <th>Status_Active</th>\n      <th>...</th>\n      <th>Designation_Trainee Engineer</th>\n      <th>Designation_Trainee Purchasing Officer</th>\n      <th>Designation_Trainee QS</th>\n      <th>Designation_Trainee Safety Officer</th>\n      <th>Designation_Trainee Technical Officer</th>\n      <th>Designation_Transport Assistant</th>\n      <th>Designation_Transport Officer</th>\n      <th>Designation_Unskilled Labor</th>\n      <th>Designation_Wacher</th>\n      <th>Designation_Welder</th>\n    </tr>\n  </thead>\n  <tbody>\n    <tr>\n      <th>0</th>\n      <td>347</td>\n      <td>Married</td>\n      <td>1965</td>\n      <td>8741.0</td>\n      <td>0.0</td>\n      <td>1.0</td>\n      <td>0.0</td>\n      <td>0.0</td>\n      <td>1.0</td>\n      <td>1.0</td>\n      <td>...</td>\n      <td>0.0</td>\n      <td>0.0</td>\n      <td>0.0</td>\n      <td>0.0</td>\n      <td>0.0</td>\n      <td>0.0</td>\n      <td>0.0</td>\n      <td>0.0</td>\n      <td>0.0</td>\n      <td>0.0</td>\n    </tr>\n    <tr>\n      <th>1</th>\n      <td>348</td>\n      <td>Married</td>\n      <td>1973</td>\n      <td>9202.0</td>\n      <td>0.0</td>\n      <td>1.0</td>\n      <td>0.0</td>\n      <td>0.0</td>\n      <td>1.0</td>\n      <td>1.0</td>\n      <td>...</td>\n      <td>0.0</td>\n      <td>0.0</td>\n      <td>0.0</td>\n      <td>0.0</td>\n      <td>0.0</td>\n      <td>0.0</td>\n      <td>0.0</td>\n      <td>0.0</td>\n      <td>0.0</td>\n      <td>0.0</td>\n    </tr>\n    <tr>\n      <th>2</th>\n      <td>349</td>\n      <td>Married</td>\n      <td>1974</td>\n      <td>6599.0</td>\n      <td>0.0</td>\n      <td>1.0</td>\n      <td>0.0</td>\n      <td>0.0</td>\n      <td>1.0</td>\n      <td>0.0</td>\n      <td>...</td>\n      <td>0.0</td>\n      <td>0.0</td>\n      <td>0.0</td>\n      <td>0.0</td>\n      <td>0.0</td>\n      <td>0.0</td>\n      <td>0.0</td>\n      <td>0.0</td>\n      <td>0.0</td>\n      <td>0.0</td>\n    </tr>\n    <tr>\n      <th>3</th>\n      <td>351</td>\n      <td>Married</td>\n      <td>1974</td>\n      <td>10864.0</td>\n      <td>0.0</td>\n      <td>0.0</td>\n      <td>1.0</td>\n      <td>1.0</td>\n      <td>0.0</td>\n      <td>0.0</td>\n      <td>...</td>\n      <td>0.0</td>\n      <td>0.0</td>\n      <td>0.0</td>\n      <td>0.0</td>\n      <td>0.0</td>\n      <td>0.0</td>\n      <td>0.0</td>\n      <td>0.0</td>\n      <td>0.0</td>\n      <td>0.0</td>\n    </tr>\n    <tr>\n      <th>4</th>\n      <td>352</td>\n      <td>Married</td>\n      <td>1980</td>\n      <td>11347.0</td>\n      <td>0.0</td>\n      <td>1.0</td>\n      <td>0.0</td>\n      <td>0.0</td>\n      <td>1.0</td>\n      <td>1.0</td>\n      <td>...</td>\n      <td>0.0</td>\n      <td>0.0</td>\n      <td>0.0</td>\n      <td>0.0</td>\n      <td>0.0</td>\n      <td>0.0</td>\n      <td>0.0</td>\n      <td>0.0</td>\n      <td>0.0</td>\n      <td>0.0</td>\n    </tr>\n  </tbody>\n</table>\n<p>5 rows × 149 columns</p>\n</div>"
     },
     "metadata": {},
     "output_type": "display_data"
    },
    {
     "name": "stdout",
     "output_type": "stream",
     "text": [
      "(997, 149)\n"
     ]
    }
   ],
   "source": [
    "_chatterbox['Date_Joined_Days'] = np.nan\n",
    "for index, row in _chatterbox.iterrows():\n",
    "    date = row['Date_Joined'].split('/')\n",
    "    date = datetime(int(date[2]), int(date[0]), int(date[1]))\n",
    "    _chatterbox.at[index, 'Date_Joined_Days'] = int(date.timestamp() / 86400)\n",
    "\n",
    "ohe = OneHotEncoder()\n",
    "feature_array = ohe.fit_transform(_chatterbox[['Title', 'Gender', 'Status', 'Employment_Category', 'Employment_Type', 'Religion', 'Designation']]).toarray()\n",
    "features = pd.DataFrame(feature_array, columns=ohe.get_feature_names_out())\n",
    "_chatterbox = pd.concat([_chatterbox, features], axis=1)\n",
    "\n",
    "OneHotEncoders['chatterbox'] = ohe\n",
    "\n",
    "_chatterbox = _chatterbox.drop(['Title', 'Gender', 'Date_Joined',\n",
    "                                'Status', 'Employment_Category', 'Employment_Type', 'Religion',\n",
    "                                'Designation'], axis=1)\n",
    "\n",
    "display(_chatterbox.head())\n",
    "print(_chatterbox.shape)"
   ],
   "metadata": {
    "collapsed": false,
    "ExecuteTime": {
     "start_time": "2023-06-11T21:26:32.349363Z",
     "end_time": "2023-06-11T21:26:32.533300Z"
    }
   }
  },
  {
   "cell_type": "code",
   "execution_count": 113,
   "outputs": [
    {
     "data": {
      "text/plain": "<Figure size 640x480 with 1 Axes>",
      "image/png": "[encoded data removed]"
     },
     "metadata": {},
     "output_type": "display_data"
    }
   ],
   "source": [
    "sns.scatterplot(_chatterbox, x='Date_Joined_Days', y='Year_of_Birth')\n",
    "plt.show()"
   ],
   "metadata": {
    "collapsed": false,
    "ExecuteTime": {
     "start_time": "2023-06-11T21:26:32.441726Z",
     "end_time": "2023-06-11T21:26:32.764617Z"
    }
   }
  },
  {
   "cell_type": "code",
   "execution_count": 114,
   "outputs": [
    {
     "name": "stdout",
     "output_type": "stream",
     "text": [
      "10\n",
      "235            Leif Konopelski\n",
      "611                 Hulda Wolf\n",
      "614            Braxton Volkman\n",
      "624               Sage Lebsack\n",
      "646             Elmira Gleason\n",
      "681          Prof Lonie O'Hara\n",
      "693           Oceane Krajcik I\n",
      "783         Loyce Botsford DDS\n",
      "886    Miss Clementina Kilback\n",
      "904               Clovis Lakin\n",
      "Name: Name, dtype: object\n",
      "3\n",
      "614     Braxton Volkman\n",
      "624        Sage Lebsack\n",
      "693    Oceane Krajcik I\n",
      "Name: Name, dtype: object\n",
      "7\n",
      "235            Leif Konopelski\n",
      "611                 Hulda Wolf\n",
      "646             Elmira Gleason\n",
      "681          Prof Lonie O'Hara\n",
      "783         Loyce Botsford DDS\n",
      "886    Miss Clementina Kilback\n",
      "904               Clovis Lakin\n",
      "Name: Name, dtype: object\n",
      "\n",
      "\n",
      "\n",
      "4\n",
      "118          Ilene Goyette\n",
      "149        Luna Harris DDS\n",
      "577     Mrs Mallie Torp IV\n",
      "823    Ernest Dietrich DVM\n",
      "Name: Name, dtype: object\n",
      "4\n",
      "118          Ilene Goyette\n",
      "149        Luna Harris DDS\n",
      "577     Mrs Mallie Torp IV\n",
      "823    Ernest Dietrich DVM\n",
      "Name: Name, dtype: object\n",
      "0\n",
      "Series([], Name: Name, dtype: object)\n",
      "\n",
      "\n",
      "\n",
      "1\n",
      "624    Sage Lebsack\n",
      "Name: Name, dtype: object\n",
      "1\n",
      "247    Clementine Lehner\n",
      "Name: Name, dtype: object\n",
      "2\n",
      "247    Clementine Lehner\n",
      "624         Sage Lebsack\n",
      "Name: Name, dtype: object\n",
      "\n",
      "\n",
      "\n",
      "0\n"
     ]
    }
   ],
   "source": [
    "def checkTitleGenderAndMaritalStatus():\n",
    "    print(chatterbox.loc[((chatterbox['Title'] == 'Ms') | (chatterbox['Title'] == 'Miss')) & (chatterbox['Gender'] == 'Male'), 'Name'].size)\n",
    "    print(chatterbox.loc[((chatterbox['Title'] == 'Ms') | (chatterbox['Title'] == 'Miss')) & (chatterbox['Gender'] == 'Male'), 'Name'])\n",
    "    print(chatterbox.loc[((chatterbox['Title'] == 'Ms') | (chatterbox['Title'] == 'Miss')) & (chatterbox['Gender'] == 'Male') & (chatterbox['Marital_Status'] == 'Married'), 'Name'].size)\n",
    "    print(chatterbox.loc[((chatterbox['Title'] == 'Ms') | (chatterbox['Title'] == 'Miss')) & (chatterbox['Gender'] == 'Male') & (chatterbox['Marital_Status'] == 'Married'), 'Name'])\n",
    "    print(chatterbox.loc[((chatterbox['Title'] == 'Ms') | (chatterbox['Title'] == 'Miss')) & (chatterbox['Gender'] == 'Male') & (chatterbox['Marital_Status'] == 'Single'), 'Name'].size)\n",
    "    print(chatterbox.loc[((chatterbox['Title'] == 'Ms') | (chatterbox['Title'] == 'Miss')) & (chatterbox['Gender'] == 'Male') & (chatterbox['Marital_Status'] == 'Single'), 'Name'])\n",
    "    print('\\n\\n')\n",
    "\n",
    "    print(chatterbox.loc[(chatterbox['Title'] == 'Mr') & (chatterbox['Gender'] == 'Female'), 'Name'].size)\n",
    "    print(chatterbox.loc[(chatterbox['Title'] == 'Mr') & (chatterbox['Gender'] == 'Female'), 'Name'])\n",
    "    print(chatterbox.loc[(chatterbox['Title'] == 'Mr') & (chatterbox['Gender'] == 'Female') & (chatterbox['Marital_Status'] == 'Single'), 'Name'].size)\n",
    "    print(chatterbox.loc[(chatterbox['Title'] == 'Mr') & (chatterbox['Gender'] == 'Female') & (chatterbox['Marital_Status'] == 'Single'), 'Name'])\n",
    "    print(chatterbox.loc[(chatterbox['Title'] == 'Mr') & (chatterbox['Gender'] == 'Female') & (chatterbox['Marital_Status'] == 'Married'), 'Name'].size)\n",
    "    print(chatterbox.loc[(chatterbox['Title'] == 'Mr') & (chatterbox['Gender'] == 'Female') & (chatterbox['Marital_Status'] == 'Married'), 'Name'])\n",
    "    print('\\n\\n')\n",
    "\n",
    "    print(chatterbox.loc[(chatterbox['Title'] == 'Miss') & (chatterbox['Marital_Status'] == 'Married') & (chatterbox['Gender'] == 'Male'), 'Name'].size)\n",
    "    print(chatterbox.loc[(chatterbox['Title'] == 'Miss') & (chatterbox['Marital_Status'] == 'Married') & (chatterbox['Gender'] == 'Male'), 'Name'])\n",
    "    print(chatterbox.loc[(chatterbox['Title'] == 'Miss') & (chatterbox['Marital_Status'] == 'Married') & (chatterbox['Gender'] == 'Female'), 'Name'].size)\n",
    "    print(chatterbox.loc[(chatterbox['Title'] == 'Miss') & (chatterbox['Marital_Status'] == 'Married') & (chatterbox['Gender'] == 'Female'), 'Name'])\n",
    "    print(chatterbox.loc[(chatterbox['Title'] == 'Miss') & (chatterbox['Marital_Status'] == 'Married'), 'Name'].size)\n",
    "    print(chatterbox.loc[(chatterbox['Title'] == 'Miss') & (chatterbox['Marital_Status'] == 'Married'), 'Name'])\n",
    "    print('\\n\\n')\n",
    "\n",
    "    print(chatterbox.loc[(chatterbox['Title'] == 'Miss') & (chatterbox['Marital_Status'] == np.nan), 'Name'].size)\n",
    "\n",
    "checkTitleGenderAndMaritalStatus()"
   ],
   "metadata": {
    "collapsed": false,
    "ExecuteTime": {
     "start_time": "2023-06-11T21:26:32.764617Z",
     "end_time": "2023-06-11T21:26:32.855708Z"
    }
   }
  },
  {
   "cell_type": "markdown",
   "source": [
    "# Imputing 'Marital_Status' of employee.csv"
   ],
   "metadata": {
    "collapsed": false
   }
  },
  {
   "cell_type": "code",
   "execution_count": 115,
   "outputs": [],
   "source": [
    "chatterbox.loc[((chatterbox['Title'] == 'Ms') | (chatterbox['Title'] == 'Miss')) & (chatterbox['Gender'] == 'Male'), 'Title'] = 'Mr'\n",
    "chatterbox.loc[(chatterbox['Title'] == 'Mr') & (chatterbox['Gender'] == 'Female') & (chatterbox['Marital_Status'] == 'Single'), 'Title'] = 'Miss'\n",
    "chatterbox.loc[(chatterbox['Title'] == 'Mr') & (chatterbox['Gender'] == 'Female') & (chatterbox['Marital_Status'] == 'Married'), 'Title'] = 'Ms'\n",
    "chatterbox.loc[(chatterbox['Title'] == 'Mr') & (chatterbox['Gender'] == 'Female') & ((chatterbox['Marital_Status'] != 'Married') | (chatterbox['Marital_Status'] != 'Single')), 'Title'] = 'Ms'\n",
    "chatterbox.loc[(chatterbox['Title'] == 'Miss') & (chatterbox['Gender'] == 'Female') & (chatterbox['Marital_Status'] == 'Married'), 'Title'] = 'Ms'"
   ],
   "metadata": {
    "collapsed": false,
    "ExecuteTime": {
     "start_time": "2023-06-11T21:26:32.791315Z",
     "end_time": "2023-06-11T21:26:32.855708Z"
    }
   }
  },
  {
   "cell_type": "code",
   "execution_count": 116,
   "outputs": [
    {
     "name": "stdout",
     "output_type": "stream",
     "text": [
      "0\n",
      "Series([], Name: Name, dtype: object)\n",
      "0\n",
      "Series([], Name: Name, dtype: object)\n",
      "0\n",
      "Series([], Name: Name, dtype: object)\n",
      "\n",
      "\n",
      "\n",
      "0\n",
      "Series([], Name: Name, dtype: object)\n",
      "0\n",
      "Series([], Name: Name, dtype: object)\n",
      "0\n",
      "Series([], Name: Name, dtype: object)\n",
      "\n",
      "\n",
      "\n",
      "0\n",
      "Series([], Name: Name, dtype: object)\n",
      "0\n",
      "Series([], Name: Name, dtype: object)\n",
      "0\n",
      "Series([], Name: Name, dtype: object)\n",
      "\n",
      "\n",
      "\n",
      "0\n"
     ]
    }
   ],
   "source": [
    "checkTitleGenderAndMaritalStatus()"
   ],
   "metadata": {
    "collapsed": false,
    "ExecuteTime": {
     "start_time": "2023-06-11T21:26:32.804314Z",
     "end_time": "2023-06-11T21:26:32.856699Z"
    }
   }
  },
  {
   "cell_type": "code",
   "execution_count": 117,
   "outputs": [],
   "source": [
    "final = _chatterbox.copy()\n",
    "\n",
    "# final = pd.merge(_chatterbox, salary, how='left', on=['Employee_No'])\n",
    "# display(final.head())\n",
    "# print(final.shape)\n",
    "\n",
    "# final = pd.merge(_chatterbox, attendance, how='left', on=['Employee_No'])\n",
    "# display(final.head())\n",
    "# print(final.shape)"
   ],
   "metadata": {
    "collapsed": false,
    "ExecuteTime": {
     "start_time": "2023-06-11T21:26:32.820314Z",
     "end_time": "2023-06-11T21:26:32.857710Z"
    }
   }
  },
  {
   "cell_type": "code",
   "execution_count": 118,
   "outputs": [
    {
     "data": {
      "text/plain": "Employee_No                         0\nMarital_Status                     67\nYear_of_Birth                       0\nDate_Joined_Days                    0\nTitle_Miss                          0\n                                   ..\nDesignation_Transport Assistant     0\nDesignation_Transport Officer       0\nDesignation_Unskilled Labor         0\nDesignation_Wacher                  0\nDesignation_Welder                  0\nLength: 149, dtype: int64"
     },
     "execution_count": 118,
     "metadata": {},
     "output_type": "execute_result"
    }
   ],
   "source": [
    "final.isna().sum()"
   ],
   "metadata": {
    "collapsed": false,
    "ExecuteTime": {
     "start_time": "2023-06-11T21:26:32.836071Z",
     "end_time": "2023-06-11T21:26:32.857710Z"
    }
   }
  },
  {
   "cell_type": "code",
   "execution_count": 119,
   "outputs": [],
   "source": [
    "# final[salary.columns] = final[salary.columns].fillna(final[salary.columns].median())\n",
    "# display(final.head())"
   ],
   "metadata": {
    "collapsed": false,
    "ExecuteTime": {
     "start_time": "2023-06-11T21:26:32.851688Z",
     "end_time": "2023-06-11T21:26:32.875691Z"
    }
   }
  },
  {
   "cell_type": "code",
   "execution_count": 120,
   "outputs": [],
   "source": [
    "# final.isna().sum()"
   ],
   "metadata": {
    "collapsed": false,
    "ExecuteTime": {
     "start_time": "2023-06-11T21:26:32.868689Z",
     "end_time": "2023-06-11T21:26:32.942925Z"
    }
   }
  },
  {
   "cell_type": "code",
   "execution_count": 121,
   "outputs": [
    {
     "data": {
      "text/plain": "   Employee_No Marital_Status  Year_of_Birth  Date_Joined_Days  Title_Miss  \\\n0          347              0           1965            8741.0         0.0   \n1          348              0           1973            9202.0         0.0   \n2          349              0           1974            6599.0         0.0   \n3          351              0           1974           10864.0         0.0   \n4          352              0           1980           11347.0         0.0   \n\n   Title_Mr  Title_Ms  Gender_Female  Gender_Male  Status_Active  ...  \\\n0       1.0       0.0            0.0          1.0            1.0  ...   \n1       1.0       0.0            0.0          1.0            1.0  ...   \n2       1.0       0.0            0.0          1.0            0.0  ...   \n3       0.0       1.0            1.0          0.0            0.0  ...   \n4       1.0       0.0            0.0          1.0            1.0  ...   \n\n   Designation_Trainee Engineer  Designation_Trainee Purchasing Officer  \\\n0                           0.0                                     0.0   \n1                           0.0                                     0.0   \n2                           0.0                                     0.0   \n3                           0.0                                     0.0   \n4                           0.0                                     0.0   \n\n   Designation_Trainee QS  Designation_Trainee Safety Officer  \\\n0                     0.0                                 0.0   \n1                     0.0                                 0.0   \n2                     0.0                                 0.0   \n3                     0.0                                 0.0   \n4                     0.0                                 0.0   \n\n   Designation_Trainee Technical Officer  Designation_Transport Assistant  \\\n0                                    0.0                              0.0   \n1                                    0.0                              0.0   \n2                                    0.0                              0.0   \n3                                    0.0                              0.0   \n4                                    0.0                              0.0   \n\n   Designation_Transport Officer  Designation_Unskilled Labor  \\\n0                            0.0                          0.0   \n1                            0.0                          0.0   \n2                            0.0                          0.0   \n3                            0.0                          0.0   \n4                            0.0                          0.0   \n\n   Designation_Wacher  Designation_Welder  \n0                 0.0                 0.0  \n1                 0.0                 0.0  \n2                 0.0                 0.0  \n3                 0.0                 0.0  \n4                 0.0                 0.0  \n\n[5 rows x 149 columns]",
      "text/html": "<div>\n<style scoped>\n    .dataframe tbody tr th:only-of-type {\n        vertical-align: middle;\n    }\n\n    .dataframe tbody tr th {\n        vertical-align: top;\n    }\n\n    .dataframe thead th {\n        text-align: right;\n    }\n</style>\n<table border=\"1\" class=\"dataframe\">\n  <thead>\n    <tr style=\"text-align: right;\">\n      <th></th>\n      <th>Employee_No</th>\n      <th>Marital_Status</th>\n      <th>Year_of_Birth</th>\n      <th>Date_Joined_Days</th>\n      <th>Title_Miss</th>\n      <th>Title_Mr</th>\n      <th>Title_Ms</th>\n      <th>Gender_Female</th>\n      <th>Gender_Male</th>\n      <th>Status_Active</th>\n      <th>...</th>\n      <th>Designation_Trainee Engineer</th>\n      <th>Designation_Trainee Purchasing Officer</th>\n      <th>Designation_Trainee QS</th>\n      <th>Designation_Trainee Safety Officer</th>\n      <th>Designation_Trainee Technical Officer</th>\n      <th>Designation_Transport Assistant</th>\n      <th>Designation_Transport Officer</th>\n      <th>Designation_Unskilled Labor</th>\n      <th>Designation_Wacher</th>\n      <th>Designation_Welder</th>\n    </tr>\n  </thead>\n  <tbody>\n    <tr>\n      <th>0</th>\n      <td>347</td>\n      <td>0</td>\n      <td>1965</td>\n      <td>8741.0</td>\n      <td>0.0</td>\n      <td>1.0</td>\n      <td>0.0</td>\n      <td>0.0</td>\n      <td>1.0</td>\n      <td>1.0</td>\n      <td>...</td>\n      <td>0.0</td>\n      <td>0.0</td>\n      <td>0.0</td>\n      <td>0.0</td>\n      <td>0.0</td>\n      <td>0.0</td>\n      <td>0.0</td>\n      <td>0.0</td>\n      <td>0.0</td>\n      <td>0.0</td>\n    </tr>\n    <tr>\n      <th>1</th>\n      <td>348</td>\n      <td>0</td>\n      <td>1973</td>\n      <td>9202.0</td>\n      <td>0.0</td>\n      <td>1.0</td>\n      <td>0.0</td>\n      <td>0.0</td>\n      <td>1.0</td>\n      <td>1.0</td>\n      <td>...</td>\n      <td>0.0</td>\n      <td>0.0</td>\n      <td>0.0</td>\n      <td>0.0</td>\n      <td>0.0</td>\n      <td>0.0</td>\n      <td>0.0</td>\n      <td>0.0</td>\n      <td>0.0</td>\n      <td>0.0</td>\n    </tr>\n    <tr>\n      <th>2</th>\n      <td>349</td>\n      <td>0</td>\n      <td>1974</td>\n      <td>6599.0</td>\n      <td>0.0</td>\n      <td>1.0</td>\n      <td>0.0</td>\n      <td>0.0</td>\n      <td>1.0</td>\n      <td>0.0</td>\n      <td>...</td>\n      <td>0.0</td>\n      <td>0.0</td>\n      <td>0.0</td>\n      <td>0.0</td>\n      <td>0.0</td>\n      <td>0.0</td>\n      <td>0.0</td>\n      <td>0.0</td>\n      <td>0.0</td>\n      <td>0.0</td>\n    </tr>\n    <tr>\n      <th>3</th>\n      <td>351</td>\n      <td>0</td>\n      <td>1974</td>\n      <td>10864.0</td>\n      <td>0.0</td>\n      <td>0.0</td>\n      <td>1.0</td>\n      <td>1.0</td>\n      <td>0.0</td>\n      <td>0.0</td>\n      <td>...</td>\n      <td>0.0</td>\n      <td>0.0</td>\n      <td>0.0</td>\n      <td>0.0</td>\n      <td>0.0</td>\n      <td>0.0</td>\n      <td>0.0</td>\n      <td>0.0</td>\n      <td>0.0</td>\n      <td>0.0</td>\n    </tr>\n    <tr>\n      <th>4</th>\n      <td>352</td>\n      <td>0</td>\n      <td>1980</td>\n      <td>11347.0</td>\n      <td>0.0</td>\n      <td>1.0</td>\n      <td>0.0</td>\n      <td>0.0</td>\n      <td>1.0</td>\n      <td>1.0</td>\n      <td>...</td>\n      <td>0.0</td>\n      <td>0.0</td>\n      <td>0.0</td>\n      <td>0.0</td>\n      <td>0.0</td>\n      <td>0.0</td>\n      <td>0.0</td>\n      <td>0.0</td>\n      <td>0.0</td>\n      <td>0.0</td>\n    </tr>\n  </tbody>\n</table>\n<p>5 rows × 149 columns</p>\n</div>"
     },
     "metadata": {},
     "output_type": "display_data"
    }
   ],
   "source": [
    "LabelEncoders = {}\n",
    "le = LabelEncoder()\n",
    "original = final.copy()\n",
    "mask = final.isnull()\n",
    "final.Marital_Status = le.fit_transform(final.Marital_Status)\n",
    "final = final.where(~mask, original)\n",
    "LabelEncoders['Marital_Status'] = le\n",
    "\n",
    "final.loc[final['Year_of_Birth'] == \"'0000'\", 'Year_of_Birth'] = '0'\n",
    "final['Year_of_Birth'] = final['Year_of_Birth'].astype('int64')\n",
    "\n",
    "display(final.head())"
   ],
   "metadata": {
    "collapsed": false,
    "ExecuteTime": {
     "start_time": "2023-06-11T21:26:32.884186Z",
     "end_time": "2023-06-11T21:26:33.005572Z"
    }
   }
  },
  {
   "cell_type": "code",
   "execution_count": 122,
   "outputs": [
    {
     "data": {
      "text/plain": "Employee_No                          int64\nMarital_Status                     float64\nYear_of_Birth                        int64\nDate_Joined_Days                   float64\nTitle_Miss                         float64\n                                    ...   \nDesignation_Transport Assistant    float64\nDesignation_Transport Officer      float64\nDesignation_Unskilled Labor        float64\nDesignation_Wacher                 float64\nDesignation_Welder                 float64\nLength: 149, dtype: object"
     },
     "execution_count": 122,
     "metadata": {},
     "output_type": "execute_result"
    }
   ],
   "source": [
    "# for col in []:\n",
    "#     final[col] = final[col].astype('Int64')\n",
    "final['Marital_Status'] = final['Marital_Status'].astype('float64')\n",
    "final.dtypes"
   ],
   "metadata": {
    "collapsed": false,
    "ExecuteTime": {
     "start_time": "2023-06-11T21:26:32.915187Z",
     "end_time": "2023-06-11T21:26:33.023504Z"
    }
   }
  },
  {
   "cell_type": "code",
   "execution_count": 123,
   "outputs": [
    {
     "name": "stdout",
     "output_type": "stream",
     "text": [
      "67\n",
      "103\n"
     ]
    }
   ],
   "source": [
    "print(final['Marital_Status'].isna().sum())\n",
    "print((final['Year_of_Birth'] == 0).sum())"
   ],
   "metadata": {
    "collapsed": false,
    "ExecuteTime": {
     "start_time": "2023-06-11T21:26:32.932672Z",
     "end_time": "2023-06-11T21:26:33.023504Z"
    }
   }
  },
  {
   "cell_type": "code",
   "execution_count": 124,
   "outputs": [
    {
     "data": {
      "text/plain": "<Figure size 640x480 with 1 Axes>",
      "image/png": "[encoded data removed]"
     },
     "metadata": {},
     "output_type": "display_data"
    }
   ],
   "source": [
    "sns.countplot(data=final, x='Year_of_Birth')\n",
    "plt.show()"
   ],
   "metadata": {
    "collapsed": false,
    "ExecuteTime": {
     "start_time": "2023-06-11T21:26:32.945330Z",
     "end_time": "2023-06-11T21:26:33.476611Z"
    }
   }
  },
  {
   "cell_type": "markdown",
   "source": [
    "# Decision Tree Classification"
   ],
   "metadata": {
    "collapsed": false
   }
  },
  {
   "cell_type": "code",
   "execution_count": 125,
   "outputs": [
    {
     "name": "stdout",
     "output_type": "stream",
     "text": [
      "1984\n",
      "(930, 149)\n",
      "(836, 149)\n",
      "9\n"
     ]
    },
    {
     "data": {
      "text/plain": "   Employee_No  Marital_Status  Year_of_Birth  Date_Joined_Days  Title_Miss  \\\n0          405             NaN           1984           16229.0         0.0   \n1          415             NaN           1982           16586.0         0.0   \n2          423             NaN           1987           16932.0         0.0   \n3          480             NaN           1989           17352.0         0.0   \n4          508             NaN           1984           17417.0         0.0   \n\n   Title_Mr  Title_Ms  Gender_Female  Gender_Male  Status_Active  ...  \\\n0       1.0       0.0            0.0          1.0            0.0  ...   \n1       1.0       0.0            0.0          1.0            0.0  ...   \n2       1.0       0.0            0.0          1.0            1.0  ...   \n3       1.0       0.0            0.0          1.0            0.0  ...   \n4       1.0       0.0            0.0          1.0            0.0  ...   \n\n   Designation_Trainee Engineer  Designation_Trainee Purchasing Officer  \\\n0                           0.0                                     0.0   \n1                           0.0                                     0.0   \n2                           0.0                                     0.0   \n3                           0.0                                     0.0   \n4                           0.0                                     0.0   \n\n   Designation_Trainee QS  Designation_Trainee Safety Officer  \\\n0                     0.0                                 0.0   \n1                     0.0                                 0.0   \n2                     0.0                                 0.0   \n3                     0.0                                 0.0   \n4                     0.0                                 0.0   \n\n   Designation_Trainee Technical Officer  Designation_Transport Assistant  \\\n0                                    0.0                              0.0   \n1                                    0.0                              0.0   \n2                                    0.0                              0.0   \n3                                    0.0                              0.0   \n4                                    0.0                              0.0   \n\n   Designation_Transport Officer  Designation_Unskilled Labor  \\\n0                            0.0                          0.0   \n1                            0.0                          0.0   \n2                            0.0                          0.0   \n3                            0.0                          0.0   \n4                            0.0                          0.0   \n\n   Designation_Wacher  Designation_Welder  \n0                 0.0                 0.0  \n1                 0.0                 0.0  \n2                 0.0                 0.0  \n3                 0.0                 0.0  \n4                 0.0                 0.0  \n\n[5 rows x 149 columns]",
      "text/html": "<div>\n<style scoped>\n    .dataframe tbody tr th:only-of-type {\n        vertical-align: middle;\n    }\n\n    .dataframe tbody tr th {\n        vertical-align: top;\n    }\n\n    .dataframe thead th {\n        text-align: right;\n    }\n</style>\n<table border=\"1\" class=\"dataframe\">\n  <thead>\n    <tr style=\"text-align: right;\">\n      <th></th>\n      <th>Employee_No</th>\n      <th>Marital_Status</th>\n      <th>Year_of_Birth</th>\n      <th>Date_Joined_Days</th>\n      <th>Title_Miss</th>\n      <th>Title_Mr</th>\n      <th>Title_Ms</th>\n      <th>Gender_Female</th>\n      <th>Gender_Male</th>\n      <th>Status_Active</th>\n      <th>...</th>\n      <th>Designation_Trainee Engineer</th>\n      <th>Designation_Trainee Purchasing Officer</th>\n      <th>Designation_Trainee QS</th>\n      <th>Designation_Trainee Safety Officer</th>\n      <th>Designation_Trainee Technical Officer</th>\n      <th>Designation_Transport Assistant</th>\n      <th>Designation_Transport Officer</th>\n      <th>Designation_Unskilled Labor</th>\n      <th>Designation_Wacher</th>\n      <th>Designation_Welder</th>\n    </tr>\n  </thead>\n  <tbody>\n    <tr>\n      <th>0</th>\n      <td>405</td>\n      <td>NaN</td>\n      <td>1984</td>\n      <td>16229.0</td>\n      <td>0.0</td>\n      <td>1.0</td>\n      <td>0.0</td>\n      <td>0.0</td>\n      <td>1.0</td>\n      <td>0.0</td>\n      <td>...</td>\n      <td>0.0</td>\n      <td>0.0</td>\n      <td>0.0</td>\n      <td>0.0</td>\n      <td>0.0</td>\n      <td>0.0</td>\n      <td>0.0</td>\n      <td>0.0</td>\n      <td>0.0</td>\n      <td>0.0</td>\n    </tr>\n    <tr>\n      <th>1</th>\n      <td>415</td>\n      <td>NaN</td>\n      <td>1982</td>\n      <td>16586.0</td>\n      <td>0.0</td>\n      <td>1.0</td>\n      <td>0.0</td>\n      <td>0.0</td>\n      <td>1.0</td>\n      <td>0.0</td>\n      <td>...</td>\n      <td>0.0</td>\n      <td>0.0</td>\n      <td>0.0</td>\n      <td>0.0</td>\n      <td>0.0</td>\n      <td>0.0</td>\n      <td>0.0</td>\n      <td>0.0</td>\n      <td>0.0</td>\n      <td>0.0</td>\n    </tr>\n    <tr>\n      <th>2</th>\n      <td>423</td>\n      <td>NaN</td>\n      <td>1987</td>\n      <td>16932.0</td>\n      <td>0.0</td>\n      <td>1.0</td>\n      <td>0.0</td>\n      <td>0.0</td>\n      <td>1.0</td>\n      <td>1.0</td>\n      <td>...</td>\n      <td>0.0</td>\n      <td>0.0</td>\n      <td>0.0</td>\n      <td>0.0</td>\n      <td>0.0</td>\n      <td>0.0</td>\n      <td>0.0</td>\n      <td>0.0</td>\n      <td>0.0</td>\n      <td>0.0</td>\n    </tr>\n    <tr>\n      <th>3</th>\n      <td>480</td>\n      <td>NaN</td>\n      <td>1989</td>\n      <td>17352.0</td>\n      <td>0.0</td>\n      <td>1.0</td>\n      <td>0.0</td>\n      <td>0.0</td>\n      <td>1.0</td>\n      <td>0.0</td>\n      <td>...</td>\n      <td>0.0</td>\n      <td>0.0</td>\n      <td>0.0</td>\n      <td>0.0</td>\n      <td>0.0</td>\n      <td>0.0</td>\n      <td>0.0</td>\n      <td>0.0</td>\n      <td>0.0</td>\n      <td>0.0</td>\n    </tr>\n    <tr>\n      <th>4</th>\n      <td>508</td>\n      <td>NaN</td>\n      <td>1984</td>\n      <td>17417.0</td>\n      <td>0.0</td>\n      <td>1.0</td>\n      <td>0.0</td>\n      <td>0.0</td>\n      <td>1.0</td>\n      <td>0.0</td>\n      <td>...</td>\n      <td>0.0</td>\n      <td>0.0</td>\n      <td>0.0</td>\n      <td>0.0</td>\n      <td>0.0</td>\n      <td>0.0</td>\n      <td>0.0</td>\n      <td>0.0</td>\n      <td>0.0</td>\n      <td>0.0</td>\n    </tr>\n  </tbody>\n</table>\n<p>5 rows × 149 columns</p>\n</div>"
     },
     "metadata": {},
     "output_type": "display_data"
    },
    {
     "data": {
      "text/plain": "   Employee_No  Marital_Status  Year_of_Birth  Date_Joined_Days  Title_Miss  \\\n0          347             0.0           1965            8741.0         0.0   \n1          348             0.0           1973            9202.0         0.0   \n2          349             0.0           1974            6599.0         0.0   \n3          351             0.0           1974           10864.0         0.0   \n4          352             0.0           1980           11347.0         0.0   \n\n   Title_Mr  Title_Ms  Gender_Female  Gender_Male  Status_Active  ...  \\\n0       1.0       0.0            0.0          1.0            1.0  ...   \n1       1.0       0.0            0.0          1.0            1.0  ...   \n2       1.0       0.0            0.0          1.0            0.0  ...   \n3       0.0       1.0            1.0          0.0            0.0  ...   \n4       1.0       0.0            0.0          1.0            1.0  ...   \n\n   Designation_Trainee Engineer  Designation_Trainee Purchasing Officer  \\\n0                           0.0                                     0.0   \n1                           0.0                                     0.0   \n2                           0.0                                     0.0   \n3                           0.0                                     0.0   \n4                           0.0                                     0.0   \n\n   Designation_Trainee QS  Designation_Trainee Safety Officer  \\\n0                     0.0                                 0.0   \n1                     0.0                                 0.0   \n2                     0.0                                 0.0   \n3                     0.0                                 0.0   \n4                     0.0                                 0.0   \n\n   Designation_Trainee Technical Officer  Designation_Transport Assistant  \\\n0                                    0.0                              0.0   \n1                                    0.0                              0.0   \n2                                    0.0                              0.0   \n3                                    0.0                              0.0   \n4                                    0.0                              0.0   \n\n   Designation_Transport Officer  Designation_Unskilled Labor  \\\n0                            0.0                          0.0   \n1                            0.0                          0.0   \n2                            0.0                          0.0   \n3                            0.0                          0.0   \n4                            0.0                          0.0   \n\n   Designation_Wacher  Designation_Welder  \n0                 0.0                 0.0  \n1                 0.0                 0.0  \n2                 0.0                 0.0  \n3                 0.0                 0.0  \n4                 0.0                 0.0  \n\n[5 rows x 149 columns]",
      "text/html": "<div>\n<style scoped>\n    .dataframe tbody tr th:only-of-type {\n        vertical-align: middle;\n    }\n\n    .dataframe tbody tr th {\n        vertical-align: top;\n    }\n\n    .dataframe thead th {\n        text-align: right;\n    }\n</style>\n<table border=\"1\" class=\"dataframe\">\n  <thead>\n    <tr style=\"text-align: right;\">\n      <th></th>\n      <th>Employee_No</th>\n      <th>Marital_Status</th>\n      <th>Year_of_Birth</th>\n      <th>Date_Joined_Days</th>\n      <th>Title_Miss</th>\n      <th>Title_Mr</th>\n      <th>Title_Ms</th>\n      <th>Gender_Female</th>\n      <th>Gender_Male</th>\n      <th>Status_Active</th>\n      <th>...</th>\n      <th>Designation_Trainee Engineer</th>\n      <th>Designation_Trainee Purchasing Officer</th>\n      <th>Designation_Trainee QS</th>\n      <th>Designation_Trainee Safety Officer</th>\n      <th>Designation_Trainee Technical Officer</th>\n      <th>Designation_Transport Assistant</th>\n      <th>Designation_Transport Officer</th>\n      <th>Designation_Unskilled Labor</th>\n      <th>Designation_Wacher</th>\n      <th>Designation_Welder</th>\n    </tr>\n  </thead>\n  <tbody>\n    <tr>\n      <th>0</th>\n      <td>347</td>\n      <td>0.0</td>\n      <td>1965</td>\n      <td>8741.0</td>\n      <td>0.0</td>\n      <td>1.0</td>\n      <td>0.0</td>\n      <td>0.0</td>\n      <td>1.0</td>\n      <td>1.0</td>\n      <td>...</td>\n      <td>0.0</td>\n      <td>0.0</td>\n      <td>0.0</td>\n      <td>0.0</td>\n      <td>0.0</td>\n      <td>0.0</td>\n      <td>0.0</td>\n      <td>0.0</td>\n      <td>0.0</td>\n      <td>0.0</td>\n    </tr>\n    <tr>\n      <th>1</th>\n      <td>348</td>\n      <td>0.0</td>\n      <td>1973</td>\n      <td>9202.0</td>\n      <td>0.0</td>\n      <td>1.0</td>\n      <td>0.0</td>\n      <td>0.0</td>\n      <td>1.0</td>\n      <td>1.0</td>\n      <td>...</td>\n      <td>0.0</td>\n      <td>0.0</td>\n      <td>0.0</td>\n      <td>0.0</td>\n      <td>0.0</td>\n      <td>0.0</td>\n      <td>0.0</td>\n      <td>0.0</td>\n      <td>0.0</td>\n      <td>0.0</td>\n    </tr>\n    <tr>\n      <th>2</th>\n      <td>349</td>\n      <td>0.0</td>\n      <td>1974</td>\n      <td>6599.0</td>\n      <td>0.0</td>\n      <td>1.0</td>\n      <td>0.0</td>\n      <td>0.0</td>\n      <td>1.0</td>\n      <td>0.0</td>\n      <td>...</td>\n      <td>0.0</td>\n      <td>0.0</td>\n      <td>0.0</td>\n      <td>0.0</td>\n      <td>0.0</td>\n      <td>0.0</td>\n      <td>0.0</td>\n      <td>0.0</td>\n      <td>0.0</td>\n      <td>0.0</td>\n    </tr>\n    <tr>\n      <th>3</th>\n      <td>351</td>\n      <td>0.0</td>\n      <td>1974</td>\n      <td>10864.0</td>\n      <td>0.0</td>\n      <td>0.0</td>\n      <td>1.0</td>\n      <td>1.0</td>\n      <td>0.0</td>\n      <td>0.0</td>\n      <td>...</td>\n      <td>0.0</td>\n      <td>0.0</td>\n      <td>0.0</td>\n      <td>0.0</td>\n      <td>0.0</td>\n      <td>0.0</td>\n      <td>0.0</td>\n      <td>0.0</td>\n      <td>0.0</td>\n      <td>0.0</td>\n    </tr>\n    <tr>\n      <th>4</th>\n      <td>352</td>\n      <td>0.0</td>\n      <td>1980</td>\n      <td>11347.0</td>\n      <td>0.0</td>\n      <td>1.0</td>\n      <td>0.0</td>\n      <td>0.0</td>\n      <td>1.0</td>\n      <td>1.0</td>\n      <td>...</td>\n      <td>0.0</td>\n      <td>0.0</td>\n      <td>0.0</td>\n      <td>0.0</td>\n      <td>0.0</td>\n      <td>0.0</td>\n      <td>0.0</td>\n      <td>0.0</td>\n      <td>0.0</td>\n      <td>0.0</td>\n    </tr>\n  </tbody>\n</table>\n<p>5 rows × 149 columns</p>\n</div>"
     },
     "metadata": {},
     "output_type": "display_data"
    }
   ],
   "source": [
    "median_of_Year_of_Birth = int(final['Year_of_Birth'].median())\n",
    "print(median_of_Year_of_Birth)\n",
    "\n",
    "Train = final[final['Marital_Status'].notna()]\n",
    "print(Train.shape)\n",
    "Train = Train[Train['Year_of_Birth'] > 0]\n",
    "print(Train.shape)\n",
    "Train = Train.reset_index(drop=True)\n",
    "\n",
    "Test = final[final['Marital_Status'].isna()]\n",
    "print((Test['Year_of_Birth'] == 0).sum())\n",
    "Test.loc[Test['Year_of_Birth'] == 0, 'Year_of_Birth'] = median_of_Year_of_Birth\n",
    "Test = Test.reset_index(drop=True)\n",
    "\n",
    "display(Test.head())\n",
    "display(Train.head())"
   ],
   "metadata": {
    "collapsed": false,
    "ExecuteTime": {
     "start_time": "2023-06-11T21:26:33.477617Z",
     "end_time": "2023-06-11T21:26:33.535326Z"
    }
   }
  },
  {
   "cell_type": "code",
   "execution_count": 126,
   "outputs": [
    {
     "name": "stdout",
     "output_type": "stream",
     "text": [
      "Fitting 5 folds for each of 30000 candidates, totalling 150000 fits\n"
     ]
    },
    {
     "data": {
      "text/plain": "RandomizedSearchCV(cv=5, error_score='raise',\n                   estimator=DecisionTreeClassifier(), n_iter=30000, n_jobs=2,\n                   param_distributions={'criterion': ['gini', 'entropy',\n                                                      'log_loss'],\n                                        'max_depth': [2, 3, 5, 10, 15, 20, 30,\n                                                      50, 100, 200, None],\n                                        'max_features': [1, 2, 3, 5, 10, 20, 30,\n                                                         40, 50, 60, 70, 80, 85,\n                                                         90, 95, 100, None],\n                                        'max_leaf_nodes': [2, 5, 10, 20, 30, 50,\n                                                           100, 1000, 2000,\n                                                           None],\n                                        'min_samples_leaf': [1, 2, 3, 5, 10, 20,\n                                                             30, 40, 50, 100],\n                                        'min_samples_split': [1, 2]},\n                   scoring='accuracy', verbose=3)",
      "text/html": "<style>#sk-container-id-1 {color: black;background-color: white;}#sk-container-id-1 pre{padding: 0;}#sk-container-id-1 div.sk-toggleable {background-color: white;}#sk-container-id-1 label.sk-toggleable__label {cursor: pointer;display: block;width: 100%;margin-bottom: 0;padding: 0.3em;box-sizing: border-box;text-align: center;}#sk-container-id-1 label.sk-toggleable__label-arrow:before {content: \"▸\";float: left;margin-right: 0.25em;color: #696969;}#sk-container-id-1 label.sk-toggleable__label-arrow:hover:before {color: black;}#sk-container-id-1 div.sk-estimator:hover label.sk-toggleable__label-arrow:before {color: black;}#sk-container-id-1 div.sk-toggleable__content {max-height: 0;max-width: 0;overflow: hidden;text-align: left;background-color: #f0f8ff;}#sk-container-id-1 div.sk-toggleable__content pre {margin: 0.2em;color: black;border-radius: 0.25em;background-color: #f0f8ff;}#sk-container-id-1 input.sk-toggleable__control:checked~div.sk-toggleable__content {max-height: 200px;max-width: 100%;overflow: auto;}#sk-container-id-1 input.sk-toggleable__control:checked~label.sk-toggleable__label-arrow:before {content: \"▾\";}#sk-container-id-1 div.sk-estimator input.sk-toggleable__control:checked~label.sk-toggleable__label {background-color: #d4ebff;}#sk-container-id-1 div.sk-label input.sk-toggleable__control:checked~label.sk-toggleable__label {background-color: #d4ebff;}#sk-container-id-1 input.sk-hidden--visually {border: 0;clip: rect(1px 1px 1px 1px);clip: rect(1px, 1px, 1px, 1px);height: 1px;margin: -1px;overflow: hidden;padding: 0;position: absolute;width: 1px;}#sk-container-id-1 div.sk-estimator {font-family: monospace;background-color: #f0f8ff;border: 1px dotted black;border-radius: 0.25em;box-sizing: border-box;margin-bottom: 0.5em;}#sk-container-id-1 div.sk-estimator:hover {background-color: #d4ebff;}#sk-container-id-1 div.sk-parallel-item::after {content: \"\";width: 100%;border-bottom: 1px solid gray;flex-grow: 1;}#sk-container-id-1 div.sk-label:hover label.sk-toggleable__label {background-color: #d4ebff;}#sk-container-id-1 div.sk-serial::before {content: \"\";position: absolute;border-left: 1px solid gray;box-sizing: border-box;top: 0;bottom: 0;left: 50%;z-index: 0;}#sk-container-id-1 div.sk-serial {display: flex;flex-direction: column;align-items: center;background-color: white;padding-right: 0.2em;padding-left: 0.2em;position: relative;}#sk-container-id-1 div.sk-item {position: relative;z-index: 1;}#sk-container-id-1 div.sk-parallel {display: flex;align-items: stretch;justify-content: center;background-color: white;position: relative;}#sk-container-id-1 div.sk-item::before, #sk-container-id-1 div.sk-parallel-item::before {content: \"\";position: absolute;border-left: 1px solid gray;box-sizing: border-box;top: 0;bottom: 0;left: 50%;z-index: -1;}#sk-container-id-1 div.sk-parallel-item {display: flex;flex-direction: column;z-index: 1;position: relative;background-color: white;}#sk-container-id-1 div.sk-parallel-item:first-child::after {align-self: flex-end;width: 50%;}#sk-container-id-1 div.sk-parallel-item:last-child::after {align-self: flex-start;width: 50%;}#sk-container-id-1 div.sk-parallel-item:only-child::after {width: 0;}#sk-container-id-1 div.sk-dashed-wrapped {border: 1px dashed gray;margin: 0 0.4em 0.5em 0.4em;box-sizing: border-box;padding-bottom: 0.4em;background-color: white;}#sk-container-id-1 div.sk-label label {font-family: monospace;font-weight: bold;display: inline-block;line-height: 1.2em;}#sk-container-id-1 div.sk-label-container {text-align: center;}#sk-container-id-1 div.sk-container {/* jupyter's `normalize.less` sets `[hidden] { display: none; }` but bootstrap.min.css set `[hidden] { display: none !important; }` so we also need the `!important` here to be able to override the default hidden behavior on the sphinx rendered scikit-learn.org. See: https://github.com/scikit-learn/scikit-learn/issues/21755 */display: inline-block !important;position: relative;}#sk-container-id-1 div.sk-text-repr-fallback {display: none;}</style><div id=\"sk-container-id-1\" class=\"sk-top-container\"><div class=\"sk-text-repr-fallback\"><pre>RandomizedSearchCV(cv=5, error_score=&#x27;raise&#x27;,\n                   estimator=DecisionTreeClassifier(), n_iter=30000, n_jobs=2,\n                   param_distributions={&#x27;criterion&#x27;: [&#x27;gini&#x27;, &#x27;entropy&#x27;,\n                                                      &#x27;log_loss&#x27;],\n                                        &#x27;max_depth&#x27;: [2, 3, 5, 10, 15, 20, 30,\n                                                      50, 100, 200, None],\n                                        &#x27;max_features&#x27;: [1, 2, 3, 5, 10, 20, 30,\n                                                         40, 50, 60, 70, 80, 85,\n                                                         90, 95, 100, None],\n                                        &#x27;max_leaf_nodes&#x27;: [2, 5, 10, 20, 30, 50,\n                                                           100, 1000, 2000,\n                                                           None],\n                                        &#x27;min_samples_leaf&#x27;: [1, 2, 3, 5, 10, 20,\n                                                             30, 40, 50, 100],\n                                        &#x27;min_samples_split&#x27;: [1, 2]},\n                   scoring=&#x27;accuracy&#x27;, verbose=3)</pre><b>In a Jupyter environment, please rerun this cell to show the HTML representation or trust the notebook. <br />On GitHub, the HTML representation is unable to render, please try loading this page with nbviewer.org.</b></div><div class=\"sk-container\" hidden><div class=\"sk-item sk-dashed-wrapped\"><div class=\"sk-label-container\"><div class=\"sk-label sk-toggleable\"><input class=\"sk-toggleable__control sk-hidden--visually\" id=\"sk-estimator-id-1\" type=\"checkbox\" ><label for=\"sk-estimator-id-1\" class=\"sk-toggleable__label sk-toggleable__label-arrow\">RandomizedSearchCV</label><div class=\"sk-toggleable__content\"><pre>RandomizedSearchCV(cv=5, error_score=&#x27;raise&#x27;,\n                   estimator=DecisionTreeClassifier(), n_iter=30000, n_jobs=2,\n                   param_distributions={&#x27;criterion&#x27;: [&#x27;gini&#x27;, &#x27;entropy&#x27;,\n                                                      &#x27;log_loss&#x27;],\n                                        &#x27;max_depth&#x27;: [2, 3, 5, 10, 15, 20, 30,\n                                                      50, 100, 200, None],\n                                        &#x27;max_features&#x27;: [1, 2, 3, 5, 10, 20, 30,\n                                                         40, 50, 60, 70, 80, 85,\n                                                         90, 95, 100, None],\n                                        &#x27;max_leaf_nodes&#x27;: [2, 5, 10, 20, 30, 50,\n                                                           100, 1000, 2000,\n                                                           None],\n                                        &#x27;min_samples_leaf&#x27;: [1, 2, 3, 5, 10, 20,\n                                                             30, 40, 50, 100],\n                                        &#x27;min_samples_split&#x27;: [1, 2]},\n                   scoring=&#x27;accuracy&#x27;, verbose=3)</pre></div></div></div><div class=\"sk-parallel\"><div class=\"sk-parallel-item\"><div class=\"sk-item\"><div class=\"sk-label-container\"><div class=\"sk-label sk-toggleable\"><input class=\"sk-toggleable__control sk-hidden--visually\" id=\"sk-estimator-id-2\" type=\"checkbox\" ><label for=\"sk-estimator-id-2\" class=\"sk-toggleable__label sk-toggleable__label-arrow\">estimator: DecisionTreeClassifier</label><div class=\"sk-toggleable__content\"><pre>DecisionTreeClassifier()</pre></div></div></div><div class=\"sk-serial\"><div class=\"sk-item\"><div class=\"sk-estimator sk-toggleable\"><input class=\"sk-toggleable__control sk-hidden--visually\" id=\"sk-estimator-id-3\" type=\"checkbox\" ><label for=\"sk-estimator-id-3\" class=\"sk-toggleable__label sk-toggleable__label-arrow\">DecisionTreeClassifier</label><div class=\"sk-toggleable__content\"><pre>DecisionTreeClassifier()</pre></div></div></div></div></div></div></div></div></div></div>"
     },
     "execution_count": 126,
     "metadata": {},
     "output_type": "execute_result"
    }
   ],
   "source": [
    "random_param = {\n",
    "    'criterion': ['gini', 'entropy', 'log_loss'],\n",
    "    'max_depth': [2, 3, 5, 10, 15, 20, 30, 50, 100, 200, None],\n",
    "    'min_samples_split': [1, 2],\n",
    "    'min_samples_leaf': [1, 2, 3, 5, 10, 20, 30, 40, 50, 100],\n",
    "    'max_features': [1, 2, 3, 5, 10, 20, 30, 40, 50, 60, 70, 80, 85, 90, 95, 100, None],\n",
    "    'max_leaf_nodes': [2, 5, 10, 20, 30, 50, 100, 1000, 2000, None]\n",
    "}\n",
    "\n",
    "clf = DecisionTreeClassifier()\n",
    "rscv = RandomizedSearchCV(estimator=clf, n_iter=30000, param_distributions=random_param, scoring='accuracy', cv=5, n_jobs=2, error_score='raise', verbose=3)\n",
    "rscv.fit(Train.loc[:, ~Train.columns.isin(['Employee_No', 'Marital_Status'])], Train['Marital_Status'])"
   ],
   "metadata": {
    "collapsed": false,
    "ExecuteTime": {
     "start_time": "2023-06-11T21:26:37.015773Z",
     "end_time": "2023-06-11T21:35:58.589348Z"
    }
   }
  },
  {
   "cell_type": "code",
   "execution_count": 127,
   "outputs": [
    {
     "name": "stdout",
     "output_type": "stream",
     "text": [
      "0.8637082976903336\n",
      "{'min_samples_split': 1, 'min_samples_leaf': 10, 'max_leaf_nodes': 30, 'max_features': 60, 'max_depth': 20, 'criterion': 'gini'}\n"
     ]
    }
   ],
   "source": [
    "print(rscv.best_score_)\n",
    "print(rscv.best_params_)"
   ],
   "metadata": {
    "collapsed": false,
    "ExecuteTime": {
     "start_time": "2023-06-11T21:36:35.006205Z",
     "end_time": "2023-06-11T21:36:35.017225Z"
    }
   }
  },
  {
   "cell_type": "markdown",
   "source": [
    "For 'Marital_Status' with using only the employee.csv for inference,\n",
    "The best decision tree params are : {'min_samples_split': 1, 'min_samples_leaf': 10, 'max_leaf_nodes': 30, 'max_features': 60, 'max_depth': 20, 'criterion': 'gini'}\n",
    "The cross-validation accuracy score is: 0.8637082976903336"
   ],
   "metadata": {
    "collapsed": false
   }
  },
  {
   "cell_type": "code",
   "execution_count": 128,
   "outputs": [
    {
     "name": "stdout",
     "output_type": "stream",
     "text": [
      "[0. 0. 0. 1. 0. 1. 1. 1. 0. 0. 0. 0. 0. 0. 0. 0. 0. 1. 1. 0. 0. 0. 0. 1.\n",
      " 0. 1. 1. 1. 0. 0. 1. 1. 0. 1. 1. 1. 0. 0. 0. 0. 1. 1. 1. 1. 0. 0. 1. 0.\n",
      " 0. 0. 0. 0. 0. 1. 1. 0. 0. 1. 0. 0. 0. 0. 1. 1. 1. 1. 0.]\n"
     ]
    },
    {
     "data": {
      "text/plain": "   Employee_No  Marital_Status  Year_of_Birth  Date_Joined_Days  Title_Miss  \\\n0          405             0.0           1984           16229.0         0.0   \n1          415             0.0           1982           16586.0         0.0   \n2          423             0.0           1987           16932.0         0.0   \n3          480             1.0           1989           17352.0         0.0   \n4          508             0.0           1984           17417.0         0.0   \n\n   Title_Mr  Title_Ms  Gender_Female  Gender_Male  Status_Active  ...  \\\n0       1.0       0.0            0.0          1.0            0.0  ...   \n1       1.0       0.0            0.0          1.0            0.0  ...   \n2       1.0       0.0            0.0          1.0            1.0  ...   \n3       1.0       0.0            0.0          1.0            0.0  ...   \n4       1.0       0.0            0.0          1.0            0.0  ...   \n\n   Designation_Trainee Engineer  Designation_Trainee Purchasing Officer  \\\n0                           0.0                                     0.0   \n1                           0.0                                     0.0   \n2                           0.0                                     0.0   \n3                           0.0                                     0.0   \n4                           0.0                                     0.0   \n\n   Designation_Trainee QS  Designation_Trainee Safety Officer  \\\n0                     0.0                                 0.0   \n1                     0.0                                 0.0   \n2                     0.0                                 0.0   \n3                     0.0                                 0.0   \n4                     0.0                                 0.0   \n\n   Designation_Trainee Technical Officer  Designation_Transport Assistant  \\\n0                                    0.0                              0.0   \n1                                    0.0                              0.0   \n2                                    0.0                              0.0   \n3                                    0.0                              0.0   \n4                                    0.0                              0.0   \n\n   Designation_Transport Officer  Designation_Unskilled Labor  \\\n0                            0.0                          0.0   \n1                            0.0                          0.0   \n2                            0.0                          0.0   \n3                            0.0                          0.0   \n4                            0.0                          0.0   \n\n   Designation_Wacher  Designation_Welder  \n0                 0.0                 0.0  \n1                 0.0                 0.0  \n2                 0.0                 0.0  \n3                 0.0                 0.0  \n4                 0.0                 0.0  \n\n[5 rows x 149 columns]",
      "text/html": "<div>\n<style scoped>\n    .dataframe tbody tr th:only-of-type {\n        vertical-align: middle;\n    }\n\n    .dataframe tbody tr th {\n        vertical-align: top;\n    }\n\n    .dataframe thead th {\n        text-align: right;\n    }\n</style>\n<table border=\"1\" class=\"dataframe\">\n  <thead>\n    <tr style=\"text-align: right;\">\n      <th></th>\n      <th>Employee_No</th>\n      <th>Marital_Status</th>\n      <th>Year_of_Birth</th>\n      <th>Date_Joined_Days</th>\n      <th>Title_Miss</th>\n      <th>Title_Mr</th>\n      <th>Title_Ms</th>\n      <th>Gender_Female</th>\n      <th>Gender_Male</th>\n      <th>Status_Active</th>\n      <th>...</th>\n      <th>Designation_Trainee Engineer</th>\n      <th>Designation_Trainee Purchasing Officer</th>\n      <th>Designation_Trainee QS</th>\n      <th>Designation_Trainee Safety Officer</th>\n      <th>Designation_Trainee Technical Officer</th>\n      <th>Designation_Transport Assistant</th>\n      <th>Designation_Transport Officer</th>\n      <th>Designation_Unskilled Labor</th>\n      <th>Designation_Wacher</th>\n      <th>Designation_Welder</th>\n    </tr>\n  </thead>\n  <tbody>\n    <tr>\n      <th>0</th>\n      <td>405</td>\n      <td>0.0</td>\n      <td>1984</td>\n      <td>16229.0</td>\n      <td>0.0</td>\n      <td>1.0</td>\n      <td>0.0</td>\n      <td>0.0</td>\n      <td>1.0</td>\n      <td>0.0</td>\n      <td>...</td>\n      <td>0.0</td>\n      <td>0.0</td>\n      <td>0.0</td>\n      <td>0.0</td>\n      <td>0.0</td>\n      <td>0.0</td>\n      <td>0.0</td>\n      <td>0.0</td>\n      <td>0.0</td>\n      <td>0.0</td>\n    </tr>\n    <tr>\n      <th>1</th>\n      <td>415</td>\n      <td>0.0</td>\n      <td>1982</td>\n      <td>16586.0</td>\n      <td>0.0</td>\n      <td>1.0</td>\n      <td>0.0</td>\n      <td>0.0</td>\n      <td>1.0</td>\n      <td>0.0</td>\n      <td>...</td>\n      <td>0.0</td>\n      <td>0.0</td>\n      <td>0.0</td>\n      <td>0.0</td>\n      <td>0.0</td>\n      <td>0.0</td>\n      <td>0.0</td>\n      <td>0.0</td>\n      <td>0.0</td>\n      <td>0.0</td>\n    </tr>\n    <tr>\n      <th>2</th>\n      <td>423</td>\n      <td>0.0</td>\n      <td>1987</td>\n      <td>16932.0</td>\n      <td>0.0</td>\n      <td>1.0</td>\n      <td>0.0</td>\n      <td>0.0</td>\n      <td>1.0</td>\n      <td>1.0</td>\n      <td>...</td>\n      <td>0.0</td>\n      <td>0.0</td>\n      <td>0.0</td>\n      <td>0.0</td>\n      <td>0.0</td>\n      <td>0.0</td>\n      <td>0.0</td>\n      <td>0.0</td>\n      <td>0.0</td>\n      <td>0.0</td>\n    </tr>\n    <tr>\n      <th>3</th>\n      <td>480</td>\n      <td>1.0</td>\n      <td>1989</td>\n      <td>17352.0</td>\n      <td>0.0</td>\n      <td>1.0</td>\n      <td>0.0</td>\n      <td>0.0</td>\n      <td>1.0</td>\n      <td>0.0</td>\n      <td>...</td>\n      <td>0.0</td>\n      <td>0.0</td>\n      <td>0.0</td>\n      <td>0.0</td>\n      <td>0.0</td>\n      <td>0.0</td>\n      <td>0.0</td>\n      <td>0.0</td>\n      <td>0.0</td>\n      <td>0.0</td>\n    </tr>\n    <tr>\n      <th>4</th>\n      <td>508</td>\n      <td>0.0</td>\n      <td>1984</td>\n      <td>17417.0</td>\n      <td>0.0</td>\n      <td>1.0</td>\n      <td>0.0</td>\n      <td>0.0</td>\n      <td>1.0</td>\n      <td>0.0</td>\n      <td>...</td>\n      <td>0.0</td>\n      <td>0.0</td>\n      <td>0.0</td>\n      <td>0.0</td>\n      <td>0.0</td>\n      <td>0.0</td>\n      <td>0.0</td>\n      <td>0.0</td>\n      <td>0.0</td>\n      <td>0.0</td>\n    </tr>\n  </tbody>\n</table>\n<p>5 rows × 149 columns</p>\n</div>"
     },
     "metadata": {},
     "output_type": "display_data"
    },
    {
     "name": "stdout",
     "output_type": "stream",
     "text": [
      "Employee_No                        0\n",
      "Marital_Status                     0\n",
      "Year_of_Birth                      0\n",
      "Date_Joined_Days                   0\n",
      "Title_Miss                         0\n",
      "                                  ..\n",
      "Designation_Transport Assistant    0\n",
      "Designation_Transport Officer      0\n",
      "Designation_Unskilled Labor        0\n",
      "Designation_Wacher                 0\n",
      "Designation_Welder                 0\n",
      "Length: 149, dtype: int64\n"
     ]
    }
   ],
   "source": [
    "dtc = DecisionTreeClassifier(min_samples_split=1, min_samples_leaf=10, max_leaf_nodes=30, max_features=60, max_depth=20, criterion='gini')\n",
    "dtc.fit(Train.loc[:, ~Train.columns.isin(['Employee_No', 'Marital_Status'])], Train['Marital_Status'])\n",
    "predicted = dtc.predict(Test.loc[:, ~Test.columns.isin(['Employee_No', 'Marital_Status'])])\n",
    "print(predicted)\n",
    "\n",
    "Test['Marital_Status'] = predicted\n",
    "\n",
    "display(Test.head())\n",
    "print(Test.isna().sum())"
   ],
   "metadata": {
    "collapsed": false,
    "ExecuteTime": {
     "start_time": "2023-06-11T21:38:29.165618Z",
     "end_time": "2023-06-11T21:38:29.219322Z"
    }
   }
  },
  {
   "cell_type": "code",
   "execution_count": 129,
   "outputs": [
    {
     "name": "stdout",
     "output_type": "stream",
     "text": [
      "Totally updated:  67\n"
     ]
    },
    {
     "data": {
      "text/plain": "Employee_No                        0\nMarital_Status                     0\nYear_of_Birth                      0\nDate_Joined_Days                   0\nTitle_Miss                         0\n                                  ..\nDesignation_Transport Assistant    0\nDesignation_Transport Officer      0\nDesignation_Unskilled Labor        0\nDesignation_Wacher                 0\nDesignation_Welder                 0\nLength: 149, dtype: int64"
     },
     "metadata": {},
     "output_type": "display_data"
    },
    {
     "data": {
      "text/plain": "   Employee_No  Marital_Status  Year_of_Birth  Date_Joined_Days  Title_Miss  \\\n0          347             0.0           1965            8741.0         0.0   \n1          348             0.0           1973            9202.0         0.0   \n2          349             0.0           1974            6599.0         0.0   \n3          351             0.0           1974           10864.0         0.0   \n4          352             0.0           1980           11347.0         0.0   \n\n   Title_Mr  Title_Ms  Gender_Female  Gender_Male  Status_Active  ...  \\\n0       1.0       0.0            0.0          1.0            1.0  ...   \n1       1.0       0.0            0.0          1.0            1.0  ...   \n2       1.0       0.0            0.0          1.0            0.0  ...   \n3       0.0       1.0            1.0          0.0            0.0  ...   \n4       1.0       0.0            0.0          1.0            1.0  ...   \n\n   Designation_Trainee Engineer  Designation_Trainee Purchasing Officer  \\\n0                           0.0                                     0.0   \n1                           0.0                                     0.0   \n2                           0.0                                     0.0   \n3                           0.0                                     0.0   \n4                           0.0                                     0.0   \n\n   Designation_Trainee QS  Designation_Trainee Safety Officer  \\\n0                     0.0                                 0.0   \n1                     0.0                                 0.0   \n2                     0.0                                 0.0   \n3                     0.0                                 0.0   \n4                     0.0                                 0.0   \n\n   Designation_Trainee Technical Officer  Designation_Transport Assistant  \\\n0                                    0.0                              0.0   \n1                                    0.0                              0.0   \n2                                    0.0                              0.0   \n3                                    0.0                              0.0   \n4                                    0.0                              0.0   \n\n   Designation_Transport Officer  Designation_Unskilled Labor  \\\n0                            0.0                          0.0   \n1                            0.0                          0.0   \n2                            0.0                          0.0   \n3                            0.0                          0.0   \n4                            0.0                          0.0   \n\n   Designation_Wacher  Designation_Welder  \n0                 0.0                 0.0  \n1                 0.0                 0.0  \n2                 0.0                 0.0  \n3                 0.0                 0.0  \n4                 0.0                 0.0  \n\n[5 rows x 149 columns]",
      "text/html": "<div>\n<style scoped>\n    .dataframe tbody tr th:only-of-type {\n        vertical-align: middle;\n    }\n\n    .dataframe tbody tr th {\n        vertical-align: top;\n    }\n\n    .dataframe thead th {\n        text-align: right;\n    }\n</style>\n<table border=\"1\" class=\"dataframe\">\n  <thead>\n    <tr style=\"text-align: right;\">\n      <th></th>\n      <th>Employee_No</th>\n      <th>Marital_Status</th>\n      <th>Year_of_Birth</th>\n      <th>Date_Joined_Days</th>\n      <th>Title_Miss</th>\n      <th>Title_Mr</th>\n      <th>Title_Ms</th>\n      <th>Gender_Female</th>\n      <th>Gender_Male</th>\n      <th>Status_Active</th>\n      <th>...</th>\n      <th>Designation_Trainee Engineer</th>\n      <th>Designation_Trainee Purchasing Officer</th>\n      <th>Designation_Trainee QS</th>\n      <th>Designation_Trainee Safety Officer</th>\n      <th>Designation_Trainee Technical Officer</th>\n      <th>Designation_Transport Assistant</th>\n      <th>Designation_Transport Officer</th>\n      <th>Designation_Unskilled Labor</th>\n      <th>Designation_Wacher</th>\n      <th>Designation_Welder</th>\n    </tr>\n  </thead>\n  <tbody>\n    <tr>\n      <th>0</th>\n      <td>347</td>\n      <td>0.0</td>\n      <td>1965</td>\n      <td>8741.0</td>\n      <td>0.0</td>\n      <td>1.0</td>\n      <td>0.0</td>\n      <td>0.0</td>\n      <td>1.0</td>\n      <td>1.0</td>\n      <td>...</td>\n      <td>0.0</td>\n      <td>0.0</td>\n      <td>0.0</td>\n      <td>0.0</td>\n      <td>0.0</td>\n      <td>0.0</td>\n      <td>0.0</td>\n      <td>0.0</td>\n      <td>0.0</td>\n      <td>0.0</td>\n    </tr>\n    <tr>\n      <th>1</th>\n      <td>348</td>\n      <td>0.0</td>\n      <td>1973</td>\n      <td>9202.0</td>\n      <td>0.0</td>\n      <td>1.0</td>\n      <td>0.0</td>\n      <td>0.0</td>\n      <td>1.0</td>\n      <td>1.0</td>\n      <td>...</td>\n      <td>0.0</td>\n      <td>0.0</td>\n      <td>0.0</td>\n      <td>0.0</td>\n      <td>0.0</td>\n      <td>0.0</td>\n      <td>0.0</td>\n      <td>0.0</td>\n      <td>0.0</td>\n      <td>0.0</td>\n    </tr>\n    <tr>\n      <th>2</th>\n      <td>349</td>\n      <td>0.0</td>\n      <td>1974</td>\n      <td>6599.0</td>\n      <td>0.0</td>\n      <td>1.0</td>\n      <td>0.0</td>\n      <td>0.0</td>\n      <td>1.0</td>\n      <td>0.0</td>\n      <td>...</td>\n      <td>0.0</td>\n      <td>0.0</td>\n      <td>0.0</td>\n      <td>0.0</td>\n      <td>0.0</td>\n      <td>0.0</td>\n      <td>0.0</td>\n      <td>0.0</td>\n      <td>0.0</td>\n      <td>0.0</td>\n    </tr>\n    <tr>\n      <th>3</th>\n      <td>351</td>\n      <td>0.0</td>\n      <td>1974</td>\n      <td>10864.0</td>\n      <td>0.0</td>\n      <td>0.0</td>\n      <td>1.0</td>\n      <td>1.0</td>\n      <td>0.0</td>\n      <td>0.0</td>\n      <td>...</td>\n      <td>0.0</td>\n      <td>0.0</td>\n      <td>0.0</td>\n      <td>0.0</td>\n      <td>0.0</td>\n      <td>0.0</td>\n      <td>0.0</td>\n      <td>0.0</td>\n      <td>0.0</td>\n      <td>0.0</td>\n    </tr>\n    <tr>\n      <th>4</th>\n      <td>352</td>\n      <td>0.0</td>\n      <td>1980</td>\n      <td>11347.0</td>\n      <td>0.0</td>\n      <td>1.0</td>\n      <td>0.0</td>\n      <td>0.0</td>\n      <td>1.0</td>\n      <td>1.0</td>\n      <td>...</td>\n      <td>0.0</td>\n      <td>0.0</td>\n      <td>0.0</td>\n      <td>0.0</td>\n      <td>0.0</td>\n      <td>0.0</td>\n      <td>0.0</td>\n      <td>0.0</td>\n      <td>0.0</td>\n      <td>0.0</td>\n    </tr>\n  </tbody>\n</table>\n<p>5 rows × 149 columns</p>\n</div>"
     },
     "metadata": {},
     "output_type": "display_data"
    },
    {
     "name": "stdout",
     "output_type": "stream",
     "text": [
      "(997, 149)\n"
     ]
    }
   ],
   "source": [
    "count = 0\n",
    "for index, row in Test.iterrows():\n",
    "    series = final.loc[final['Employee_No'] == row['Employee_No'], 'Marital_Status']\n",
    "    if series.size == 1:\n",
    "        final.loc[final['Employee_No'] == row['Employee_No'], 'Marital_Status'] = row['Marital_Status']\n",
    "        count = count + 1\n",
    "\n",
    "print('Totally updated: ', str(count))\n",
    "display(final.isna().sum())\n",
    "display(final.head())\n",
    "print(final.shape)"
   ],
   "metadata": {
    "collapsed": false,
    "ExecuteTime": {
     "start_time": "2023-06-11T21:38:42.106874Z",
     "end_time": "2023-06-11T21:38:42.158183Z"
    }
   }
  },
  {
   "cell_type": "markdown",
   "source": [
    "# Imputing 'Year_of_Birth' in employee.csv"
   ],
   "metadata": {
    "collapsed": false
   }
  },
  {
   "cell_type": "code",
   "execution_count": 130,
   "outputs": [
    {
     "name": "stdout",
     "output_type": "stream",
     "text": [
      "103\n",
      "1946\n",
      "2006\n",
      "59\n"
     ]
    }
   ],
   "source": [
    "print((final['Year_of_Birth'] == 0).sum())\n",
    "print((final[final['Year_of_Birth'] > 0])['Year_of_Birth'].min())\n",
    "print(final['Year_of_Birth'].max())\n",
    "print(final['Year_of_Birth'].nunique() - 1)"
   ],
   "metadata": {
    "collapsed": false,
    "ExecuteTime": {
     "start_time": "2023-06-11T21:38:44.676945Z",
     "end_time": "2023-06-11T21:38:44.703292Z"
    }
   }
  },
  {
   "cell_type": "code",
   "execution_count": 131,
   "outputs": [
    {
     "data": {
      "text/plain": "Employee_No                          int64\nMarital_Status                     float64\nYear_of_Birth                      float64\nDate_Joined_Days                   float64\nTitle_Miss                         float64\n                                    ...   \nDesignation_Transport Assistant    float64\nDesignation_Transport Officer      float64\nDesignation_Unskilled Labor        float64\nDesignation_Wacher                 float64\nDesignation_Welder                 float64\nLength: 149, dtype: object"
     },
     "execution_count": 131,
     "metadata": {},
     "output_type": "execute_result"
    }
   ],
   "source": [
    "final['Year_of_Birth'] = final['Year_of_Birth'].astype('float64')\n",
    "final.dtypes"
   ],
   "metadata": {
    "collapsed": false,
    "ExecuteTime": {
     "start_time": "2023-06-11T21:38:45.904268Z",
     "end_time": "2023-06-11T21:38:45.923444Z"
    }
   }
  },
  {
   "cell_type": "markdown",
   "source": [
    "# Decision Tree Regression"
   ],
   "metadata": {
    "collapsed": false
   }
  },
  {
   "cell_type": "code",
   "execution_count": 132,
   "outputs": [
    {
     "name": "stdout",
     "output_type": "stream",
     "text": [
      "(894, 149)\n",
      "(103, 149)\n"
     ]
    },
    {
     "data": {
      "text/plain": "   Employee_No  Marital_Status  Year_of_Birth  Date_Joined_Days  Title_Miss  \\\n0          405             0.0            0.0           16229.0         0.0   \n1          411             0.0            0.0           16552.0         0.0   \n2          455             1.0            0.0           17251.0         0.0   \n3          456             0.0            0.0           17896.0         0.0   \n4          461             0.0            0.0           17896.0         0.0   \n\n   Title_Mr  Title_Ms  Gender_Female  Gender_Male  Status_Active  ...  \\\n0       1.0       0.0            0.0          1.0            0.0  ...   \n1       1.0       0.0            0.0          1.0            1.0  ...   \n2       1.0       0.0            0.0          1.0            0.0  ...   \n3       1.0       0.0            0.0          1.0            0.0  ...   \n4       1.0       0.0            0.0          1.0            0.0  ...   \n\n   Designation_Trainee Engineer  Designation_Trainee Purchasing Officer  \\\n0                           0.0                                     0.0   \n1                           0.0                                     0.0   \n2                           0.0                                     0.0   \n3                           0.0                                     0.0   \n4                           0.0                                     0.0   \n\n   Designation_Trainee QS  Designation_Trainee Safety Officer  \\\n0                     0.0                                 0.0   \n1                     0.0                                 0.0   \n2                     0.0                                 0.0   \n3                     0.0                                 0.0   \n4                     0.0                                 0.0   \n\n   Designation_Trainee Technical Officer  Designation_Transport Assistant  \\\n0                                    0.0                              0.0   \n1                                    0.0                              0.0   \n2                                    0.0                              0.0   \n3                                    0.0                              0.0   \n4                                    0.0                              0.0   \n\n   Designation_Transport Officer  Designation_Unskilled Labor  \\\n0                            0.0                          0.0   \n1                            0.0                          0.0   \n2                            0.0                          0.0   \n3                            0.0                          0.0   \n4                            0.0                          0.0   \n\n   Designation_Wacher  Designation_Welder  \n0                 0.0                 0.0  \n1                 0.0                 0.0  \n2                 0.0                 0.0  \n3                 0.0                 0.0  \n4                 0.0                 0.0  \n\n[5 rows x 149 columns]",
      "text/html": "<div>\n<style scoped>\n    .dataframe tbody tr th:only-of-type {\n        vertical-align: middle;\n    }\n\n    .dataframe tbody tr th {\n        vertical-align: top;\n    }\n\n    .dataframe thead th {\n        text-align: right;\n    }\n</style>\n<table border=\"1\" class=\"dataframe\">\n  <thead>\n    <tr style=\"text-align: right;\">\n      <th></th>\n      <th>Employee_No</th>\n      <th>Marital_Status</th>\n      <th>Year_of_Birth</th>\n      <th>Date_Joined_Days</th>\n      <th>Title_Miss</th>\n      <th>Title_Mr</th>\n      <th>Title_Ms</th>\n      <th>Gender_Female</th>\n      <th>Gender_Male</th>\n      <th>Status_Active</th>\n      <th>...</th>\n      <th>Designation_Trainee Engineer</th>\n      <th>Designation_Trainee Purchasing Officer</th>\n      <th>Designation_Trainee QS</th>\n      <th>Designation_Trainee Safety Officer</th>\n      <th>Designation_Trainee Technical Officer</th>\n      <th>Designation_Transport Assistant</th>\n      <th>Designation_Transport Officer</th>\n      <th>Designation_Unskilled Labor</th>\n      <th>Designation_Wacher</th>\n      <th>Designation_Welder</th>\n    </tr>\n  </thead>\n  <tbody>\n    <tr>\n      <th>0</th>\n      <td>405</td>\n      <td>0.0</td>\n      <td>0.0</td>\n      <td>16229.0</td>\n      <td>0.0</td>\n      <td>1.0</td>\n      <td>0.0</td>\n      <td>0.0</td>\n      <td>1.0</td>\n      <td>0.0</td>\n      <td>...</td>\n      <td>0.0</td>\n      <td>0.0</td>\n      <td>0.0</td>\n      <td>0.0</td>\n      <td>0.0</td>\n      <td>0.0</td>\n      <td>0.0</td>\n      <td>0.0</td>\n      <td>0.0</td>\n      <td>0.0</td>\n    </tr>\n    <tr>\n      <th>1</th>\n      <td>411</td>\n      <td>0.0</td>\n      <td>0.0</td>\n      <td>16552.0</td>\n      <td>0.0</td>\n      <td>1.0</td>\n      <td>0.0</td>\n      <td>0.0</td>\n      <td>1.0</td>\n      <td>1.0</td>\n      <td>...</td>\n      <td>0.0</td>\n      <td>0.0</td>\n      <td>0.0</td>\n      <td>0.0</td>\n      <td>0.0</td>\n      <td>0.0</td>\n      <td>0.0</td>\n      <td>0.0</td>\n      <td>0.0</td>\n      <td>0.0</td>\n    </tr>\n    <tr>\n      <th>2</th>\n      <td>455</td>\n      <td>1.0</td>\n      <td>0.0</td>\n      <td>17251.0</td>\n      <td>0.0</td>\n      <td>1.0</td>\n      <td>0.0</td>\n      <td>0.0</td>\n      <td>1.0</td>\n      <td>0.0</td>\n      <td>...</td>\n      <td>0.0</td>\n      <td>0.0</td>\n      <td>0.0</td>\n      <td>0.0</td>\n      <td>0.0</td>\n      <td>0.0</td>\n      <td>0.0</td>\n      <td>0.0</td>\n      <td>0.0</td>\n      <td>0.0</td>\n    </tr>\n    <tr>\n      <th>3</th>\n      <td>456</td>\n      <td>0.0</td>\n      <td>0.0</td>\n      <td>17896.0</td>\n      <td>0.0</td>\n      <td>1.0</td>\n      <td>0.0</td>\n      <td>0.0</td>\n      <td>1.0</td>\n      <td>0.0</td>\n      <td>...</td>\n      <td>0.0</td>\n      <td>0.0</td>\n      <td>0.0</td>\n      <td>0.0</td>\n      <td>0.0</td>\n      <td>0.0</td>\n      <td>0.0</td>\n      <td>0.0</td>\n      <td>0.0</td>\n      <td>0.0</td>\n    </tr>\n    <tr>\n      <th>4</th>\n      <td>461</td>\n      <td>0.0</td>\n      <td>0.0</td>\n      <td>17896.0</td>\n      <td>0.0</td>\n      <td>1.0</td>\n      <td>0.0</td>\n      <td>0.0</td>\n      <td>1.0</td>\n      <td>0.0</td>\n      <td>...</td>\n      <td>0.0</td>\n      <td>0.0</td>\n      <td>0.0</td>\n      <td>0.0</td>\n      <td>0.0</td>\n      <td>0.0</td>\n      <td>0.0</td>\n      <td>0.0</td>\n      <td>0.0</td>\n      <td>0.0</td>\n    </tr>\n  </tbody>\n</table>\n<p>5 rows × 149 columns</p>\n</div>"
     },
     "metadata": {},
     "output_type": "display_data"
    },
    {
     "data": {
      "text/plain": "   Employee_No  Marital_Status  Year_of_Birth  Date_Joined_Days  Title_Miss  \\\n0          347             0.0         1965.0            8741.0         0.0   \n1          348             0.0         1973.0            9202.0         0.0   \n2          349             0.0         1974.0            6599.0         0.0   \n3          351             0.0         1974.0           10864.0         0.0   \n4          352             0.0         1980.0           11347.0         0.0   \n\n   Title_Mr  Title_Ms  Gender_Female  Gender_Male  Status_Active  ...  \\\n0       1.0       0.0            0.0          1.0            1.0  ...   \n1       1.0       0.0            0.0          1.0            1.0  ...   \n2       1.0       0.0            0.0          1.0            0.0  ...   \n3       0.0       1.0            1.0          0.0            0.0  ...   \n4       1.0       0.0            0.0          1.0            1.0  ...   \n\n   Designation_Trainee Engineer  Designation_Trainee Purchasing Officer  \\\n0                           0.0                                     0.0   \n1                           0.0                                     0.0   \n2                           0.0                                     0.0   \n3                           0.0                                     0.0   \n4                           0.0                                     0.0   \n\n   Designation_Trainee QS  Designation_Trainee Safety Officer  \\\n0                     0.0                                 0.0   \n1                     0.0                                 0.0   \n2                     0.0                                 0.0   \n3                     0.0                                 0.0   \n4                     0.0                                 0.0   \n\n   Designation_Trainee Technical Officer  Designation_Transport Assistant  \\\n0                                    0.0                              0.0   \n1                                    0.0                              0.0   \n2                                    0.0                              0.0   \n3                                    0.0                              0.0   \n4                                    0.0                              0.0   \n\n   Designation_Transport Officer  Designation_Unskilled Labor  \\\n0                            0.0                          0.0   \n1                            0.0                          0.0   \n2                            0.0                          0.0   \n3                            0.0                          0.0   \n4                            0.0                          0.0   \n\n   Designation_Wacher  Designation_Welder  \n0                 0.0                 0.0  \n1                 0.0                 0.0  \n2                 0.0                 0.0  \n3                 0.0                 0.0  \n4                 0.0                 0.0  \n\n[5 rows x 149 columns]",
      "text/html": "<div>\n<style scoped>\n    .dataframe tbody tr th:only-of-type {\n        vertical-align: middle;\n    }\n\n    .dataframe tbody tr th {\n        vertical-align: top;\n    }\n\n    .dataframe thead th {\n        text-align: right;\n    }\n</style>\n<table border=\"1\" class=\"dataframe\">\n  <thead>\n    <tr style=\"text-align: right;\">\n      <th></th>\n      <th>Employee_No</th>\n      <th>Marital_Status</th>\n      <th>Year_of_Birth</th>\n      <th>Date_Joined_Days</th>\n      <th>Title_Miss</th>\n      <th>Title_Mr</th>\n      <th>Title_Ms</th>\n      <th>Gender_Female</th>\n      <th>Gender_Male</th>\n      <th>Status_Active</th>\n      <th>...</th>\n      <th>Designation_Trainee Engineer</th>\n      <th>Designation_Trainee Purchasing Officer</th>\n      <th>Designation_Trainee QS</th>\n      <th>Designation_Trainee Safety Officer</th>\n      <th>Designation_Trainee Technical Officer</th>\n      <th>Designation_Transport Assistant</th>\n      <th>Designation_Transport Officer</th>\n      <th>Designation_Unskilled Labor</th>\n      <th>Designation_Wacher</th>\n      <th>Designation_Welder</th>\n    </tr>\n  </thead>\n  <tbody>\n    <tr>\n      <th>0</th>\n      <td>347</td>\n      <td>0.0</td>\n      <td>1965.0</td>\n      <td>8741.0</td>\n      <td>0.0</td>\n      <td>1.0</td>\n      <td>0.0</td>\n      <td>0.0</td>\n      <td>1.0</td>\n      <td>1.0</td>\n      <td>...</td>\n      <td>0.0</td>\n      <td>0.0</td>\n      <td>0.0</td>\n      <td>0.0</td>\n      <td>0.0</td>\n      <td>0.0</td>\n      <td>0.0</td>\n      <td>0.0</td>\n      <td>0.0</td>\n      <td>0.0</td>\n    </tr>\n    <tr>\n      <th>1</th>\n      <td>348</td>\n      <td>0.0</td>\n      <td>1973.0</td>\n      <td>9202.0</td>\n      <td>0.0</td>\n      <td>1.0</td>\n      <td>0.0</td>\n      <td>0.0</td>\n      <td>1.0</td>\n      <td>1.0</td>\n      <td>...</td>\n      <td>0.0</td>\n      <td>0.0</td>\n      <td>0.0</td>\n      <td>0.0</td>\n      <td>0.0</td>\n      <td>0.0</td>\n      <td>0.0</td>\n      <td>0.0</td>\n      <td>0.0</td>\n      <td>0.0</td>\n    </tr>\n    <tr>\n      <th>2</th>\n      <td>349</td>\n      <td>0.0</td>\n      <td>1974.0</td>\n      <td>6599.0</td>\n      <td>0.0</td>\n      <td>1.0</td>\n      <td>0.0</td>\n      <td>0.0</td>\n      <td>1.0</td>\n      <td>0.0</td>\n      <td>...</td>\n      <td>0.0</td>\n      <td>0.0</td>\n      <td>0.0</td>\n      <td>0.0</td>\n      <td>0.0</td>\n      <td>0.0</td>\n      <td>0.0</td>\n      <td>0.0</td>\n      <td>0.0</td>\n      <td>0.0</td>\n    </tr>\n    <tr>\n      <th>3</th>\n      <td>351</td>\n      <td>0.0</td>\n      <td>1974.0</td>\n      <td>10864.0</td>\n      <td>0.0</td>\n      <td>0.0</td>\n      <td>1.0</td>\n      <td>1.0</td>\n      <td>0.0</td>\n      <td>0.0</td>\n      <td>...</td>\n      <td>0.0</td>\n      <td>0.0</td>\n      <td>0.0</td>\n      <td>0.0</td>\n      <td>0.0</td>\n      <td>0.0</td>\n      <td>0.0</td>\n      <td>0.0</td>\n      <td>0.0</td>\n      <td>0.0</td>\n    </tr>\n    <tr>\n      <th>4</th>\n      <td>352</td>\n      <td>0.0</td>\n      <td>1980.0</td>\n      <td>11347.0</td>\n      <td>0.0</td>\n      <td>1.0</td>\n      <td>0.0</td>\n      <td>0.0</td>\n      <td>1.0</td>\n      <td>1.0</td>\n      <td>...</td>\n      <td>0.0</td>\n      <td>0.0</td>\n      <td>0.0</td>\n      <td>0.0</td>\n      <td>0.0</td>\n      <td>0.0</td>\n      <td>0.0</td>\n      <td>0.0</td>\n      <td>0.0</td>\n      <td>0.0</td>\n    </tr>\n  </tbody>\n</table>\n<p>5 rows × 149 columns</p>\n</div>"
     },
     "metadata": {},
     "output_type": "display_data"
    }
   ],
   "source": [
    "Train = final[final['Year_of_Birth'] > 0]\n",
    "print(Train.shape)\n",
    "Train = Train.reset_index(drop=True)\n",
    "\n",
    "Test = final[final['Year_of_Birth'] <= 0]\n",
    "print(Test.shape)\n",
    "Test = Test.reset_index(drop=True)\n",
    "\n",
    "display(Test.head())\n",
    "display(Train.head())"
   ],
   "metadata": {
    "collapsed": false,
    "ExecuteTime": {
     "start_time": "2023-06-11T21:38:48.233653Z",
     "end_time": "2023-06-11T21:38:48.294862Z"
    }
   }
  },
  {
   "cell_type": "code",
   "execution_count": 133,
   "outputs": [
    {
     "name": "stdout",
     "output_type": "stream",
     "text": [
      "['accuracy', 'adjusted_mutual_info_score', 'adjusted_rand_score', 'average_precision', 'balanced_accuracy', 'completeness_score', 'explained_variance', 'f1', 'f1_macro', 'f1_micro', 'f1_samples', 'f1_weighted', 'fowlkes_mallows_score', 'homogeneity_score', 'jaccard', 'jaccard_macro', 'jaccard_micro', 'jaccard_samples', 'jaccard_weighted', 'matthews_corrcoef', 'max_error', 'mutual_info_score', 'neg_brier_score', 'neg_log_loss', 'neg_mean_absolute_error', 'neg_mean_absolute_percentage_error', 'neg_mean_gamma_deviance', 'neg_mean_poisson_deviance', 'neg_mean_squared_error', 'neg_mean_squared_log_error', 'neg_median_absolute_error', 'neg_negative_likelihood_ratio', 'neg_root_mean_squared_error', 'normalized_mutual_info_score', 'positive_likelihood_ratio', 'precision', 'precision_macro', 'precision_micro', 'precision_samples', 'precision_weighted', 'r2', 'rand_score', 'recall', 'recall_macro', 'recall_micro', 'recall_samples', 'recall_weighted', 'roc_auc', 'roc_auc_ovo', 'roc_auc_ovo_weighted', 'roc_auc_ovr', 'roc_auc_ovr_weighted', 'top_k_accuracy', 'v_measure_score']\n"
     ]
    }
   ],
   "source": [
    "print(metrics.get_scorer_names())"
   ],
   "metadata": {
    "collapsed": false,
    "ExecuteTime": {
     "start_time": "2023-06-11T21:38:49.831416Z",
     "end_time": "2023-06-11T21:38:49.853810Z"
    }
   }
  },
  {
   "cell_type": "code",
   "execution_count": 134,
   "outputs": [
    {
     "name": "stdout",
     "output_type": "stream",
     "text": [
      "Fitting 5 folds for each of 30000 candidates, totalling 150000 fits\n"
     ]
    },
    {
     "data": {
      "text/plain": "RandomizedSearchCV(cv=5, error_score='raise', estimator=DecisionTreeRegressor(),\n                   n_iter=30000, n_jobs=-1,\n                   param_distributions={'criterion': ['squared_error',\n                                                      'friedman_mse',\n                                                      'absolute_error',\n                                                      'poisson'],\n                                        'max_depth': [2, 3, 5, 10, 15, 20, 30,\n                                                      50, 100, 200, None],\n                                        'max_features': [1, 2, 3, 5, 10, 20, 30,\n                                                         40, 50, 60, 70, 80, 90,\n                                                         100, None],\n                                        'max_leaf_nodes': [2, 5, 10, 20, 30, 50,\n                                                           100, 1000, 2000,\n                                                           None],\n                                        'min_samples_leaf': [1, 2, 3, 5, 10, 20,\n                                                             30, 40, 50, 100],\n                                        'min_samples_split': [1, 2, 3, 4]},\n                   scoring='neg_root_mean_squared_error', verbose=3)",
      "text/html": "<style>#sk-container-id-2 {color: black;background-color: white;}#sk-container-id-2 pre{padding: 0;}#sk-container-id-2 div.sk-toggleable {background-color: white;}#sk-container-id-2 label.sk-toggleable__label {cursor: pointer;display: block;width: 100%;margin-bottom: 0;padding: 0.3em;box-sizing: border-box;text-align: center;}#sk-container-id-2 label.sk-toggleable__label-arrow:before {content: \"▸\";float: left;margin-right: 0.25em;color: #696969;}#sk-container-id-2 label.sk-toggleable__label-arrow:hover:before {color: black;}#sk-container-id-2 div.sk-estimator:hover label.sk-toggleable__label-arrow:before {color: black;}#sk-container-id-2 div.sk-toggleable__content {max-height: 0;max-width: 0;overflow: hidden;text-align: left;background-color: #f0f8ff;}#sk-container-id-2 div.sk-toggleable__content pre {margin: 0.2em;color: black;border-radius: 0.25em;background-color: #f0f8ff;}#sk-container-id-2 input.sk-toggleable__control:checked~div.sk-toggleable__content {max-height: 200px;max-width: 100%;overflow: auto;}#sk-container-id-2 input.sk-toggleable__control:checked~label.sk-toggleable__label-arrow:before {content: \"▾\";}#sk-container-id-2 div.sk-estimator input.sk-toggleable__control:checked~label.sk-toggleable__label {background-color: #d4ebff;}#sk-container-id-2 div.sk-label input.sk-toggleable__control:checked~label.sk-toggleable__label {background-color: #d4ebff;}#sk-container-id-2 input.sk-hidden--visually {border: 0;clip: rect(1px 1px 1px 1px);clip: rect(1px, 1px, 1px, 1px);height: 1px;margin: -1px;overflow: hidden;padding: 0;position: absolute;width: 1px;}#sk-container-id-2 div.sk-estimator {font-family: monospace;background-color: #f0f8ff;border: 1px dotted black;border-radius: 0.25em;box-sizing: border-box;margin-bottom: 0.5em;}#sk-container-id-2 div.sk-estimator:hover {background-color: #d4ebff;}#sk-container-id-2 div.sk-parallel-item::after {content: \"\";width: 100%;border-bottom: 1px solid gray;flex-grow: 1;}#sk-container-id-2 div.sk-label:hover label.sk-toggleable__label {background-color: #d4ebff;}#sk-container-id-2 div.sk-serial::before {content: \"\";position: absolute;border-left: 1px solid gray;box-sizing: border-box;top: 0;bottom: 0;left: 50%;z-index: 0;}#sk-container-id-2 div.sk-serial {display: flex;flex-direction: column;align-items: center;background-color: white;padding-right: 0.2em;padding-left: 0.2em;position: relative;}#sk-container-id-2 div.sk-item {position: relative;z-index: 1;}#sk-container-id-2 div.sk-parallel {display: flex;align-items: stretch;justify-content: center;background-color: white;position: relative;}#sk-container-id-2 div.sk-item::before, #sk-container-id-2 div.sk-parallel-item::before {content: \"\";position: absolute;border-left: 1px solid gray;box-sizing: border-box;top: 0;bottom: 0;left: 50%;z-index: -1;}#sk-container-id-2 div.sk-parallel-item {display: flex;flex-direction: column;z-index: 1;position: relative;background-color: white;}#sk-container-id-2 div.sk-parallel-item:first-child::after {align-self: flex-end;width: 50%;}#sk-container-id-2 div.sk-parallel-item:last-child::after {align-self: flex-start;width: 50%;}#sk-container-id-2 div.sk-parallel-item:only-child::after {width: 0;}#sk-container-id-2 div.sk-dashed-wrapped {border: 1px dashed gray;margin: 0 0.4em 0.5em 0.4em;box-sizing: border-box;padding-bottom: 0.4em;background-color: white;}#sk-container-id-2 div.sk-label label {font-family: monospace;font-weight: bold;display: inline-block;line-height: 1.2em;}#sk-container-id-2 div.sk-label-container {text-align: center;}#sk-container-id-2 div.sk-container {/* jupyter's `normalize.less` sets `[hidden] { display: none; }` but bootstrap.min.css set `[hidden] { display: none !important; }` so we also need the `!important` here to be able to override the default hidden behavior on the sphinx rendered scikit-learn.org. See: https://github.com/scikit-learn/scikit-learn/issues/21755 */display: inline-block !important;position: relative;}#sk-container-id-2 div.sk-text-repr-fallback {display: none;}</style><div id=\"sk-container-id-2\" class=\"sk-top-container\"><div class=\"sk-text-repr-fallback\"><pre>RandomizedSearchCV(cv=5, error_score=&#x27;raise&#x27;, estimator=DecisionTreeRegressor(),\n                   n_iter=30000, n_jobs=-1,\n                   param_distributions={&#x27;criterion&#x27;: [&#x27;squared_error&#x27;,\n                                                      &#x27;friedman_mse&#x27;,\n                                                      &#x27;absolute_error&#x27;,\n                                                      &#x27;poisson&#x27;],\n                                        &#x27;max_depth&#x27;: [2, 3, 5, 10, 15, 20, 30,\n                                                      50, 100, 200, None],\n                                        &#x27;max_features&#x27;: [1, 2, 3, 5, 10, 20, 30,\n                                                         40, 50, 60, 70, 80, 90,\n                                                         100, None],\n                                        &#x27;max_leaf_nodes&#x27;: [2, 5, 10, 20, 30, 50,\n                                                           100, 1000, 2000,\n                                                           None],\n                                        &#x27;min_samples_leaf&#x27;: [1, 2, 3, 5, 10, 20,\n                                                             30, 40, 50, 100],\n                                        &#x27;min_samples_split&#x27;: [1, 2, 3, 4]},\n                   scoring=&#x27;neg_root_mean_squared_error&#x27;, verbose=3)</pre><b>In a Jupyter environment, please rerun this cell to show the HTML representation or trust the notebook. <br />On GitHub, the HTML representation is unable to render, please try loading this page with nbviewer.org.</b></div><div class=\"sk-container\" hidden><div class=\"sk-item sk-dashed-wrapped\"><div class=\"sk-label-container\"><div class=\"sk-label sk-toggleable\"><input class=\"sk-toggleable__control sk-hidden--visually\" id=\"sk-estimator-id-4\" type=\"checkbox\" ><label for=\"sk-estimator-id-4\" class=\"sk-toggleable__label sk-toggleable__label-arrow\">RandomizedSearchCV</label><div class=\"sk-toggleable__content\"><pre>RandomizedSearchCV(cv=5, error_score=&#x27;raise&#x27;, estimator=DecisionTreeRegressor(),\n                   n_iter=30000, n_jobs=-1,\n                   param_distributions={&#x27;criterion&#x27;: [&#x27;squared_error&#x27;,\n                                                      &#x27;friedman_mse&#x27;,\n                                                      &#x27;absolute_error&#x27;,\n                                                      &#x27;poisson&#x27;],\n                                        &#x27;max_depth&#x27;: [2, 3, 5, 10, 15, 20, 30,\n                                                      50, 100, 200, None],\n                                        &#x27;max_features&#x27;: [1, 2, 3, 5, 10, 20, 30,\n                                                         40, 50, 60, 70, 80, 90,\n                                                         100, None],\n                                        &#x27;max_leaf_nodes&#x27;: [2, 5, 10, 20, 30, 50,\n                                                           100, 1000, 2000,\n                                                           None],\n                                        &#x27;min_samples_leaf&#x27;: [1, 2, 3, 5, 10, 20,\n                                                             30, 40, 50, 100],\n                                        &#x27;min_samples_split&#x27;: [1, 2, 3, 4]},\n                   scoring=&#x27;neg_root_mean_squared_error&#x27;, verbose=3)</pre></div></div></div><div class=\"sk-parallel\"><div class=\"sk-parallel-item\"><div class=\"sk-item\"><div class=\"sk-label-container\"><div class=\"sk-label sk-toggleable\"><input class=\"sk-toggleable__control sk-hidden--visually\" id=\"sk-estimator-id-5\" type=\"checkbox\" ><label for=\"sk-estimator-id-5\" class=\"sk-toggleable__label sk-toggleable__label-arrow\">estimator: DecisionTreeRegressor</label><div class=\"sk-toggleable__content\"><pre>DecisionTreeRegressor()</pre></div></div></div><div class=\"sk-serial\"><div class=\"sk-item\"><div class=\"sk-estimator sk-toggleable\"><input class=\"sk-toggleable__control sk-hidden--visually\" id=\"sk-estimator-id-6\" type=\"checkbox\" ><label for=\"sk-estimator-id-6\" class=\"sk-toggleable__label sk-toggleable__label-arrow\">DecisionTreeRegressor</label><div class=\"sk-toggleable__content\"><pre>DecisionTreeRegressor()</pre></div></div></div></div></div></div></div></div></div></div>"
     },
     "execution_count": 134,
     "metadata": {},
     "output_type": "execute_result"
    }
   ],
   "source": [
    "random_param = {\n",
    "    'criterion': ['squared_error', 'friedman_mse', 'absolute_error', 'poisson'],\n",
    "    'max_depth': [2, 3, 5, 10, 15, 20, 30, 50, 100, 200, None],\n",
    "    'min_samples_split': [1, 2, 3, 4],\n",
    "    'min_samples_leaf': [1, 2, 3, 5, 10, 20, 30, 40, 50, 100],\n",
    "    'max_features': [1, 2, 3, 5, 10, 20, 30, 40, 50, 60, 70, 80, 90, 100, None],\n",
    "    'max_leaf_nodes': [2, 5, 10, 20, 30, 50, 100, 1000, 2000, None]\n",
    "}\n",
    "\n",
    "reg = DecisionTreeRegressor()\n",
    "rscv = RandomizedSearchCV(estimator=reg, n_iter=30000, param_distributions=random_param, scoring='neg_root_mean_squared_error', cv=5, n_jobs=-1, error_score='raise', verbose=3)\n",
    "rscv.fit(Train.loc[:, ~Train.columns.isin(['Employee_No', 'Year_of_Birth'])], Train['Year_of_Birth'])"
   ],
   "metadata": {
    "collapsed": false,
    "ExecuteTime": {
     "start_time": "2023-06-11T21:39:11.466222Z",
     "end_time": "2023-06-11T21:47:56.900593Z"
    }
   }
  },
  {
   "cell_type": "code",
   "execution_count": 135,
   "outputs": [
    {
     "name": "stdout",
     "output_type": "stream",
     "text": [
      "-10.16914022430108\n",
      "{'min_samples_split': 2, 'min_samples_leaf': 2, 'max_leaf_nodes': None, 'max_features': 70, 'max_depth': 5, 'criterion': 'squared_error'}\n"
     ]
    }
   ],
   "source": [
    "print(rscv.best_score_)\n",
    "print(rscv.best_params_)"
   ],
   "metadata": {
    "collapsed": false,
    "ExecuteTime": {
     "start_time": "2023-06-11T21:57:30.202962Z",
     "end_time": "2023-06-11T21:57:30.226012Z"
    }
   }
  },
  {
   "cell_type": "markdown",
   "source": [
    "-10.16914022430108\n",
    "{'min_samples_split': 2, 'min_samples_leaf': 2, 'max_leaf_nodes': None, 'max_features': 70, 'max_depth': 5, 'criterion': 'squared_error'}"
   ],
   "metadata": {
    "collapsed": false
   }
  },
  {
   "cell_type": "code",
   "execution_count": 136,
   "outputs": [
    {
     "name": "stdout",
     "output_type": "stream",
     "text": [
      "[1980.15425532 1980.15425532 1992.68918919 1979.42307692 1979.42307692\n",
      " 1983.74074074 1979.42307692 1980.15425532 1979.42307692 1979.42307692\n",
      " 1980.15425532 1980.15425532 1980.15425532 1992.68918919 1980.15425532\n",
      " 1980.15425532 1979.42307692 1979.42307692 1979.42307692 1983.74074074\n",
      " 1979.42307692 1979.42307692 1983.74074074 1983.74074074 1983.74074074\n",
      " 1983.74074074 1983.74074074 1983.74074074 1983.74074074 1979.42307692\n",
      " 1979.42307692 1983.74074074 1979.42307692 1983.74074074 1983.74074074\n",
      " 1983.74074074 1983.74074074 1983.74074074 1983.74074074 1952.33333333\n",
      " 1952.33333333 1979.42307692 1979.42307692 1979.42307692 1992.68918919\n",
      " 1979.42307692 1979.42307692 1979.42307692 1979.42307692 1979.42307692\n",
      " 1979.42307692 1979.42307692 1979.42307692 1979.42307692 1979.42307692\n",
      " 1979.42307692 1979.42307692 1979.42307692 1992.68918919 1992.68918919\n",
      " 1979.42307692 1979.42307692 1992.68918919 1979.42307692 1952.33333333\n",
      " 1979.42307692 1979.42307692 1980.15425532 1980.15425532 1983.74074074\n",
      " 1983.74074074 1979.42307692 1979.42307692 1979.42307692 1979.42307692\n",
      " 1979.42307692 1979.42307692 1979.42307692 1979.42307692 1979.42307692\n",
      " 1983.74074074 1983.74074074 1979.42307692 1979.42307692 1979.42307692\n",
      " 1979.42307692 1986.66666667 1997.32       1997.32       1997.32\n",
      " 1978.08571429 1997.32       1978.08571429 1978.08571429 1996.25\n",
      " 1978.08571429 1978.08571429 1996.25       1996.25       1996.25\n",
      " 1996.25       1978.08571429 1978.08571429]\n"
     ]
    },
    {
     "data": {
      "text/plain": "   Employee_No  Marital_Status  Year_of_Birth  Date_Joined_Days  Title_Miss  \\\n0          405             0.0         1980.0           16229.0         0.0   \n1          411             0.0         1980.0           16552.0         0.0   \n2          455             1.0         1993.0           17251.0         0.0   \n3          456             0.0         1979.0           17896.0         0.0   \n4          461             0.0         1979.0           17896.0         0.0   \n\n   Title_Mr  Title_Ms  Gender_Female  Gender_Male  Status_Active  ...  \\\n0       1.0       0.0            0.0          1.0            0.0  ...   \n1       1.0       0.0            0.0          1.0            1.0  ...   \n2       1.0       0.0            0.0          1.0            0.0  ...   \n3       1.0       0.0            0.0          1.0            0.0  ...   \n4       1.0       0.0            0.0          1.0            0.0  ...   \n\n   Designation_Trainee Engineer  Designation_Trainee Purchasing Officer  \\\n0                           0.0                                     0.0   \n1                           0.0                                     0.0   \n2                           0.0                                     0.0   \n3                           0.0                                     0.0   \n4                           0.0                                     0.0   \n\n   Designation_Trainee QS  Designation_Trainee Safety Officer  \\\n0                     0.0                                 0.0   \n1                     0.0                                 0.0   \n2                     0.0                                 0.0   \n3                     0.0                                 0.0   \n4                     0.0                                 0.0   \n\n   Designation_Trainee Technical Officer  Designation_Transport Assistant  \\\n0                                    0.0                              0.0   \n1                                    0.0                              0.0   \n2                                    0.0                              0.0   \n3                                    0.0                              0.0   \n4                                    0.0                              0.0   \n\n   Designation_Transport Officer  Designation_Unskilled Labor  \\\n0                            0.0                          0.0   \n1                            0.0                          0.0   \n2                            0.0                          0.0   \n3                            0.0                          0.0   \n4                            0.0                          0.0   \n\n   Designation_Wacher  Designation_Welder  \n0                 0.0                 0.0  \n1                 0.0                 0.0  \n2                 0.0                 0.0  \n3                 0.0                 0.0  \n4                 0.0                 0.0  \n\n[5 rows x 149 columns]",
      "text/html": "<div>\n<style scoped>\n    .dataframe tbody tr th:only-of-type {\n        vertical-align: middle;\n    }\n\n    .dataframe tbody tr th {\n        vertical-align: top;\n    }\n\n    .dataframe thead th {\n        text-align: right;\n    }\n</style>\n<table border=\"1\" class=\"dataframe\">\n  <thead>\n    <tr style=\"text-align: right;\">\n      <th></th>\n      <th>Employee_No</th>\n      <th>Marital_Status</th>\n      <th>Year_of_Birth</th>\n      <th>Date_Joined_Days</th>\n      <th>Title_Miss</th>\n      <th>Title_Mr</th>\n      <th>Title_Ms</th>\n      <th>Gender_Female</th>\n      <th>Gender_Male</th>\n      <th>Status_Active</th>\n      <th>...</th>\n      <th>Designation_Trainee Engineer</th>\n      <th>Designation_Trainee Purchasing Officer</th>\n      <th>Designation_Trainee QS</th>\n      <th>Designation_Trainee Safety Officer</th>\n      <th>Designation_Trainee Technical Officer</th>\n      <th>Designation_Transport Assistant</th>\n      <th>Designation_Transport Officer</th>\n      <th>Designation_Unskilled Labor</th>\n      <th>Designation_Wacher</th>\n      <th>Designation_Welder</th>\n    </tr>\n  </thead>\n  <tbody>\n    <tr>\n      <th>0</th>\n      <td>405</td>\n      <td>0.0</td>\n      <td>1980.0</td>\n      <td>16229.0</td>\n      <td>0.0</td>\n      <td>1.0</td>\n      <td>0.0</td>\n      <td>0.0</td>\n      <td>1.0</td>\n      <td>0.0</td>\n      <td>...</td>\n      <td>0.0</td>\n      <td>0.0</td>\n      <td>0.0</td>\n      <td>0.0</td>\n      <td>0.0</td>\n      <td>0.0</td>\n      <td>0.0</td>\n      <td>0.0</td>\n      <td>0.0</td>\n      <td>0.0</td>\n    </tr>\n    <tr>\n      <th>1</th>\n      <td>411</td>\n      <td>0.0</td>\n      <td>1980.0</td>\n      <td>16552.0</td>\n      <td>0.0</td>\n      <td>1.0</td>\n      <td>0.0</td>\n      <td>0.0</td>\n      <td>1.0</td>\n      <td>1.0</td>\n      <td>...</td>\n      <td>0.0</td>\n      <td>0.0</td>\n      <td>0.0</td>\n      <td>0.0</td>\n      <td>0.0</td>\n      <td>0.0</td>\n      <td>0.0</td>\n      <td>0.0</td>\n      <td>0.0</td>\n      <td>0.0</td>\n    </tr>\n    <tr>\n      <th>2</th>\n      <td>455</td>\n      <td>1.0</td>\n      <td>1993.0</td>\n      <td>17251.0</td>\n      <td>0.0</td>\n      <td>1.0</td>\n      <td>0.0</td>\n      <td>0.0</td>\n      <td>1.0</td>\n      <td>0.0</td>\n      <td>...</td>\n      <td>0.0</td>\n      <td>0.0</td>\n      <td>0.0</td>\n      <td>0.0</td>\n      <td>0.0</td>\n      <td>0.0</td>\n      <td>0.0</td>\n      <td>0.0</td>\n      <td>0.0</td>\n      <td>0.0</td>\n    </tr>\n    <tr>\n      <th>3</th>\n      <td>456</td>\n      <td>0.0</td>\n      <td>1979.0</td>\n      <td>17896.0</td>\n      <td>0.0</td>\n      <td>1.0</td>\n      <td>0.0</td>\n      <td>0.0</td>\n      <td>1.0</td>\n      <td>0.0</td>\n      <td>...</td>\n      <td>0.0</td>\n      <td>0.0</td>\n      <td>0.0</td>\n      <td>0.0</td>\n      <td>0.0</td>\n      <td>0.0</td>\n      <td>0.0</td>\n      <td>0.0</td>\n      <td>0.0</td>\n      <td>0.0</td>\n    </tr>\n    <tr>\n      <th>4</th>\n      <td>461</td>\n      <td>0.0</td>\n      <td>1979.0</td>\n      <td>17896.0</td>\n      <td>0.0</td>\n      <td>1.0</td>\n      <td>0.0</td>\n      <td>0.0</td>\n      <td>1.0</td>\n      <td>0.0</td>\n      <td>...</td>\n      <td>0.0</td>\n      <td>0.0</td>\n      <td>0.0</td>\n      <td>0.0</td>\n      <td>0.0</td>\n      <td>0.0</td>\n      <td>0.0</td>\n      <td>0.0</td>\n      <td>0.0</td>\n      <td>0.0</td>\n    </tr>\n  </tbody>\n</table>\n<p>5 rows × 149 columns</p>\n</div>"
     },
     "metadata": {},
     "output_type": "display_data"
    },
    {
     "name": "stdout",
     "output_type": "stream",
     "text": [
      "Employee_No                        0\n",
      "Marital_Status                     0\n",
      "Year_of_Birth                      0\n",
      "Date_Joined_Days                   0\n",
      "Title_Miss                         0\n",
      "                                  ..\n",
      "Designation_Transport Assistant    0\n",
      "Designation_Transport Officer      0\n",
      "Designation_Unskilled Labor        0\n",
      "Designation_Wacher                 0\n",
      "Designation_Welder                 0\n",
      "Length: 149, dtype: int64\n"
     ]
    }
   ],
   "source": [
    "dtc = DecisionTreeRegressor(min_samples_split=2, min_samples_leaf=2, max_leaf_nodes=None, max_features=70, max_depth=5, criterion='squared_error')\n",
    "dtc.fit(Train.loc[:, ~Train.columns.isin(['Employee_No', 'Year_of_Birth'])], Train['Year_of_Birth'])\n",
    "predicted = dtc.predict(Test.loc[:, ~Test.columns.isin(['Employee_No', 'Year_of_Birth'])])\n",
    "print(predicted)\n",
    "\n",
    "Test['Year_of_Birth'] = np.round(predicted)\n",
    "\n",
    "display(Test.head())\n",
    "print(Test.isna().sum())"
   ],
   "metadata": {
    "collapsed": false,
    "ExecuteTime": {
     "start_time": "2023-06-11T21:58:52.333569Z",
     "end_time": "2023-06-11T21:58:52.394575Z"
    }
   }
  },
  {
   "cell_type": "code",
   "execution_count": 137,
   "outputs": [
    {
     "name": "stdout",
     "output_type": "stream",
     "text": [
      "Totally updated:  103\n"
     ]
    },
    {
     "data": {
      "text/plain": "Employee_No                        0\nMarital_Status                     0\nYear_of_Birth                      0\nDate_Joined_Days                   0\nTitle_Miss                         0\n                                  ..\nDesignation_Transport Assistant    0\nDesignation_Transport Officer      0\nDesignation_Unskilled Labor        0\nDesignation_Wacher                 0\nDesignation_Welder                 0\nLength: 149, dtype: int64"
     },
     "metadata": {},
     "output_type": "display_data"
    },
    {
     "data": {
      "text/plain": "   Employee_No  Marital_Status  Year_of_Birth  Date_Joined_Days  Title_Miss  \\\n0          347             0.0         1965.0            8741.0         0.0   \n1          348             0.0         1973.0            9202.0         0.0   \n2          349             0.0         1974.0            6599.0         0.0   \n3          351             0.0         1974.0           10864.0         0.0   \n4          352             0.0         1980.0           11347.0         0.0   \n\n   Title_Mr  Title_Ms  Gender_Female  Gender_Male  Status_Active  ...  \\\n0       1.0       0.0            0.0          1.0            1.0  ...   \n1       1.0       0.0            0.0          1.0            1.0  ...   \n2       1.0       0.0            0.0          1.0            0.0  ...   \n3       0.0       1.0            1.0          0.0            0.0  ...   \n4       1.0       0.0            0.0          1.0            1.0  ...   \n\n   Designation_Trainee Engineer  Designation_Trainee Purchasing Officer  \\\n0                           0.0                                     0.0   \n1                           0.0                                     0.0   \n2                           0.0                                     0.0   \n3                           0.0                                     0.0   \n4                           0.0                                     0.0   \n\n   Designation_Trainee QS  Designation_Trainee Safety Officer  \\\n0                     0.0                                 0.0   \n1                     0.0                                 0.0   \n2                     0.0                                 0.0   \n3                     0.0                                 0.0   \n4                     0.0                                 0.0   \n\n   Designation_Trainee Technical Officer  Designation_Transport Assistant  \\\n0                                    0.0                              0.0   \n1                                    0.0                              0.0   \n2                                    0.0                              0.0   \n3                                    0.0                              0.0   \n4                                    0.0                              0.0   \n\n   Designation_Transport Officer  Designation_Unskilled Labor  \\\n0                            0.0                          0.0   \n1                            0.0                          0.0   \n2                            0.0                          0.0   \n3                            0.0                          0.0   \n4                            0.0                          0.0   \n\n   Designation_Wacher  Designation_Welder  \n0                 0.0                 0.0  \n1                 0.0                 0.0  \n2                 0.0                 0.0  \n3                 0.0                 0.0  \n4                 0.0                 0.0  \n\n[5 rows x 149 columns]",
      "text/html": "<div>\n<style scoped>\n    .dataframe tbody tr th:only-of-type {\n        vertical-align: middle;\n    }\n\n    .dataframe tbody tr th {\n        vertical-align: top;\n    }\n\n    .dataframe thead th {\n        text-align: right;\n    }\n</style>\n<table border=\"1\" class=\"dataframe\">\n  <thead>\n    <tr style=\"text-align: right;\">\n      <th></th>\n      <th>Employee_No</th>\n      <th>Marital_Status</th>\n      <th>Year_of_Birth</th>\n      <th>Date_Joined_Days</th>\n      <th>Title_Miss</th>\n      <th>Title_Mr</th>\n      <th>Title_Ms</th>\n      <th>Gender_Female</th>\n      <th>Gender_Male</th>\n      <th>Status_Active</th>\n      <th>...</th>\n      <th>Designation_Trainee Engineer</th>\n      <th>Designation_Trainee Purchasing Officer</th>\n      <th>Designation_Trainee QS</th>\n      <th>Designation_Trainee Safety Officer</th>\n      <th>Designation_Trainee Technical Officer</th>\n      <th>Designation_Transport Assistant</th>\n      <th>Designation_Transport Officer</th>\n      <th>Designation_Unskilled Labor</th>\n      <th>Designation_Wacher</th>\n      <th>Designation_Welder</th>\n    </tr>\n  </thead>\n  <tbody>\n    <tr>\n      <th>0</th>\n      <td>347</td>\n      <td>0.0</td>\n      <td>1965.0</td>\n      <td>8741.0</td>\n      <td>0.0</td>\n      <td>1.0</td>\n      <td>0.0</td>\n      <td>0.0</td>\n      <td>1.0</td>\n      <td>1.0</td>\n      <td>...</td>\n      <td>0.0</td>\n      <td>0.0</td>\n      <td>0.0</td>\n      <td>0.0</td>\n      <td>0.0</td>\n      <td>0.0</td>\n      <td>0.0</td>\n      <td>0.0</td>\n      <td>0.0</td>\n      <td>0.0</td>\n    </tr>\n    <tr>\n      <th>1</th>\n      <td>348</td>\n      <td>0.0</td>\n      <td>1973.0</td>\n      <td>9202.0</td>\n      <td>0.0</td>\n      <td>1.0</td>\n      <td>0.0</td>\n      <td>0.0</td>\n      <td>1.0</td>\n      <td>1.0</td>\n      <td>...</td>\n      <td>0.0</td>\n      <td>0.0</td>\n      <td>0.0</td>\n      <td>0.0</td>\n      <td>0.0</td>\n      <td>0.0</td>\n      <td>0.0</td>\n      <td>0.0</td>\n      <td>0.0</td>\n      <td>0.0</td>\n    </tr>\n    <tr>\n      <th>2</th>\n      <td>349</td>\n      <td>0.0</td>\n      <td>1974.0</td>\n      <td>6599.0</td>\n      <td>0.0</td>\n      <td>1.0</td>\n      <td>0.0</td>\n      <td>0.0</td>\n      <td>1.0</td>\n      <td>0.0</td>\n      <td>...</td>\n      <td>0.0</td>\n      <td>0.0</td>\n      <td>0.0</td>\n      <td>0.0</td>\n      <td>0.0</td>\n      <td>0.0</td>\n      <td>0.0</td>\n      <td>0.0</td>\n      <td>0.0</td>\n      <td>0.0</td>\n    </tr>\n    <tr>\n      <th>3</th>\n      <td>351</td>\n      <td>0.0</td>\n      <td>1974.0</td>\n      <td>10864.0</td>\n      <td>0.0</td>\n      <td>0.0</td>\n      <td>1.0</td>\n      <td>1.0</td>\n      <td>0.0</td>\n      <td>0.0</td>\n      <td>...</td>\n      <td>0.0</td>\n      <td>0.0</td>\n      <td>0.0</td>\n      <td>0.0</td>\n      <td>0.0</td>\n      <td>0.0</td>\n      <td>0.0</td>\n      <td>0.0</td>\n      <td>0.0</td>\n      <td>0.0</td>\n    </tr>\n    <tr>\n      <th>4</th>\n      <td>352</td>\n      <td>0.0</td>\n      <td>1980.0</td>\n      <td>11347.0</td>\n      <td>0.0</td>\n      <td>1.0</td>\n      <td>0.0</td>\n      <td>0.0</td>\n      <td>1.0</td>\n      <td>1.0</td>\n      <td>...</td>\n      <td>0.0</td>\n      <td>0.0</td>\n      <td>0.0</td>\n      <td>0.0</td>\n      <td>0.0</td>\n      <td>0.0</td>\n      <td>0.0</td>\n      <td>0.0</td>\n      <td>0.0</td>\n      <td>0.0</td>\n    </tr>\n  </tbody>\n</table>\n<p>5 rows × 149 columns</p>\n</div>"
     },
     "metadata": {},
     "output_type": "display_data"
    },
    {
     "name": "stdout",
     "output_type": "stream",
     "text": [
      "(997, 149)\n"
     ]
    }
   ],
   "source": [
    "count = 0\n",
    "for index, row in Test.iterrows():\n",
    "    series = final.loc[final['Employee_No'] == row['Employee_No'], 'Year_of_Birth']\n",
    "    if series.size == 1:\n",
    "        final.loc[final['Employee_No'] == row['Employee_No'], 'Year_of_Birth'] = row['Year_of_Birth']\n",
    "        count = count + 1\n",
    "\n",
    "print('Totally updated: ', str(count))\n",
    "display(final.isna().sum())\n",
    "display(final.head())\n",
    "print(final.shape)"
   ],
   "metadata": {
    "collapsed": false,
    "ExecuteTime": {
     "start_time": "2023-06-11T21:58:58.963562Z",
     "end_time": "2023-06-11T21:58:59.091402Z"
    }
   }
  },
  {
   "cell_type": "markdown",
   "source": [
    "# Neural Network Regression"
   ],
   "metadata": {
    "collapsed": false
   }
  },
  {
   "cell_type": "code",
   "execution_count": 62,
   "outputs": [
    {
     "name": "stdout",
     "output_type": "stream",
     "text": [
      "(894, 147)\n",
      "[[-0.73397979 -1.38276941 -7.72468025 ... -0.70710678 -0.05802589\n",
      "  -0.04735137]\n",
      " [-0.73397979 -0.77533947 -7.35083684 ... -0.70710678 -0.05802589\n",
      "  -0.04735137]\n",
      " [-0.73397979 -0.69941073 -9.46171406 ... -0.70710678 -0.05802589\n",
      "  -0.04735137]\n",
      " ...\n",
      " [ 1.36243533  1.04695034  0.862365   ... -0.70710678 -0.05802589\n",
      "  -0.04735137]\n",
      " [ 1.36243533  0.51544915  0.86479782 ... -0.70710678 -0.05802589\n",
      "  -0.04735137]\n",
      " [-0.73397979 -0.31976702  0.87452911 ... -0.70710678 -0.05802589\n",
      "  -0.04735137]]\n"
     ]
    },
    {
     "data": {
      "text/plain": "   Employee_No  Marital_Status  Year_of_Birth  Date_Joined_Days  Title_Miss  \\\n0          347        -0.73398      -1.382769         -7.724680   -0.095023   \n1          348        -0.73398      -0.775339         -7.350837   -0.095023   \n2          349        -0.73398      -0.699411         -9.461714   -0.095023   \n3          351        -0.73398      -0.699411         -6.003054   -0.095023   \n4          352        -0.73398      -0.243838         -5.611370   -0.095023   \n\n   Title_Mr  Title_Ms  Gender_Male  Status_Inactive  \\\n0  0.282330 -0.263397     0.265817        -1.799157   \n1  0.282330 -0.263397     0.265817        -1.799157   \n2  0.282330 -0.263397     0.265817         0.555816   \n3 -3.541956  3.796550    -3.761986         0.555816   \n4  0.282330 -0.263397     0.265817        -1.799157   \n\n   Employment_Category_Labour  ...  Designation_Trainee Engineer  \\\n0                   -1.079189  ...                     -0.047351   \n1                   -1.079189  ...                     -0.047351   \n2                   -1.079189  ...                     -0.047351   \n3                   -1.079189  ...                     -0.047351   \n4                   -1.079189  ...                     -0.047351   \n\n   Designation_Trainee Purchasing Officer  Designation_Trainee QS  \\\n0                               -0.047351                -0.06704   \n1                               -0.047351                -0.06704   \n2                               -0.047351                -0.06704   \n3                               -0.047351                -0.06704   \n4                               -0.047351                -0.06704   \n\n   Designation_Trainee Safety Officer  Designation_Trainee Technical Officer  \\\n0                           -0.033464                              -0.033464   \n1                           -0.033464                              -0.033464   \n2                           -0.033464                              -0.033464   \n3                           -0.033464                              -0.033464   \n4                           -0.033464                              -0.033464   \n\n   Designation_Transport Assistant  Designation_Transport Officer  \\\n0                        -0.033464                      -0.033464   \n1                        -0.033464                      -0.033464   \n2                        -0.033464                      -0.033464   \n3                        -0.033464                      -0.033464   \n4                        -0.033464                      -0.033464   \n\n   Designation_Unskilled Labor  Designation_Wacher  Designation_Welder  \n0                    -0.707107           -0.058026           -0.047351  \n1                    -0.707107           -0.058026           -0.047351  \n2                    -0.707107           -0.058026           -0.047351  \n3                    -0.707107           -0.058026           -0.047351  \n4                    -0.707107           -0.058026           -0.047351  \n\n[5 rows x 147 columns]",
      "text/html": "<div>\n<style scoped>\n    .dataframe tbody tr th:only-of-type {\n        vertical-align: middle;\n    }\n\n    .dataframe tbody tr th {\n        vertical-align: top;\n    }\n\n    .dataframe thead th {\n        text-align: right;\n    }\n</style>\n<table border=\"1\" class=\"dataframe\">\n  <thead>\n    <tr style=\"text-align: right;\">\n      <th></th>\n      <th>Employee_No</th>\n      <th>Marital_Status</th>\n      <th>Year_of_Birth</th>\n      <th>Date_Joined_Days</th>\n      <th>Title_Miss</th>\n      <th>Title_Mr</th>\n      <th>Title_Ms</th>\n      <th>Gender_Male</th>\n      <th>Status_Inactive</th>\n      <th>Employment_Category_Labour</th>\n      <th>...</th>\n      <th>Designation_Trainee Engineer</th>\n      <th>Designation_Trainee Purchasing Officer</th>\n      <th>Designation_Trainee QS</th>\n      <th>Designation_Trainee Safety Officer</th>\n      <th>Designation_Trainee Technical Officer</th>\n      <th>Designation_Transport Assistant</th>\n      <th>Designation_Transport Officer</th>\n      <th>Designation_Unskilled Labor</th>\n      <th>Designation_Wacher</th>\n      <th>Designation_Welder</th>\n    </tr>\n  </thead>\n  <tbody>\n    <tr>\n      <th>0</th>\n      <td>347</td>\n      <td>-0.73398</td>\n      <td>-1.382769</td>\n      <td>-7.724680</td>\n      <td>-0.095023</td>\n      <td>0.282330</td>\n      <td>-0.263397</td>\n      <td>0.265817</td>\n      <td>-1.799157</td>\n      <td>-1.079189</td>\n      <td>...</td>\n      <td>-0.047351</td>\n      <td>-0.047351</td>\n      <td>-0.06704</td>\n      <td>-0.033464</td>\n      <td>-0.033464</td>\n      <td>-0.033464</td>\n      <td>-0.033464</td>\n      <td>-0.707107</td>\n      <td>-0.058026</td>\n      <td>-0.047351</td>\n    </tr>\n    <tr>\n      <th>1</th>\n      <td>348</td>\n      <td>-0.73398</td>\n      <td>-0.775339</td>\n      <td>-7.350837</td>\n      <td>-0.095023</td>\n      <td>0.282330</td>\n      <td>-0.263397</td>\n      <td>0.265817</td>\n      <td>-1.799157</td>\n      <td>-1.079189</td>\n      <td>...</td>\n      <td>-0.047351</td>\n      <td>-0.047351</td>\n      <td>-0.06704</td>\n      <td>-0.033464</td>\n      <td>-0.033464</td>\n      <td>-0.033464</td>\n      <td>-0.033464</td>\n      <td>-0.707107</td>\n      <td>-0.058026</td>\n      <td>-0.047351</td>\n    </tr>\n    <tr>\n      <th>2</th>\n      <td>349</td>\n      <td>-0.73398</td>\n      <td>-0.699411</td>\n      <td>-9.461714</td>\n      <td>-0.095023</td>\n      <td>0.282330</td>\n      <td>-0.263397</td>\n      <td>0.265817</td>\n      <td>0.555816</td>\n      <td>-1.079189</td>\n      <td>...</td>\n      <td>-0.047351</td>\n      <td>-0.047351</td>\n      <td>-0.06704</td>\n      <td>-0.033464</td>\n      <td>-0.033464</td>\n      <td>-0.033464</td>\n      <td>-0.033464</td>\n      <td>-0.707107</td>\n      <td>-0.058026</td>\n      <td>-0.047351</td>\n    </tr>\n    <tr>\n      <th>3</th>\n      <td>351</td>\n      <td>-0.73398</td>\n      <td>-0.699411</td>\n      <td>-6.003054</td>\n      <td>-0.095023</td>\n      <td>-3.541956</td>\n      <td>3.796550</td>\n      <td>-3.761986</td>\n      <td>0.555816</td>\n      <td>-1.079189</td>\n      <td>...</td>\n      <td>-0.047351</td>\n      <td>-0.047351</td>\n      <td>-0.06704</td>\n      <td>-0.033464</td>\n      <td>-0.033464</td>\n      <td>-0.033464</td>\n      <td>-0.033464</td>\n      <td>-0.707107</td>\n      <td>-0.058026</td>\n      <td>-0.047351</td>\n    </tr>\n    <tr>\n      <th>4</th>\n      <td>352</td>\n      <td>-0.73398</td>\n      <td>-0.243838</td>\n      <td>-5.611370</td>\n      <td>-0.095023</td>\n      <td>0.282330</td>\n      <td>-0.263397</td>\n      <td>0.265817</td>\n      <td>-1.799157</td>\n      <td>-1.079189</td>\n      <td>...</td>\n      <td>-0.047351</td>\n      <td>-0.047351</td>\n      <td>-0.06704</td>\n      <td>-0.033464</td>\n      <td>-0.033464</td>\n      <td>-0.033464</td>\n      <td>-0.033464</td>\n      <td>-0.707107</td>\n      <td>-0.058026</td>\n      <td>-0.047351</td>\n    </tr>\n  </tbody>\n</table>\n<p>5 rows × 147 columns</p>\n</div>"
     },
     "metadata": {},
     "output_type": "display_data"
    },
    {
     "name": "stdout",
     "output_type": "stream",
     "text": [
      "(103, 147)\n",
      "[[-7.33979791e-01 -1.50582748e+02 -1.65236040e+00 ... -7.07106781e-01\n",
      "  -5.80258853e-02 -4.73513724e-02]\n",
      " [-7.33979791e-01 -1.50582748e+02 -1.39042673e+00 ... -7.07106781e-01\n",
      "  -5.80258853e-02 -4.73513724e-02]\n",
      " [ 1.36243533e+00 -1.50582748e+02 -8.23579569e-01 ... -7.07106781e-01\n",
      "  -5.80258853e-02 -4.73513724e-02]\n",
      " ...\n",
      " [ 1.36243533e+00 -1.50582748e+02  7.05042615e-01 ...  1.41421356e+00\n",
      "  -5.80258853e-02 -4.73513724e-02]\n",
      " [-7.33979791e-01 -1.50582748e+02  7.26127059e-01 ... -7.07106781e-01\n",
      "  -5.80258853e-02 -4.73513724e-02]\n",
      " [-7.33979791e-01 -1.50582748e+02  7.82892870e-01 ...  1.41421356e+00\n",
      "  -5.80258853e-02 -4.73513724e-02]]\n"
     ]
    },
    {
     "data": {
      "text/plain": "   Employee_No  Marital_Status  Year_of_Birth  Date_Joined_Days  Title_Miss  \\\n0          405       -0.733980    -150.582748         -1.652360   -0.095023   \n1          411       -0.733980    -150.582748         -1.390427   -0.095023   \n2          455        1.362435    -150.582748         -0.823580   -0.095023   \n3          456       -0.733980    -150.582748         -0.300523   -0.095023   \n4          461       -0.733980    -150.582748         -0.300523   -0.095023   \n\n   Title_Mr  Title_Ms  Gender_Male  Status_Inactive  \\\n0   0.28233 -0.263397     0.265817         0.555816   \n1   0.28233 -0.263397     0.265817        -1.799157   \n2   0.28233 -0.263397     0.265817         0.555816   \n3   0.28233 -0.263397     0.265817         0.555816   \n4   0.28233 -0.263397     0.265817         0.555816   \n\n   Employment_Category_Labour  ...  Designation_Trainee Engineer  \\\n0                   -1.079189  ...                     -0.047351   \n1                   -1.079189  ...                     -0.047351   \n2                   -1.079189  ...                     -0.047351   \n3                    0.926622  ...                     -0.047351   \n4                    0.926622  ...                     -0.047351   \n\n   Designation_Trainee Purchasing Officer  Designation_Trainee QS  \\\n0                               -0.047351                -0.06704   \n1                               -0.047351                -0.06704   \n2                               -0.047351                -0.06704   \n3                               -0.047351                -0.06704   \n4                               -0.047351                -0.06704   \n\n   Designation_Trainee Safety Officer  Designation_Trainee Technical Officer  \\\n0                           -0.033464                              -0.033464   \n1                           -0.033464                              -0.033464   \n2                           -0.033464                              -0.033464   \n3                           -0.033464                              -0.033464   \n4                           -0.033464                              -0.033464   \n\n   Designation_Transport Assistant  Designation_Transport Officer  \\\n0                        -0.033464                      -0.033464   \n1                        -0.033464                      -0.033464   \n2                        -0.033464                      -0.033464   \n3                        -0.033464                      -0.033464   \n4                        -0.033464                      -0.033464   \n\n   Designation_Unskilled Labor  Designation_Wacher  Designation_Welder  \n0                    -0.707107           -0.058026           -0.047351  \n1                    -0.707107           -0.058026           -0.047351  \n2                    -0.707107           -0.058026           -0.047351  \n3                    -0.707107           -0.058026           -0.047351  \n4                    -0.707107           -0.058026           -0.047351  \n\n[5 rows x 147 columns]",
      "text/html": "<div>\n<style scoped>\n    .dataframe tbody tr th:only-of-type {\n        vertical-align: middle;\n    }\n\n    .dataframe tbody tr th {\n        vertical-align: top;\n    }\n\n    .dataframe thead th {\n        text-align: right;\n    }\n</style>\n<table border=\"1\" class=\"dataframe\">\n  <thead>\n    <tr style=\"text-align: right;\">\n      <th></th>\n      <th>Employee_No</th>\n      <th>Marital_Status</th>\n      <th>Year_of_Birth</th>\n      <th>Date_Joined_Days</th>\n      <th>Title_Miss</th>\n      <th>Title_Mr</th>\n      <th>Title_Ms</th>\n      <th>Gender_Male</th>\n      <th>Status_Inactive</th>\n      <th>Employment_Category_Labour</th>\n      <th>...</th>\n      <th>Designation_Trainee Engineer</th>\n      <th>Designation_Trainee Purchasing Officer</th>\n      <th>Designation_Trainee QS</th>\n      <th>Designation_Trainee Safety Officer</th>\n      <th>Designation_Trainee Technical Officer</th>\n      <th>Designation_Transport Assistant</th>\n      <th>Designation_Transport Officer</th>\n      <th>Designation_Unskilled Labor</th>\n      <th>Designation_Wacher</th>\n      <th>Designation_Welder</th>\n    </tr>\n  </thead>\n  <tbody>\n    <tr>\n      <th>0</th>\n      <td>405</td>\n      <td>-0.733980</td>\n      <td>-150.582748</td>\n      <td>-1.652360</td>\n      <td>-0.095023</td>\n      <td>0.28233</td>\n      <td>-0.263397</td>\n      <td>0.265817</td>\n      <td>0.555816</td>\n      <td>-1.079189</td>\n      <td>...</td>\n      <td>-0.047351</td>\n      <td>-0.047351</td>\n      <td>-0.06704</td>\n      <td>-0.033464</td>\n      <td>-0.033464</td>\n      <td>-0.033464</td>\n      <td>-0.033464</td>\n      <td>-0.707107</td>\n      <td>-0.058026</td>\n      <td>-0.047351</td>\n    </tr>\n    <tr>\n      <th>1</th>\n      <td>411</td>\n      <td>-0.733980</td>\n      <td>-150.582748</td>\n      <td>-1.390427</td>\n      <td>-0.095023</td>\n      <td>0.28233</td>\n      <td>-0.263397</td>\n      <td>0.265817</td>\n      <td>-1.799157</td>\n      <td>-1.079189</td>\n      <td>...</td>\n      <td>-0.047351</td>\n      <td>-0.047351</td>\n      <td>-0.06704</td>\n      <td>-0.033464</td>\n      <td>-0.033464</td>\n      <td>-0.033464</td>\n      <td>-0.033464</td>\n      <td>-0.707107</td>\n      <td>-0.058026</td>\n      <td>-0.047351</td>\n    </tr>\n    <tr>\n      <th>2</th>\n      <td>455</td>\n      <td>1.362435</td>\n      <td>-150.582748</td>\n      <td>-0.823580</td>\n      <td>-0.095023</td>\n      <td>0.28233</td>\n      <td>-0.263397</td>\n      <td>0.265817</td>\n      <td>0.555816</td>\n      <td>-1.079189</td>\n      <td>...</td>\n      <td>-0.047351</td>\n      <td>-0.047351</td>\n      <td>-0.06704</td>\n      <td>-0.033464</td>\n      <td>-0.033464</td>\n      <td>-0.033464</td>\n      <td>-0.033464</td>\n      <td>-0.707107</td>\n      <td>-0.058026</td>\n      <td>-0.047351</td>\n    </tr>\n    <tr>\n      <th>3</th>\n      <td>456</td>\n      <td>-0.733980</td>\n      <td>-150.582748</td>\n      <td>-0.300523</td>\n      <td>-0.095023</td>\n      <td>0.28233</td>\n      <td>-0.263397</td>\n      <td>0.265817</td>\n      <td>0.555816</td>\n      <td>0.926622</td>\n      <td>...</td>\n      <td>-0.047351</td>\n      <td>-0.047351</td>\n      <td>-0.06704</td>\n      <td>-0.033464</td>\n      <td>-0.033464</td>\n      <td>-0.033464</td>\n      <td>-0.033464</td>\n      <td>-0.707107</td>\n      <td>-0.058026</td>\n      <td>-0.047351</td>\n    </tr>\n    <tr>\n      <th>4</th>\n      <td>461</td>\n      <td>-0.733980</td>\n      <td>-150.582748</td>\n      <td>-0.300523</td>\n      <td>-0.095023</td>\n      <td>0.28233</td>\n      <td>-0.263397</td>\n      <td>0.265817</td>\n      <td>0.555816</td>\n      <td>0.926622</td>\n      <td>...</td>\n      <td>-0.047351</td>\n      <td>-0.047351</td>\n      <td>-0.06704</td>\n      <td>-0.033464</td>\n      <td>-0.033464</td>\n      <td>-0.033464</td>\n      <td>-0.033464</td>\n      <td>-0.707107</td>\n      <td>-0.058026</td>\n      <td>-0.047351</td>\n    </tr>\n  </tbody>\n</table>\n<p>5 rows × 147 columns</p>\n</div>"
     },
     "metadata": {},
     "output_type": "display_data"
    }
   ],
   "source": [
    "_final = final.copy()\n",
    "_final = _final.drop(['Gender_Female', 'Status_Active'],axis=1)\n",
    "\n",
    "Train = _final[_final['Year_of_Birth'] > 0]\n",
    "print(Train.shape)\n",
    "Train = Train.reset_index(drop=True)\n",
    "\n",
    "scaler = StandardScaler()\n",
    "scaling_df = Train.loc[:, ~Train.columns.isin(['Employee_No'])]\n",
    "columns_scaling = scaling_df.columns\n",
    "scaled = scaler.fit_transform(scaling_df)\n",
    "print(scaled)\n",
    "df_scaled = pd.DataFrame(scaled, columns=[columns_scaling])\n",
    "\n",
    "Train[columns_scaling] = df_scaled[columns_scaling]\n",
    "\n",
    "display(Train.head())\n",
    "\n",
    "Test = _final[_final['Year_of_Birth'] <= 0]\n",
    "print(Test.shape)\n",
    "Test = Test.reset_index(drop=True)\n",
    "\n",
    "scaling_df = Test.loc[:, ~Test.columns.isin(['Employee_No'])]\n",
    "columns_scaling = scaling_df.columns\n",
    "scaled = scaler.transform(scaling_df)\n",
    "print(scaled)\n",
    "df_scaled = pd.DataFrame(scaled, columns=[columns_scaling])\n",
    "\n",
    "Test[columns_scaling] = df_scaled[columns_scaling]\n",
    "\n",
    "display(Test.head())"
   ],
   "metadata": {
    "collapsed": false,
    "ExecuteTime": {
     "start_time": "2023-06-10T20:52:01.445217Z",
     "end_time": "2023-06-10T20:52:01.590581Z"
    }
   }
  },
  {
   "cell_type": "code",
   "execution_count": 63,
   "outputs": [
    {
     "name": "stdout",
     "output_type": "stream",
     "text": [
      "Fitting 5 folds for each of 12 candidates, totalling 60 fits\n"
     ]
    },
    {
     "data": {
      "text/plain": "RandomizedSearchCV(cv=5, error_score='raise', estimator=MLPRegressor(),\n                   n_iter=12, n_jobs=-1,\n                   param_distributions={'activation': ['identity', 'logistic',\n                                                       'tanh', 'relu'],\n                                        'hidden_layer_sizes': [2000],\n                                        'learning_rate': ['adaptive'],\n                                        'learning_rate_init': [0.001],\n                                        'max_iter': [2000],\n                                        'solver': ['lbfgs', 'sgd', 'adam'],\n                                        'tol': [1e-05]},\n                   scoring='neg_root_mean_squared_error', verbose=3)",
      "text/html": "<style>#sk-container-id-1 {color: black;background-color: white;}#sk-container-id-1 pre{padding: 0;}#sk-container-id-1 div.sk-toggleable {background-color: white;}#sk-container-id-1 label.sk-toggleable__label {cursor: pointer;display: block;width: 100%;margin-bottom: 0;padding: 0.3em;box-sizing: border-box;text-align: center;}#sk-container-id-1 label.sk-toggleable__label-arrow:before {content: \"▸\";float: left;margin-right: 0.25em;color: #696969;}#sk-container-id-1 label.sk-toggleable__label-arrow:hover:before {color: black;}#sk-container-id-1 div.sk-estimator:hover label.sk-toggleable__label-arrow:before {color: black;}#sk-container-id-1 div.sk-toggleable__content {max-height: 0;max-width: 0;overflow: hidden;text-align: left;background-color: #f0f8ff;}#sk-container-id-1 div.sk-toggleable__content pre {margin: 0.2em;color: black;border-radius: 0.25em;background-color: #f0f8ff;}#sk-container-id-1 input.sk-toggleable__control:checked~div.sk-toggleable__content {max-height: 200px;max-width: 100%;overflow: auto;}#sk-container-id-1 input.sk-toggleable__control:checked~label.sk-toggleable__label-arrow:before {content: \"▾\";}#sk-container-id-1 div.sk-estimator input.sk-toggleable__control:checked~label.sk-toggleable__label {background-color: #d4ebff;}#sk-container-id-1 div.sk-label input.sk-toggleable__control:checked~label.sk-toggleable__label {background-color: #d4ebff;}#sk-container-id-1 input.sk-hidden--visually {border: 0;clip: rect(1px 1px 1px 1px);clip: rect(1px, 1px, 1px, 1px);height: 1px;margin: -1px;overflow: hidden;padding: 0;position: absolute;width: 1px;}#sk-container-id-1 div.sk-estimator {font-family: monospace;background-color: #f0f8ff;border: 1px dotted black;border-radius: 0.25em;box-sizing: border-box;margin-bottom: 0.5em;}#sk-container-id-1 div.sk-estimator:hover {background-color: #d4ebff;}#sk-container-id-1 div.sk-parallel-item::after {content: \"\";width: 100%;border-bottom: 1px solid gray;flex-grow: 1;}#sk-container-id-1 div.sk-label:hover label.sk-toggleable__label {background-color: #d4ebff;}#sk-container-id-1 div.sk-serial::before {content: \"\";position: absolute;border-left: 1px solid gray;box-sizing: border-box;top: 0;bottom: 0;left: 50%;z-index: 0;}#sk-container-id-1 div.sk-serial {display: flex;flex-direction: column;align-items: center;background-color: white;padding-right: 0.2em;padding-left: 0.2em;position: relative;}#sk-container-id-1 div.sk-item {position: relative;z-index: 1;}#sk-container-id-1 div.sk-parallel {display: flex;align-items: stretch;justify-content: center;background-color: white;position: relative;}#sk-container-id-1 div.sk-item::before, #sk-container-id-1 div.sk-parallel-item::before {content: \"\";position: absolute;border-left: 1px solid gray;box-sizing: border-box;top: 0;bottom: 0;left: 50%;z-index: -1;}#sk-container-id-1 div.sk-parallel-item {display: flex;flex-direction: column;z-index: 1;position: relative;background-color: white;}#sk-container-id-1 div.sk-parallel-item:first-child::after {align-self: flex-end;width: 50%;}#sk-container-id-1 div.sk-parallel-item:last-child::after {align-self: flex-start;width: 50%;}#sk-container-id-1 div.sk-parallel-item:only-child::after {width: 0;}#sk-container-id-1 div.sk-dashed-wrapped {border: 1px dashed gray;margin: 0 0.4em 0.5em 0.4em;box-sizing: border-box;padding-bottom: 0.4em;background-color: white;}#sk-container-id-1 div.sk-label label {font-family: monospace;font-weight: bold;display: inline-block;line-height: 1.2em;}#sk-container-id-1 div.sk-label-container {text-align: center;}#sk-container-id-1 div.sk-container {/* jupyter's `normalize.less` sets `[hidden] { display: none; }` but bootstrap.min.css set `[hidden] { display: none !important; }` so we also need the `!important` here to be able to override the default hidden behavior on the sphinx rendered scikit-learn.org. See: https://github.com/scikit-learn/scikit-learn/issues/21755 */display: inline-block !important;position: relative;}#sk-container-id-1 div.sk-text-repr-fallback {display: none;}</style><div id=\"sk-container-id-1\" class=\"sk-top-container\"><div class=\"sk-text-repr-fallback\"><pre>RandomizedSearchCV(cv=5, error_score=&#x27;raise&#x27;, estimator=MLPRegressor(),\n                   n_iter=12, n_jobs=-1,\n                   param_distributions={&#x27;activation&#x27;: [&#x27;identity&#x27;, &#x27;logistic&#x27;,\n                                                       &#x27;tanh&#x27;, &#x27;relu&#x27;],\n                                        &#x27;hidden_layer_sizes&#x27;: [2000],\n                                        &#x27;learning_rate&#x27;: [&#x27;adaptive&#x27;],\n                                        &#x27;learning_rate_init&#x27;: [0.001],\n                                        &#x27;max_iter&#x27;: [2000],\n                                        &#x27;solver&#x27;: [&#x27;lbfgs&#x27;, &#x27;sgd&#x27;, &#x27;adam&#x27;],\n                                        &#x27;tol&#x27;: [1e-05]},\n                   scoring=&#x27;neg_root_mean_squared_error&#x27;, verbose=3)</pre><b>In a Jupyter environment, please rerun this cell to show the HTML representation or trust the notebook. <br />On GitHub, the HTML representation is unable to render, please try loading this page with nbviewer.org.</b></div><div class=\"sk-container\" hidden><div class=\"sk-item sk-dashed-wrapped\"><div class=\"sk-label-container\"><div class=\"sk-label sk-toggleable\"><input class=\"sk-toggleable__control sk-hidden--visually\" id=\"sk-estimator-id-1\" type=\"checkbox\" ><label for=\"sk-estimator-id-1\" class=\"sk-toggleable__label sk-toggleable__label-arrow\">RandomizedSearchCV</label><div class=\"sk-toggleable__content\"><pre>RandomizedSearchCV(cv=5, error_score=&#x27;raise&#x27;, estimator=MLPRegressor(),\n                   n_iter=12, n_jobs=-1,\n                   param_distributions={&#x27;activation&#x27;: [&#x27;identity&#x27;, &#x27;logistic&#x27;,\n                                                       &#x27;tanh&#x27;, &#x27;relu&#x27;],\n                                        &#x27;hidden_layer_sizes&#x27;: [2000],\n                                        &#x27;learning_rate&#x27;: [&#x27;adaptive&#x27;],\n                                        &#x27;learning_rate_init&#x27;: [0.001],\n                                        &#x27;max_iter&#x27;: [2000],\n                                        &#x27;solver&#x27;: [&#x27;lbfgs&#x27;, &#x27;sgd&#x27;, &#x27;adam&#x27;],\n                                        &#x27;tol&#x27;: [1e-05]},\n                   scoring=&#x27;neg_root_mean_squared_error&#x27;, verbose=3)</pre></div></div></div><div class=\"sk-parallel\"><div class=\"sk-parallel-item\"><div class=\"sk-item\"><div class=\"sk-label-container\"><div class=\"sk-label sk-toggleable\"><input class=\"sk-toggleable__control sk-hidden--visually\" id=\"sk-estimator-id-2\" type=\"checkbox\" ><label for=\"sk-estimator-id-2\" class=\"sk-toggleable__label sk-toggleable__label-arrow\">estimator: MLPRegressor</label><div class=\"sk-toggleable__content\"><pre>MLPRegressor()</pre></div></div></div><div class=\"sk-serial\"><div class=\"sk-item\"><div class=\"sk-estimator sk-toggleable\"><input class=\"sk-toggleable__control sk-hidden--visually\" id=\"sk-estimator-id-3\" type=\"checkbox\" ><label for=\"sk-estimator-id-3\" class=\"sk-toggleable__label sk-toggleable__label-arrow\">MLPRegressor</label><div class=\"sk-toggleable__content\"><pre>MLPRegressor()</pre></div></div></div></div></div></div></div></div></div></div>"
     },
     "execution_count": 63,
     "metadata": {},
     "output_type": "execute_result"
    }
   ],
   "source": [
    "# 'hidden_layer_sizes': [2000],\n",
    "# 'activation': ['identity', 'logistic', 'tanh', 'relu'],\n",
    "# 'solver': ['lbfgs', 'sgd', 'adam'],\n",
    "# 'learning_rate': ['constant', 'invscaling', 'adaptive'],\n",
    "# 'learning_rate_init': [0.001],\n",
    "# 'max_iter': [1000, 2000],\n",
    "# 'tol': [1e-5, 1e-4],\n",
    "\n",
    "neural_params = {\n",
    "    'hidden_layer_sizes': [2000],\n",
    "    'activation': ['identity', 'logistic', 'tanh', 'relu'],\n",
    "    'solver': ['lbfgs', 'sgd', 'adam'],\n",
    "    'learning_rate': ['adaptive'],\n",
    "    'learning_rate_init': [0.001],\n",
    "    'max_iter': [2000],\n",
    "    'tol': [1e-5],\n",
    "}\n",
    "\n",
    "reg = MLPRegressor()\n",
    "rscv = RandomizedSearchCV(estimator=reg, n_iter=12, param_distributions=neural_params, scoring='neg_root_mean_squared_error', cv=5, n_jobs=-1, error_score='raise', verbose=3)\n",
    "rscv.fit(Train.loc[:, ~Train.columns.isin(['Employee_No', 'Year_of_Birth'])], Train['Year_of_Birth'])"
   ],
   "metadata": {
    "collapsed": false,
    "ExecuteTime": {
     "start_time": "2023-06-10T20:52:26.449503Z",
     "end_time": "2023-06-10T21:18:39.347092Z"
    }
   }
  },
  {
   "cell_type": "code",
   "execution_count": 67,
   "outputs": [
    {
     "name": "stdout",
     "output_type": "stream",
     "text": [
      "-0.7731691423247758\n",
      "{'tol': 1e-05, 'solver': 'sgd', 'max_iter': 2000, 'learning_rate_init': 0.001, 'learning_rate': 'adaptive', 'hidden_layer_sizes': 2000, 'activation': 'logistic'}\n"
     ]
    }
   ],
   "source": [
    "print(rscv.best_score_)\n",
    "print(rscv.best_params_)"
   ],
   "metadata": {
    "collapsed": false,
    "ExecuteTime": {
     "start_time": "2023-06-10T21:24:13.739748Z",
     "end_time": "2023-06-10T21:24:13.750767Z"
    }
   }
  },
  {
   "cell_type": "code",
   "execution_count": 77,
   "outputs": [
    {
     "name": "stdout",
     "output_type": "stream",
     "text": [
      "[-0.30851836 -0.26531885 -0.13016024 -0.26990591  0.61292441 -0.282948\n",
      " -0.99753064  0.79133211  0.90573007  1.02996835 -0.40866673 -0.35984087\n",
      "  0.72998491 -0.40951909 -0.93308456  0.96752288 -0.64289195  0.43145895\n",
      "  1.14084277  1.20721493 -0.38112811 -0.59300887 -0.15758977 -0.22555581\n",
      "  0.67889921  0.99760471 -0.10913275 -0.53523781  0.8657224   0.5453916\n",
      " -0.36594365  1.02858981  0.69008917  0.89693915 -0.41418235  1.09015881\n",
      " -0.12570013 -0.38138355 -0.19180062 -0.358969    0.72289953  0.74644168\n",
      " -1.02209251  0.26056314 -0.38768383 -0.30373133 -0.41418235 -0.69668734\n",
      " -1.61095568 -0.18526883 -0.56489961 -0.3556866  -0.36507365 -0.35604562\n",
      "  0.69940446 -0.36481544 -0.71351281 -0.29915714 -0.41259382  0.63315226\n",
      " -0.37794262 -0.24042741 -0.37512253 -0.15661683 -1.38630768  1.08763217\n",
      " -0.4001278  -0.77132491  0.70559905  0.20183308 -0.39644966 -1.93025142\n",
      " -0.02013276 -0.35460953  0.72955811  0.81798235  0.29701667 -0.35784069\n",
      " -0.40331789 -0.37576181  0.47943125 -0.41418235 -0.39409172 -0.26820321\n",
      " -1.15474891  0.83702418  0.34386256 -1.33713228 -1.29196321 -1.37886839\n",
      " -0.15687287 -0.39317217 -0.36471288  0.45347217 -0.04154684  0.46694592\n",
      " -0.34205508 -0.40946785 -0.39296398 -0.39409172 -0.32188949 -0.20285055\n",
      " -0.2828456  -0.26846261  1.36596304 -0.27851067  0.82874857  0.96400231\n",
      " -0.38562724 -0.96419577 -0.34425759 -0.39383542 -0.67704724 -0.26810104\n",
      "  0.3100881  -0.31385758 -0.38572734  0.47795036 -0.39409172 -0.3565585\n",
      " -0.3682513  -0.7347928  -0.41418235  0.16963529 -0.34661635 -0.67357011\n",
      " -0.35953315 -0.66318013 -0.44383206 -0.35676365 -0.39952508 -0.99934466\n",
      " -0.12234651 -0.34692401  0.71967308 -0.35486598 -0.40060144 -0.0252269\n",
      " -0.36235384  0.6542777  -0.11772556 -0.35589175  0.76884484 -1.19193874\n",
      "  0.85244376 -0.39234884 -0.71266852  0.28450505 -0.89762237  1.0908571\n",
      "  0.62163927 -0.31501319 -0.14487951  1.0107967   0.17329857 -0.36209741\n",
      "  0.87681798  0.76942112  0.70653217  1.40128074 -0.38722244 -0.3556866\n",
      "  0.78811864 -0.38260342 -0.53341121 -1.49875692 -0.38476162 -0.06323795\n",
      " -0.36896922 -0.35971664  0.76942112 -0.51071273 -0.35999472  0.78691998\n",
      " -0.33434123 -0.34569336 -0.27128296 -0.18863804 -0.8672236 ]\n",
      "0.7459906082607024\n"
     ]
    }
   ],
   "source": [
    "X_train, X_test, Y_train, Y_test = train_test_split(Train.loc[:, ~Train.columns.isin(['Employee_No', 'Year_of_Birth'])], Train['Year_of_Birth'], test_size=0.2, random_state=42)\n",
    "reg = MLPRegressor(tol=1e-5, solver='sgd', max_iter=2000, learning_rate_init=0.001, learning_rate='adaptive', hidden_layer_sizes=2000, activation='logistic')\n",
    "reg.fit(X_train, Y_train)\n",
    "predicted = reg.predict(X_test)\n",
    "print(predicted)\n",
    "\n",
    "print(mean_squared_error(Y_test, predicted, squared=False))"
   ],
   "metadata": {
    "collapsed": false,
    "ExecuteTime": {
     "start_time": "2023-06-10T22:08:24.363502Z",
     "end_time": "2023-06-10T22:08:55.925711Z"
    }
   }
  },
  {
   "cell_type": "code",
   "execution_count": 66,
   "outputs": [
    {
     "name": "stdout",
     "output_type": "stream",
     "text": [
      "Totally updated:  103\n"
     ]
    },
    {
     "data": {
      "text/plain": "Employee_No                        0\nMarital_Status                     0\nYear_of_Birth                      0\nDate_Joined_Days                   0\nTitle_Miss                         0\n                                  ..\nDesignation_Transport Assistant    0\nDesignation_Transport Officer      0\nDesignation_Unskilled Labor        0\nDesignation_Wacher                 0\nDesignation_Welder                 0\nLength: 149, dtype: int64"
     },
     "metadata": {},
     "output_type": "display_data"
    },
    {
     "data": {
      "text/plain": "   Employee_No  Marital_Status  Year_of_Birth  Date_Joined_Days  Title_Miss  \\\n0          347             0.0         1965.0            8741.0         0.0   \n1          348             0.0         1973.0            9202.0         0.0   \n2          349             0.0         1974.0            6599.0         0.0   \n3          351             0.0         1974.0           10864.0         0.0   \n4          352             0.0         1980.0           11347.0         0.0   \n\n   Title_Mr  Title_Ms  Gender_Female  Gender_Male  Status_Active  ...  \\\n0       1.0       0.0            0.0          1.0            1.0  ...   \n1       1.0       0.0            0.0          1.0            1.0  ...   \n2       1.0       0.0            0.0          1.0            0.0  ...   \n3       0.0       1.0            1.0          0.0            0.0  ...   \n4       1.0       0.0            0.0          1.0            1.0  ...   \n\n   Designation_Trainee Engineer  Designation_Trainee Purchasing Officer  \\\n0                           0.0                                     0.0   \n1                           0.0                                     0.0   \n2                           0.0                                     0.0   \n3                           0.0                                     0.0   \n4                           0.0                                     0.0   \n\n   Designation_Trainee QS  Designation_Trainee Safety Officer  \\\n0                     0.0                                 0.0   \n1                     0.0                                 0.0   \n2                     0.0                                 0.0   \n3                     0.0                                 0.0   \n4                     0.0                                 0.0   \n\n   Designation_Trainee Technical Officer  Designation_Transport Assistant  \\\n0                                    0.0                              0.0   \n1                                    0.0                              0.0   \n2                                    0.0                              0.0   \n3                                    0.0                              0.0   \n4                                    0.0                              0.0   \n\n   Designation_Transport Officer  Designation_Unskilled Labor  \\\n0                            0.0                          0.0   \n1                            0.0                          0.0   \n2                            0.0                          0.0   \n3                            0.0                          0.0   \n4                            0.0                          0.0   \n\n   Designation_Wacher  Designation_Welder  \n0                 0.0                 0.0  \n1                 0.0                 0.0  \n2                 0.0                 0.0  \n3                 0.0                 0.0  \n4                 0.0                 0.0  \n\n[5 rows x 149 columns]",
      "text/html": "<div>\n<style scoped>\n    .dataframe tbody tr th:only-of-type {\n        vertical-align: middle;\n    }\n\n    .dataframe tbody tr th {\n        vertical-align: top;\n    }\n\n    .dataframe thead th {\n        text-align: right;\n    }\n</style>\n<table border=\"1\" class=\"dataframe\">\n  <thead>\n    <tr style=\"text-align: right;\">\n      <th></th>\n      <th>Employee_No</th>\n      <th>Marital_Status</th>\n      <th>Year_of_Birth</th>\n      <th>Date_Joined_Days</th>\n      <th>Title_Miss</th>\n      <th>Title_Mr</th>\n      <th>Title_Ms</th>\n      <th>Gender_Female</th>\n      <th>Gender_Male</th>\n      <th>Status_Active</th>\n      <th>...</th>\n      <th>Designation_Trainee Engineer</th>\n      <th>Designation_Trainee Purchasing Officer</th>\n      <th>Designation_Trainee QS</th>\n      <th>Designation_Trainee Safety Officer</th>\n      <th>Designation_Trainee Technical Officer</th>\n      <th>Designation_Transport Assistant</th>\n      <th>Designation_Transport Officer</th>\n      <th>Designation_Unskilled Labor</th>\n      <th>Designation_Wacher</th>\n      <th>Designation_Welder</th>\n    </tr>\n  </thead>\n  <tbody>\n    <tr>\n      <th>0</th>\n      <td>347</td>\n      <td>0.0</td>\n      <td>1965.0</td>\n      <td>8741.0</td>\n      <td>0.0</td>\n      <td>1.0</td>\n      <td>0.0</td>\n      <td>0.0</td>\n      <td>1.0</td>\n      <td>1.0</td>\n      <td>...</td>\n      <td>0.0</td>\n      <td>0.0</td>\n      <td>0.0</td>\n      <td>0.0</td>\n      <td>0.0</td>\n      <td>0.0</td>\n      <td>0.0</td>\n      <td>0.0</td>\n      <td>0.0</td>\n      <td>0.0</td>\n    </tr>\n    <tr>\n      <th>1</th>\n      <td>348</td>\n      <td>0.0</td>\n      <td>1973.0</td>\n      <td>9202.0</td>\n      <td>0.0</td>\n      <td>1.0</td>\n      <td>0.0</td>\n      <td>0.0</td>\n      <td>1.0</td>\n      <td>1.0</td>\n      <td>...</td>\n      <td>0.0</td>\n      <td>0.0</td>\n      <td>0.0</td>\n      <td>0.0</td>\n      <td>0.0</td>\n      <td>0.0</td>\n      <td>0.0</td>\n      <td>0.0</td>\n      <td>0.0</td>\n      <td>0.0</td>\n    </tr>\n    <tr>\n      <th>2</th>\n      <td>349</td>\n      <td>0.0</td>\n      <td>1974.0</td>\n      <td>6599.0</td>\n      <td>0.0</td>\n      <td>1.0</td>\n      <td>0.0</td>\n      <td>0.0</td>\n      <td>1.0</td>\n      <td>0.0</td>\n      <td>...</td>\n      <td>0.0</td>\n      <td>0.0</td>\n      <td>0.0</td>\n      <td>0.0</td>\n      <td>0.0</td>\n      <td>0.0</td>\n      <td>0.0</td>\n      <td>0.0</td>\n      <td>0.0</td>\n      <td>0.0</td>\n    </tr>\n    <tr>\n      <th>3</th>\n      <td>351</td>\n      <td>0.0</td>\n      <td>1974.0</td>\n      <td>10864.0</td>\n      <td>0.0</td>\n      <td>0.0</td>\n      <td>1.0</td>\n      <td>1.0</td>\n      <td>0.0</td>\n      <td>0.0</td>\n      <td>...</td>\n      <td>0.0</td>\n      <td>0.0</td>\n      <td>0.0</td>\n      <td>0.0</td>\n      <td>0.0</td>\n      <td>0.0</td>\n      <td>0.0</td>\n      <td>0.0</td>\n      <td>0.0</td>\n      <td>0.0</td>\n    </tr>\n    <tr>\n      <th>4</th>\n      <td>352</td>\n      <td>0.0</td>\n      <td>1980.0</td>\n      <td>11347.0</td>\n      <td>0.0</td>\n      <td>1.0</td>\n      <td>0.0</td>\n      <td>0.0</td>\n      <td>1.0</td>\n      <td>1.0</td>\n      <td>...</td>\n      <td>0.0</td>\n      <td>0.0</td>\n      <td>0.0</td>\n      <td>0.0</td>\n      <td>0.0</td>\n      <td>0.0</td>\n      <td>0.0</td>\n      <td>0.0</td>\n      <td>0.0</td>\n      <td>0.0</td>\n    </tr>\n  </tbody>\n</table>\n<p>5 rows × 149 columns</p>\n</div>"
     },
     "metadata": {},
     "output_type": "display_data"
    },
    {
     "name": "stdout",
     "output_type": "stream",
     "text": [
      "(997, 149)\n"
     ]
    }
   ],
   "source": [
    "count = 0\n",
    "for index, row in Test.iterrows():\n",
    "    series = final.loc[final['Employee_No'] == row['Employee_No'], 'Year_of_Birth']\n",
    "    if series.size == 1:\n",
    "        final.loc[final['Employee_No'] == row['Employee_No'], 'Year_of_Birth'] = row['Year_of_Birth']\n",
    "        count = count + 1\n",
    "\n",
    "print('Totally updated: ', str(count))\n",
    "display(final.isna().sum())\n",
    "display(final.head())\n",
    "print(final.shape)"
   ],
   "metadata": {
    "collapsed": false,
    "ExecuteTime": {
     "start_time": "2023-06-10T21:23:46.458129Z",
     "end_time": "2023-06-10T21:23:46.556939Z"
    }
   }
  },
  {
   "cell_type": "code",
   "execution_count": 138,
   "outputs": [
    {
     "data": {
      "text/plain": "<Axes: >"
     },
     "execution_count": 138,
     "metadata": {},
     "output_type": "execute_result"
    },
    {
     "data": {
      "text/plain": "<Figure size 640x480 with 1 Axes>",
      "image/png": "[encoded data removed]"
     },
     "metadata": {},
     "output_type": "display_data"
    }
   ],
   "source": [
    "final.boxplot(column=['Year_of_Birth'])"
   ],
   "metadata": {
    "collapsed": false,
    "ExecuteTime": {
     "start_time": "2023-06-11T21:59:12.180200Z",
     "end_time": "2023-06-11T21:59:12.363197Z"
    }
   }
  },
  {
   "cell_type": "code",
   "execution_count": 139,
   "outputs": [
    {
     "data": {
      "text/plain": "<Axes: >"
     },
     "execution_count": 139,
     "metadata": {},
     "output_type": "execute_result"
    },
    {
     "data": {
      "text/plain": "<Figure size 640x480 with 1 Axes>",
      "image/png": "[encoded data removed]"
     },
     "metadata": {},
     "output_type": "display_data"
    }
   ],
   "source": [
    "final.boxplot(column=['Date_Joined_Days'])"
   ],
   "metadata": {
    "collapsed": false,
    "ExecuteTime": {
     "start_time": "2023-06-11T21:59:16.062550Z",
     "end_time": "2023-06-11T21:59:16.228357Z"
    }
   }
  },
  {
   "cell_type": "markdown",
   "source": [
    "# Finalize imputing the 'Marital_Status' and 'Year_of_Birth'"
   ],
   "metadata": {
    "collapsed": false
   }
  },
  {
   "cell_type": "code",
   "execution_count": 140,
   "outputs": [
    {
     "data": {
      "text/plain": "   Employee_No  Marital_Status  Year_of_Birth  Date_Joined_Days  Title_Miss  \\\n0          347             0.0         1965.0            8741.0         0.0   \n1          348             0.0         1973.0            9202.0         0.0   \n2          349             0.0         1974.0            6599.0         0.0   \n3          351             0.0         1974.0           10864.0         0.0   \n4          352             0.0         1980.0           11347.0         0.0   \n\n   Title_Mr  Title_Ms  Gender_Female  Gender_Male  Status_Active  ...  \\\n0       1.0       0.0            0.0          1.0            1.0  ...   \n1       1.0       0.0            0.0          1.0            1.0  ...   \n2       1.0       0.0            0.0          1.0            0.0  ...   \n3       0.0       1.0            1.0          0.0            0.0  ...   \n4       1.0       0.0            0.0          1.0            1.0  ...   \n\n   Designation_Trainee Engineer  Designation_Trainee Purchasing Officer  \\\n0                           0.0                                     0.0   \n1                           0.0                                     0.0   \n2                           0.0                                     0.0   \n3                           0.0                                     0.0   \n4                           0.0                                     0.0   \n\n   Designation_Trainee QS  Designation_Trainee Safety Officer  \\\n0                     0.0                                 0.0   \n1                     0.0                                 0.0   \n2                     0.0                                 0.0   \n3                     0.0                                 0.0   \n4                     0.0                                 0.0   \n\n   Designation_Trainee Technical Officer  Designation_Transport Assistant  \\\n0                                    0.0                              0.0   \n1                                    0.0                              0.0   \n2                                    0.0                              0.0   \n3                                    0.0                              0.0   \n4                                    0.0                              0.0   \n\n   Designation_Transport Officer  Designation_Unskilled Labor  \\\n0                            0.0                          0.0   \n1                            0.0                          0.0   \n2                            0.0                          0.0   \n3                            0.0                          0.0   \n4                            0.0                          0.0   \n\n   Designation_Wacher  Designation_Welder  \n0                 0.0                 0.0  \n1                 0.0                 0.0  \n2                 0.0                 0.0  \n3                 0.0                 0.0  \n4                 0.0                 0.0  \n\n[5 rows x 149 columns]",
      "text/html": "<div>\n<style scoped>\n    .dataframe tbody tr th:only-of-type {\n        vertical-align: middle;\n    }\n\n    .dataframe tbody tr th {\n        vertical-align: top;\n    }\n\n    .dataframe thead th {\n        text-align: right;\n    }\n</style>\n<table border=\"1\" class=\"dataframe\">\n  <thead>\n    <tr style=\"text-align: right;\">\n      <th></th>\n      <th>Employee_No</th>\n      <th>Marital_Status</th>\n      <th>Year_of_Birth</th>\n      <th>Date_Joined_Days</th>\n      <th>Title_Miss</th>\n      <th>Title_Mr</th>\n      <th>Title_Ms</th>\n      <th>Gender_Female</th>\n      <th>Gender_Male</th>\n      <th>Status_Active</th>\n      <th>...</th>\n      <th>Designation_Trainee Engineer</th>\n      <th>Designation_Trainee Purchasing Officer</th>\n      <th>Designation_Trainee QS</th>\n      <th>Designation_Trainee Safety Officer</th>\n      <th>Designation_Trainee Technical Officer</th>\n      <th>Designation_Transport Assistant</th>\n      <th>Designation_Transport Officer</th>\n      <th>Designation_Unskilled Labor</th>\n      <th>Designation_Wacher</th>\n      <th>Designation_Welder</th>\n    </tr>\n  </thead>\n  <tbody>\n    <tr>\n      <th>0</th>\n      <td>347</td>\n      <td>0.0</td>\n      <td>1965.0</td>\n      <td>8741.0</td>\n      <td>0.0</td>\n      <td>1.0</td>\n      <td>0.0</td>\n      <td>0.0</td>\n      <td>1.0</td>\n      <td>1.0</td>\n      <td>...</td>\n      <td>0.0</td>\n      <td>0.0</td>\n      <td>0.0</td>\n      <td>0.0</td>\n      <td>0.0</td>\n      <td>0.0</td>\n      <td>0.0</td>\n      <td>0.0</td>\n      <td>0.0</td>\n      <td>0.0</td>\n    </tr>\n    <tr>\n      <th>1</th>\n      <td>348</td>\n      <td>0.0</td>\n      <td>1973.0</td>\n      <td>9202.0</td>\n      <td>0.0</td>\n      <td>1.0</td>\n      <td>0.0</td>\n      <td>0.0</td>\n      <td>1.0</td>\n      <td>1.0</td>\n      <td>...</td>\n      <td>0.0</td>\n      <td>0.0</td>\n      <td>0.0</td>\n      <td>0.0</td>\n      <td>0.0</td>\n      <td>0.0</td>\n      <td>0.0</td>\n      <td>0.0</td>\n      <td>0.0</td>\n      <td>0.0</td>\n    </tr>\n    <tr>\n      <th>2</th>\n      <td>349</td>\n      <td>0.0</td>\n      <td>1974.0</td>\n      <td>6599.0</td>\n      <td>0.0</td>\n      <td>1.0</td>\n      <td>0.0</td>\n      <td>0.0</td>\n      <td>1.0</td>\n      <td>0.0</td>\n      <td>...</td>\n      <td>0.0</td>\n      <td>0.0</td>\n      <td>0.0</td>\n      <td>0.0</td>\n      <td>0.0</td>\n      <td>0.0</td>\n      <td>0.0</td>\n      <td>0.0</td>\n      <td>0.0</td>\n      <td>0.0</td>\n    </tr>\n    <tr>\n      <th>3</th>\n      <td>351</td>\n      <td>0.0</td>\n      <td>1974.0</td>\n      <td>10864.0</td>\n      <td>0.0</td>\n      <td>0.0</td>\n      <td>1.0</td>\n      <td>1.0</td>\n      <td>0.0</td>\n      <td>0.0</td>\n      <td>...</td>\n      <td>0.0</td>\n      <td>0.0</td>\n      <td>0.0</td>\n      <td>0.0</td>\n      <td>0.0</td>\n      <td>0.0</td>\n      <td>0.0</td>\n      <td>0.0</td>\n      <td>0.0</td>\n      <td>0.0</td>\n    </tr>\n    <tr>\n      <th>4</th>\n      <td>352</td>\n      <td>0.0</td>\n      <td>1980.0</td>\n      <td>11347.0</td>\n      <td>0.0</td>\n      <td>1.0</td>\n      <td>0.0</td>\n      <td>0.0</td>\n      <td>1.0</td>\n      <td>1.0</td>\n      <td>...</td>\n      <td>0.0</td>\n      <td>0.0</td>\n      <td>0.0</td>\n      <td>0.0</td>\n      <td>0.0</td>\n      <td>0.0</td>\n      <td>0.0</td>\n      <td>0.0</td>\n      <td>0.0</td>\n      <td>0.0</td>\n    </tr>\n  </tbody>\n</table>\n<p>5 rows × 149 columns</p>\n</div>"
     },
     "execution_count": 140,
     "metadata": {},
     "output_type": "execute_result"
    }
   ],
   "source": [
    "final.head()"
   ],
   "metadata": {
    "collapsed": false,
    "ExecuteTime": {
     "start_time": "2023-06-11T21:59:18.429908Z",
     "end_time": "2023-06-11T21:59:18.514445Z"
    }
   }
  },
  {
   "cell_type": "code",
   "execution_count": 141,
   "outputs": [
    {
     "data": {
      "text/plain": "   Employee_No  Employee_Code                 Name Title  Gender  Religion_ID  \\\n0          347              6    Myrl Bechtelar MD    Mr    Male            1   \n1          348             33         Francis Mraz    Mr    Male            1   \n2          349             53    Mr Emmet Blick Jr    Mr    Male            1   \n3          351             77  Mr Nelson Braun PhD    Ms  Female            4   \n4          352             88     Maximillian Hand    Mr    Male            1   \n\n  Marital_Status  Designation_ID Date_Joined Date_Resigned    Status  \\\n0        Married              24   12/8/1993            \\N    Active   \n1        Married              24   3/14/1995            \\N    Active   \n2        Married              23   1/27/1988     6/28/2021  Inactive   \n3        Married              40   10/1/1999     1/31/2022  Inactive   \n4        Married               7   1/26/2001            \\N    Active   \n\n  Inactive_Date Reporting_emp_1 Reporting_emp_2 Employment_Category  \\\n0            \\N              \\N              \\N               Staff   \n1            \\N              \\N              \\N               Staff   \n2     6/28/2021              \\N              \\N               Staff   \n3     1/31/2022              \\N              \\N               Staff   \n4            \\N              \\N              \\N               Staff   \n\n  Employment_Type  Religion         Designation Year_of_Birth  \n0       Permanant  Buddhist              Driver          1965  \n1       Permanant  Buddhist              Driver          1973  \n2       Permanant  Buddhist       Account Clerk          1974  \n3       Permanant  Catholic  Purchasing Officer          1974  \n4       Permanant  Buddhist        Store Keeper          1980  ",
      "text/html": "<div>\n<style scoped>\n    .dataframe tbody tr th:only-of-type {\n        vertical-align: middle;\n    }\n\n    .dataframe tbody tr th {\n        vertical-align: top;\n    }\n\n    .dataframe thead th {\n        text-align: right;\n    }\n</style>\n<table border=\"1\" class=\"dataframe\">\n  <thead>\n    <tr style=\"text-align: right;\">\n      <th></th>\n      <th>Employee_No</th>\n      <th>Employee_Code</th>\n      <th>Name</th>\n      <th>Title</th>\n      <th>Gender</th>\n      <th>Religion_ID</th>\n      <th>Marital_Status</th>\n      <th>Designation_ID</th>\n      <th>Date_Joined</th>\n      <th>Date_Resigned</th>\n      <th>Status</th>\n      <th>Inactive_Date</th>\n      <th>Reporting_emp_1</th>\n      <th>Reporting_emp_2</th>\n      <th>Employment_Category</th>\n      <th>Employment_Type</th>\n      <th>Religion</th>\n      <th>Designation</th>\n      <th>Year_of_Birth</th>\n    </tr>\n  </thead>\n  <tbody>\n    <tr>\n      <th>0</th>\n      <td>347</td>\n      <td>6</td>\n      <td>Myrl Bechtelar MD</td>\n      <td>Mr</td>\n      <td>Male</td>\n      <td>1</td>\n      <td>Married</td>\n      <td>24</td>\n      <td>12/8/1993</td>\n      <td>\\N</td>\n      <td>Active</td>\n      <td>\\N</td>\n      <td>\\N</td>\n      <td>\\N</td>\n      <td>Staff</td>\n      <td>Permanant</td>\n      <td>Buddhist</td>\n      <td>Driver</td>\n      <td>1965</td>\n    </tr>\n    <tr>\n      <th>1</th>\n      <td>348</td>\n      <td>33</td>\n      <td>Francis Mraz</td>\n      <td>Mr</td>\n      <td>Male</td>\n      <td>1</td>\n      <td>Married</td>\n      <td>24</td>\n      <td>3/14/1995</td>\n      <td>\\N</td>\n      <td>Active</td>\n      <td>\\N</td>\n      <td>\\N</td>\n      <td>\\N</td>\n      <td>Staff</td>\n      <td>Permanant</td>\n      <td>Buddhist</td>\n      <td>Driver</td>\n      <td>1973</td>\n    </tr>\n    <tr>\n      <th>2</th>\n      <td>349</td>\n      <td>53</td>\n      <td>Mr Emmet Blick Jr</td>\n      <td>Mr</td>\n      <td>Male</td>\n      <td>1</td>\n      <td>Married</td>\n      <td>23</td>\n      <td>1/27/1988</td>\n      <td>6/28/2021</td>\n      <td>Inactive</td>\n      <td>6/28/2021</td>\n      <td>\\N</td>\n      <td>\\N</td>\n      <td>Staff</td>\n      <td>Permanant</td>\n      <td>Buddhist</td>\n      <td>Account Clerk</td>\n      <td>1974</td>\n    </tr>\n    <tr>\n      <th>3</th>\n      <td>351</td>\n      <td>77</td>\n      <td>Mr Nelson Braun PhD</td>\n      <td>Ms</td>\n      <td>Female</td>\n      <td>4</td>\n      <td>Married</td>\n      <td>40</td>\n      <td>10/1/1999</td>\n      <td>1/31/2022</td>\n      <td>Inactive</td>\n      <td>1/31/2022</td>\n      <td>\\N</td>\n      <td>\\N</td>\n      <td>Staff</td>\n      <td>Permanant</td>\n      <td>Catholic</td>\n      <td>Purchasing Officer</td>\n      <td>1974</td>\n    </tr>\n    <tr>\n      <th>4</th>\n      <td>352</td>\n      <td>88</td>\n      <td>Maximillian Hand</td>\n      <td>Mr</td>\n      <td>Male</td>\n      <td>1</td>\n      <td>Married</td>\n      <td>7</td>\n      <td>1/26/2001</td>\n      <td>\\N</td>\n      <td>Active</td>\n      <td>\\N</td>\n      <td>\\N</td>\n      <td>\\N</td>\n      <td>Staff</td>\n      <td>Permanant</td>\n      <td>Buddhist</td>\n      <td>Store Keeper</td>\n      <td>1980</td>\n    </tr>\n  </tbody>\n</table>\n</div>"
     },
     "metadata": {},
     "output_type": "display_data"
    }
   ],
   "source": [
    "le = LabelEncoders['Marital_Status']\n",
    "_array = final['Marital_Status'].astype('int64')\n",
    "_array = _array.to_numpy()\n",
    "result = le.inverse_transform(_array)\n",
    "\n",
    "chatterbox['Marital_Status'] = result\n",
    "\n",
    "final['Year_of_Birth'] = final['Year_of_Birth'].astype('int64')\n",
    "final['Year_of_Birth'] = final['Year_of_Birth'].astype('object')\n",
    "\n",
    "chatterbox['Year_of_Birth'] = final['Year_of_Birth']\n",
    "\n",
    "display(chatterbox.head())"
   ],
   "metadata": {
    "collapsed": false,
    "ExecuteTime": {
     "start_time": "2023-06-11T21:59:19.165708Z",
     "end_time": "2023-06-11T21:59:19.250521Z"
    }
   }
  },
  {
   "cell_type": "code",
   "execution_count": 142,
   "outputs": [
    {
     "data": {
      "text/plain": "(997, 19)"
     },
     "execution_count": 142,
     "metadata": {},
     "output_type": "execute_result"
    }
   ],
   "source": [
    "chatterbox.shape"
   ],
   "metadata": {
    "collapsed": false,
    "ExecuteTime": {
     "start_time": "2023-06-11T21:59:20.196123Z",
     "end_time": "2023-06-11T21:59:20.239602Z"
    }
   }
  },
  {
   "cell_type": "code",
   "execution_count": 143,
   "outputs": [
    {
     "data": {
      "text/plain": "Employee_No             int64\nEmployee_Code           int64\nName                   object\nTitle                  object\nGender                 object\nReligion_ID             int64\nMarital_Status         object\nDesignation_ID          int64\nDate_Joined            object\nDate_Resigned          object\nStatus                 object\nInactive_Date          object\nReporting_emp_1        object\nReporting_emp_2        object\nEmployment_Category    object\nEmployment_Type        object\nReligion               object\nDesignation            object\nYear_of_Birth          object\ndtype: object"
     },
     "execution_count": 143,
     "metadata": {},
     "output_type": "execute_result"
    }
   ],
   "source": [
    "chatterbox.dtypes"
   ],
   "metadata": {
    "collapsed": false,
    "ExecuteTime": {
     "start_time": "2023-06-11T21:59:20.828122Z",
     "end_time": "2023-06-11T21:59:20.914351Z"
    }
   }
  },
  {
   "cell_type": "code",
   "execution_count": 144,
   "outputs": [
    {
     "data": {
      "text/plain": "Employee_No            0\nEmployee_Code          0\nName                   0\nTitle                  0\nGender                 0\nReligion_ID            0\nMarital_Status         0\nDesignation_ID         0\nDate_Joined            0\nDate_Resigned          0\nStatus                 0\nInactive_Date          0\nReporting_emp_1        0\nReporting_emp_2        0\nEmployment_Category    0\nEmployment_Type        0\nReligion               0\nDesignation            0\nYear_of_Birth          0\ndtype: int64"
     },
     "execution_count": 144,
     "metadata": {},
     "output_type": "execute_result"
    }
   ],
   "source": [
    "chatterbox.isna().sum()"
   ],
   "metadata": {
    "collapsed": false,
    "ExecuteTime": {
     "start_time": "2023-06-11T21:59:21.559048Z",
     "end_time": "2023-06-11T21:59:21.571618Z"
    }
   }
  },
  {
   "cell_type": "code",
   "execution_count": 145,
   "outputs": [
    {
     "data": {
      "text/plain": "array([1965, 1973, 1974, 1980, 1962, 1969, 1981, 1967, 1976, 1986, 1975,\n       1984, 1963, 1990, 1961, 1982, 1991, 1978, 1994, 1989, 1960, 1993,\n       1988, 1972, 1995, 1992, 1987, 1997, 1985, 1947, 1966, 1955, 1979,\n       1959, 1957, 1958, 1970, 2001, 1996, 1998, 1983, 1999, 1971, 1946,\n       1952, 1968, 1954, 1964, 2000, 1951, 2003, 1949, 1977, 1956, 1953,\n       2005, 2002, 1950, 2006], dtype=object)"
     },
     "execution_count": 145,
     "metadata": {},
     "output_type": "execute_result"
    }
   ],
   "source": [
    "chatterbox['Year_of_Birth'].unique()"
   ],
   "metadata": {
    "collapsed": false,
    "ExecuteTime": {
     "start_time": "2023-06-11T21:59:22.811698Z",
     "end_time": "2023-06-11T21:59:22.877693Z"
    }
   }
  },
  {
   "cell_type": "code",
   "execution_count": 146,
   "outputs": [
    {
     "data": {
      "text/plain": "array(['Mr', 'Ms', 'Miss'], dtype=object)"
     },
     "execution_count": 146,
     "metadata": {},
     "output_type": "execute_result"
    }
   ],
   "source": [
    "chatterbox['Title'].unique()"
   ],
   "metadata": {
    "collapsed": false,
    "ExecuteTime": {
     "start_time": "2023-06-11T21:59:23.558726Z",
     "end_time": "2023-06-11T21:59:23.600774Z"
    }
   }
  },
  {
   "cell_type": "code",
   "execution_count": 147,
   "outputs": [
    {
     "data": {
      "text/plain": "array(['Myrl Bechtelar MD', 'Francis Mraz', 'Mr Emmet Blick Jr',\n       'Mr Nelson Braun PhD', 'Maximillian Hand', 'Zena Nicolas',\n       'Coralie Bernhard', 'Josh Roob', 'Ernest Upton',\n       'Sydney Oberbrunner', 'Angeline Yundt', 'Prof Karlie Bauch III',\n       'Leonel Romaguera', 'Sidney Macejkovic', 'Prof Jerod Pfeffer',\n       'Ignatius Volkman DDS', 'Doyle Hettinger', 'Izaiah Berge',\n       'Prof Arden Jacobs III', 'Shaylee Schroeder III', 'Raymond Bogan',\n       'Kayden Rice', 'Macey Simonis', 'Jayde Witting', 'Sylvan Gislason',\n       'Dr Kennedy Ryan MD', 'Tillman Greenfelder', 'Hanna Wyman',\n       'Tessie Fadel', 'Orval Hessel', 'Katelin Thompson',\n       'Savanna Spinka', 'Carley Bogisich', 'Jaquelin Block',\n       'Garland Feeney', 'Elody Waelchi', 'Nola Grant', 'Macie Kuvalis',\n       'Julie Osinski', 'Jody Stokes', 'Scottie Ratke',\n       'Braulio Pagac IV', 'Jon Kuhn', 'Ally Nikolaus',\n       'Jesus Dietrich Sr', 'Addie Purdy', 'Noelia Roberts DDS',\n       'Isabella Brakus', 'Bo Schaefer I', 'Ms Jany Lemke',\n       'Dr Kieran Bradtke IV', 'Marcos Kemmer MD', 'Burley Willms',\n       'Kaley Ankunding MD', 'Rogers Conroy', 'Alison Price V',\n       'Thea Gaylord', 'Laron Turcotte', 'Miss Ashley Spinka IV',\n       'Prof Damaris Kemmer DDS', 'Corene Weber DDS', 'Madisyn Raynor',\n       'Prof Bridgette Gerlach DVM', 'Prof Elian Roberts MD',\n       'Giovanna Turner', 'Ricky Hintz', 'Jaunita Senger', 'Buddy Kunze',\n       'Lavon Stokes', 'Prof Bridget Johnson II', \"Mrs Eliza O'Kon I\",\n       'Ms Evelyn Farrell IV', 'Miss Amaya Bogisich III', 'Madisyn Huel',\n       'Aurelie Green', 'Saul Marquardt', 'Monica Wunsch',\n       'Miss Chelsie Heidenreich', 'Geovanny Gaylord', 'Johnny Price',\n       'Miss Naomie Swaniawski II', 'Mr Roel Monahan V', 'Amanda Keebler',\n       'Anne Abbott III', 'Alfred Turner', 'Lawrence Hane',\n       'Kenyatta Rempel', 'Prof Avery Volkman', 'Kathleen Denesik',\n       'Dr Nat Adams', 'Ludwig Stamm', 'Emie Conroy', 'Piper Dooley',\n       'Miss Greta Langosh', 'Gertrude Leannon', 'Dr Bernice Feil',\n       'Ewell Koch', 'Cristobal Wilkinson', 'Mason Ryan', 'Shea Terry MD',\n       'Virginia Stokes', 'Dante Ledner', 'Mrs Betty West Sr',\n       'Willa Kunde', 'Dr Jaden Conn', 'Hallie Parker',\n       'Andreanne Roberts', 'Tania Bode', 'Prof Paris Homenick',\n       'Hope Ward', 'Mr Bartholome Hintz', 'Mr Archibald Abshire',\n       'Leilani Nikolaus', 'Carmen Dickinson', 'Brenden Hartmann IV',\n       'Terrence Lehner', 'Darius Zulauf', 'Dr Adrien Beahan',\n       'Ilene Goyette', 'Odessa Crist Sr', 'Prof Jacynthe Kulas',\n       'Mr Scottie Streich', 'Myles Monahan MD',\n       'Miss Clotilde Braun III', 'Quinn Hansen', 'Audrey Tromp',\n       'Javon Zulauf', 'Miss Alta Sipes MD', 'Dr Lynn Gleason III',\n       'Alek Moore', 'Dr Donny Ryan III', 'Dr Dennis Bosco',\n       'Manuel Bechtelar', 'Dr Torey Gibson', 'Maiya Bernier',\n       'Miss Burdette Kunze DDS', 'Willa Bruen Jr', 'Prof Johanna Bednar',\n       'Mr Erin Marquardt II', 'Mariam Carter DVM', 'Alison Graham',\n       'Haleigh McCullough', 'Kelsi Effertz', 'Prof Cleta Hackett Jr',\n       'Sophie Turner', 'Joaquin Wisozk', 'Deontae Zemlak',\n       'Jeanie McLaughlin', 'Donnell Walsh', 'Luna Harris DDS',\n       'Prof Delores Barrows', 'Prof Torey DuBuque', 'Stella Aufderhar',\n       'Prof Kameron Murphy Sr', 'Alessandra Hermann', 'Stone Hyatt I',\n       'Ms Wilma Lowe', 'Dr Sigmund Bartell', 'Corene Hyatt Sr',\n       'Laurence Hamill', 'Mr Wilfredo Schmidt DVM', 'Charlotte Bauch',\n       'Marcelo Lubowitz II', 'Fermin Medhurst', 'Jamie Ortiz',\n       'Jacky Luettgen', 'Prof Vinnie Waelchi', 'Demetris Heaney',\n       'Justina Tillman', 'Mr Giovani Schimmel', 'Ricardo Fadel',\n       'Anita Sporer IV', 'Clifton Kerluke', 'Prof Newell Ondricka V',\n       'John Halvorson', 'Khalid Lockman I', 'Opal Yundt',\n       'Garrison Steuber', 'Laurianne Adams', 'Mr Cooper Hills',\n       'Prof Alfreda Mills Jr', 'Jeramie Simonis', 'Oral Marks',\n       'Jaime Paucek', 'Ashlynn Balistreri', 'Ima Jast',\n       'Prof Nannie Cole', 'Dedric Steuber', 'Hollie Rath',\n       'Nolan Cronin Jr', 'Tate Hackett', 'Wayne Hartmann', 'Oma McGlynn',\n       'Aleen Kub IV', 'Rogelio Wyman', 'Bernardo Roberts',\n       'Jayde Gaylord DDS', 'Clarabelle Smitham', 'Missouri Satterfield',\n       'Mikel Rutherford', 'Bettie Rowe', 'Sarina Christiansen',\n       'Dr Jazmyne Farrell MD', 'Toy Toy', 'Annamarie Cartwright',\n       'Stanley Zulauf', 'Hobart Stracke', 'Mrs Shanna Pagac',\n       'Karen Sipes', 'Dr Megane Stoltenberg', 'Thurman Greenfelder',\n       'Lionel Hettinger', 'Elian Oberbrunner', 'Loraine Schmeler',\n       'Manuel Rau', 'Prof Barney Carroll Sr', 'Prof Rowena Skiles',\n       'Oleta Schroeder', 'America Haley', 'Nathen Langosh MD',\n       'Mr Efren Langworth Jr', 'Lacey Paucek', 'Mrs Bessie Schultz',\n       'Miss Wanda Bayer', 'Irving Paucek', 'Dr Marion Borer',\n       'Prof Sienna Quigley', 'Chanel Spencer', 'Cletus Bayer Sr',\n       'Dr Dashawn Bailey', 'Weston Prohaska III', 'Alejandra Kreiger',\n       'Prof Marlin Adams', 'Fausto Konopelski', 'Cali Jacobson',\n       'Leif Konopelski', 'Prof Norma Osinski MD', 'Brandt Satterfield',\n       'Hope White', 'Wilburn Gleason', 'Dr Ward Pagac',\n       'Prof Vickie Oberbrunner I', 'Mrs Veronica Ziemann',\n       'Emilio Lebsack', 'Dr Jessy Schmidt', 'Danial Hyatt',\n       'Alexandro Marvin DDS', 'Clementine Lehner', 'Ramiro Leffler',\n       'Dr Candelario Douglas Jr', 'Miss Allison Tillman',\n       'Katarina Wintheiser', 'Letha Gleason', 'Katrina Effertz',\n       'Dorcas Wuckert', 'Miss Chanelle Corkery I', 'Benjamin Cronin',\n       'Herminia Feest', 'Shakira Wiegand', 'Jadyn Lang',\n       'Dr Jackie Schumm I', 'Precious Kemmer', 'Josie Gutkowski',\n       'Prof Bertha Emard Sr', 'Shanny Kohler MD', 'Craig Gutmann',\n       'Miss Frances Barton IV', 'Dallin Feeney', 'Kristina Bahringer',\n       'Mr German Spinka DDS', 'Dr Marco Casper', 'Herman Cronin',\n       'Lorine Grimes', 'Adah Tromp', 'Lisa Jaskolski', 'Leon Trantow',\n       'Myrtle Hammes', 'Vanessa Tremblay IV', 'Hulda Leannon III',\n       'Nelson Considine', 'Prof Garret Blanda I', 'Sierra Marks',\n       'Elenor Nitzsche', 'Theron Nader', 'Ms Trisha Barrows DVM',\n       'Evert Christiansen', 'Rosina Feil DVM', 'Jean Stanton',\n       'Janessa Powlowski', 'Dr Amara Leffler', 'Kassandra Gerlach',\n       'Dale Kuhn', 'Dr Garth Gerlach', 'Mr Garrett Bernier',\n       'Alexandrea Cormier V', 'Porter Renner', 'Jennyfer Waelchi III',\n       'Gustave Balistreri Sr', 'Wilfrid Smitham', 'Gage Deckow III',\n       'Amber Mitchell', 'Dr Cristal Collier Jr', 'Mozell Cremin',\n       'Dave DuBuque DDS', 'Pinkie Harber', 'Katelyn Mitchell',\n       'Libbie Price PhD', 'Elza Bode', 'Miss Libby Dibbert',\n       'Sarina Weber', 'Sherwood Padberg', 'Dr Noble Bruen',\n       'Connie Murazik', 'Gerda Hoppe', 'Nolan Mann',\n       'Prof Jayden Vandervort PhD', 'Miss Fabiola Morissette',\n       'Lowell Lang', 'Abigayle Deckow', 'Lexie Wunsch', 'Kiley Deckow',\n       'Bella Rosenbaum', 'Lauren Cassin', 'Chloe Hammes III',\n       'Elwin Luettgen', 'Evangeline Cummings', 'Della Tremblay',\n       'Joannie Shields', 'Jewell Bogisich', 'Amos Cremin IV',\n       'Raymundo Ortiz', 'Prof Sandrine Kulas', 'Rebecca Kuvalis III',\n       'Dr Jadon Rempel', 'Kaylin Aufderhar IV', 'Layne Bins MD',\n       'Charlene Harris', 'Mortimer Walter', 'Maya King',\n       'Chanelle Konopelski', 'Irwin Treutel', 'Dr Milford Gerlach Sr',\n       'Louvenia Gerlach', 'Prof Royal Koelpin', 'Antonetta Littel',\n       'Prof Nicolas Cronin', 'Prof Marie Sporer Sr', 'Margie Tremblay',\n       'Dennis Miller', 'Dean Strosin', 'Constance McClure',\n       'Miss Judy Carroll III', 'Mr Gaston Wintheiser', 'Danika Collier',\n       'Mr Schuyler Fritsch Jr', 'Alyce Littel', 'Mr Christ Schinner',\n       'Dr Destany Rempel', 'Eric Luettgen', 'Jed Hermann MD',\n       'Sonia Stoltenberg I', 'Dean Kohler', 'Alysa Schimmel',\n       'Gussie Beahan MD', 'Mrs Heloise Kovacek', 'Ms Elta Hoeger III',\n       'Isabelle Turner', 'Dave Bernhard', 'Kacie Rippin PhD',\n       'Prof Oswaldo Collins', 'Sheila Toy', 'Kameron Hilpert',\n       'Mrs Meagan Jenkins', 'Ms Margarita Vandervort IV',\n       'Eliezer Schaden', 'Flo Nienow', 'Mrs Kiarra Hickle',\n       'Kevin Dooley', 'Prof Esther Bradtke MD', 'Prof Cody Monahan',\n       'Prof Oscar Shields', 'Ferne Beier V', 'Mr Keshawn DuBuque',\n       'Rasheed Abshire', 'Mr Michael Cassin', 'Hardy Casper',\n       'Lilliana Wisozk', 'Mr Cameron McCullough', 'Louie Hackett',\n       'Ernest Effertz', 'Edmond Schulist', 'Genevieve Hahn',\n       'Sunny Heller', 'Isai Jacobson IV', 'Maybell Okuneva',\n       'Benjamin Willms', 'Orland Hansen', 'Mariana Borer', 'Ellis Mayer',\n       'Cecile Jacobson', 'Krystal Dietrich', 'Mr Connor Hauck',\n       'Sammy Heidenreich', 'Cristopher Keebler',\n       'Prof Freeda Strosin II', 'Eula Klein', 'Dario Romaguera',\n       'Julius Douglas', 'Dr Hettie Robel', 'Domingo Harber I',\n       'Mrs Alvera McClure Sr', 'Magnus Gerlach III', 'Jamel Davis',\n       'Zoey Rempel', 'Dr Waylon Cassin DVM', 'Horace Connelly',\n       'Katharina Kling', 'Miss Makayla Weber IV', \"Jarred D'Amore\",\n       'Erika Kihn', 'Mr Jefferey Bernier', 'Lily Fritsch',\n       'Tamara Grant IV', 'Ms Amanda Yost', 'Mollie Lemke MD',\n       'Melvin Schroeder', 'Maximus Luettgen', 'Caroline Williamson I',\n       'Jewel Lakin', 'Nikki McLaughlin', 'Prof Brent Mills MD',\n       'Rebekah Yost', 'Prof Dorothea Lubowitz', 'Kailey Schumm',\n       'Bessie Lueilwitz', 'Prof Hertha Bernier I', 'Mr Johann Hirthe V',\n       'Mrs Verona Spencer DDS', 'Gudrun Schumm Sr', 'Bria Wiza',\n       'Effie Feil V', 'Israel Hettinger', 'Mr Brando Sauer PhD',\n       'Davin Mueller IV', 'Robert Swift', 'Dr Travon Gutmann V',\n       'Nayeli Stehr', 'Dan Heathcote', 'Pierce Kling', 'Pasquale Block',\n       'Alene Rath', 'Dr Ashley Doyle', 'Dejah Cormier', 'Rosalia Braun',\n       'Shawn Goldner IV', 'Alfreda Stiedemann Jr', 'Sheldon Boehm',\n       'Brando Zboncak', 'Dameon Kshlerin I', 'Mr Dewitt Mraz DDS',\n       'Zena Bauch', 'Arden Upton Jr', 'Prof Devan Bogisich V',\n       'Ms Adell Watsica', 'Marianne Dickens', 'Bart Weber',\n       'Mrs Matilda Lehner DVM', 'Elza Bailey', 'Sally Hegmann',\n       'Sherman Hahn', 'Mr Antonio Parisian', 'Chadd Gorczany Sr',\n       'Prof Peyton Waelchi DVM', 'Flavio Monahan', 'Edmund McClure',\n       'Jaeden Mohr', 'Dr Fabiola Ward Jr', 'Candida Wisozk', 'Karl Rau',\n       'Nichole Murray', 'Allene Sipes', 'Isabelle Daniel',\n       'Martine Lesch', 'Zakary Emmerich', 'Antone Kautzer',\n       'Margaretta Braun', 'Mallory Runolfsson', 'Mrs Ivah Vandervort',\n       'Esteban Davis', 'Mr Devyn Swift', 'Garth Gutmann',\n       'Prof Doyle Ankunding', 'Mr Anderson Harvey PhD',\n       'Miss Felicity Skiles', 'Muriel Turcotte', 'Emanuel Larkin',\n       'Josefa Goyette', 'Belle Roberts DDS', 'Dr Gabriel Dicki',\n       'Alysson Rath', 'Dr Erwin Kuhn III', 'Judd Johnston',\n       'Prof Presley Koepp II', 'Aletha Becker', 'Ezekiel Greenfelder',\n       'Julius Fay', 'Anna Morar', 'Dr Nico Hessel Sr',\n       'Ms Lavonne Auer I', \"Neha O'Hara\", 'Mrs Alayna Bechtelar',\n       'Heloise Gutkowski', 'Maybell Parker', 'Bethel Graham',\n       'Iliana Parisian', 'Jarrod Keebler', \"Althea O'Kon\",\n       'Samantha Franecki', 'Arely Lang', 'Carley Ferry', 'Queenie Wolf',\n       'Myles Kris', 'Wilhelm Hill DDS', 'Prof Merritt Zieme',\n       'Prof Rachael Kuhlman MD', 'Nathanial Terry',\n       'Prof Arden Franecki V', 'Verlie Hodkiewicz', 'Carissa Gerlach',\n       'Dr Elmore Huels MD', 'Yazmin Gleason', 'Mrs Lelah Lesch',\n       \"Avis D'Amore\", 'Carli Crist', 'Lester Mann IV', 'Rhea Walker',\n       'Mortimer Towne', 'Vern Shanahan', 'Luciano Barrows',\n       'Mr Lucio Sauer MD', 'Aletha Schaefer I', 'Roberta Baumbach',\n       'Tom Gutkowski', 'Mateo Braun Sr', 'Kelsi Koss III', 'Lyda Bauch',\n       'Dr Dylan Powlowski', 'Trudie Davis PhD', 'Alessia Effertz',\n       'Itzel Langosh', 'Donny Hauck', 'Ignacio Mohr', 'Elvie Reynolds',\n       'Houston Pagac', 'Ariel Wolff', 'Miss Fleta Rowe I', 'Dane Jones',\n       'Clarabelle Lemke II', 'Mrs Celestine Cartwright IV', 'Estel Hahn',\n       'Reagan Marquardt', 'Dr Alexie Simonis', 'Erin Grimes',\n       'Ava Okuneva', 'Zola Lind Jr', 'Dr Sid Rutherford',\n       'Christy Gleichner', 'Devin Osinski', 'Wyman Bashirian',\n       'Marques Prohaska', 'Prof Nona Mante', 'Vita Lind MD',\n       'Lamont Leffler', 'Angeline Turcotte', 'Ms Eugenia Yost V',\n       'Lukas Walter', 'Treva Hoppe', 'Mrs Mallie Torp IV',\n       'Prof Maxine Becker II', \"Murphy O'Hara\", 'Mr Cesar Powlowski II',\n       'Nels Schulist', 'Fidel Muller', 'Carol Mertz MD',\n       'Prof Bethel Lemke', 'Duncan Waters', 'Miss Jeanne Schoen',\n       'Dr Ryann Feest PhD', 'Myriam Buckridge', 'Emelie Langworth',\n       'Miss Libbie Reinger', 'Jodie Satterfield', 'Antonetta Wyman',\n       'Dr Serena Trantow', 'Ms Delores Towne DDS', 'Adonis Trantow MD',\n       'Jefferey Torp', 'Mr Erik Bruen PhD', 'Elissa Krajcik',\n       'Donnie Bergstrom', 'Marina Reichert III', 'Chesley Morissette',\n       'Mrs Sally Spencer', 'Prof Christop West IV', 'Dixie Gleason',\n       'Mrs Emely Oberbrunner DVM', 'Prof Viola Swaniawski',\n       'Rollin Okuneva', 'Stephania Greenholt', 'Vanessa Wuckert',\n       'Gust Pagac', 'Hulda Wolf', 'Miss Viola Collins DDS',\n       'Rhett Haley', 'Braxton Volkman', 'Clotilde Boyer III',\n       'Lelah Williamson', 'Mr Lon Hackett', 'Miss Clara Hessel I',\n       'Ms Nellie Bruen Jr', 'Estella Heidenreich Jr', 'Emmitt Kling',\n       'Adan Schimmel', 'Miss Etha Hudson Sr', 'Sage Lebsack',\n       'Alverta Bode', 'Cordelia Vandervort IV', 'Kayley Bosco',\n       'Micheal Reichel', 'Blake Jast', 'Dolores Kerluke', 'Golda Bogan',\n       'Garrett Stiedemann', 'Miss Melyssa Moore DVM', 'Daphne Harris',\n       'Dahlia Mueller', 'Shanel Kris DVM', 'Yesenia Dickens Jr',\n       'Zella Macejkovic', 'Claud Nolan', 'Dejah Prosacco',\n       'Terrence Weimann', 'Mrs Theresia Stokes DVM', 'Jamison Feest',\n       'Samantha Wolff', 'Erling Upton', 'Elmira Gleason',\n       'Isac Marvin Jr', 'Mariam Lindgren', 'Mr Rodrick Bartell',\n       'Stephania Conn', 'Arlie Ruecker Sr', 'Dr Nadia Tillman IV',\n       'Mrs Shaniya Swaniawski', 'Dianna Quigley', 'Alfredo Pfeffer',\n       'Mable Langworth', 'Marianne Hessel', 'Gerry Kshlerin',\n       'Berta Davis', 'Norene Sipes', 'Jeffry Hansen', 'Malinda Ritchie',\n       'Dr Neal Zemlak', 'Edison Mills', 'Ms Rowena Mayert IV',\n       'Miss Rita Considine PhD', 'Uriah Nienow', 'Arnulfo Kuphal',\n       'Drake Hamill', 'Miss Savanah Moore Sr', 'Jaquelin Kohler',\n       'Mr Shaun Mante Jr', 'Clarissa Goodwin', 'Bridgette Halvorson',\n       'Mckenzie Bruen', 'Norma Hartmann MD', 'Ms Pearlie Hettinger Sr',\n       'Mireille Bergnaum', 'Allene Larson', 'Prof Patrick Kohler',\n       \"Prof Lonie O'Hara\", 'Laverne Hudson', 'Rachelle Kling',\n       'Mrs Stacy Larson', 'Estell Bins MD', 'Miss Eden Runolfsson',\n       'Meredith Kuhic PhD', 'Erica Barton', 'Prof Freda Eichmann',\n       'Jerrell Witting', 'Prof Dusty Purdy Sr', 'Ms Rafaela Johns MD',\n       'Oceane Krajcik I', 'Floyd Brown', 'Prof Alaina Wolf',\n       'Prof Geoffrey Weber IV', 'Libby Rice', 'Eugene Windler',\n       'Prof Carmelo Adams', 'Adonis Runolfsdottir', 'Noelia Cremin',\n       'Hilma Bartell', 'Cortez Bartoletti', 'Daron Bahringer',\n       'Jalyn Maggio', 'Treva Powlowski', 'Prof Braxton Bode DVM',\n       'Isadore Kirlin', 'Etha Wolf', 'Prof Clay Buckridge',\n       'Deja Durgan', 'Samanta Williamson', 'Meredith Becker',\n       'Dashawn Kassulke', 'Mr Demarco Shields', 'Tanner Hegmann',\n       'Karley Jerde', 'Elmore Rutherford', 'Duane Tromp III',\n       'Dr Sammie Volkman', 'Yoshiko Leannon', 'Mrs Marianna Shields',\n       'Jewell Hoppe II', 'Eula Welch', 'Danielle Crona',\n       'Prof Shanel Hilpert III', 'Monroe Tremblay DDS',\n       'Hubert Schneider', 'Brenda Denesik', 'Adolf White',\n       'Avis Oberbrunner', 'Prof Eric Lowe', 'Prof Coralie Reichel DVM',\n       'Melvina Rowe', 'Talia Bergstrom', 'Aracely Wisozk',\n       'Dr Orland Ryan', 'Rene Mitchell', 'Maida Barton DVM',\n       'Brigitte Halvorson', 'Mrs Tamia Nolan III', 'Dallin Macejkovic',\n       'Candace Ankunding PhD', 'Prof Oscar Fadel', 'Valentin Toy',\n       'Dr Lamont Murphy IV', 'Freeda Rice IV', 'Karina Predovic III',\n       'Gabriella Gleason', 'Dr Katherine Kovacek', 'Ransom Grant',\n       'Judd Hartmann', 'Mr Franco Friesen Jr', 'Carol Weimann',\n       'Kaylie Von', 'Karen Wolf', 'Delilah Mueller', 'Jay Buckridge',\n       'Kendrick Runolfsson', 'Gilbert Hermiston II', 'Emilie Klein',\n       'Sheila Jakubowski', 'Dr Adeline Rowe', 'Aimee Dach',\n       'Lenore Nikolaus', 'Craig Balistreri', 'Dr Bert Kozey',\n       'Enrico Vandervort', 'Alberto Wunsch', 'Emmanuel Koelpin',\n       'Dr Eldora Hayes', 'Mr Zachery Romaguera', 'Margaret Shanahan',\n       'Justyn Lindgren', 'Anibal Hamill', 'Dr Alicia Keebler',\n       'Osvaldo Runolfsson', 'Sophia Kunde IV', 'Ayana Fritsch',\n       'Emely Lueilwitz', 'Dr Freddie Brakus', 'Prof Wilfrid Renner',\n       'Loyce Botsford DDS', 'Enrique Mayer', 'Duncan Schumm',\n       'Prof Germaine Bergnaum DVM', 'Angus Hoeger Jr', 'Velma Kiehn',\n       'Prof Mia Ebert', 'Ryley Dare', 'Morton Schaden',\n       'Maida Gulgowski', 'Dr Nathaniel McDermott', 'Annamae Haley',\n       'Delfina Schmitt III', 'Mr Freddy Kuhic PhD', 'Keely Gislason',\n       'Kyler Fay', 'Westley Hermann', \"Robin O'Connell\",\n       'Alycia Smitham', 'Humberto Hodkiewicz', 'Theresa Bernier',\n       'Wallace Beier IV', 'Rosella Walker', 'Domingo Raynor',\n       'Miss Bernice Jerde', 'Dr Phyllis Hoppe DDS', 'Alize Bartoletti',\n       'Arthur Keebler', 'Reuben Ebert', 'Prof Archibald Quitzon V',\n       'Leonie Effertz MD', 'Omari Hintz', 'Deja Smith',\n       'Prof Warren Bartell', 'Lucius Pfannerstill DDS',\n       'Brandi Daniel Sr', 'Cheyanne Mueller', \"Jaunita O'Connell\",\n       'Adella Walsh', 'Lenore Price I', 'Ernest Dietrich DVM',\n       'Jade Kuphal', 'Dr Sally Ritchie I', 'Hillary Cronin',\n       'Leone Blick Sr', 'Dr Orpha Padberg', 'Ike Williamson',\n       'Lesley Emmerich', 'Mazie Douglas', 'Kyler Bins',\n       'Richie Nitzsche I', 'Mrs Jennifer Monahan PhD',\n       'Gudrun Cruickshank', 'Mr Ewell Mueller Sr', 'Lorenza Deckow',\n       'Rosie Kutch', 'Leta Pfannerstill', 'Mr Maximus Lakin DDS',\n       'Prof Franz Dicki', 'Prof Richmond Dooley III', 'Ms Melba Walter',\n       'Sim Abbott III', 'Lavon Littel', 'Vaughn Mills',\n       'Mr Madyson Hammes III', 'Mr Hiram Homenick III',\n       'Dr Daryl Schaefer', 'Dr Mariana Stiedemann DVM', 'Tillman Fadel',\n       'Tracy Sporer', 'Ms Karianne Tromp', 'Kennedi Sipes',\n       'Mr Rollin Koelpin III', 'Cydney Larson', 'Ophelia Konopelski III',\n       'Prof Meda Gottlieb Jr', 'Mr Julio Ledner II', 'Dr Ben Skiles',\n       'Breanne Leuschke', 'Cathrine Rogahn', 'Lisandro Heidenreich IV',\n       'Prof Jovan Romaguera', 'Florence Reichert', 'Tara Blick V',\n       'Maeve Mertz', 'Prof Shane Heller Jr', 'Mrs Meggie Ankunding',\n       'Prof Kurtis Larkin MD', 'Graciela Miller III', 'Charity Feil',\n       'Miss Ernestine Olson III', 'Osborne Emmerich', 'Howard Kihn',\n       'Destinee Kirlin', 'Maci Casper', 'Francis Weimann',\n       'Lilly Prohaska PhD', 'Amalia Morissette', 'Rubye Olson',\n       'Verdie McKenzie', 'Dr Dean Runolfsson', 'Abagail Trantow',\n       'Prince Goodwin', 'Miss Clementina Kilback', 'Junior Stamm',\n       'Eldridge Conroy', 'Prof Sarai Rodriguez', 'Dixie Bechtelar',\n       'Herbert Legros', 'Zula Price IV', 'Oda Flatley Jr',\n       'Carley Kunze', 'Norberto Dach', 'Mrs Kayla Steuber DDS',\n       'Nellie Runolfsdottir', 'Emmalee Hoeger', 'Agnes Leuschke',\n       'Ms Lysanne Welch II', 'Gerson Ferry', 'Hayden Considine V',\n       'Gracie Roob', 'Clovis Lakin', 'Wilfrid Eichmann IV',\n       'Mr Stanton Towne DDS', 'Carleton Nitzsche MD',\n       'Mrs Megane Sanford', 'Mozelle Upton', 'Anastacio Mosciski',\n       'Kitty Corwin', 'Godfrey Haley IV', 'Reanna Brekke PhD',\n       'Orland Stiedemann Sr', 'Ottilie Purdy', 'Dale Glover',\n       'Colton Emmerich', 'Jimmy Gutmann Sr', 'Marc Spencer',\n       'Samantha Kuvalis', 'Yasmin Mertz', 'Dexter Nader',\n       'Tristin Schmitt DVM', 'Korey Buckridge I', 'Dr Zoey Mitchell',\n       'Aaliyah Torp', 'Shea Grimes', 'Randi Beahan IV', 'Ebba Quigley',\n       'Sharon Bednar', 'Ms Roxane Adams Jr', 'Prof Lucio Effertz Jr',\n       'Maurine Schneider', 'Prof Nathanial Gerhold', 'Zelda Kohler',\n       'Mr Noel Buckridge PhD', 'Dr Alexandro Davis', 'Antonette Wunsch',\n       'Rollin Jacobi DDS', 'Scottie Murray Jr', 'Doris Flatley',\n       'Dr Paul Weber V', 'Marcelina Boehm', 'Ms Pinkie Grady DVM',\n       'Dillon Oberbrunner DDS', 'Edythe Altenwerth', 'Gisselle Nitzsche',\n       'Mr Peyton Kulas', 'Elliot Luettgen', \"Albertha O'Conner\",\n       'Miss Oleta Rath', 'Delfina Fay DVM', 'Davon Rath', 'Jewell Sipes',\n       'Mr Easton Balistreri', 'Guiseppe Schultz', 'Dan Connelly',\n       'Dr Blaise Lebsack', 'Lee Beatty', 'Aliyah Mohr',\n       'Miss Queenie VonRueden V', 'Philip Lowe', 'Mr Gavin Dach',\n       'Mr Joan Effertz', 'Else Hyatt', 'Adrain Welch',\n       'Mr Greg Mayer DDS', 'Dean Zemlak', 'Talon Hudson',\n       'Prof Trevor Ledner', 'Miss Alene Stokes DVM', 'Alana Friesen Sr',\n       'Lia Dietrich DVM', 'Price Zieme', 'Mr Brant Stracke',\n       'Scot Christiansen', 'Maeve Mraz', 'Marge Kemmer',\n       'Dr Orville Schmidt V', 'Maverick Doyle DVM', 'Troy Beier',\n       'Mireya Crooks', 'Prof Stone Kunze', 'Ilene Stehr DVM',\n       'Jordon Hickle I', 'Arvilla Jenkins', 'Mrs Mara Gleason I',\n       'Mortimer Lindgren DDS', 'Prof Ismael Prosacco',\n       'Dr Bertram Emard', 'Ms Katelin Medhurst', 'Janis Borer Jr',\n       'Delphia Haley', 'Lance Stanton', 'Chauncey Reilly', 'Sudath'],\n      dtype=object)"
     },
     "execution_count": 147,
     "metadata": {},
     "output_type": "execute_result"
    }
   ],
   "source": [
    "chatterbox['Name'].unique()"
   ],
   "metadata": {
    "collapsed": false,
    "ExecuteTime": {
     "start_time": "2023-06-11T21:59:24.190414Z",
     "end_time": "2023-06-11T21:59:24.230062Z"
    }
   }
  },
  {
   "cell_type": "code",
   "execution_count": 148,
   "outputs": [
    {
     "data": {
      "text/plain": "array(['Male', 'Female'], dtype=object)"
     },
     "execution_count": 148,
     "metadata": {},
     "output_type": "execute_result"
    }
   ],
   "source": [
    "chatterbox['Gender'].unique()"
   ],
   "metadata": {
    "collapsed": false,
    "ExecuteTime": {
     "start_time": "2023-06-11T21:59:25.110902Z",
     "end_time": "2023-06-11T21:59:25.138933Z"
    }
   }
  },
  {
   "cell_type": "code",
   "execution_count": 149,
   "outputs": [
    {
     "data": {
      "text/plain": "array(['12/8/1993', '3/14/1995', '1/27/1988', '10/1/1999', '1/26/2001',\n       '9/29/2003', '11/10/2003', '2/16/2004', '6/1/2005', '7/1/2006',\n       '8/29/2006', '11/1/2006', '5/25/2007', '11/12/2007', '11/15/2008',\n       '8/2/2010', '8/5/2010', '10/26/2010', '3/24/2011', '11/3/2011',\n       '11/21/2011', '1/25/2012', '1/29/2012', '3/17/2012', '5/21/2012',\n       '6/5/2012', '7/6/2012', '11/18/2012', '12/14/2012', '1/24/2013',\n       '2/5/2013', '4/1/2013', '6/27/2013', '8/21/2013', '1/28/2014',\n       '1/24/2014', '2/25/2014', '2/22/2014', '5/3/2014', '6/4/2014',\n       '6/9/2014', '9/17/2014', '10/1/2014', '2/5/2015', '4/28/2015',\n       '5/1/2015', '6/2/2016', '6/1/2015', '8/24/2015', '9/1/2015',\n       '1/2/2016', '2/5/2016', '5/12/2016', '5/26/2016', '8/15/2016',\n       '7/3/2020', '9/15/2016', '1/1/2019', '11/1/2016', '11/28/2016',\n       '12/15/2016', '12/19/2016', '1/16/2017', '1/10/2017', '1/30/2017',\n       '2/16/2017', '12/3/2020', '3/1/2017', '3/23/2017', '3/27/2017',\n       '6/1/2020', '3/1/2020', '4/1/2021', '4/3/2017', '5/15/2017',\n       '7/6/2017', '6/5/2017', '6/19/2017', '2/1/2021', '7/1/2017',\n       '12/7/2020', '8/28/2017', '9/9/2017', '9/15/2017', '10/2/2017',\n       '11/1/2017', '12/22/2017', '1/15/2018', '1/9/2019', '2/16/2018',\n       '2/22/2018', '4/18/2018', '4/20/2018', '10/2/2019', '10/22/2019',\n       '4/22/2019', '6/6/2019', '12/5/2020', '9/1/2019', '10/14/2019',\n       '10/25/2019', '7/19/2018', '11/1/2018', '12/18/2018', '1/21/2019',\n       '3/11/2019', '5/15/2019', '6/3/2019', '6/12/2019', '8/5/2019',\n       '9/5/2019', '11/1/2019', '8/1/2020', '7/12/1999', '8/10/2019',\n       '8/1/2019', '8/15/2019', '8/2/2019', '8/22/2019', '12/1/2019',\n       '1/13/2020', '1/27/2020', '1/6/2020', '12/2/2019', '12/4/2019',\n       '12/10/2019', '12/26/2019', '12/30/2019', '7/1/2019', '2/26/2019',\n       '7/24/2019', '4/23/2019', '7/23/2019', '9/15/2019', '6/2/2018',\n       '8/26/2019', '9/2/2019', '9/12/2019', '9/16/2019', '12/26/2018',\n       '7/8/2019', '9/26/2019', '10/1/2019', '10/10/2019', '6/29/2019',\n       '10/21/2019', '10/28/2019', '11/6/2019', '11/18/2019',\n       '11/19/2019', '11/20/2019', '11/25/2019', '11/22/2019',\n       '11/28/2005', '12/1/2018', '1/4/2019', '5/2/2019', '7/15/2019',\n       '6/18/2018', '10/17/2018', '3/20/2017', '11/29/2016', '12/16/2017',\n       '12/6/2020', '6/25/1998', '2/1/2019', '6/24/2019', '3/7/2019',\n       '1/8/2019', '3/10/2019', '5/1/2019', '12/22/2016', '1/1/2021',\n       '10/9/2019', '6/1/2018', '1/8/2020', '10/10/2018', '11/12/2018',\n       '2/25/2019', '6/10/2019', '4/1/2020', '7/10/2020', '2/2/2020',\n       '5/14/2018', '2/3/2020', '1/1/2020', '2/7/2020', '2/6/2020',\n       '3/2/2020', '2/24/2020', '6/7/2010', '11/26/2019', '4/2/2019',\n       '12/26/2020', '12/15/2020', '9/7/2020', '2/1/2017', '12/8/2019',\n       '1/4/2020', '2/5/2020', '5/14/2007', '2/27/2019', '7/1/2020',\n       '2/1/2020', '12/28/2019', '1/22/2020', '2/12/2020', '8/14/2020',\n       '12/20/2019', '3/11/2020', '6/1/2019', '12/15/2018', '10/27/2019',\n       '12/10/2020', '10/18/2019', '2/11/2020', '2/13/2020', '9/6/2019',\n       '2/10/2020', '1/6/2019', '6/10/2020', '2/21/2020', '1/2/2020',\n       '12/25/2019', '12/29/2019', '1/11/2020', '1/12/2020', '1/26/2020',\n       '1/30/2020', '2/15/2020', '9/24/2019', '9/23/2019', '9/10/2019',\n       '9/9/2019', '10/6/2019', '10/8/2019', '12/13/2019', '3/1/2021',\n       '1/23/2020', '1/28/2020', '2/19/2020', '2/20/2014', '5/8/2018',\n       '8/24/2020', '4/3/2019', '2/17/2020', '3/6/2020', '3/16/2020',\n       '5/11/2020', '4/1/2018', '5/18/2020', '12/8/2020', '2/14/2020',\n       '7/16/2010', '10/15/2019', '10/7/2019', '1/16/2020', '1/9/2020',\n       '2/25/2020', '2/18/2020', '3/4/2020', '11/11/2019', '12/7/2019',\n       '3/7/2020', '2/28/2020', '3/5/2020', '3/12/2020', '3/20/2020',\n       '2/23/2020', '2/16/2020', '8/4/2018', '7/28/2020', '7/2/2015',\n       '10/16/2019', '3/1/2019', '8/19/2019', '5/17/2019', '2/29/2020',\n       '3/3/2020', '9/18/2019', '7/14/2017', '5/27/2020', '6/3/2020',\n       '4/2/2020', '4/22/2020', '12/1/2020', '5/12/2020', '6/12/2020',\n       '5/14/2020', '11/23/2019', '6/15/2020', '6/20/2020', '6/23/2020',\n       '6/24/2020', '6/16/2020', '7/13/2020', '6/8/2020', '7/23/2020',\n       '8/6/2020', '6/22/2020', '8/10/2020', '8/8/2020', '8/27/2020',\n       '8/19/2020', '8/11/2020', '8/20/2020', '9/9/2020', '9/11/2020',\n       '9/15/2020', '9/21/2020', '9/8/2020', '10/2/2020', '10/5/2020',\n       '10/6/2020', '7/14/2020', '10/9/2020', '10/19/2020', '10/17/2020',\n       '10/28/2020', '11/9/2020', '11/11/2020', '11/18/2020',\n       '11/17/2020', '11/25/2020', '12/9/2020', '12/14/2020',\n       '11/23/2020', '12/16/2020', '12/11/2020', '12/19/2020',\n       '12/28/2020', '1/6/2021', '1/7/2021', '1/11/2021', '1/15/2021',\n       '1/25/2021', '2/5/2021', '2/20/2021', '2/16/2021', '3/11/2021',\n       '3/12/2021', '2/4/2021', '3/22/2021', '4/2/2021', '4/5/2021',\n       '4/19/2021', '4/24/2021', '4/20/2021', '4/27/2021', '5/11/2021',\n       '5/14/2021', '5/3/2021', '5/5/2021', '5/18/2021', '5/17/2021',\n       '2/6/2021', '5/21/2021', '5/13/2021', '5/24/2021', '6/2/2021',\n       '6/1/2021', '6/5/2021', '6/10/2021', '6/8/2021', '6/14/2021',\n       '6/15/2021', '6/3/2021', '6/18/2021', '6/21/2021', '6/4/2021',\n       '6/17/2021', '6/23/2021', '6/7/2021', '6/30/2021', '6/28/2021',\n       '7/1/2021', '6/29/2021', '7/2/2021', '7/5/2021', '7/8/2021',\n       '7/12/2021', '7/14/2021', '7/15/2021', '7/7/2021', '7/16/2021',\n       '7/19/2021', '7/20/2021', '7/26/2021', '7/28/2021', '7/30/2021',\n       '7/29/2021', '8/2/2021', '8/3/2021', '8/5/2021', '8/8/2021',\n       '8/9/2021', '8/10/2021', '8/11/2021', '8/13/2021', '8/17/2021',\n       '8/19/2021', '8/20/2021', '8/21/2021', '8/23/2021', '8/25/2021',\n       '8/26/2021', '8/31/2021', '8/27/2021', '9/1/2021', '9/2/2021',\n       '9/6/2021', '9/8/2021', '9/9/2021', '9/4/2021', '9/10/2021',\n       '9/13/2021', '9/14/2021', '9/15/2021', '9/16/2021', '9/17/2021',\n       '9/21/2021', '9/27/2021', '10/5/2021', '10/7/2021', '10/4/2021',\n       '10/1/2021', '10/8/2021', '10/9/2021', '10/11/2021', '10/12/2021',\n       '10/13/2021', '10/14/2021', '10/21/2021', '10/22/2021',\n       '10/18/2021', '10/25/2021', '10/15/2021', '10/19/2021',\n       '10/27/2021', '10/16/2021', '10/2/2021', '11/1/2021', '10/26/2021',\n       '11/5/2021', '11/9/2021', '11/8/2021', '11/4/2021', '11/10/2021',\n       '11/11/2021', '11/16/2021', '11/15/2021', '11/20/2021',\n       '11/23/2021', '11/22/2021', '11/24/2021', '11/26/2021',\n       '11/29/2021', '12/1/2021', '12/2/2021', '12/3/2021', '12/6/2021',\n       '12/9/2021', '12/10/2021', '12/11/2021', '12/12/2021',\n       '12/14/2021', '12/15/2021', '12/16/2021', '12/17/2021',\n       '12/13/2021', '12/20/2021', '12/18/2021', '12/23/2021',\n       '12/27/2021', '1/3/2022', '12/7/2021', '1/4/2022', '1/1/2022',\n       '1/6/2022', '1/10/2022', '1/11/2022', '1/13/2022', '1/18/2022',\n       '1/21/2022', '1/5/2022', '1/24/2022', '1/25/2022', '1/27/2022',\n       '1/14/2022', '1/31/2022', '1/29/2022', '1/19/2022', '2/1/2022',\n       '2/2/2022', '2/3/2022', '2/8/2022', '2/7/2022', '2/9/2022',\n       '2/11/2022', '2/4/2022', '2/14/2022', '2/5/2022', '2/15/2022',\n       '2/22/2022', '2/12/2022', '2/23/2022', '2/26/2022', '3/1/2022',\n       '3/3/2022', '3/4/2022', '3/8/2022', '3/9/2022', '3/10/2022',\n       '3/14/2022', '3/12/2022', '3/11/2022', '3/15/2022', '3/16/2022',\n       '3/19/2022', '3/21/2022', '3/22/2022', '3/25/2022', '4/6/2022',\n       '4/18/2022', '4/19/2022', '4/23/2022', '4/25/2022', '4/26/2022',\n       '4/28/2022', '4/27/2022', '5/3/2022', '5/1/2022', '5/4/2022',\n       '5/25/2022', '6/20/2022', '7/14/2022', '7/20/2022', '8/26/2022',\n       '8/29/2022', '9/1/2022', '9/26/2022', '9/27/2022', '10/6/2022',\n       '10/25/2022', '11/1/2022', '11/21/2022', '12/5/2022', '12/8/2022',\n       '12/20/2022'], dtype=object)"
     },
     "execution_count": 149,
     "metadata": {},
     "output_type": "execute_result"
    }
   ],
   "source": [
    "chatterbox['Date_Joined'].unique()"
   ],
   "metadata": {
    "collapsed": false,
    "ExecuteTime": {
     "start_time": "2023-06-11T21:59:25.730583Z",
     "end_time": "2023-06-11T21:59:25.789111Z"
    }
   }
  },
  {
   "cell_type": "code",
   "execution_count": 150,
   "outputs": [
    {
     "data": {
      "text/plain": "array(['\\\\N', '6/28/2021', '1/31/2022', '0000-00-00', '5/5/2021',\n       '5/23/2021', '4/30/2021', '12/17/2021', '8/31/2021', '5/30/2021',\n       '7/25/2021', '3/25/2021', '5/31/2021', '8/31/2022', '10/26/2021',\n       '9/27/2022', '6/30/2021', '12/22/2021', '8/20/2021', '12/10/2020',\n       '4/9/2021', '2/19/2022', '5/31/2022', '2/28/2022', '11/28/2020',\n       '11/27/2021', '5/4/2022', '10/31/2021', '3/2/2021', '2/10/2022',\n       '1/18/2021', '11/30/2020', '1/12/2022', '12/31/2022', '7/20/2022',\n       '12/5/2020', '9/18/2021', '9/20/2021', '2/28/2021', '11/26/2021',\n       '7/30/2021', '5/3/2021', '3/14/2021', '9/12/2022', '4/30/2022',\n       '7/31/2021', '2/26/2022', '11/30/2021', '2/12/2021', '10/25/2021',\n       '10/10/2022', '5/14/2022', '1/23/2022', '9/7/2021', '10/21/2021',\n       '8/8/2021', '12/28/2020', '12/31/2020', '1/16/2021', '11/25/2020',\n       '4/7/2022', '11/22/2020', '3/30/2021', '2/24/2022', '11/24/2020',\n       '6/30/2022', '10/18/2021', '12/12/2020', '12/19/2020', '5/10/2021',\n       '3/22/2021', '7/17/2021', '9/30/2021', '9/2/2021', '3/24/2021',\n       '6/28/2022', '2/27/2021', '2/25/2021', '5/17/2022', '6/8/2022',\n       '3/20/2022', '1/9/2022', '9/21/2021', '4/22/2021', '10/9/2022',\n       '12/24/2021', '8/21/2021', '12/25/2020', '3/21/2022', '8/30/2022',\n       '10/31/2022', '4/24/2021', '7/6/2022', '12/31/2021', '7/26/2021',\n       '11/26/2020', '3/14/2022', '3/21/2021', '4/22/2022', '12/20/2020',\n       '1/28/2021', '1/29/2021', '3/30/2022', '3/2/2022', '3/31/2021',\n       '1/7/2021', '10/30/2021', '4/6/2022', '7/31/2022', '4/27/2021',\n       '4/29/2021', '4/10/2021', '11/6/2021', '2/19/2021', '7/27/2021',\n       '12/30/2020', '3/12/2022', '7/23/2021', '3/29/2021', '3/15/2021',\n       '2/13/2021', '6/21/2021', '1/6/2021', '9/30/2022', '6/9/2022',\n       '8/5/2022', '3/4/2022', '12/26/2020', '6/17/2022', '2/21/2022',\n       '2/18/2021', '3/25/2022', '4/9/2022', '12/18/2020', '7/14/2022',\n       '11/3/2020', '1/29/2022', '1/26/2021', '10/15/2021', '10/31/2020',\n       '2/21/2021', '8/7/2021', '7/21/2021', '11/23/2020', '9/22/2021',\n       '9/27/2021', '1/26/2022', '9/5/2021', '1/22/2021', '8/13/2021',\n       '3/11/2021', '8/16/2021', '1/19/2021', '6/22/2021', '8/15/2021',\n       '4/1/2022', '4/19/2022', '6/25/2022', '8/25/2021', '8/12/2021',\n       '12/10/2021', '8/19/2021', '11/21/2022', '12/17/2022', '7/26/2022',\n       '11/28/2022', '4/8/2022', '5/6/2022', '3/26/2022', '7/23/2022',\n       '1/17/2022', '4/2/2022', '4/11/2022', '2/15/2022', '1/3/2022',\n       '6/16/2022', '2/23/2022', '6/4/2022', '3/16/2022', '3/31/2022',\n       '3/29/2022', '4/21/2022', '11/30/2022', '10/1/2021', '2/8/2022',\n       '12/21/2021', '6/10/2022', '12/4/2021', '12/7/2021', '5/9/2022',\n       '12/9/2021', '8/3/2021', '1/21/2022', '11/15/2022', '11/11/2021',\n       '2/25/2022', '5/19/2022', '5/5/2022', '2/7/2022', '10/23/2021',\n       '4/5/2022', '6/6/2022', '5/7/2022', '3/22/2022', '1/20/2022',\n       '12/18/2021', '12/27/2021', '9/7/2022', '2/11/2022', '4/10/2022',\n       '9/14/2021', '1/1/2022', '12/18/2022', '2/6/2022', '1/6/2022',\n       '3/18/2022', '11/1/2021', '11/9/2021', '3/24/2022', '10/24/2021',\n       '11/14/2021', '4/28/2022', '6/24/2022', '11/15/2021', '4/25/2022',\n       '1/13/2022', '1/27/2022', '4/20/2022', '11/18/2021', '2/9/2022',\n       '2/20/2022', '2/1/2022', '12/21/2022', '6/3/2022', '2/27/2022',\n       '3/17/2022', '11/16/2022', '2/12/2022', '5/3/2022', '4/17/2022',\n       '2/3/2022', '5/11/2022', '2/18/2022', '4/29/2022', '3/23/2022',\n       '3/6/2022', '5/28/2022', '3/3/2022', '3/10/2022', '3/8/2022',\n       '4/4/2022', '9/5/2022', '8/27/2022', '9/19/2022', '11/4/2022',\n       '12/22/2022'], dtype=object)"
     },
     "execution_count": 150,
     "metadata": {},
     "output_type": "execute_result"
    }
   ],
   "source": [
    "chatterbox['Date_Resigned'].unique()"
   ],
   "metadata": {
    "collapsed": false,
    "ExecuteTime": {
     "start_time": "2023-06-11T21:59:26.637178Z",
     "end_time": "2023-06-11T21:59:26.732089Z"
    }
   }
  },
  {
   "cell_type": "code",
   "execution_count": 151,
   "outputs": [
    {
     "data": {
      "text/plain": "array(['\\\\N', '6/28/2021', '1/31/2022', '8/31/2020', '0000-00-00',\n       '5/5/2021', '5/23/2021', '9/10/2020', '5/21/2020', '4/30/2021',\n       '9/27/2020', '7/28/2020', '6/30/2020', '3/30/2020', '11/14/2019',\n       '12/17/2021', '8/31/2021', '8/28/2020', '12/5/2019', '6/22/2020',\n       '5/30/2021', '10/6/2020', '7/25/2021', '3/25/2021', '5/31/2021',\n       '8/31/2022', '10/26/2021', '9/27/2022', '6/30/2021', '12/22/2021',\n       '8/20/2021', '10/31/2020', '12/10/2020', '4/9/2021', '2/29/2020',\n       '2/19/2022', '3/31/2020', '9/25/2020', '6/1/2021', '5/31/2022',\n       '2/28/2022', '11/28/2020', '11/27/2021', '8/30/2020', '4/3/2020',\n       '5/4/2022', '12/31/2020', '10/31/2021', '3/2/2021', '5/30/2020',\n       '3/13/2020', '2/10/2022', '6/12/2020', '1/25/2021', '10/21/2020',\n       '11/30/2020', '1/12/2022', '2/28/2021', '8/11/2020', '5/31/2020',\n       '6/19/2020', '12/27/2022', '3/10/2020', '7/17/2020', '7/20/2022',\n       '12/4/2020', '12/5/2020', '6/10/2020', '9/18/2021', '9/20/2021',\n       '10/28/2020', '12/12/2020', '8/15/2020', '6/13/2020', '11/19/2020',\n       '12/31/2019', '12/14/2019', '1/31/2020', '12/7/2019', '11/30/2019',\n       '6/24/2020', '11/30/2021', '7/30/2021', '9/18/2020', '5/3/2021',\n       '2/14/2021', '7/31/2020', '9/12/2022', '4/30/2022', '7/31/2021',\n       '9/29/2020', '2/26/2022', '11/23/2020', '2/12/2021', '10/25/2021',\n       '9/17/2020', '10/10/2022', '10/15/2020', '5/14/2022', '1/23/2022',\n       '11/17/2020', '11/20/2020', '10/10/2020', '3/14/2020', '9/7/2021',\n       '9/30/2020', '8/22/2020', '7/21/2020', '10/21/2021', '8/8/2021',\n       '9/28/2020', '8/12/2021', '7/6/2020', '9/15/2020', '4/30/2020',\n       '12/28/2020', '1/16/2021', '12/30/2020', '4/2/2020', '11/25/2020',\n       '4/7/2022', '11/22/2020', '3/30/2021', '2/24/2022', '11/24/2020',\n       '6/30/2022', '10/18/2021', '1/15/2021', '9/4/2020', '12/19/2020',\n       '5/10/2021', '3/22/2021', '7/18/2020', '2/25/2021', '7/17/2021',\n       '9/30/2021', '9/2/2021', '3/24/2021', '6/28/2022', '2/27/2021',\n       '4/24/2020', '3/17/2020', '2/28/2020', '3/21/2020', '5/17/2022',\n       '3/19/2020', '9/22/2020', '6/8/2022', '9/9/2020', '3/20/2022',\n       '1/9/2022', '3/7/2020', '3/6/2020', '9/21/2021', '7/26/2020',\n       '4/22/2021', '10/9/2022', '12/24/2021', '8/21/2021', '12/25/2020',\n       '3/8/2020', '5/18/2020', '6/3/2020', '3/21/2022', '8/30/2022',\n       '5/19/2020', '10/31/2022', '4/24/2021', '7/6/2022', '12/31/2021',\n       '6/14/2020', '7/26/2021', '11/26/2020', '3/14/2022', '3/21/2021',\n       '4/22/2022', '12/20/2020', '3/15/2020', '1/28/2021', '1/29/2021',\n       '3/30/2022', '3/2/2022', '3/31/2021', '1/7/2021', '10/30/2021',\n       '4/6/2022', '7/29/2020', '8/17/2020', '7/31/2022', '4/27/2021',\n       '9/21/2020', '10/8/2020', '9/24/2020', '6/17/2020', '4/29/2021',\n       '3/11/2020', '4/10/2021', '11/6/2021', '6/27/2020', '2/19/2021',\n       '7/27/2021', '6/23/2020', '3/12/2022', '7/23/2021', '3/29/2021',\n       '3/12/2020', '3/15/2021', '2/13/2021', '3/16/2020', '6/21/2021',\n       '1/6/2021', '9/26/2020', '9/30/2022', '6/9/2022', '6/20/2020',\n       '8/5/2022', '3/4/2022', '12/26/2020', '6/17/2022', '2/21/2022',\n       '2/18/2021', '3/25/2022', '6/9/2020', '4/9/2022', '12/18/2020',\n       '7/14/2022', '8/7/2020', '11/3/2020', '1/29/2022', '1/26/2021',\n       '10/15/2021', '11/2/2020', '10/23/2020', '12/16/2020', '2/21/2021',\n       '10/3/2020', '8/7/2021', '10/24/2020', '7/21/2021', '9/22/2021',\n       '12/1/2020', '9/27/2021', '1/26/2022', '9/5/2021', '1/22/2021',\n       '8/13/2021', '3/11/2021', '8/16/2021', '1/19/2021', '6/22/2021',\n       '8/15/2021', '4/1/2022', '4/19/2022', '6/25/2022', '8/25/2021',\n       '12/10/2021', '8/19/2021', '8/14/2021', '11/21/2022', '12/17/2022',\n       '7/26/2022', '11/28/2022', '4/8/2022', '5/6/2022', '3/26/2022',\n       '7/23/2022', '1/17/2022', '4/2/2022', '4/11/2022', '2/15/2022',\n       '1/3/2022', '6/16/2022', '2/23/2022', '6/4/2022', '3/16/2022',\n       '3/31/2022', '3/29/2022', '4/21/2022', '11/30/2022', '10/1/2021',\n       '2/8/2022', '12/21/2021', '6/10/2022', '12/4/2021', '12/7/2021',\n       '5/9/2022', '12/9/2021', '8/3/2021', '1/21/2022', '11/15/2022',\n       '11/11/2021', '2/25/2022', '5/19/2022', '5/5/2022', '2/7/2022',\n       '10/23/2021', '4/5/2022', '6/6/2022', '5/7/2022', '3/22/2022',\n       '1/20/2022', '12/18/2021', '12/27/2021', '9/7/2022', '2/11/2022',\n       '4/10/2022', '9/14/2021', '1/1/2022', '12/18/2022', '2/6/2022',\n       '1/6/2022', '3/18/2022', '11/1/2021', '11/9/2021', '3/24/2022',\n       '10/24/2021', '11/14/2021', '4/28/2022', '6/24/2022', '11/15/2021',\n       '4/25/2022', '1/13/2022', '1/27/2022', '4/20/2022', '11/18/2021',\n       '2/9/2022', '2/20/2022', '2/1/2022', '12/21/2022', '6/3/2022',\n       '2/27/2022', '3/17/2022', '11/16/2022', '2/12/2022', '5/3/2022',\n       '4/17/2022', '2/3/2022', '5/11/2022', '2/18/2022', '4/29/2022',\n       '3/23/2022', '3/6/2022', '5/28/2022', '3/3/2022', '3/10/2022',\n       '3/8/2022', '4/4/2022', '9/5/2022', '8/26/2022', '9/19/2022',\n       '11/4/2022', '12/22/2022'], dtype=object)"
     },
     "execution_count": 151,
     "metadata": {},
     "output_type": "execute_result"
    }
   ],
   "source": [
    "chatterbox['Inactive_Date'].unique()"
   ],
   "metadata": {
    "collapsed": false,
    "ExecuteTime": {
     "start_time": "2023-06-11T21:59:27.474135Z",
     "end_time": "2023-06-11T21:59:27.510727Z"
    }
   }
  },
  {
   "cell_type": "code",
   "execution_count": 152,
   "outputs": [
    {
     "data": {
      "text/plain": "array(['Active', 'Inactive'], dtype=object)"
     },
     "execution_count": 152,
     "metadata": {},
     "output_type": "execute_result"
    }
   ],
   "source": [
    "chatterbox['Status'].unique()"
   ],
   "metadata": {
    "collapsed": false,
    "ExecuteTime": {
     "start_time": "2023-06-11T21:59:29.301836Z",
     "end_time": "2023-06-11T21:59:29.343833Z"
    }
   }
  },
  {
   "cell_type": "code",
   "execution_count": 153,
   "outputs": [
    {
     "name": "stdout",
     "output_type": "stream",
     "text": [
      "273\n",
      "183\n",
      "128\n",
      "105\n",
      "764\n",
      "233\n"
     ]
    }
   ],
   "source": [
    "print((chatterbox['Date_Resigned'] == '\\\\N').sum())\n",
    "print((chatterbox['Date_Resigned'] == '0000-00-00').sum())\n",
    "\n",
    "print((chatterbox['Inactive_Date'] == '\\\\N').sum())\n",
    "print((chatterbox['Inactive_Date'] == '0000-00-00').sum())\n",
    "\n",
    "print((chatterbox['Status'] == 'Inactive').sum())\n",
    "print((chatterbox['Status'] == 'Active').sum())"
   ],
   "metadata": {
    "collapsed": false,
    "ExecuteTime": {
     "start_time": "2023-06-11T21:59:31.559226Z",
     "end_time": "2023-06-11T21:59:31.583225Z"
    }
   }
  },
  {
   "cell_type": "code",
   "execution_count": 154,
   "outputs": [
    {
     "name": "stdout",
     "output_type": "stream",
     "text": [
      "128\n",
      "105\n"
     ]
    }
   ],
   "source": [
    "df = chatterbox[chatterbox['Status'] == 'Active']\n",
    "print((df['Inactive_Date'] == '\\\\N').sum())\n",
    "print((df['Inactive_Date'] == '0000-00-00').sum())"
   ],
   "metadata": {
    "collapsed": false,
    "ExecuteTime": {
     "start_time": "2023-06-11T21:59:32.461335Z",
     "end_time": "2023-06-11T21:59:32.485889Z"
    }
   }
  },
  {
   "cell_type": "code",
   "execution_count": 155,
   "outputs": [
    {
     "name": "stdout",
     "output_type": "stream",
     "text": [
      "233\n",
      "0\n"
     ]
    }
   ],
   "source": [
    "chatterbox.loc[chatterbox['Status'] == 'Active', 'Inactive_Date'] = '\\\\N'\n",
    "df = chatterbox[chatterbox['Status'] == 'Active']\n",
    "print((df['Inactive_Date'] == '\\\\N').sum())\n",
    "print((df['Inactive_Date'] == '0000-00-00').sum())"
   ],
   "metadata": {
    "collapsed": false,
    "ExecuteTime": {
     "start_time": "2023-06-11T21:59:33.176028Z",
     "end_time": "2023-06-11T21:59:33.241261Z"
    }
   }
  },
  {
   "cell_type": "code",
   "execution_count": 156,
   "outputs": [
    {
     "name": "stdout",
     "output_type": "stream",
     "text": [
      "663\n"
     ]
    }
   ],
   "source": [
    "print(chatterbox.loc[chatterbox['Inactive_Date'] == chatterbox['Date_Resigned'], 'Status'].size)"
   ],
   "metadata": {
    "collapsed": false,
    "ExecuteTime": {
     "start_time": "2023-06-11T21:59:33.852821Z",
     "end_time": "2023-06-11T21:59:33.900009Z"
    }
   }
  },
  {
   "cell_type": "code",
   "execution_count": 157,
   "outputs": [
    {
     "name": "stdout",
     "output_type": "stream",
     "text": [
      "229\n"
     ]
    }
   ],
   "source": [
    "print(chatterbox.loc[(chatterbox['Inactive_Date'] != chatterbox['Date_Resigned']) & (chatterbox['Status'] == 'Inactive'), 'Status'].size)"
   ],
   "metadata": {
    "collapsed": false,
    "ExecuteTime": {
     "start_time": "2023-06-11T21:59:34.454650Z",
     "end_time": "2023-06-11T21:59:34.511649Z"
    }
   }
  },
  {
   "cell_type": "code",
   "execution_count": 158,
   "outputs": [
    {
     "name": "stdout",
     "output_type": "stream",
     "text": [
      "128\n",
      "105\n",
      "233\n",
      "0\n",
      "764\n",
      "233\n"
     ]
    }
   ],
   "source": [
    "chatterbox.loc[(chatterbox['Status'] == 'Inactive') & ((chatterbox['Date_Resigned'] == '\\\\N') | (chatterbox['Date_Resigned'] == '0000-00-00')) & ((chatterbox['Inactive_Date'] != '\\\\N') | (chatterbox['Inactive_Date'] != '0000-00-00')), 'Date_Resigned'] = chatterbox['Inactive_Date']\n",
    "\n",
    "print((chatterbox['Date_Resigned'] == '\\\\N').sum())\n",
    "print((chatterbox['Date_Resigned'] == '0000-00-00').sum())\n",
    "\n",
    "print((chatterbox['Inactive_Date'] == '\\\\N').sum())\n",
    "print((chatterbox['Inactive_Date'] == '0000-00-00').sum())\n",
    "\n",
    "print((chatterbox['Status'] == 'Inactive').sum())\n",
    "print((chatterbox['Status'] == 'Active').sum())"
   ],
   "metadata": {
    "collapsed": false,
    "ExecuteTime": {
     "start_time": "2023-06-11T21:59:34.722034Z",
     "end_time": "2023-06-11T21:59:34.768962Z"
    }
   }
  },
  {
   "cell_type": "code",
   "execution_count": 159,
   "outputs": [
    {
     "name": "stdout",
     "output_type": "stream",
     "text": [
      "233\n",
      "0\n",
      "233\n",
      "0\n",
      "764\n",
      "233\n"
     ]
    }
   ],
   "source": [
    "chatterbox.loc[chatterbox['Status'] == 'Active', 'Date_Resigned'] = '\\\\N'\n",
    "\n",
    "print((chatterbox['Date_Resigned'] == '\\\\N').sum())\n",
    "print((chatterbox['Date_Resigned'] == '0000-00-00').sum())\n",
    "\n",
    "print((chatterbox['Inactive_Date'] == '\\\\N').sum())\n",
    "print((chatterbox['Inactive_Date'] == '0000-00-00').sum())\n",
    "\n",
    "print((chatterbox['Status'] == 'Inactive').sum())\n",
    "print((chatterbox['Status'] == 'Active').sum())"
   ],
   "metadata": {
    "collapsed": false,
    "ExecuteTime": {
     "start_time": "2023-06-11T21:59:35.776807Z",
     "end_time": "2023-06-11T21:59:35.810226Z"
    }
   }
  },
  {
   "cell_type": "code",
   "execution_count": 160,
   "outputs": [
    {
     "data": {
      "text/plain": "array(['Buddhist', 'Catholic', 'Hindu', 'Muslim'], dtype=object)"
     },
     "execution_count": 160,
     "metadata": {},
     "output_type": "execute_result"
    }
   ],
   "source": [
    "chatterbox['Religion'].unique()"
   ],
   "metadata": {
    "collapsed": false,
    "ExecuteTime": {
     "start_time": "2023-06-11T21:59:36.851300Z",
     "end_time": "2023-06-11T21:59:36.906672Z"
    }
   }
  },
  {
   "cell_type": "code",
   "execution_count": 161,
   "outputs": [
    {
     "data": {
      "text/plain": "array(['Staff', 'Management', 'Labour'], dtype=object)"
     },
     "execution_count": 161,
     "metadata": {},
     "output_type": "execute_result"
    }
   ],
   "source": [
    "chatterbox['Employment_Category'].unique()"
   ],
   "metadata": {
    "collapsed": false,
    "ExecuteTime": {
     "start_time": "2023-06-11T21:59:37.082627Z",
     "end_time": "2023-06-11T21:59:37.147629Z"
    }
   }
  },
  {
   "cell_type": "code",
   "execution_count": 162,
   "outputs": [
    {
     "data": {
      "text/plain": "array(['Permanant', 'Contarct Basis'], dtype=object)"
     },
     "execution_count": 162,
     "metadata": {},
     "output_type": "execute_result"
    }
   ],
   "source": [
    "chatterbox['Employment_Type'].unique()"
   ],
   "metadata": {
    "collapsed": false,
    "ExecuteTime": {
     "start_time": "2023-06-11T21:59:38.303029Z",
     "end_time": "2023-06-11T21:59:38.340031Z"
    }
   }
  },
  {
   "cell_type": "code",
   "execution_count": 163,
   "outputs": [
    {
     "data": {
      "text/plain": "array(['Driver', 'Account Clerk', 'Purchasing Officer', 'Store Keeper',\n       'Technical Officer', 'Project Coordinator ', 'Electrician',\n       'Transport Officer', 'Operator - JCB', 'Driver - Boom',\n       'Construction Manager', 'Operator - Crane', 'Operator-Excavator',\n       'Draughtsman', 'Site Engineer', 'Supervisor', 'Quantity Surveyor',\n       'Junior Technical Officer', 'Driver-Tractor', 'Project Manager',\n       'Operator - Loader', 'Engineer Assistant', 'Moter Mechanic',\n       'Lab Technician', 'Driver - Truck Mixture', 'Office Assistant',\n       'Sociologist', 'S/Skill', 'Junior Quantity Surveyor',\n       'Safety Officer', 'Autocad Draughtsman ', 'Operation Executive',\n       'Unskilled Labor', 'Semi Skilled Labor', 'Skilled Labor',\n       'Data Entry Operator', 'Site Supervisor', 'Mason', 'Cook',\n       'Design Engineer', 'IT Executive', 'Social Environment Officer',\n       'Trainee QS', 'Management Trainee', 'Planning Engineer', 'Foreman',\n       'Excavator Operator', 'Store Supervisor', 'Account Executive',\n       'Assistant Accountant', 'Manager Finance & Operations',\n       'Chief Operating Officer', 'Chief Executive Officer',\n       'Helper - Lorry', 'HR Executive', 'Store Executive', 'Accountant',\n       'HR Assistant', 'Business Analyst', 'Assistance QS',\n       'QAQC Engineer', 'Tractor Driver', 'Site Engineer-Trainee',\n       'Driver - cab', 'Resident Engineer', 'Fitter',\n       'Resident Site Engineer', 'Security', 'QA/QC Engineer',\n       'Data Colector', 'Helper - JCB', 'Wacher', 'Carpenter',\n       'Caretaker', 'Secretary', 'HR Manager', 'Pipe Fitter',\n       'Construction Supervisor', 'OPE-Compresure Breaker',\n       'Assistant General Manager', 'Assistant Store Keeper',\n       'Stores Helper', 'Land Supervisor', 'Senior Design Engineer',\n       'Senior Purchasing Officer', 'Receptionist', 'Surveyor Trainee',\n       'Transport Assistant', 'Junior HR Executive',\n       'Tractor Driver cum Mechanic', 'Assistant Site Engineer',\n       'Trainee Technical Officer', 'Logistic & Operations Supervisor',\n       'Welder', 'HR Consultant-Payroll', 'Store Labour',\n       'HR & Admin Officer', 'Chief Project Officer',\n       'Manager Transport and Logistic', 'QS Contract', 'Bar Bender',\n       'Assistant manager - HR', 'IT Consultant', 'Surveyor Helper',\n       'Data Entry Executive', 'Assistant QS', 'Document Controller',\n       'Planning Engineer cum QAQC', 'Planning Executive', 'Helper',\n       'Mechanical Engineer', 'Trainee Safety Officer',\n       'Data Coordinator', 'Trainee Purchasing Officer',\n       'Manager Contract', 'Assistant Manager Procurement',\n       'Trainee Engineer', 'Labour', 'Lab Helper', 'Bobcat Operator',\n       'Surveyor', 'Material Engineer', 'Lab Assistant', 'Mechanic',\n       'Head of QS - Post Contract', 'Logistic Assistant',\n       'Assistant Planning Engineer', 'Projects Officer',\n       'Software Developer'], dtype=object)"
     },
     "execution_count": 163,
     "metadata": {},
     "output_type": "execute_result"
    }
   ],
   "source": [
    "chatterbox['Designation'].unique()"
   ],
   "metadata": {
    "collapsed": false,
    "ExecuteTime": {
     "start_time": "2023-06-11T21:59:38.841089Z",
     "end_time": "2023-06-11T21:59:38.884088Z"
    }
   }
  },
  {
   "cell_type": "code",
   "execution_count": 164,
   "outputs": [
    {
     "data": {
      "text/plain": "     Employee_No  Employee_Code                 Name Title  Gender  \\\n0            347              6    Myrl Bechtelar MD    Mr    Male   \n1            348             33         Francis Mraz    Mr    Male   \n2            349             53    Mr Emmet Blick Jr    Mr    Male   \n3            351             77  Mr Nelson Braun PhD    Ms  Female   \n4            352             88     Maximillian Hand    Mr    Male   \n..           ...            ...                  ...   ...     ...   \n992         2836           5434       Janis Borer Jr    Ms  Female   \n993         2890           5479        Delphia Haley    Mr    Male   \n994         2972           5480        Lance Stanton    Mr    Male   \n995         2973           5481      Chauncey Reilly    Mr    Male   \n996         3041           5482               Sudath    Mr    Male   \n\n     Religion_ID Marital_Status  Designation_ID Date_Joined Date_Resigned  \\\n0              1        Married              24   12/8/1993            \\N   \n1              1        Married              24   3/14/1995            \\N   \n2              1        Married              23   1/27/1988     6/28/2021   \n3              4        Married              40   10/1/1999     1/31/2022   \n4              1        Married               7   1/26/2001            \\N   \n..           ...            ...             ...         ...           ...   \n992            1         Single              17   11/1/2022    12/22/2022   \n993            1         Single               8  11/21/2022            \\N   \n994            1         Single             201   12/5/2022            \\N   \n995            1         Single               8   12/8/2022            \\N   \n996            1        Married             104  12/20/2022            \\N   \n\n       Status Inactive_Date Reporting_emp_1 Reporting_emp_2  \\\n0      Active            \\N              \\N              \\N   \n1      Active            \\N              \\N              \\N   \n2    Inactive     6/28/2021              \\N              \\N   \n3    Inactive     1/31/2022              \\N              \\N   \n4      Active            \\N              \\N              \\N   \n..        ...           ...             ...             ...   \n992  Inactive    12/22/2022              \\N              \\N   \n993    Active            \\N              \\N              \\N   \n994    Active            \\N              \\N              \\N   \n995    Active            \\N              \\N              \\N   \n996    Active            \\N              \\N              \\N   \n\n    Employment_Category Employment_Type  Religion         Designation  \\\n0                 Staff       Permanant  Buddhist              Driver   \n1                 Staff       Permanant  Buddhist              Driver   \n2                 Staff       Permanant  Buddhist       Account Clerk   \n3                 Staff       Permanant  Catholic  Purchasing Officer   \n4                 Staff       Permanant  Buddhist        Store Keeper   \n..                  ...             ...       ...                 ...   \n992               Staff  Contarct Basis  Buddhist   Account Executive   \n993               Staff  Contarct Basis  Buddhist   Quantity Surveyor   \n994               Staff  Contarct Basis  Buddhist  Software Developer   \n995               Staff  Contarct Basis  Buddhist   Quantity Surveyor   \n996          Management  Contarct Basis  Buddhist          Accountant   \n\n    Year_of_Birth  \n0            1965  \n1            1973  \n2            1974  \n3            1974  \n4            1980  \n..            ...  \n992          1993  \n993          1994  \n994          1997  \n995          1990  \n996          1979  \n\n[997 rows x 19 columns]",
      "text/html": "<div>\n<style scoped>\n    .dataframe tbody tr th:only-of-type {\n        vertical-align: middle;\n    }\n\n    .dataframe tbody tr th {\n        vertical-align: top;\n    }\n\n    .dataframe thead th {\n        text-align: right;\n    }\n</style>\n<table border=\"1\" class=\"dataframe\">\n  <thead>\n    <tr style=\"text-align: right;\">\n      <th></th>\n      <th>Employee_No</th>\n      <th>Employee_Code</th>\n      <th>Name</th>\n      <th>Title</th>\n      <th>Gender</th>\n      <th>Religion_ID</th>\n      <th>Marital_Status</th>\n      <th>Designation_ID</th>\n      <th>Date_Joined</th>\n      <th>Date_Resigned</th>\n      <th>Status</th>\n      <th>Inactive_Date</th>\n      <th>Reporting_emp_1</th>\n      <th>Reporting_emp_2</th>\n      <th>Employment_Category</th>\n      <th>Employment_Type</th>\n      <th>Religion</th>\n      <th>Designation</th>\n      <th>Year_of_Birth</th>\n    </tr>\n  </thead>\n  <tbody>\n    <tr>\n      <th>0</th>\n      <td>347</td>\n      <td>6</td>\n      <td>Myrl Bechtelar MD</td>\n      <td>Mr</td>\n      <td>Male</td>\n      <td>1</td>\n      <td>Married</td>\n      <td>24</td>\n      <td>12/8/1993</td>\n      <td>\\N</td>\n      <td>Active</td>\n      <td>\\N</td>\n      <td>\\N</td>\n      <td>\\N</td>\n      <td>Staff</td>\n      <td>Permanant</td>\n      <td>Buddhist</td>\n      <td>Driver</td>\n      <td>1965</td>\n    </tr>\n    <tr>\n      <th>1</th>\n      <td>348</td>\n      <td>33</td>\n      <td>Francis Mraz</td>\n      <td>Mr</td>\n      <td>Male</td>\n      <td>1</td>\n      <td>Married</td>\n      <td>24</td>\n      <td>3/14/1995</td>\n      <td>\\N</td>\n      <td>Active</td>\n      <td>\\N</td>\n      <td>\\N</td>\n      <td>\\N</td>\n      <td>Staff</td>\n      <td>Permanant</td>\n      <td>Buddhist</td>\n      <td>Driver</td>\n      <td>1973</td>\n    </tr>\n    <tr>\n      <th>2</th>\n      <td>349</td>\n      <td>53</td>\n      <td>Mr Emmet Blick Jr</td>\n      <td>Mr</td>\n      <td>Male</td>\n      <td>1</td>\n      <td>Married</td>\n      <td>23</td>\n      <td>1/27/1988</td>\n      <td>6/28/2021</td>\n      <td>Inactive</td>\n      <td>6/28/2021</td>\n      <td>\\N</td>\n      <td>\\N</td>\n      <td>Staff</td>\n      <td>Permanant</td>\n      <td>Buddhist</td>\n      <td>Account Clerk</td>\n      <td>1974</td>\n    </tr>\n    <tr>\n      <th>3</th>\n      <td>351</td>\n      <td>77</td>\n      <td>Mr Nelson Braun PhD</td>\n      <td>Ms</td>\n      <td>Female</td>\n      <td>4</td>\n      <td>Married</td>\n      <td>40</td>\n      <td>10/1/1999</td>\n      <td>1/31/2022</td>\n      <td>Inactive</td>\n      <td>1/31/2022</td>\n      <td>\\N</td>\n      <td>\\N</td>\n      <td>Staff</td>\n      <td>Permanant</td>\n      <td>Catholic</td>\n      <td>Purchasing Officer</td>\n      <td>1974</td>\n    </tr>\n    <tr>\n      <th>4</th>\n      <td>352</td>\n      <td>88</td>\n      <td>Maximillian Hand</td>\n      <td>Mr</td>\n      <td>Male</td>\n      <td>1</td>\n      <td>Married</td>\n      <td>7</td>\n      <td>1/26/2001</td>\n      <td>\\N</td>\n      <td>Active</td>\n      <td>\\N</td>\n      <td>\\N</td>\n      <td>\\N</td>\n      <td>Staff</td>\n      <td>Permanant</td>\n      <td>Buddhist</td>\n      <td>Store Keeper</td>\n      <td>1980</td>\n    </tr>\n    <tr>\n      <th>...</th>\n      <td>...</td>\n      <td>...</td>\n      <td>...</td>\n      <td>...</td>\n      <td>...</td>\n      <td>...</td>\n      <td>...</td>\n      <td>...</td>\n      <td>...</td>\n      <td>...</td>\n      <td>...</td>\n      <td>...</td>\n      <td>...</td>\n      <td>...</td>\n      <td>...</td>\n      <td>...</td>\n      <td>...</td>\n      <td>...</td>\n      <td>...</td>\n    </tr>\n    <tr>\n      <th>992</th>\n      <td>2836</td>\n      <td>5434</td>\n      <td>Janis Borer Jr</td>\n      <td>Ms</td>\n      <td>Female</td>\n      <td>1</td>\n      <td>Single</td>\n      <td>17</td>\n      <td>11/1/2022</td>\n      <td>12/22/2022</td>\n      <td>Inactive</td>\n      <td>12/22/2022</td>\n      <td>\\N</td>\n      <td>\\N</td>\n      <td>Staff</td>\n      <td>Contarct Basis</td>\n      <td>Buddhist</td>\n      <td>Account Executive</td>\n      <td>1993</td>\n    </tr>\n    <tr>\n      <th>993</th>\n      <td>2890</td>\n      <td>5479</td>\n      <td>Delphia Haley</td>\n      <td>Mr</td>\n      <td>Male</td>\n      <td>1</td>\n      <td>Single</td>\n      <td>8</td>\n      <td>11/21/2022</td>\n      <td>\\N</td>\n      <td>Active</td>\n      <td>\\N</td>\n      <td>\\N</td>\n      <td>\\N</td>\n      <td>Staff</td>\n      <td>Contarct Basis</td>\n      <td>Buddhist</td>\n      <td>Quantity Surveyor</td>\n      <td>1994</td>\n    </tr>\n    <tr>\n      <th>994</th>\n      <td>2972</td>\n      <td>5480</td>\n      <td>Lance Stanton</td>\n      <td>Mr</td>\n      <td>Male</td>\n      <td>1</td>\n      <td>Single</td>\n      <td>201</td>\n      <td>12/5/2022</td>\n      <td>\\N</td>\n      <td>Active</td>\n      <td>\\N</td>\n      <td>\\N</td>\n      <td>\\N</td>\n      <td>Staff</td>\n      <td>Contarct Basis</td>\n      <td>Buddhist</td>\n      <td>Software Developer</td>\n      <td>1997</td>\n    </tr>\n    <tr>\n      <th>995</th>\n      <td>2973</td>\n      <td>5481</td>\n      <td>Chauncey Reilly</td>\n      <td>Mr</td>\n      <td>Male</td>\n      <td>1</td>\n      <td>Single</td>\n      <td>8</td>\n      <td>12/8/2022</td>\n      <td>\\N</td>\n      <td>Active</td>\n      <td>\\N</td>\n      <td>\\N</td>\n      <td>\\N</td>\n      <td>Staff</td>\n      <td>Contarct Basis</td>\n      <td>Buddhist</td>\n      <td>Quantity Surveyor</td>\n      <td>1990</td>\n    </tr>\n    <tr>\n      <th>996</th>\n      <td>3041</td>\n      <td>5482</td>\n      <td>Sudath</td>\n      <td>Mr</td>\n      <td>Male</td>\n      <td>1</td>\n      <td>Married</td>\n      <td>104</td>\n      <td>12/20/2022</td>\n      <td>\\N</td>\n      <td>Active</td>\n      <td>\\N</td>\n      <td>\\N</td>\n      <td>\\N</td>\n      <td>Management</td>\n      <td>Contarct Basis</td>\n      <td>Buddhist</td>\n      <td>Accountant</td>\n      <td>1979</td>\n    </tr>\n  </tbody>\n</table>\n<p>997 rows × 19 columns</p>\n</div>"
     },
     "metadata": {},
     "output_type": "display_data"
    }
   ],
   "source": [
    "display(chatterbox)"
   ],
   "metadata": {
    "collapsed": false,
    "ExecuteTime": {
     "start_time": "2023-06-11T21:59:39.125574Z",
     "end_time": "2023-06-11T21:59:39.198474Z"
    }
   }
  },
  {
   "cell_type": "markdown",
   "source": [
    "Employee_No             int64\n",
    "Employee_Code           int64\n",
    "Name                   object\n",
    "Title                  object\n",
    "Gender                 object\n",
    "Religion_ID             int64\n",
    "Marital_Status         object\n",
    "Designation_ID          int64\n",
    "Date_Joined            object\n",
    "Date_Resigned          object\n",
    "Status                 object\n",
    "Inactive_Date          object\n",
    "Reporting_emp_1        object\n",
    "Reporting_emp_2        object\n",
    "Employment_Category    object\n",
    "Employment_Type        object\n",
    "Religion               object\n",
    "Designation            object\n",
    "Year_of_Birth          object\n",
    "dtype: object"
   ],
   "metadata": {
    "collapsed": false
   }
  },
  {
   "cell_type": "code",
   "execution_count": 165,
   "outputs": [
    {
     "name": "stdout",
     "output_type": "stream",
     "text": [
      "Employee_No             int64\n",
      "Employee_Code           int64\n",
      "Name                   object\n",
      "Title                  object\n",
      "Gender                 object\n",
      "Religion_ID             int64\n",
      "Marital_Status         object\n",
      "Designation_ID          int64\n",
      "Date_Joined            object\n",
      "Date_Resigned          object\n",
      "Status                 object\n",
      "Inactive_Date          object\n",
      "Reporting_emp_1        object\n",
      "Reporting_emp_2        object\n",
      "Employment_Category    object\n",
      "Employment_Type        object\n",
      "Religion               object\n",
      "Designation            object\n",
      "Year_of_Birth          object\n",
      "dtype: object\n"
     ]
    }
   ],
   "source": [
    "print(chatterbox.dtypes)"
   ],
   "metadata": {
    "collapsed": false,
    "ExecuteTime": {
     "start_time": "2023-06-11T21:59:47.352076Z",
     "end_time": "2023-06-11T21:59:47.373082Z"
    }
   }
  },
  {
   "cell_type": "code",
   "execution_count": 166,
   "outputs": [],
   "source": [
    "chatterbox.to_csv('employee_preprocess_200440C_copy.csv')"
   ],
   "metadata": {
    "collapsed": false,
    "ExecuteTime": {
     "start_time": "2023-06-11T21:59:50.774051Z",
     "end_time": "2023-06-11T21:59:50.803301Z"
    }
   }
  },
  {
   "cell_type": "code",
   "execution_count": 167,
   "outputs": [
    {
     "name": "stdout",
     "output_type": "stream",
     "text": [
      "False\n"
     ]
    }
   ],
   "source": [
    "print(chatterbox.duplicated().any())"
   ],
   "metadata": {
    "collapsed": false,
    "ExecuteTime": {
     "start_time": "2023-06-11T21:59:51.878323Z",
     "end_time": "2023-06-11T21:59:51.902364Z"
    }
   }
  },
  {
   "cell_type": "code",
   "execution_count": 168,
   "outputs": [
    {
     "name": "stderr",
     "output_type": "stream",
     "text": [
      "C:\\Users\\vimuk\\AppData\\Local\\Temp\\ipykernel_35068\\4015829403.py:1: FutureWarning: pandas.util.testing is deprecated. Use the functions in the public API at pandas.testing instead.\n",
      "  from pandas.util.testing import assert_frame_equal\n"
     ]
    },
    {
     "name": "stdout",
     "output_type": "stream",
     "text": [
      "40 1976 1980\n",
      "44 1976 1980\n",
      "73 1992 1993\n",
      "74 1976 1979\n",
      "77 1976 1979\n",
      "79 1976 1984\n",
      "87 1976 1979\n",
      "95 1976 1980\n",
      "103 1976 1979\n",
      "104 1976 1979\n",
      "121 1976 1980\n",
      "123 1976 1980\n",
      "139 1985 1980\n",
      "141 1992 1993\n",
      "160 1976 1980\n",
      "211 1976 1980\n",
      "263 1976 1979\n",
      "271 1982 1979\n",
      "272 1976 1979\n",
      "273 1976 1984\n",
      "274 1976 1979\n",
      "275 1976 1979\n",
      "283 1998 1984\n",
      "292 1976 1984\n",
      "317 1976 1984\n",
      "319 1976 1984\n",
      "320 1992 1984\n",
      "325 1976 1984\n",
      "326 1998 1984\n",
      "327 1976 1979\n",
      "328 1992 1979\n",
      "332 1998 1984\n",
      "337 1976 1979\n",
      "338 1992 1984\n",
      "339 1992 1984\n",
      "340 1976 1984\n",
      "341 1992 1984\n",
      "342 1976 1984\n",
      "343 1992 1984\n",
      "344 1976 1952\n",
      "368 1976 1952\n",
      "378 1976 1979\n",
      "380 1976 1979\n",
      "383 1976 1979\n",
      "388 1992 1993\n",
      "396 1976 1979\n",
      "397 1976 1979\n",
      "401 1976 1979\n",
      "402 1976 1979\n",
      "403 1976 1979\n",
      "404 1976 1979\n",
      "419 1976 1979\n",
      "431 1976 1979\n",
      "432 1976 1979\n",
      "433 1976 1979\n",
      "434 1976 1979\n",
      "435 1976 1979\n",
      "450 1976 1979\n",
      "456 1992 1993\n",
      "457 1992 1993\n",
      "460 1976 1979\n",
      "462 1976 1979\n",
      "469 1992 1993\n",
      "473 1976 1979\n",
      "478 1976 1952\n",
      "486 1976 1979\n",
      "487 1976 1979\n",
      "527 1976 1980\n",
      "570 1976 1980\n",
      "585 1976 1984\n",
      "586 1976 1984\n",
      "594 1976 1979\n",
      "632 1976 1979\n",
      "651 1976 1979\n",
      "654 1996 1979\n",
      "655 1996 1979\n",
      "663 1976 1979\n",
      "704 1996 1979\n",
      "706 1998 1979\n",
      "731 1976 1979\n",
      "732 1976 1984\n",
      "733 1976 1984\n",
      "734 1976 1979\n",
      "771 1976 1979\n",
      "777 1976 1979\n",
      "789 1976 1979\n",
      "813 1988 1987\n",
      "823 1996 1997\n",
      "824 1996 1997\n",
      "825 1998 1997\n",
      "888 1998 1997\n",
      "962 1998 1996\n",
      "977 1998 1996\n",
      "978 1998 1996\n",
      "979 1998 1996\n",
      "980 1998 1996\n",
      "96\n"
     ]
    }
   ],
   "source": [
    "from pandas.util.testing import assert_frame_equal\n",
    "df1 = pd.read_csv('employee_preprocess_200440C_copy.csv')\n",
    "df2 = pd.read_csv('employee_preprocess_200440C.csv')\n",
    "\n",
    "count = 0\n",
    "for index, row in df1.iterrows():\n",
    "    ser = df2.loc[df2['Employee_No'] == row['Employee_No'], 'Year_of_Birth']\n",
    "    if ser.size != 1 or ser.iloc[0] != row['Year_of_Birth']:\n",
    "        if ser.size != 1:\n",
    "            print('a')\n",
    "        if ser.iloc[0] != row['Year_of_Birth']:\n",
    "            print(index, ser.iloc[0], row['Year_of_Birth'])\n",
    "        count = count + 1\n",
    "print(count)"
   ],
   "metadata": {
    "collapsed": false,
    "ExecuteTime": {
     "start_time": "2023-06-11T22:02:44.091428Z",
     "end_time": "2023-06-11T22:02:44.346627Z"
    }
   }
  },
  {
   "cell_type": "code",
   "execution_count": null,
   "outputs": [],
   "source": [
    "display()"
   ],
   "metadata": {
    "collapsed": false
   }
  }
 ],
 "metadata": {
  "kernelspec": {
   "display_name": "Python 3",
   "language": "python",
   "name": "python3"
  },
  "language_info": {
   "codemirror_mode": {
    "name": "ipython",
    "version": 2
   },
   "file_extension": ".py",
   "mimetype": "text/x-python",
   "name": "python",
   "nbconvert_exporter": "python",
   "pygments_lexer": "ipython2",
   "version": "2.7.6"
  }
 },
 "nbformat": 4,
 "nbformat_minor": 0
}
