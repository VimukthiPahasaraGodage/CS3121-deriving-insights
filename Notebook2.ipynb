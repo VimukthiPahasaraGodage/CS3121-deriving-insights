{
 "cells": [
  {
   "cell_type": "code",
   "execution_count": 216,
   "metadata": {
    "collapsed": true,
    "ExecuteTime": {
     "start_time": "2023-07-16T18:50:39.430067Z",
     "end_time": "2023-07-16T18:50:39.921210Z"
    }
   },
   "outputs": [],
   "source": [
    "import pandas as pd\n",
    "import numpy as np\n",
    "import matplotlib.pyplot as plt\n",
    "import seaborn as sns"
   ]
  },
  {
   "cell_type": "code",
   "execution_count": 217,
   "outputs": [],
   "source": [
    "employees = pd.read_csv('employee_preprocess_200440C.csv', low_memory=False) # preprocessed\n",
    "salary = pd.read_csv('train-salary.csv', low_memory=False)\n",
    "attendance = pd.read_csv('train-attendance.csv', low_memory=False)\n",
    "leaves = pd.read_csv('train-leaves.csv', low_memory=False)"
   ],
   "metadata": {
    "collapsed": false,
    "ExecuteTime": {
     "start_time": "2023-07-16T18:50:39.451588Z",
     "end_time": "2023-07-16T18:50:40.205770Z"
    }
   }
  },
  {
   "cell_type": "code",
   "execution_count": 218,
   "outputs": [
    {
     "name": "stdout",
     "output_type": "stream",
     "text": [
      "(997, 20)\n",
      "997 \n",
      "\n",
      "(1018, 6)\n",
      "70 \n",
      "\n",
      "(9035, 109)\n",
      "1598 \n",
      "\n",
      "(224057, 10)\n",
      "1883\n"
     ]
    }
   ],
   "source": [
    "print(employees.shape)\n",
    "print(employees['Employee_No'].nunique(), '\\n')\n",
    "\n",
    "print(leaves.shape)\n",
    "print(leaves['Employee_No'].nunique(), '\\n')\n",
    "\n",
    "print(salary.shape)\n",
    "print(salary['Employee_No'].nunique(), '\\n')\n",
    "\n",
    "print(attendance.shape)\n",
    "print(attendance['Employee_No'].nunique())"
   ],
   "metadata": {
    "collapsed": false,
    "ExecuteTime": {
     "start_time": "2023-07-16T18:50:39.849205Z",
     "end_time": "2023-07-16T18:50:40.205770Z"
    }
   }
  },
  {
   "cell_type": "code",
   "execution_count": 219,
   "outputs": [
    {
     "name": "stdout",
     "output_type": "stream",
     "text": [
      "Index(['Employee_No', 'leave_date', 'Type', 'Applied Date', 'Remarks',\n",
      "       'apply_type'],\n",
      "      dtype='object')\n"
     ]
    }
   ],
   "source": [
    "print(leaves.columns)"
   ],
   "metadata": {
    "collapsed": false,
    "ExecuteTime": {
     "start_time": "2023-07-16T18:50:39.863204Z",
     "end_time": "2023-07-16T18:50:40.206772Z"
    }
   }
  },
  {
   "cell_type": "code",
   "execution_count": 220,
   "outputs": [
    {
     "name": "stdout",
     "output_type": "stream",
     "text": [
      "False\n",
      "False\n",
      "True\n"
     ]
    }
   ],
   "source": [
    "print(salary.duplicated().any())\n",
    "print(attendance.duplicated().any())\n",
    "print(leaves.duplicated().any())"
   ],
   "metadata": {
    "collapsed": false,
    "ExecuteTime": {
     "start_time": "2023-07-16T18:50:39.881208Z",
     "end_time": "2023-07-16T18:50:40.278296Z"
    }
   }
  },
  {
   "cell_type": "code",
   "execution_count": 221,
   "outputs": [
    {
     "name": "stdout",
     "output_type": "stream",
     "text": [
      "45\n",
      "0\n",
      "245\n"
     ]
    }
   ],
   "source": [
    "print(salary.isna().sum().sum())\n",
    "print(attendance.isna().sum().sum())\n",
    "print(leaves.isna().sum().sum())"
   ],
   "metadata": {
    "collapsed": false,
    "ExecuteTime": {
     "start_time": "2023-07-16T18:50:40.104250Z",
     "end_time": "2023-07-16T18:50:40.432783Z"
    }
   }
  },
  {
   "cell_type": "markdown",
   "source": [
    "# Cleaning 'salary' dataset"
   ],
   "metadata": {
    "collapsed": false
   }
  },
  {
   "cell_type": "code",
   "execution_count": 222,
   "outputs": [
    {
     "data": {
      "text/plain": "Employee_No                 0\nyear                        0\nmonth                       0\nSiteNo                     45\nArea                        0\n                           ..\nWSL Total Earning           0\nWSL Total Working Days      0\nWSLOther Allowance Rate     0\nWorking Days - Full         0\nWorking Days - Half Day     0\nLength: 109, dtype: int64"
     },
     "execution_count": 222,
     "metadata": {},
     "output_type": "execute_result"
    }
   ],
   "source": [
    "salary.isna().sum()"
   ],
   "metadata": {
    "collapsed": false,
    "ExecuteTime": {
     "start_time": "2023-07-16T18:50:40.431268Z",
     "end_time": "2023-07-16T18:50:40.503789Z"
    }
   }
  },
  {
   "cell_type": "code",
   "execution_count": 223,
   "outputs": [
    {
     "data": {
      "text/plain": "      Employee_No  year  month  SiteNo Area  Accomadation Allowance  \\\n647           450  2020      6     NaN   \\N                     0.0   \n1517          697  2021     11     NaN   \\N                     0.0   \n1518          697  2021     12     NaN   \\N                     0.0   \n1556          700  2020     10     NaN   \\N                     0.0   \n1640          717  2021     10     NaN   \\N                     0.0   \n1709          739  2021     12     NaN   \\N                     0.0   \n2155          848  2020     10     NaN   \\N                     0.0   \n2511          918  2021     12     NaN   \\N                     0.0   \n2543          928  2020     10     NaN   \\N                     0.0   \n2669          967  2020     10     NaN   \\N                     0.0   \n2812         1020  2020     10     NaN   \\N                     0.0   \n2823         1025  2020     10     NaN   \\N                     0.0   \n3374         1197  2021     12     NaN   \\N                     0.0   \n3500         1231  2021     12     NaN   \\N                     0.0   \n4056         1424  2021     12     NaN   \\N                     0.0   \n4171         1459  2021     12     NaN   \\N                     0.0   \n4944         1686  2021      5     NaN   \\N                     0.0   \n5093         1747  2021      5     NaN   \\N                     0.0   \n5160         1771  2021     11     NaN   \\N                     0.0   \n5226         1795  2021      5     NaN   \\N                     0.0   \n5968         1954  2021     11     NaN   \\N                     0.0   \n6127         1976  2021      7     NaN   \\N                     0.0   \n6136         1980  2021      7     NaN   \\N                     0.0   \n6184         1985  2021      7     NaN   \\N                     0.0   \n6298         2009  2021      7     NaN   \\N                     0.0   \n6523         2046  2021      8     NaN   \\N                     0.0   \n7090         2152  2021     12     NaN   \\N                     0.0   \n7443         2259  2021     10     NaN   \\N                     0.0   \n7543         2298  2021     12     NaN   \\N                     0.0   \n8030         2435  2021     12     NaN   \\N                     0.0   \n8728         2663  2022      9     NaN   \\N                     0.0   \n8862         2728  2022      9     NaN   \\N                     0.0   \n8864         2729  2022      9     NaN   \\N                     0.0   \n8888         2742  2022      9     NaN   \\N                     0.0   \n8890         2743  2022      9     NaN   \\N                     0.0   \n8892         2744  2022      9     NaN   \\N                     0.0   \n8894         2745  2022      9     NaN   \\N                     0.0   \n8896         2746  2022      9     NaN   \\N                     0.0   \n8898         2747  2022      9     NaN   \\N                     0.0   \n8900         2748  2022      9     NaN   \\N                     0.0   \n8902         2749  2022      9     NaN   \\N                     0.0   \n8904         2750  2022      9     NaN   \\N                     0.0   \n8913         2758  2022      9     NaN   \\N                     0.0   \n8915         2759  2022      9     NaN   \\N                     0.0   \n8917         2760  2022      9     NaN   \\N                     0.0   \n\n      Accommodation Allowance  Add. Allow. No Pay Deduction  \\\n647                       0.0                          0.00   \n1517                      0.0                          0.00   \n1518                      0.0                          0.00   \n1556                      0.0                          0.00   \n1640                      0.0                          0.00   \n1709                      0.0                          0.00   \n2155                      0.0                          0.00   \n2511                      0.0                          0.00   \n2543                      0.0                          0.00   \n2669                      0.0                          0.00   \n2812                      0.0                          0.00   \n2823                      0.0                          0.00   \n3374                      0.0                          0.00   \n3500                      0.0                          0.00   \n4056                      0.0                          0.00   \n4171                      0.0                          0.00   \n4944                      0.0                          0.00   \n5093                      0.0                          0.00   \n5160                      0.0                          0.00   \n5226                      0.0                          0.00   \n5968                      0.0                          0.00   \n6127                      0.0                      12096.77   \n6136                      0.0                      18870.97   \n6184                      0.0                      15241.94   \n6298                      0.0                      13717.74   \n6523                      0.0                          0.00   \n7090                      0.0                          0.00   \n7443                      0.0                          0.00   \n7543                      0.0                          0.00   \n8030                      0.0                          0.00   \n8728                      0.0                          0.00   \n8862                      0.0                          0.00   \n8864                      0.0                          0.00   \n8888                      0.0                          0.00   \n8890                      0.0                          0.00   \n8892                      0.0                          0.00   \n8894                      0.0                          0.00   \n8896                      0.0                          0.00   \n8898                      0.0                          0.00   \n8900                      0.0                          0.00   \n8902                      0.0                          0.00   \n8904                      0.0                          0.00   \n8913                      0.0                          0.00   \n8915                      0.0                          0.00   \n8917                      0.0                          0.00   \n\n      Additional Allowance_0  Additional Allowance_2  ...  \\\n647                      0.0                     0.0  ...   \n1517                     0.0                     0.0  ...   \n1518                     0.0                     0.0  ...   \n1556                     0.0                     0.0  ...   \n1640                     0.0                     0.0  ...   \n1709                     0.0                     0.0  ...   \n2155                     0.0                     0.0  ...   \n2511                     0.0                     0.0  ...   \n2543                     0.0                     0.0  ...   \n2669                     0.0                     0.0  ...   \n2812                     0.0                     0.0  ...   \n2823                     0.0                     0.0  ...   \n3374                     0.0                     0.0  ...   \n3500                     0.0                     0.0  ...   \n4056                     0.0                     0.0  ...   \n4171                     0.0                     0.0  ...   \n4944                     0.0                     0.0  ...   \n5093                     0.0                     0.0  ...   \n5160                     0.0                     0.0  ...   \n5226                     0.0                     0.0  ...   \n5968                     0.0                     0.0  ...   \n6127                     0.0                  7500.0  ...   \n6136                     0.0                 10000.0  ...   \n6184                     0.0                 17500.0  ...   \n6298                     0.0                 10250.0  ...   \n6523                     0.0                     0.0  ...   \n7090                     0.0                     0.0  ...   \n7443                     0.0                     0.0  ...   \n7543                     0.0                     0.0  ...   \n8030                     0.0                     0.0  ...   \n8728                     0.0                     0.0  ...   \n8862                     0.0                     0.0  ...   \n8864                     0.0                     0.0  ...   \n8888                     0.0                     0.0  ...   \n8890                     0.0                     0.0  ...   \n8892                     0.0                     0.0  ...   \n8894                     0.0                     0.0  ...   \n8896                     0.0                     0.0  ...   \n8898                     0.0                     0.0  ...   \n8900                     0.0                     0.0  ...   \n8902                     0.0                     0.0  ...   \n8904                     0.0                     0.0  ...   \n8913                     0.0                     0.0  ...   \n8915                     0.0                     0.0  ...   \n8917                     0.0                     0.0  ...   \n\n      WSL No of Full Worked Days  WSL No of Half Days  WSL OT 1.5  \\\n647                          0.0                  0.0         0.0   \n1517                         0.0                  0.0         0.0   \n1518                         0.0                  0.0         0.0   \n1556                        31.0                  0.0         0.0   \n1640                         0.0                  0.0         0.0   \n1709                         0.0                  0.0         0.0   \n2155                         0.0                  0.0         0.0   \n2511                         0.0                  0.0         0.0   \n2543                         0.0                  0.0         0.0   \n2669                         0.0                  0.0         0.0   \n2812                         0.0                  0.0         0.0   \n2823                         0.0                  0.0         0.0   \n3374                         0.0                  0.0         0.0   \n3500                         0.0                  0.0         0.0   \n4056                         0.0                  0.0         0.0   \n4171                         0.0                  0.0         0.0   \n4944                         0.0                  0.0         0.0   \n5093                         0.0                  0.0         0.0   \n5160                         0.0                  0.0         0.0   \n5226                         0.0                  0.0         0.0   \n5968                         0.0                  0.0         0.0   \n6127                         0.0                  0.0         0.0   \n6136                         0.0                  0.0         0.0   \n6184                         0.0                  0.0         0.0   \n6298                         0.0                  0.0         0.0   \n6523                         0.0                  0.0         0.0   \n7090                         0.0                  0.0         0.0   \n7443                         0.0                  0.0         0.0   \n7543                         0.0                  0.0         0.0   \n8030                         0.0                  0.0         0.0   \n8728                         0.0                  0.0         0.0   \n8862                         0.0                  0.0         0.0   \n8864                         0.0                  0.0         0.0   \n8888                         0.0                  0.0         0.0   \n8890                         0.0                  0.0         0.0   \n8892                         0.0                  0.0         0.0   \n8894                         0.0                  0.0         0.0   \n8896                         0.0                  0.0         0.0   \n8898                         0.0                  0.0         0.0   \n8900                         0.0                  0.0         0.0   \n8902                         0.0                  0.0         0.0   \n8904                         0.0                  0.0         0.0   \n8913                         0.0                  0.0         0.0   \n8915                         0.0                  0.0         0.0   \n8917                         0.0                  0.0         0.0   \n\n      WSL OT Hours 1.5  WSL OT Rate  WSL Total Earning  \\\n647                0.0          0.0                0.0   \n1517               0.0          0.0                0.0   \n1518               0.0          0.0                0.0   \n1556               0.0          0.0                0.0   \n1640               0.0          0.0                0.0   \n1709               0.0          0.0                0.0   \n2155               0.0          0.0                0.0   \n2511               0.0          0.0                0.0   \n2543               0.0          0.0                0.0   \n2669               0.0          0.0                0.0   \n2812               0.0          0.0                0.0   \n2823               0.0          0.0                0.0   \n3374               0.0          0.0                0.0   \n3500               0.0          0.0                0.0   \n4056               0.0          0.0                0.0   \n4171               0.0          0.0                0.0   \n4944               0.0          0.0                0.0   \n5093               0.0          0.0                0.0   \n5160               0.0          0.0                0.0   \n5226               0.0          0.0                0.0   \n5968               0.0          0.0                0.0   \n6127               0.0          0.0                0.0   \n6136               0.0          0.0                0.0   \n6184               0.0          0.0                0.0   \n6298               0.0          0.0                0.0   \n6523               0.0          0.0                0.0   \n7090               0.0          0.0                0.0   \n7443               0.0          0.0                0.0   \n7543               0.0          0.0                0.0   \n8030               0.0          0.0                0.0   \n8728               0.0          0.0                0.0   \n8862               0.0          0.0                0.0   \n8864               0.0          0.0                0.0   \n8888               0.0          0.0                0.0   \n8890               0.0          0.0                0.0   \n8892               0.0          0.0                0.0   \n8894               0.0          0.0                0.0   \n8896               0.0          0.0                0.0   \n8898               0.0          0.0                0.0   \n8900               0.0          0.0                0.0   \n8902               0.0          0.0                0.0   \n8904               0.0          0.0                0.0   \n8913               0.0          0.0                0.0   \n8915               0.0          0.0                0.0   \n8917               0.0          0.0                0.0   \n\n      WSL Total Working Days  WSLOther Allowance Rate  Working Days - Full  \\\n647                      0.0                      0.0                  0.0   \n1517                     0.0                      0.0                  0.0   \n1518                     0.0                      0.0                  0.0   \n1556                    31.0                      0.0                  0.0   \n1640                     0.0                      0.0                  0.0   \n1709                     0.0                      0.0                  0.0   \n2155                     0.0                      0.0                  0.0   \n2511                     0.0                      0.0                  0.0   \n2543                     0.0                      0.0                  0.0   \n2669                     0.0                      0.0                  0.0   \n2812                     0.0                      0.0                  0.0   \n2823                     0.0                      0.0                  0.0   \n3374                     0.0                      0.0                  0.0   \n3500                     0.0                      0.0                  0.0   \n4056                     0.0                      0.0                  0.0   \n4171                     0.0                      0.0                  0.0   \n4944                     0.0                      0.0                  0.0   \n5093                     0.0                      0.0                  0.0   \n5160                     0.0                      0.0                  0.0   \n5226                     0.0                      0.0                  0.0   \n5968                     0.0                      0.0                  0.0   \n6127                     0.0                      0.0                  0.0   \n6136                     0.0                      0.0                  0.0   \n6184                     0.0                      0.0                  0.0   \n6298                     0.0                      0.0                  0.0   \n6523                     0.0                      0.0                  0.0   \n7090                     0.0                      0.0                  0.0   \n7443                     0.0                      0.0                  0.0   \n7543                     0.0                      0.0                  0.0   \n8030                     0.0                      0.0                  0.0   \n8728                     0.0                      0.0                  0.0   \n8862                     0.0                      0.0                  0.0   \n8864                     0.0                      0.0                  0.0   \n8888                     0.0                      0.0                  0.0   \n8890                     0.0                      0.0                  0.0   \n8892                     0.0                      0.0                  0.0   \n8894                     0.0                      0.0                  0.0   \n8896                     0.0                      0.0                  0.0   \n8898                     0.0                      0.0                  0.0   \n8900                     0.0                      0.0                  0.0   \n8902                     0.0                      0.0                  0.0   \n8904                     0.0                      0.0                  0.0   \n8913                     0.0                      0.0                  0.0   \n8915                     0.0                      0.0                  0.0   \n8917                     0.0                      0.0                  0.0   \n\n      Working Days - Half Day  \n647                       0.0  \n1517                      0.0  \n1518                      0.0  \n1556                      0.0  \n1640                      0.0  \n1709                      0.0  \n2155                      0.0  \n2511                      0.0  \n2543                      0.0  \n2669                      0.0  \n2812                      0.0  \n2823                      0.0  \n3374                      0.0  \n3500                      0.0  \n4056                      0.0  \n4171                      0.0  \n4944                      0.0  \n5093                      0.0  \n5160                      0.0  \n5226                      0.0  \n5968                      0.0  \n6127                      0.0  \n6136                      0.0  \n6184                      0.0  \n6298                      0.0  \n6523                      0.0  \n7090                      0.0  \n7443                      0.0  \n7543                      0.0  \n8030                      0.0  \n8728                      0.0  \n8862                      0.0  \n8864                      0.0  \n8888                      0.0  \n8890                      0.0  \n8892                      0.0  \n8894                      0.0  \n8896                      0.0  \n8898                      0.0  \n8900                      0.0  \n8902                      0.0  \n8904                      0.0  \n8913                      0.0  \n8915                      0.0  \n8917                      0.0  \n\n[45 rows x 109 columns]",
      "text/html": "<div>\n<style scoped>\n    .dataframe tbody tr th:only-of-type {\n        vertical-align: middle;\n    }\n\n    .dataframe tbody tr th {\n        vertical-align: top;\n    }\n\n    .dataframe thead th {\n        text-align: right;\n    }\n</style>\n<table border=\"1\" class=\"dataframe\">\n  <thead>\n    <tr style=\"text-align: right;\">\n      <th></th>\n      <th>Employee_No</th>\n      <th>year</th>\n      <th>month</th>\n      <th>SiteNo</th>\n      <th>Area</th>\n      <th>Accomadation Allowance</th>\n      <th>Accommodation Allowance</th>\n      <th>Add. Allow. No Pay Deduction</th>\n      <th>Additional Allowance_0</th>\n      <th>Additional Allowance_2</th>\n      <th>...</th>\n      <th>WSL No of Full Worked Days</th>\n      <th>WSL No of Half Days</th>\n      <th>WSL OT 1.5</th>\n      <th>WSL OT Hours 1.5</th>\n      <th>WSL OT Rate</th>\n      <th>WSL Total Earning</th>\n      <th>WSL Total Working Days</th>\n      <th>WSLOther Allowance Rate</th>\n      <th>Working Days - Full</th>\n      <th>Working Days - Half Day</th>\n    </tr>\n  </thead>\n  <tbody>\n    <tr>\n      <th>647</th>\n      <td>450</td>\n      <td>2020</td>\n      <td>6</td>\n      <td>NaN</td>\n      <td>\\N</td>\n      <td>0.0</td>\n      <td>0.0</td>\n      <td>0.00</td>\n      <td>0.0</td>\n      <td>0.0</td>\n      <td>...</td>\n      <td>0.0</td>\n      <td>0.0</td>\n      <td>0.0</td>\n      <td>0.0</td>\n      <td>0.0</td>\n      <td>0.0</td>\n      <td>0.0</td>\n      <td>0.0</td>\n      <td>0.0</td>\n      <td>0.0</td>\n    </tr>\n    <tr>\n      <th>1517</th>\n      <td>697</td>\n      <td>2021</td>\n      <td>11</td>\n      <td>NaN</td>\n      <td>\\N</td>\n      <td>0.0</td>\n      <td>0.0</td>\n      <td>0.00</td>\n      <td>0.0</td>\n      <td>0.0</td>\n      <td>...</td>\n      <td>0.0</td>\n      <td>0.0</td>\n      <td>0.0</td>\n      <td>0.0</td>\n      <td>0.0</td>\n      <td>0.0</td>\n      <td>0.0</td>\n      <td>0.0</td>\n      <td>0.0</td>\n      <td>0.0</td>\n    </tr>\n    <tr>\n      <th>1518</th>\n      <td>697</td>\n      <td>2021</td>\n      <td>12</td>\n      <td>NaN</td>\n      <td>\\N</td>\n      <td>0.0</td>\n      <td>0.0</td>\n      <td>0.00</td>\n      <td>0.0</td>\n      <td>0.0</td>\n      <td>...</td>\n      <td>0.0</td>\n      <td>0.0</td>\n      <td>0.0</td>\n      <td>0.0</td>\n      <td>0.0</td>\n      <td>0.0</td>\n      <td>0.0</td>\n      <td>0.0</td>\n      <td>0.0</td>\n      <td>0.0</td>\n    </tr>\n    <tr>\n      <th>1556</th>\n      <td>700</td>\n      <td>2020</td>\n      <td>10</td>\n      <td>NaN</td>\n      <td>\\N</td>\n      <td>0.0</td>\n      <td>0.0</td>\n      <td>0.00</td>\n      <td>0.0</td>\n      <td>0.0</td>\n      <td>...</td>\n      <td>31.0</td>\n      <td>0.0</td>\n      <td>0.0</td>\n      <td>0.0</td>\n      <td>0.0</td>\n      <td>0.0</td>\n      <td>31.0</td>\n      <td>0.0</td>\n      <td>0.0</td>\n      <td>0.0</td>\n    </tr>\n    <tr>\n      <th>1640</th>\n      <td>717</td>\n      <td>2021</td>\n      <td>10</td>\n      <td>NaN</td>\n      <td>\\N</td>\n      <td>0.0</td>\n      <td>0.0</td>\n      <td>0.00</td>\n      <td>0.0</td>\n      <td>0.0</td>\n      <td>...</td>\n      <td>0.0</td>\n      <td>0.0</td>\n      <td>0.0</td>\n      <td>0.0</td>\n      <td>0.0</td>\n      <td>0.0</td>\n      <td>0.0</td>\n      <td>0.0</td>\n      <td>0.0</td>\n      <td>0.0</td>\n    </tr>\n    <tr>\n      <th>1709</th>\n      <td>739</td>\n      <td>2021</td>\n      <td>12</td>\n      <td>NaN</td>\n      <td>\\N</td>\n      <td>0.0</td>\n      <td>0.0</td>\n      <td>0.00</td>\n      <td>0.0</td>\n      <td>0.0</td>\n      <td>...</td>\n      <td>0.0</td>\n      <td>0.0</td>\n      <td>0.0</td>\n      <td>0.0</td>\n      <td>0.0</td>\n      <td>0.0</td>\n      <td>0.0</td>\n      <td>0.0</td>\n      <td>0.0</td>\n      <td>0.0</td>\n    </tr>\n    <tr>\n      <th>2155</th>\n      <td>848</td>\n      <td>2020</td>\n      <td>10</td>\n      <td>NaN</td>\n      <td>\\N</td>\n      <td>0.0</td>\n      <td>0.0</td>\n      <td>0.00</td>\n      <td>0.0</td>\n      <td>0.0</td>\n      <td>...</td>\n      <td>0.0</td>\n      <td>0.0</td>\n      <td>0.0</td>\n      <td>0.0</td>\n      <td>0.0</td>\n      <td>0.0</td>\n      <td>0.0</td>\n      <td>0.0</td>\n      <td>0.0</td>\n      <td>0.0</td>\n    </tr>\n    <tr>\n      <th>2511</th>\n      <td>918</td>\n      <td>2021</td>\n      <td>12</td>\n      <td>NaN</td>\n      <td>\\N</td>\n      <td>0.0</td>\n      <td>0.0</td>\n      <td>0.00</td>\n      <td>0.0</td>\n      <td>0.0</td>\n      <td>...</td>\n      <td>0.0</td>\n      <td>0.0</td>\n      <td>0.0</td>\n      <td>0.0</td>\n      <td>0.0</td>\n      <td>0.0</td>\n      <td>0.0</td>\n      <td>0.0</td>\n      <td>0.0</td>\n      <td>0.0</td>\n    </tr>\n    <tr>\n      <th>2543</th>\n      <td>928</td>\n      <td>2020</td>\n      <td>10</td>\n      <td>NaN</td>\n      <td>\\N</td>\n      <td>0.0</td>\n      <td>0.0</td>\n      <td>0.00</td>\n      <td>0.0</td>\n      <td>0.0</td>\n      <td>...</td>\n      <td>0.0</td>\n      <td>0.0</td>\n      <td>0.0</td>\n      <td>0.0</td>\n      <td>0.0</td>\n      <td>0.0</td>\n      <td>0.0</td>\n      <td>0.0</td>\n      <td>0.0</td>\n      <td>0.0</td>\n    </tr>\n    <tr>\n      <th>2669</th>\n      <td>967</td>\n      <td>2020</td>\n      <td>10</td>\n      <td>NaN</td>\n      <td>\\N</td>\n      <td>0.0</td>\n      <td>0.0</td>\n      <td>0.00</td>\n      <td>0.0</td>\n      <td>0.0</td>\n      <td>...</td>\n      <td>0.0</td>\n      <td>0.0</td>\n      <td>0.0</td>\n      <td>0.0</td>\n      <td>0.0</td>\n      <td>0.0</td>\n      <td>0.0</td>\n      <td>0.0</td>\n      <td>0.0</td>\n      <td>0.0</td>\n    </tr>\n    <tr>\n      <th>2812</th>\n      <td>1020</td>\n      <td>2020</td>\n      <td>10</td>\n      <td>NaN</td>\n      <td>\\N</td>\n      <td>0.0</td>\n      <td>0.0</td>\n      <td>0.00</td>\n      <td>0.0</td>\n      <td>0.0</td>\n      <td>...</td>\n      <td>0.0</td>\n      <td>0.0</td>\n      <td>0.0</td>\n      <td>0.0</td>\n      <td>0.0</td>\n      <td>0.0</td>\n      <td>0.0</td>\n      <td>0.0</td>\n      <td>0.0</td>\n      <td>0.0</td>\n    </tr>\n    <tr>\n      <th>2823</th>\n      <td>1025</td>\n      <td>2020</td>\n      <td>10</td>\n      <td>NaN</td>\n      <td>\\N</td>\n      <td>0.0</td>\n      <td>0.0</td>\n      <td>0.00</td>\n      <td>0.0</td>\n      <td>0.0</td>\n      <td>...</td>\n      <td>0.0</td>\n      <td>0.0</td>\n      <td>0.0</td>\n      <td>0.0</td>\n      <td>0.0</td>\n      <td>0.0</td>\n      <td>0.0</td>\n      <td>0.0</td>\n      <td>0.0</td>\n      <td>0.0</td>\n    </tr>\n    <tr>\n      <th>3374</th>\n      <td>1197</td>\n      <td>2021</td>\n      <td>12</td>\n      <td>NaN</td>\n      <td>\\N</td>\n      <td>0.0</td>\n      <td>0.0</td>\n      <td>0.00</td>\n      <td>0.0</td>\n      <td>0.0</td>\n      <td>...</td>\n      <td>0.0</td>\n      <td>0.0</td>\n      <td>0.0</td>\n      <td>0.0</td>\n      <td>0.0</td>\n      <td>0.0</td>\n      <td>0.0</td>\n      <td>0.0</td>\n      <td>0.0</td>\n      <td>0.0</td>\n    </tr>\n    <tr>\n      <th>3500</th>\n      <td>1231</td>\n      <td>2021</td>\n      <td>12</td>\n      <td>NaN</td>\n      <td>\\N</td>\n      <td>0.0</td>\n      <td>0.0</td>\n      <td>0.00</td>\n      <td>0.0</td>\n      <td>0.0</td>\n      <td>...</td>\n      <td>0.0</td>\n      <td>0.0</td>\n      <td>0.0</td>\n      <td>0.0</td>\n      <td>0.0</td>\n      <td>0.0</td>\n      <td>0.0</td>\n      <td>0.0</td>\n      <td>0.0</td>\n      <td>0.0</td>\n    </tr>\n    <tr>\n      <th>4056</th>\n      <td>1424</td>\n      <td>2021</td>\n      <td>12</td>\n      <td>NaN</td>\n      <td>\\N</td>\n      <td>0.0</td>\n      <td>0.0</td>\n      <td>0.00</td>\n      <td>0.0</td>\n      <td>0.0</td>\n      <td>...</td>\n      <td>0.0</td>\n      <td>0.0</td>\n      <td>0.0</td>\n      <td>0.0</td>\n      <td>0.0</td>\n      <td>0.0</td>\n      <td>0.0</td>\n      <td>0.0</td>\n      <td>0.0</td>\n      <td>0.0</td>\n    </tr>\n    <tr>\n      <th>4171</th>\n      <td>1459</td>\n      <td>2021</td>\n      <td>12</td>\n      <td>NaN</td>\n      <td>\\N</td>\n      <td>0.0</td>\n      <td>0.0</td>\n      <td>0.00</td>\n      <td>0.0</td>\n      <td>0.0</td>\n      <td>...</td>\n      <td>0.0</td>\n      <td>0.0</td>\n      <td>0.0</td>\n      <td>0.0</td>\n      <td>0.0</td>\n      <td>0.0</td>\n      <td>0.0</td>\n      <td>0.0</td>\n      <td>0.0</td>\n      <td>0.0</td>\n    </tr>\n    <tr>\n      <th>4944</th>\n      <td>1686</td>\n      <td>2021</td>\n      <td>5</td>\n      <td>NaN</td>\n      <td>\\N</td>\n      <td>0.0</td>\n      <td>0.0</td>\n      <td>0.00</td>\n      <td>0.0</td>\n      <td>0.0</td>\n      <td>...</td>\n      <td>0.0</td>\n      <td>0.0</td>\n      <td>0.0</td>\n      <td>0.0</td>\n      <td>0.0</td>\n      <td>0.0</td>\n      <td>0.0</td>\n      <td>0.0</td>\n      <td>0.0</td>\n      <td>0.0</td>\n    </tr>\n    <tr>\n      <th>5093</th>\n      <td>1747</td>\n      <td>2021</td>\n      <td>5</td>\n      <td>NaN</td>\n      <td>\\N</td>\n      <td>0.0</td>\n      <td>0.0</td>\n      <td>0.00</td>\n      <td>0.0</td>\n      <td>0.0</td>\n      <td>...</td>\n      <td>0.0</td>\n      <td>0.0</td>\n      <td>0.0</td>\n      <td>0.0</td>\n      <td>0.0</td>\n      <td>0.0</td>\n      <td>0.0</td>\n      <td>0.0</td>\n      <td>0.0</td>\n      <td>0.0</td>\n    </tr>\n    <tr>\n      <th>5160</th>\n      <td>1771</td>\n      <td>2021</td>\n      <td>11</td>\n      <td>NaN</td>\n      <td>\\N</td>\n      <td>0.0</td>\n      <td>0.0</td>\n      <td>0.00</td>\n      <td>0.0</td>\n      <td>0.0</td>\n      <td>...</td>\n      <td>0.0</td>\n      <td>0.0</td>\n      <td>0.0</td>\n      <td>0.0</td>\n      <td>0.0</td>\n      <td>0.0</td>\n      <td>0.0</td>\n      <td>0.0</td>\n      <td>0.0</td>\n      <td>0.0</td>\n    </tr>\n    <tr>\n      <th>5226</th>\n      <td>1795</td>\n      <td>2021</td>\n      <td>5</td>\n      <td>NaN</td>\n      <td>\\N</td>\n      <td>0.0</td>\n      <td>0.0</td>\n      <td>0.00</td>\n      <td>0.0</td>\n      <td>0.0</td>\n      <td>...</td>\n      <td>0.0</td>\n      <td>0.0</td>\n      <td>0.0</td>\n      <td>0.0</td>\n      <td>0.0</td>\n      <td>0.0</td>\n      <td>0.0</td>\n      <td>0.0</td>\n      <td>0.0</td>\n      <td>0.0</td>\n    </tr>\n    <tr>\n      <th>5968</th>\n      <td>1954</td>\n      <td>2021</td>\n      <td>11</td>\n      <td>NaN</td>\n      <td>\\N</td>\n      <td>0.0</td>\n      <td>0.0</td>\n      <td>0.00</td>\n      <td>0.0</td>\n      <td>0.0</td>\n      <td>...</td>\n      <td>0.0</td>\n      <td>0.0</td>\n      <td>0.0</td>\n      <td>0.0</td>\n      <td>0.0</td>\n      <td>0.0</td>\n      <td>0.0</td>\n      <td>0.0</td>\n      <td>0.0</td>\n      <td>0.0</td>\n    </tr>\n    <tr>\n      <th>6127</th>\n      <td>1976</td>\n      <td>2021</td>\n      <td>7</td>\n      <td>NaN</td>\n      <td>\\N</td>\n      <td>0.0</td>\n      <td>0.0</td>\n      <td>12096.77</td>\n      <td>0.0</td>\n      <td>7500.0</td>\n      <td>...</td>\n      <td>0.0</td>\n      <td>0.0</td>\n      <td>0.0</td>\n      <td>0.0</td>\n      <td>0.0</td>\n      <td>0.0</td>\n      <td>0.0</td>\n      <td>0.0</td>\n      <td>0.0</td>\n      <td>0.0</td>\n    </tr>\n    <tr>\n      <th>6136</th>\n      <td>1980</td>\n      <td>2021</td>\n      <td>7</td>\n      <td>NaN</td>\n      <td>\\N</td>\n      <td>0.0</td>\n      <td>0.0</td>\n      <td>18870.97</td>\n      <td>0.0</td>\n      <td>10000.0</td>\n      <td>...</td>\n      <td>0.0</td>\n      <td>0.0</td>\n      <td>0.0</td>\n      <td>0.0</td>\n      <td>0.0</td>\n      <td>0.0</td>\n      <td>0.0</td>\n      <td>0.0</td>\n      <td>0.0</td>\n      <td>0.0</td>\n    </tr>\n    <tr>\n      <th>6184</th>\n      <td>1985</td>\n      <td>2021</td>\n      <td>7</td>\n      <td>NaN</td>\n      <td>\\N</td>\n      <td>0.0</td>\n      <td>0.0</td>\n      <td>15241.94</td>\n      <td>0.0</td>\n      <td>17500.0</td>\n      <td>...</td>\n      <td>0.0</td>\n      <td>0.0</td>\n      <td>0.0</td>\n      <td>0.0</td>\n      <td>0.0</td>\n      <td>0.0</td>\n      <td>0.0</td>\n      <td>0.0</td>\n      <td>0.0</td>\n      <td>0.0</td>\n    </tr>\n    <tr>\n      <th>6298</th>\n      <td>2009</td>\n      <td>2021</td>\n      <td>7</td>\n      <td>NaN</td>\n      <td>\\N</td>\n      <td>0.0</td>\n      <td>0.0</td>\n      <td>13717.74</td>\n      <td>0.0</td>\n      <td>10250.0</td>\n      <td>...</td>\n      <td>0.0</td>\n      <td>0.0</td>\n      <td>0.0</td>\n      <td>0.0</td>\n      <td>0.0</td>\n      <td>0.0</td>\n      <td>0.0</td>\n      <td>0.0</td>\n      <td>0.0</td>\n      <td>0.0</td>\n    </tr>\n    <tr>\n      <th>6523</th>\n      <td>2046</td>\n      <td>2021</td>\n      <td>8</td>\n      <td>NaN</td>\n      <td>\\N</td>\n      <td>0.0</td>\n      <td>0.0</td>\n      <td>0.00</td>\n      <td>0.0</td>\n      <td>0.0</td>\n      <td>...</td>\n      <td>0.0</td>\n      <td>0.0</td>\n      <td>0.0</td>\n      <td>0.0</td>\n      <td>0.0</td>\n      <td>0.0</td>\n      <td>0.0</td>\n      <td>0.0</td>\n      <td>0.0</td>\n      <td>0.0</td>\n    </tr>\n    <tr>\n      <th>7090</th>\n      <td>2152</td>\n      <td>2021</td>\n      <td>12</td>\n      <td>NaN</td>\n      <td>\\N</td>\n      <td>0.0</td>\n      <td>0.0</td>\n      <td>0.00</td>\n      <td>0.0</td>\n      <td>0.0</td>\n      <td>...</td>\n      <td>0.0</td>\n      <td>0.0</td>\n      <td>0.0</td>\n      <td>0.0</td>\n      <td>0.0</td>\n      <td>0.0</td>\n      <td>0.0</td>\n      <td>0.0</td>\n      <td>0.0</td>\n      <td>0.0</td>\n    </tr>\n    <tr>\n      <th>7443</th>\n      <td>2259</td>\n      <td>2021</td>\n      <td>10</td>\n      <td>NaN</td>\n      <td>\\N</td>\n      <td>0.0</td>\n      <td>0.0</td>\n      <td>0.00</td>\n      <td>0.0</td>\n      <td>0.0</td>\n      <td>...</td>\n      <td>0.0</td>\n      <td>0.0</td>\n      <td>0.0</td>\n      <td>0.0</td>\n      <td>0.0</td>\n      <td>0.0</td>\n      <td>0.0</td>\n      <td>0.0</td>\n      <td>0.0</td>\n      <td>0.0</td>\n    </tr>\n    <tr>\n      <th>7543</th>\n      <td>2298</td>\n      <td>2021</td>\n      <td>12</td>\n      <td>NaN</td>\n      <td>\\N</td>\n      <td>0.0</td>\n      <td>0.0</td>\n      <td>0.00</td>\n      <td>0.0</td>\n      <td>0.0</td>\n      <td>...</td>\n      <td>0.0</td>\n      <td>0.0</td>\n      <td>0.0</td>\n      <td>0.0</td>\n      <td>0.0</td>\n      <td>0.0</td>\n      <td>0.0</td>\n      <td>0.0</td>\n      <td>0.0</td>\n      <td>0.0</td>\n    </tr>\n    <tr>\n      <th>8030</th>\n      <td>2435</td>\n      <td>2021</td>\n      <td>12</td>\n      <td>NaN</td>\n      <td>\\N</td>\n      <td>0.0</td>\n      <td>0.0</td>\n      <td>0.00</td>\n      <td>0.0</td>\n      <td>0.0</td>\n      <td>...</td>\n      <td>0.0</td>\n      <td>0.0</td>\n      <td>0.0</td>\n      <td>0.0</td>\n      <td>0.0</td>\n      <td>0.0</td>\n      <td>0.0</td>\n      <td>0.0</td>\n      <td>0.0</td>\n      <td>0.0</td>\n    </tr>\n    <tr>\n      <th>8728</th>\n      <td>2663</td>\n      <td>2022</td>\n      <td>9</td>\n      <td>NaN</td>\n      <td>\\N</td>\n      <td>0.0</td>\n      <td>0.0</td>\n      <td>0.00</td>\n      <td>0.0</td>\n      <td>0.0</td>\n      <td>...</td>\n      <td>0.0</td>\n      <td>0.0</td>\n      <td>0.0</td>\n      <td>0.0</td>\n      <td>0.0</td>\n      <td>0.0</td>\n      <td>0.0</td>\n      <td>0.0</td>\n      <td>0.0</td>\n      <td>0.0</td>\n    </tr>\n    <tr>\n      <th>8862</th>\n      <td>2728</td>\n      <td>2022</td>\n      <td>9</td>\n      <td>NaN</td>\n      <td>\\N</td>\n      <td>0.0</td>\n      <td>0.0</td>\n      <td>0.00</td>\n      <td>0.0</td>\n      <td>0.0</td>\n      <td>...</td>\n      <td>0.0</td>\n      <td>0.0</td>\n      <td>0.0</td>\n      <td>0.0</td>\n      <td>0.0</td>\n      <td>0.0</td>\n      <td>0.0</td>\n      <td>0.0</td>\n      <td>0.0</td>\n      <td>0.0</td>\n    </tr>\n    <tr>\n      <th>8864</th>\n      <td>2729</td>\n      <td>2022</td>\n      <td>9</td>\n      <td>NaN</td>\n      <td>\\N</td>\n      <td>0.0</td>\n      <td>0.0</td>\n      <td>0.00</td>\n      <td>0.0</td>\n      <td>0.0</td>\n      <td>...</td>\n      <td>0.0</td>\n      <td>0.0</td>\n      <td>0.0</td>\n      <td>0.0</td>\n      <td>0.0</td>\n      <td>0.0</td>\n      <td>0.0</td>\n      <td>0.0</td>\n      <td>0.0</td>\n      <td>0.0</td>\n    </tr>\n    <tr>\n      <th>8888</th>\n      <td>2742</td>\n      <td>2022</td>\n      <td>9</td>\n      <td>NaN</td>\n      <td>\\N</td>\n      <td>0.0</td>\n      <td>0.0</td>\n      <td>0.00</td>\n      <td>0.0</td>\n      <td>0.0</td>\n      <td>...</td>\n      <td>0.0</td>\n      <td>0.0</td>\n      <td>0.0</td>\n      <td>0.0</td>\n      <td>0.0</td>\n      <td>0.0</td>\n      <td>0.0</td>\n      <td>0.0</td>\n      <td>0.0</td>\n      <td>0.0</td>\n    </tr>\n    <tr>\n      <th>8890</th>\n      <td>2743</td>\n      <td>2022</td>\n      <td>9</td>\n      <td>NaN</td>\n      <td>\\N</td>\n      <td>0.0</td>\n      <td>0.0</td>\n      <td>0.00</td>\n      <td>0.0</td>\n      <td>0.0</td>\n      <td>...</td>\n      <td>0.0</td>\n      <td>0.0</td>\n      <td>0.0</td>\n      <td>0.0</td>\n      <td>0.0</td>\n      <td>0.0</td>\n      <td>0.0</td>\n      <td>0.0</td>\n      <td>0.0</td>\n      <td>0.0</td>\n    </tr>\n    <tr>\n      <th>8892</th>\n      <td>2744</td>\n      <td>2022</td>\n      <td>9</td>\n      <td>NaN</td>\n      <td>\\N</td>\n      <td>0.0</td>\n      <td>0.0</td>\n      <td>0.00</td>\n      <td>0.0</td>\n      <td>0.0</td>\n      <td>...</td>\n      <td>0.0</td>\n      <td>0.0</td>\n      <td>0.0</td>\n      <td>0.0</td>\n      <td>0.0</td>\n      <td>0.0</td>\n      <td>0.0</td>\n      <td>0.0</td>\n      <td>0.0</td>\n      <td>0.0</td>\n    </tr>\n    <tr>\n      <th>8894</th>\n      <td>2745</td>\n      <td>2022</td>\n      <td>9</td>\n      <td>NaN</td>\n      <td>\\N</td>\n      <td>0.0</td>\n      <td>0.0</td>\n      <td>0.00</td>\n      <td>0.0</td>\n      <td>0.0</td>\n      <td>...</td>\n      <td>0.0</td>\n      <td>0.0</td>\n      <td>0.0</td>\n      <td>0.0</td>\n      <td>0.0</td>\n      <td>0.0</td>\n      <td>0.0</td>\n      <td>0.0</td>\n      <td>0.0</td>\n      <td>0.0</td>\n    </tr>\n    <tr>\n      <th>8896</th>\n      <td>2746</td>\n      <td>2022</td>\n      <td>9</td>\n      <td>NaN</td>\n      <td>\\N</td>\n      <td>0.0</td>\n      <td>0.0</td>\n      <td>0.00</td>\n      <td>0.0</td>\n      <td>0.0</td>\n      <td>...</td>\n      <td>0.0</td>\n      <td>0.0</td>\n      <td>0.0</td>\n      <td>0.0</td>\n      <td>0.0</td>\n      <td>0.0</td>\n      <td>0.0</td>\n      <td>0.0</td>\n      <td>0.0</td>\n      <td>0.0</td>\n    </tr>\n    <tr>\n      <th>8898</th>\n      <td>2747</td>\n      <td>2022</td>\n      <td>9</td>\n      <td>NaN</td>\n      <td>\\N</td>\n      <td>0.0</td>\n      <td>0.0</td>\n      <td>0.00</td>\n      <td>0.0</td>\n      <td>0.0</td>\n      <td>...</td>\n      <td>0.0</td>\n      <td>0.0</td>\n      <td>0.0</td>\n      <td>0.0</td>\n      <td>0.0</td>\n      <td>0.0</td>\n      <td>0.0</td>\n      <td>0.0</td>\n      <td>0.0</td>\n      <td>0.0</td>\n    </tr>\n    <tr>\n      <th>8900</th>\n      <td>2748</td>\n      <td>2022</td>\n      <td>9</td>\n      <td>NaN</td>\n      <td>\\N</td>\n      <td>0.0</td>\n      <td>0.0</td>\n      <td>0.00</td>\n      <td>0.0</td>\n      <td>0.0</td>\n      <td>...</td>\n      <td>0.0</td>\n      <td>0.0</td>\n      <td>0.0</td>\n      <td>0.0</td>\n      <td>0.0</td>\n      <td>0.0</td>\n      <td>0.0</td>\n      <td>0.0</td>\n      <td>0.0</td>\n      <td>0.0</td>\n    </tr>\n    <tr>\n      <th>8902</th>\n      <td>2749</td>\n      <td>2022</td>\n      <td>9</td>\n      <td>NaN</td>\n      <td>\\N</td>\n      <td>0.0</td>\n      <td>0.0</td>\n      <td>0.00</td>\n      <td>0.0</td>\n      <td>0.0</td>\n      <td>...</td>\n      <td>0.0</td>\n      <td>0.0</td>\n      <td>0.0</td>\n      <td>0.0</td>\n      <td>0.0</td>\n      <td>0.0</td>\n      <td>0.0</td>\n      <td>0.0</td>\n      <td>0.0</td>\n      <td>0.0</td>\n    </tr>\n    <tr>\n      <th>8904</th>\n      <td>2750</td>\n      <td>2022</td>\n      <td>9</td>\n      <td>NaN</td>\n      <td>\\N</td>\n      <td>0.0</td>\n      <td>0.0</td>\n      <td>0.00</td>\n      <td>0.0</td>\n      <td>0.0</td>\n      <td>...</td>\n      <td>0.0</td>\n      <td>0.0</td>\n      <td>0.0</td>\n      <td>0.0</td>\n      <td>0.0</td>\n      <td>0.0</td>\n      <td>0.0</td>\n      <td>0.0</td>\n      <td>0.0</td>\n      <td>0.0</td>\n    </tr>\n    <tr>\n      <th>8913</th>\n      <td>2758</td>\n      <td>2022</td>\n      <td>9</td>\n      <td>NaN</td>\n      <td>\\N</td>\n      <td>0.0</td>\n      <td>0.0</td>\n      <td>0.00</td>\n      <td>0.0</td>\n      <td>0.0</td>\n      <td>...</td>\n      <td>0.0</td>\n      <td>0.0</td>\n      <td>0.0</td>\n      <td>0.0</td>\n      <td>0.0</td>\n      <td>0.0</td>\n      <td>0.0</td>\n      <td>0.0</td>\n      <td>0.0</td>\n      <td>0.0</td>\n    </tr>\n    <tr>\n      <th>8915</th>\n      <td>2759</td>\n      <td>2022</td>\n      <td>9</td>\n      <td>NaN</td>\n      <td>\\N</td>\n      <td>0.0</td>\n      <td>0.0</td>\n      <td>0.00</td>\n      <td>0.0</td>\n      <td>0.0</td>\n      <td>...</td>\n      <td>0.0</td>\n      <td>0.0</td>\n      <td>0.0</td>\n      <td>0.0</td>\n      <td>0.0</td>\n      <td>0.0</td>\n      <td>0.0</td>\n      <td>0.0</td>\n      <td>0.0</td>\n      <td>0.0</td>\n    </tr>\n    <tr>\n      <th>8917</th>\n      <td>2760</td>\n      <td>2022</td>\n      <td>9</td>\n      <td>NaN</td>\n      <td>\\N</td>\n      <td>0.0</td>\n      <td>0.0</td>\n      <td>0.00</td>\n      <td>0.0</td>\n      <td>0.0</td>\n      <td>...</td>\n      <td>0.0</td>\n      <td>0.0</td>\n      <td>0.0</td>\n      <td>0.0</td>\n      <td>0.0</td>\n      <td>0.0</td>\n      <td>0.0</td>\n      <td>0.0</td>\n      <td>0.0</td>\n      <td>0.0</td>\n    </tr>\n  </tbody>\n</table>\n<p>45 rows × 109 columns</p>\n</div>"
     },
     "execution_count": 223,
     "metadata": {},
     "output_type": "execute_result"
    }
   ],
   "source": [
    "df_null = salary[salary['SiteNo'].isna()]\n",
    "df_null"
   ],
   "metadata": {
    "collapsed": false,
    "ExecuteTime": {
     "start_time": "2023-07-16T18:50:40.447795Z",
     "end_time": "2023-07-16T18:50:40.550326Z"
    }
   }
  },
  {
   "cell_type": "code",
   "execution_count": 224,
   "outputs": [
    {
     "data": {
      "text/plain": "array([2020, 2021, 2022], dtype=int64)"
     },
     "execution_count": 224,
     "metadata": {},
     "output_type": "execute_result"
    }
   ],
   "source": [
    "df_null['year'].unique()"
   ],
   "metadata": {
    "collapsed": false,
    "ExecuteTime": {
     "start_time": "2023-07-16T18:50:40.540305Z",
     "end_time": "2023-07-16T18:50:40.563322Z"
    }
   }
  },
  {
   "cell_type": "code",
   "execution_count": 225,
   "outputs": [
    {
     "data": {
      "text/plain": "45"
     },
     "execution_count": 225,
     "metadata": {},
     "output_type": "execute_result"
    }
   ],
   "source": [
    "df_area_N = salary[salary['Area'] == '\\\\N']\n",
    "df_area_N.shape[0]"
   ],
   "metadata": {
    "collapsed": false,
    "ExecuteTime": {
     "start_time": "2023-07-16T18:50:40.555302Z",
     "end_time": "2023-07-16T18:50:40.577304Z"
    }
   }
  },
  {
   "cell_type": "code",
   "execution_count": 226,
   "outputs": [
    {
     "name": "stdout",
     "output_type": "stream",
     "text": [
      "(8990, 109)\n"
     ]
    }
   ],
   "source": [
    "df_not_null = salary[salary['SiteNo'].notna()]\n",
    "print(df_not_null.shape)"
   ],
   "metadata": {
    "collapsed": false,
    "ExecuteTime": {
     "start_time": "2023-07-16T18:50:40.572305Z",
     "end_time": "2023-07-16T18:50:40.622308Z"
    }
   }
  },
  {
   "cell_type": "code",
   "execution_count": 227,
   "outputs": [
    {
     "data": {
      "text/plain": "      Employee_No  year  month  SiteNo     Area  Accomadation Allowance  \\\n1557          700  2021      1   169.0  Mathara                     0.0   \n1558          700  2021      5   169.0  Mathara                     0.0   \n1559          700  2021      6   169.0  Mathara                     0.0   \n1560          700  2021     10   169.0  Mathara                     0.0   \n1561          700  2021     11   169.0  Mathara                     0.0   \n1562          700  2021     12   169.0  Mathara                     0.0   \n1563          700  2022      1   169.0  Mathara                     0.0   \n1564          700  2022      2   169.0  Mathara                     0.0   \n1565          700  2022      3   169.0  Mathara                     0.0   \n1566          700  2022      4   169.0  Mathara                     0.0   \n1567          700  2022      5   169.0  Mathara                     0.0   \n1568          700  2022      6   169.0  Mathara                     0.0   \n1569          700  2022      7   169.0  Mathara                     0.0   \n1570          700  2022      8   169.0  Mathara                     0.0   \n1571          700  2022      9   169.0  Mathara                     0.0   \n1572          700  2022     10   169.0  Mathara                     0.0   \n1573          700  2022     11   169.0  Mathara                     0.0   \n1574          700  2022     12   169.0  Mathara                     0.0   \n\n      Accommodation Allowance  Add. Allow. No Pay Deduction  \\\n1557                      0.0                           0.0   \n1558                      0.0                           0.0   \n1559                      0.0                           0.0   \n1560                      0.0                           0.0   \n1561                      0.0                           0.0   \n1562                      0.0                           0.0   \n1563                      0.0                           0.0   \n1564                      0.0                           0.0   \n1565                      0.0                           0.0   \n1566                      0.0                           0.0   \n1567                      0.0                           0.0   \n1568                      0.0                           0.0   \n1569                      0.0                           0.0   \n1570                      0.0                           0.0   \n1571                      0.0                           0.0   \n1572                      0.0                           0.0   \n1573                      0.0                           0.0   \n1574                      0.0                           0.0   \n\n      Additional Allowance_0  Additional Allowance_2  ...  \\\n1557                     0.0                     0.0  ...   \n1558                     0.0                     0.0  ...   \n1559                     0.0                     0.0  ...   \n1560                     0.0                     0.0  ...   \n1561                     0.0                     0.0  ...   \n1562                     0.0                     0.0  ...   \n1563                     0.0                     0.0  ...   \n1564                     0.0                     0.0  ...   \n1565                     0.0                     0.0  ...   \n1566                     0.0                     0.0  ...   \n1567                     0.0                     0.0  ...   \n1568                     0.0                     0.0  ...   \n1569                     0.0                     0.0  ...   \n1570                     0.0                     0.0  ...   \n1571                     0.0                     0.0  ...   \n1572                     0.0                     0.0  ...   \n1573                     0.0                     0.0  ...   \n1574                     0.0                     0.0  ...   \n\n      WSL No of Full Worked Days  WSL No of Half Days  WSL OT 1.5  \\\n1557                        31.0                  0.0         0.0   \n1558                         0.0                  0.0         0.0   \n1559                         0.0                  0.0         0.0   \n1560                         0.0                  0.0         0.0   \n1561                         0.0                  0.0         0.0   \n1562                         0.0                  0.0         0.0   \n1563                         0.0                  0.0         0.0   \n1564                         0.0                  0.0         0.0   \n1565                         0.0                  0.0         0.0   \n1566                         0.0                  0.0         0.0   \n1567                         0.0                  0.0         0.0   \n1568                         0.0                  0.0         0.0   \n1569                         0.0                  0.0         0.0   \n1570                         0.0                  0.0         0.0   \n1571                         0.0                  0.0         0.0   \n1572                         0.0                  0.0         0.0   \n1573                         0.0                  0.0         0.0   \n1574                         0.0                  0.0         0.0   \n\n      WSL OT Hours 1.5  WSL OT Rate  WSL Total Earning  \\\n1557               0.0          0.0                0.0   \n1558               0.0          0.0                0.0   \n1559               0.0          0.0                0.0   \n1560               0.0          0.0                0.0   \n1561               0.0          0.0                0.0   \n1562               0.0          0.0                0.0   \n1563               0.0          0.0                0.0   \n1564               0.0          0.0                0.0   \n1565               0.0          0.0                0.0   \n1566               0.0          0.0                0.0   \n1567               0.0          0.0                0.0   \n1568               0.0          0.0                0.0   \n1569               0.0          0.0                0.0   \n1570               0.0          0.0                0.0   \n1571               0.0          0.0                0.0   \n1572               0.0          0.0                0.0   \n1573               0.0          0.0                0.0   \n1574               0.0          0.0                0.0   \n\n      WSL Total Working Days  WSLOther Allowance Rate  Working Days - Full  \\\n1557                    31.0                      0.0                  0.0   \n1558                     0.0                      0.0                  0.0   \n1559                     0.0                      0.0                  0.0   \n1560                     0.0                      0.0                  0.0   \n1561                     0.0                      0.0                  0.0   \n1562                     0.0                      0.0                  0.0   \n1563                     0.0                      0.0                  0.0   \n1564                     0.0                      0.0                  0.0   \n1565                     0.0                      0.0                  0.0   \n1566                     0.0                      0.0                  0.0   \n1567                     0.0                      0.0                  0.0   \n1568                     0.0                      0.0                  0.0   \n1569                     0.0                      0.0                  0.0   \n1570                     0.0                      0.0                  0.0   \n1571                     0.0                      0.0                  0.0   \n1572                     0.0                      0.0                  0.0   \n1573                     0.0                      0.0                  0.0   \n1574                     0.0                      0.0                  0.0   \n\n      Working Days - Half Day  \n1557                      0.0  \n1558                      0.0  \n1559                      0.0  \n1560                      0.0  \n1561                      0.0  \n1562                      0.0  \n1563                      0.0  \n1564                      0.0  \n1565                      0.0  \n1566                      0.0  \n1567                      0.0  \n1568                      0.0  \n1569                      0.0  \n1570                      0.0  \n1571                      0.0  \n1572                      0.0  \n1573                      0.0  \n1574                      0.0  \n\n[18 rows x 109 columns]",
      "text/html": "<div>\n<style scoped>\n    .dataframe tbody tr th:only-of-type {\n        vertical-align: middle;\n    }\n\n    .dataframe tbody tr th {\n        vertical-align: top;\n    }\n\n    .dataframe thead th {\n        text-align: right;\n    }\n</style>\n<table border=\"1\" class=\"dataframe\">\n  <thead>\n    <tr style=\"text-align: right;\">\n      <th></th>\n      <th>Employee_No</th>\n      <th>year</th>\n      <th>month</th>\n      <th>SiteNo</th>\n      <th>Area</th>\n      <th>Accomadation Allowance</th>\n      <th>Accommodation Allowance</th>\n      <th>Add. Allow. No Pay Deduction</th>\n      <th>Additional Allowance_0</th>\n      <th>Additional Allowance_2</th>\n      <th>...</th>\n      <th>WSL No of Full Worked Days</th>\n      <th>WSL No of Half Days</th>\n      <th>WSL OT 1.5</th>\n      <th>WSL OT Hours 1.5</th>\n      <th>WSL OT Rate</th>\n      <th>WSL Total Earning</th>\n      <th>WSL Total Working Days</th>\n      <th>WSLOther Allowance Rate</th>\n      <th>Working Days - Full</th>\n      <th>Working Days - Half Day</th>\n    </tr>\n  </thead>\n  <tbody>\n    <tr>\n      <th>1557</th>\n      <td>700</td>\n      <td>2021</td>\n      <td>1</td>\n      <td>169.0</td>\n      <td>Mathara</td>\n      <td>0.0</td>\n      <td>0.0</td>\n      <td>0.0</td>\n      <td>0.0</td>\n      <td>0.0</td>\n      <td>...</td>\n      <td>31.0</td>\n      <td>0.0</td>\n      <td>0.0</td>\n      <td>0.0</td>\n      <td>0.0</td>\n      <td>0.0</td>\n      <td>31.0</td>\n      <td>0.0</td>\n      <td>0.0</td>\n      <td>0.0</td>\n    </tr>\n    <tr>\n      <th>1558</th>\n      <td>700</td>\n      <td>2021</td>\n      <td>5</td>\n      <td>169.0</td>\n      <td>Mathara</td>\n      <td>0.0</td>\n      <td>0.0</td>\n      <td>0.0</td>\n      <td>0.0</td>\n      <td>0.0</td>\n      <td>...</td>\n      <td>0.0</td>\n      <td>0.0</td>\n      <td>0.0</td>\n      <td>0.0</td>\n      <td>0.0</td>\n      <td>0.0</td>\n      <td>0.0</td>\n      <td>0.0</td>\n      <td>0.0</td>\n      <td>0.0</td>\n    </tr>\n    <tr>\n      <th>1559</th>\n      <td>700</td>\n      <td>2021</td>\n      <td>6</td>\n      <td>169.0</td>\n      <td>Mathara</td>\n      <td>0.0</td>\n      <td>0.0</td>\n      <td>0.0</td>\n      <td>0.0</td>\n      <td>0.0</td>\n      <td>...</td>\n      <td>0.0</td>\n      <td>0.0</td>\n      <td>0.0</td>\n      <td>0.0</td>\n      <td>0.0</td>\n      <td>0.0</td>\n      <td>0.0</td>\n      <td>0.0</td>\n      <td>0.0</td>\n      <td>0.0</td>\n    </tr>\n    <tr>\n      <th>1560</th>\n      <td>700</td>\n      <td>2021</td>\n      <td>10</td>\n      <td>169.0</td>\n      <td>Mathara</td>\n      <td>0.0</td>\n      <td>0.0</td>\n      <td>0.0</td>\n      <td>0.0</td>\n      <td>0.0</td>\n      <td>...</td>\n      <td>0.0</td>\n      <td>0.0</td>\n      <td>0.0</td>\n      <td>0.0</td>\n      <td>0.0</td>\n      <td>0.0</td>\n      <td>0.0</td>\n      <td>0.0</td>\n      <td>0.0</td>\n      <td>0.0</td>\n    </tr>\n    <tr>\n      <th>1561</th>\n      <td>700</td>\n      <td>2021</td>\n      <td>11</td>\n      <td>169.0</td>\n      <td>Mathara</td>\n      <td>0.0</td>\n      <td>0.0</td>\n      <td>0.0</td>\n      <td>0.0</td>\n      <td>0.0</td>\n      <td>...</td>\n      <td>0.0</td>\n      <td>0.0</td>\n      <td>0.0</td>\n      <td>0.0</td>\n      <td>0.0</td>\n      <td>0.0</td>\n      <td>0.0</td>\n      <td>0.0</td>\n      <td>0.0</td>\n      <td>0.0</td>\n    </tr>\n    <tr>\n      <th>1562</th>\n      <td>700</td>\n      <td>2021</td>\n      <td>12</td>\n      <td>169.0</td>\n      <td>Mathara</td>\n      <td>0.0</td>\n      <td>0.0</td>\n      <td>0.0</td>\n      <td>0.0</td>\n      <td>0.0</td>\n      <td>...</td>\n      <td>0.0</td>\n      <td>0.0</td>\n      <td>0.0</td>\n      <td>0.0</td>\n      <td>0.0</td>\n      <td>0.0</td>\n      <td>0.0</td>\n      <td>0.0</td>\n      <td>0.0</td>\n      <td>0.0</td>\n    </tr>\n    <tr>\n      <th>1563</th>\n      <td>700</td>\n      <td>2022</td>\n      <td>1</td>\n      <td>169.0</td>\n      <td>Mathara</td>\n      <td>0.0</td>\n      <td>0.0</td>\n      <td>0.0</td>\n      <td>0.0</td>\n      <td>0.0</td>\n      <td>...</td>\n      <td>0.0</td>\n      <td>0.0</td>\n      <td>0.0</td>\n      <td>0.0</td>\n      <td>0.0</td>\n      <td>0.0</td>\n      <td>0.0</td>\n      <td>0.0</td>\n      <td>0.0</td>\n      <td>0.0</td>\n    </tr>\n    <tr>\n      <th>1564</th>\n      <td>700</td>\n      <td>2022</td>\n      <td>2</td>\n      <td>169.0</td>\n      <td>Mathara</td>\n      <td>0.0</td>\n      <td>0.0</td>\n      <td>0.0</td>\n      <td>0.0</td>\n      <td>0.0</td>\n      <td>...</td>\n      <td>0.0</td>\n      <td>0.0</td>\n      <td>0.0</td>\n      <td>0.0</td>\n      <td>0.0</td>\n      <td>0.0</td>\n      <td>0.0</td>\n      <td>0.0</td>\n      <td>0.0</td>\n      <td>0.0</td>\n    </tr>\n    <tr>\n      <th>1565</th>\n      <td>700</td>\n      <td>2022</td>\n      <td>3</td>\n      <td>169.0</td>\n      <td>Mathara</td>\n      <td>0.0</td>\n      <td>0.0</td>\n      <td>0.0</td>\n      <td>0.0</td>\n      <td>0.0</td>\n      <td>...</td>\n      <td>0.0</td>\n      <td>0.0</td>\n      <td>0.0</td>\n      <td>0.0</td>\n      <td>0.0</td>\n      <td>0.0</td>\n      <td>0.0</td>\n      <td>0.0</td>\n      <td>0.0</td>\n      <td>0.0</td>\n    </tr>\n    <tr>\n      <th>1566</th>\n      <td>700</td>\n      <td>2022</td>\n      <td>4</td>\n      <td>169.0</td>\n      <td>Mathara</td>\n      <td>0.0</td>\n      <td>0.0</td>\n      <td>0.0</td>\n      <td>0.0</td>\n      <td>0.0</td>\n      <td>...</td>\n      <td>0.0</td>\n      <td>0.0</td>\n      <td>0.0</td>\n      <td>0.0</td>\n      <td>0.0</td>\n      <td>0.0</td>\n      <td>0.0</td>\n      <td>0.0</td>\n      <td>0.0</td>\n      <td>0.0</td>\n    </tr>\n    <tr>\n      <th>1567</th>\n      <td>700</td>\n      <td>2022</td>\n      <td>5</td>\n      <td>169.0</td>\n      <td>Mathara</td>\n      <td>0.0</td>\n      <td>0.0</td>\n      <td>0.0</td>\n      <td>0.0</td>\n      <td>0.0</td>\n      <td>...</td>\n      <td>0.0</td>\n      <td>0.0</td>\n      <td>0.0</td>\n      <td>0.0</td>\n      <td>0.0</td>\n      <td>0.0</td>\n      <td>0.0</td>\n      <td>0.0</td>\n      <td>0.0</td>\n      <td>0.0</td>\n    </tr>\n    <tr>\n      <th>1568</th>\n      <td>700</td>\n      <td>2022</td>\n      <td>6</td>\n      <td>169.0</td>\n      <td>Mathara</td>\n      <td>0.0</td>\n      <td>0.0</td>\n      <td>0.0</td>\n      <td>0.0</td>\n      <td>0.0</td>\n      <td>...</td>\n      <td>0.0</td>\n      <td>0.0</td>\n      <td>0.0</td>\n      <td>0.0</td>\n      <td>0.0</td>\n      <td>0.0</td>\n      <td>0.0</td>\n      <td>0.0</td>\n      <td>0.0</td>\n      <td>0.0</td>\n    </tr>\n    <tr>\n      <th>1569</th>\n      <td>700</td>\n      <td>2022</td>\n      <td>7</td>\n      <td>169.0</td>\n      <td>Mathara</td>\n      <td>0.0</td>\n      <td>0.0</td>\n      <td>0.0</td>\n      <td>0.0</td>\n      <td>0.0</td>\n      <td>...</td>\n      <td>0.0</td>\n      <td>0.0</td>\n      <td>0.0</td>\n      <td>0.0</td>\n      <td>0.0</td>\n      <td>0.0</td>\n      <td>0.0</td>\n      <td>0.0</td>\n      <td>0.0</td>\n      <td>0.0</td>\n    </tr>\n    <tr>\n      <th>1570</th>\n      <td>700</td>\n      <td>2022</td>\n      <td>8</td>\n      <td>169.0</td>\n      <td>Mathara</td>\n      <td>0.0</td>\n      <td>0.0</td>\n      <td>0.0</td>\n      <td>0.0</td>\n      <td>0.0</td>\n      <td>...</td>\n      <td>0.0</td>\n      <td>0.0</td>\n      <td>0.0</td>\n      <td>0.0</td>\n      <td>0.0</td>\n      <td>0.0</td>\n      <td>0.0</td>\n      <td>0.0</td>\n      <td>0.0</td>\n      <td>0.0</td>\n    </tr>\n    <tr>\n      <th>1571</th>\n      <td>700</td>\n      <td>2022</td>\n      <td>9</td>\n      <td>169.0</td>\n      <td>Mathara</td>\n      <td>0.0</td>\n      <td>0.0</td>\n      <td>0.0</td>\n      <td>0.0</td>\n      <td>0.0</td>\n      <td>...</td>\n      <td>0.0</td>\n      <td>0.0</td>\n      <td>0.0</td>\n      <td>0.0</td>\n      <td>0.0</td>\n      <td>0.0</td>\n      <td>0.0</td>\n      <td>0.0</td>\n      <td>0.0</td>\n      <td>0.0</td>\n    </tr>\n    <tr>\n      <th>1572</th>\n      <td>700</td>\n      <td>2022</td>\n      <td>10</td>\n      <td>169.0</td>\n      <td>Mathara</td>\n      <td>0.0</td>\n      <td>0.0</td>\n      <td>0.0</td>\n      <td>0.0</td>\n      <td>0.0</td>\n      <td>...</td>\n      <td>0.0</td>\n      <td>0.0</td>\n      <td>0.0</td>\n      <td>0.0</td>\n      <td>0.0</td>\n      <td>0.0</td>\n      <td>0.0</td>\n      <td>0.0</td>\n      <td>0.0</td>\n      <td>0.0</td>\n    </tr>\n    <tr>\n      <th>1573</th>\n      <td>700</td>\n      <td>2022</td>\n      <td>11</td>\n      <td>169.0</td>\n      <td>Mathara</td>\n      <td>0.0</td>\n      <td>0.0</td>\n      <td>0.0</td>\n      <td>0.0</td>\n      <td>0.0</td>\n      <td>...</td>\n      <td>0.0</td>\n      <td>0.0</td>\n      <td>0.0</td>\n      <td>0.0</td>\n      <td>0.0</td>\n      <td>0.0</td>\n      <td>0.0</td>\n      <td>0.0</td>\n      <td>0.0</td>\n      <td>0.0</td>\n    </tr>\n    <tr>\n      <th>1574</th>\n      <td>700</td>\n      <td>2022</td>\n      <td>12</td>\n      <td>169.0</td>\n      <td>Mathara</td>\n      <td>0.0</td>\n      <td>0.0</td>\n      <td>0.0</td>\n      <td>0.0</td>\n      <td>0.0</td>\n      <td>...</td>\n      <td>0.0</td>\n      <td>0.0</td>\n      <td>0.0</td>\n      <td>0.0</td>\n      <td>0.0</td>\n      <td>0.0</td>\n      <td>0.0</td>\n      <td>0.0</td>\n      <td>0.0</td>\n      <td>0.0</td>\n    </tr>\n  </tbody>\n</table>\n<p>18 rows × 109 columns</p>\n</div>"
     },
     "execution_count": 227,
     "metadata": {},
     "output_type": "execute_result"
    }
   ],
   "source": [
    "test = df_not_null[df_not_null['Employee_No'] == 700]\n",
    "test"
   ],
   "metadata": {
    "collapsed": false,
    "ExecuteTime": {
     "start_time": "2023-07-16T18:50:40.588304Z",
     "end_time": "2023-07-16T18:50:40.752343Z"
    }
   }
  },
  {
   "cell_type": "code",
   "execution_count": 228,
   "outputs": [],
   "source": [
    "for index, row in df_null.iterrows():\n",
    "    f = df_not_null[df_not_null['Employee_No'] == row['Employee_No']]\n",
    "    if f.shape[0] > 0:\n",
    "        g = f[f['year'] == row['year']]\n",
    "        if g.shape[0] > 0:\n",
    "            closest = 1000\n",
    "            closet_row = None\n",
    "            for index1, row1 in g.iterrows():\n",
    "                if abs(row1['month'] - row['month']) < abs(closest - row['month']):\n",
    "                    closest = row1['month']\n",
    "                    closet_row = row1\n",
    "            if (12 >= closest >= 1) and (closet_row is not None):\n",
    "                h = g[g['month'] == closest]\n",
    "                if h.shape[0] > 0:\n",
    "                    salary.at[index, 'SiteNo'] = h['SiteNo'].mode()[0]\n",
    "                    if row['Area'] == '\\\\N':\n",
    "                        salary.at[index, 'Area'] = h['Area'].mode()[0]\n",
    "                else:\n",
    "                    print('Error 1') # Error\n",
    "            else:\n",
    "                print('Error 2') # Error\n",
    "        else:\n",
    "            closest = 1000\n",
    "            closet_row = None\n",
    "            for index1, row1 in f.iterrows():\n",
    "                if abs(row1['month'] - row['month']) < abs(closest - row['month']):\n",
    "                    closest = row1['month']\n",
    "                    closet_row = row1\n",
    "            if (12 >= closest >= 1) and (closet_row is not None):\n",
    "                h = f[f['month'] == closest]\n",
    "                if h.shape[0] > 0:\n",
    "                    salary.at[index, 'SiteNo'] = f['SiteNo'].mode()[0]\n",
    "                    if row['Area'] == '\\\\N':\n",
    "                        salary.at[index, 'Area'] = f['Area'].mode()[0]\n",
    "                else:\n",
    "                    print('Error 1.1')\n",
    "            else:\n",
    "                print('Error 2.1')\n",
    "    else:\n",
    "        i = df_not_null[df_not_null['year'] == row['year']]\n",
    "        if i.shape[0] > 0:\n",
    "            months = i['month'].unique()\n",
    "            closest = 1000\n",
    "            for m in months:\n",
    "                if abs(m - row['month']) < abs(closest - row['month']):\n",
    "                    closest = m\n",
    "            if 12 >= closest >= 1:\n",
    "                j = i[i['month'] == closest]\n",
    "                if j.shape[0] > 0:\n",
    "                    salary.at[index, 'SiteNo'] = j['SiteNo'].mode()[0]\n",
    "                    if row['Area'] == '\\\\N':\n",
    "                        salary.at[index, 'Area'] = j['Area'].mode()[0]\n",
    "                else:\n",
    "                    print('Error 3')\n",
    "            else:\n",
    "                print('Error 4')\n",
    "        else:\n",
    "            salary.at[index, 'SiteNo'] = df_not_null['SiteNo'].mode()[0]\n",
    "            if row['Area'] == '\\\\N':\n",
    "                salary.at[index, 'Area'] = df_not_null['Area'].mode()[0]"
   ],
   "metadata": {
    "collapsed": false,
    "ExecuteTime": {
     "start_time": "2023-07-16T18:50:40.658825Z",
     "end_time": "2023-07-16T18:50:40.781341Z"
    }
   }
  },
  {
   "cell_type": "code",
   "execution_count": 229,
   "outputs": [
    {
     "name": "stdout",
     "output_type": "stream",
     "text": [
      "0\n"
     ]
    }
   ],
   "source": [
    "print(salary.isna().sum().sum())"
   ],
   "metadata": {
    "collapsed": false,
    "ExecuteTime": {
     "start_time": "2023-07-16T18:50:40.764347Z",
     "end_time": "2023-07-16T18:50:40.818347Z"
    }
   }
  },
  {
   "cell_type": "code",
   "execution_count": 230,
   "outputs": [
    {
     "data": {
      "text/plain": "0"
     },
     "execution_count": 230,
     "metadata": {},
     "output_type": "execute_result"
    }
   ],
   "source": [
    "salary[salary['Area'] == '\\\\N'].shape[0]"
   ],
   "metadata": {
    "collapsed": false,
    "ExecuteTime": {
     "start_time": "2023-07-16T18:50:40.777340Z",
     "end_time": "2023-07-16T18:50:40.831348Z"
    }
   }
  },
  {
   "cell_type": "markdown",
   "source": [
    "# Cleaning 'employees' dataset (minor cleaning)"
   ],
   "metadata": {
    "collapsed": false
   }
  },
  {
   "cell_type": "code",
   "execution_count": 231,
   "outputs": [
    {
     "data": {
      "text/plain": "Index(['Unnamed: 0', 'Employee_No', 'Employee_Code', 'Name', 'Title', 'Gender',\n       'Religion_ID', 'Marital_Status', 'Designation_ID', 'Date_Joined',\n       'Date_Resigned', 'Status', 'Inactive_Date', 'Reporting_emp_1',\n       'Reporting_emp_2', 'Employment_Category', 'Employment_Type', 'Religion',\n       'Designation', 'Year_of_Birth'],\n      dtype='object')"
     },
     "execution_count": 231,
     "metadata": {},
     "output_type": "execute_result"
    }
   ],
   "source": [
    "employees.columns"
   ],
   "metadata": {
    "collapsed": false,
    "ExecuteTime": {
     "start_time": "2023-07-16T18:50:40.790343Z",
     "end_time": "2023-07-16T18:50:40.882880Z"
    }
   }
  },
  {
   "cell_type": "code",
   "execution_count": 232,
   "outputs": [
    {
     "data": {
      "text/plain": "     Employee_No                 Name Title  Gender Marital_Status  \\\n0            347    Myrl Bechtelar MD    Mr    Male        Married   \n1            348         Francis Mraz    Mr    Male        Married   \n2            349    Mr Emmet Blick Jr    Mr    Male        Married   \n3            351  Mr Nelson Braun PhD    Ms  Female        Married   \n4            352     Maximillian Hand    Mr    Male        Married   \n..           ...                  ...   ...     ...            ...   \n992         2836       Janis Borer Jr    Ms  Female         Single   \n993         2890        Delphia Haley    Mr    Male         Single   \n994         2972        Lance Stanton    Mr    Male         Single   \n995         2973      Chauncey Reilly    Mr    Male         Single   \n996         3041               Sudath    Mr    Male        Married   \n\n    Date_Joined Date_Resigned    Status Inactive_Date Employment_Category  \\\n0     12/8/1993            \\N    Active            \\N               Staff   \n1     3/14/1995            \\N    Active            \\N               Staff   \n2     1/27/1988     6/28/2021  Inactive     6/28/2021               Staff   \n3     10/1/1999     1/31/2022  Inactive     1/31/2022               Staff   \n4     1/26/2001            \\N    Active            \\N               Staff   \n..          ...           ...       ...           ...                 ...   \n992   11/1/2022    12/22/2022  Inactive    12/22/2022               Staff   \n993  11/21/2022            \\N    Active            \\N               Staff   \n994   12/5/2022            \\N    Active            \\N               Staff   \n995   12/8/2022            \\N    Active            \\N               Staff   \n996  12/20/2022            \\N    Active            \\N          Management   \n\n    Employment_Type  Religion         Designation  Year_of_Birth  \n0         Permanant  Buddhist              Driver           1965  \n1         Permanant  Buddhist              Driver           1973  \n2         Permanant  Buddhist       Account Clerk           1974  \n3         Permanant  Catholic  Purchasing Officer           1974  \n4         Permanant  Buddhist        Store Keeper           1980  \n..              ...       ...                 ...            ...  \n992  Contarct Basis  Buddhist   Account Executive           1993  \n993  Contarct Basis  Buddhist   Quantity Surveyor           1994  \n994  Contarct Basis  Buddhist  Software Developer           1997  \n995  Contarct Basis  Buddhist   Quantity Surveyor           1990  \n996  Contarct Basis  Buddhist          Accountant           1979  \n\n[997 rows x 14 columns]",
      "text/html": "<div>\n<style scoped>\n    .dataframe tbody tr th:only-of-type {\n        vertical-align: middle;\n    }\n\n    .dataframe tbody tr th {\n        vertical-align: top;\n    }\n\n    .dataframe thead th {\n        text-align: right;\n    }\n</style>\n<table border=\"1\" class=\"dataframe\">\n  <thead>\n    <tr style=\"text-align: right;\">\n      <th></th>\n      <th>Employee_No</th>\n      <th>Name</th>\n      <th>Title</th>\n      <th>Gender</th>\n      <th>Marital_Status</th>\n      <th>Date_Joined</th>\n      <th>Date_Resigned</th>\n      <th>Status</th>\n      <th>Inactive_Date</th>\n      <th>Employment_Category</th>\n      <th>Employment_Type</th>\n      <th>Religion</th>\n      <th>Designation</th>\n      <th>Year_of_Birth</th>\n    </tr>\n  </thead>\n  <tbody>\n    <tr>\n      <th>0</th>\n      <td>347</td>\n      <td>Myrl Bechtelar MD</td>\n      <td>Mr</td>\n      <td>Male</td>\n      <td>Married</td>\n      <td>12/8/1993</td>\n      <td>\\N</td>\n      <td>Active</td>\n      <td>\\N</td>\n      <td>Staff</td>\n      <td>Permanant</td>\n      <td>Buddhist</td>\n      <td>Driver</td>\n      <td>1965</td>\n    </tr>\n    <tr>\n      <th>1</th>\n      <td>348</td>\n      <td>Francis Mraz</td>\n      <td>Mr</td>\n      <td>Male</td>\n      <td>Married</td>\n      <td>3/14/1995</td>\n      <td>\\N</td>\n      <td>Active</td>\n      <td>\\N</td>\n      <td>Staff</td>\n      <td>Permanant</td>\n      <td>Buddhist</td>\n      <td>Driver</td>\n      <td>1973</td>\n    </tr>\n    <tr>\n      <th>2</th>\n      <td>349</td>\n      <td>Mr Emmet Blick Jr</td>\n      <td>Mr</td>\n      <td>Male</td>\n      <td>Married</td>\n      <td>1/27/1988</td>\n      <td>6/28/2021</td>\n      <td>Inactive</td>\n      <td>6/28/2021</td>\n      <td>Staff</td>\n      <td>Permanant</td>\n      <td>Buddhist</td>\n      <td>Account Clerk</td>\n      <td>1974</td>\n    </tr>\n    <tr>\n      <th>3</th>\n      <td>351</td>\n      <td>Mr Nelson Braun PhD</td>\n      <td>Ms</td>\n      <td>Female</td>\n      <td>Married</td>\n      <td>10/1/1999</td>\n      <td>1/31/2022</td>\n      <td>Inactive</td>\n      <td>1/31/2022</td>\n      <td>Staff</td>\n      <td>Permanant</td>\n      <td>Catholic</td>\n      <td>Purchasing Officer</td>\n      <td>1974</td>\n    </tr>\n    <tr>\n      <th>4</th>\n      <td>352</td>\n      <td>Maximillian Hand</td>\n      <td>Mr</td>\n      <td>Male</td>\n      <td>Married</td>\n      <td>1/26/2001</td>\n      <td>\\N</td>\n      <td>Active</td>\n      <td>\\N</td>\n      <td>Staff</td>\n      <td>Permanant</td>\n      <td>Buddhist</td>\n      <td>Store Keeper</td>\n      <td>1980</td>\n    </tr>\n    <tr>\n      <th>...</th>\n      <td>...</td>\n      <td>...</td>\n      <td>...</td>\n      <td>...</td>\n      <td>...</td>\n      <td>...</td>\n      <td>...</td>\n      <td>...</td>\n      <td>...</td>\n      <td>...</td>\n      <td>...</td>\n      <td>...</td>\n      <td>...</td>\n      <td>...</td>\n    </tr>\n    <tr>\n      <th>992</th>\n      <td>2836</td>\n      <td>Janis Borer Jr</td>\n      <td>Ms</td>\n      <td>Female</td>\n      <td>Single</td>\n      <td>11/1/2022</td>\n      <td>12/22/2022</td>\n      <td>Inactive</td>\n      <td>12/22/2022</td>\n      <td>Staff</td>\n      <td>Contarct Basis</td>\n      <td>Buddhist</td>\n      <td>Account Executive</td>\n      <td>1993</td>\n    </tr>\n    <tr>\n      <th>993</th>\n      <td>2890</td>\n      <td>Delphia Haley</td>\n      <td>Mr</td>\n      <td>Male</td>\n      <td>Single</td>\n      <td>11/21/2022</td>\n      <td>\\N</td>\n      <td>Active</td>\n      <td>\\N</td>\n      <td>Staff</td>\n      <td>Contarct Basis</td>\n      <td>Buddhist</td>\n      <td>Quantity Surveyor</td>\n      <td>1994</td>\n    </tr>\n    <tr>\n      <th>994</th>\n      <td>2972</td>\n      <td>Lance Stanton</td>\n      <td>Mr</td>\n      <td>Male</td>\n      <td>Single</td>\n      <td>12/5/2022</td>\n      <td>\\N</td>\n      <td>Active</td>\n      <td>\\N</td>\n      <td>Staff</td>\n      <td>Contarct Basis</td>\n      <td>Buddhist</td>\n      <td>Software Developer</td>\n      <td>1997</td>\n    </tr>\n    <tr>\n      <th>995</th>\n      <td>2973</td>\n      <td>Chauncey Reilly</td>\n      <td>Mr</td>\n      <td>Male</td>\n      <td>Single</td>\n      <td>12/8/2022</td>\n      <td>\\N</td>\n      <td>Active</td>\n      <td>\\N</td>\n      <td>Staff</td>\n      <td>Contarct Basis</td>\n      <td>Buddhist</td>\n      <td>Quantity Surveyor</td>\n      <td>1990</td>\n    </tr>\n    <tr>\n      <th>996</th>\n      <td>3041</td>\n      <td>Sudath</td>\n      <td>Mr</td>\n      <td>Male</td>\n      <td>Married</td>\n      <td>12/20/2022</td>\n      <td>\\N</td>\n      <td>Active</td>\n      <td>\\N</td>\n      <td>Management</td>\n      <td>Contarct Basis</td>\n      <td>Buddhist</td>\n      <td>Accountant</td>\n      <td>1979</td>\n    </tr>\n  </tbody>\n</table>\n<p>997 rows × 14 columns</p>\n</div>"
     },
     "execution_count": 232,
     "metadata": {},
     "output_type": "execute_result"
    }
   ],
   "source": [
    "employees = employees.drop(['Unnamed: 0', 'Employee_Code', 'Religion_ID', 'Designation_ID', 'Reporting_emp_1', 'Reporting_emp_2'], axis=1)\n",
    "employees"
   ],
   "metadata": {
    "collapsed": false,
    "ExecuteTime": {
     "start_time": "2023-07-16T18:50:40.810347Z",
     "end_time": "2023-07-16T18:50:40.904866Z"
    }
   }
  },
  {
   "cell_type": "code",
   "execution_count": 233,
   "outputs": [],
   "source": [
    "# employees['Resigned'] = np.nan\n",
    "# for index, row in employees.iterrows():\n",
    "#     if row['Date_Resigned'] == '\\\\N' and row['Inactive_Date'] == '\\\\N':\n",
    "#         employees.at[index, 'Resigned'] = 0\n",
    "#     else:\n",
    "#         employees.at[index, 'Resigned'] = 1\n",
    "# employees['Resigned'] = employees['Resigned'].astype('int64')\n",
    "# print(employees.isna().sum().sum())\n",
    "# display(employees)"
   ],
   "metadata": {
    "collapsed": false,
    "ExecuteTime": {
     "start_time": "2023-07-16T18:50:40.841869Z",
     "end_time": "2023-07-16T18:50:40.958324Z"
    }
   }
  },
  {
   "cell_type": "code",
   "execution_count": 234,
   "outputs": [],
   "source": [
    "employees = employees.reset_index(drop=True)\n",
    "salary = salary.reset_index(drop=True)\n",
    "attendance = attendance.reset_index(drop=True)"
   ],
   "metadata": {
    "collapsed": false,
    "ExecuteTime": {
     "start_time": "2023-07-16T18:50:40.856862Z",
     "end_time": "2023-07-16T18:50:40.993322Z"
    }
   }
  },
  {
   "cell_type": "code",
   "execution_count": 235,
   "outputs": [
    {
     "data": {
      "text/plain": "     Employee_No                 Name Title  Gender Marital_Status  \\\n0            347    Myrl Bechtelar MD    Mr    Male        Married   \n1            348         Francis Mraz    Mr    Male        Married   \n2            349    Mr Emmet Blick Jr    Mr    Male        Married   \n3            351  Mr Nelson Braun PhD    Ms  Female        Married   \n4            352     Maximillian Hand    Mr    Male        Married   \n..           ...                  ...   ...     ...            ...   \n992         2836       Janis Borer Jr    Ms  Female         Single   \n993         2890        Delphia Haley    Mr    Male         Single   \n994         2972        Lance Stanton    Mr    Male         Single   \n995         2973      Chauncey Reilly    Mr    Male         Single   \n996         3041               Sudath    Mr    Male        Married   \n\n    Date_Joined Date_Resigned    Status Inactive_Date Employment_Category  \\\n0     12/8/1993            \\N    Active            \\N               Staff   \n1     3/14/1995            \\N    Active            \\N               Staff   \n2     1/27/1988     6/28/2021  Inactive     6/28/2021               Staff   \n3     10/1/1999     1/31/2022  Inactive     1/31/2022               Staff   \n4     1/26/2001            \\N    Active            \\N               Staff   \n..          ...           ...       ...           ...                 ...   \n992   11/1/2022    12/22/2022  Inactive    12/22/2022               Staff   \n993  11/21/2022            \\N    Active            \\N               Staff   \n994   12/5/2022            \\N    Active            \\N               Staff   \n995   12/8/2022            \\N    Active            \\N               Staff   \n996  12/20/2022            \\N    Active            \\N          Management   \n\n    Employment_Type  Religion         Designation  Year_of_Birth  \n0         Permanant  Buddhist              Driver           1965  \n1         Permanant  Buddhist              Driver           1973  \n2         Permanant  Buddhist       Account Clerk           1974  \n3         Permanant  Catholic  Purchasing Officer           1974  \n4         Permanant  Buddhist        Store Keeper           1980  \n..              ...       ...                 ...            ...  \n992  Contarct Basis  Buddhist   Account Executive           1993  \n993  Contarct Basis  Buddhist   Quantity Surveyor           1994  \n994  Contarct Basis  Buddhist  Software Developer           1997  \n995  Contarct Basis  Buddhist   Quantity Surveyor           1990  \n996  Contarct Basis  Buddhist          Accountant           1979  \n\n[997 rows x 14 columns]",
      "text/html": "<div>\n<style scoped>\n    .dataframe tbody tr th:only-of-type {\n        vertical-align: middle;\n    }\n\n    .dataframe tbody tr th {\n        vertical-align: top;\n    }\n\n    .dataframe thead th {\n        text-align: right;\n    }\n</style>\n<table border=\"1\" class=\"dataframe\">\n  <thead>\n    <tr style=\"text-align: right;\">\n      <th></th>\n      <th>Employee_No</th>\n      <th>Name</th>\n      <th>Title</th>\n      <th>Gender</th>\n      <th>Marital_Status</th>\n      <th>Date_Joined</th>\n      <th>Date_Resigned</th>\n      <th>Status</th>\n      <th>Inactive_Date</th>\n      <th>Employment_Category</th>\n      <th>Employment_Type</th>\n      <th>Religion</th>\n      <th>Designation</th>\n      <th>Year_of_Birth</th>\n    </tr>\n  </thead>\n  <tbody>\n    <tr>\n      <th>0</th>\n      <td>347</td>\n      <td>Myrl Bechtelar MD</td>\n      <td>Mr</td>\n      <td>Male</td>\n      <td>Married</td>\n      <td>12/8/1993</td>\n      <td>\\N</td>\n      <td>Active</td>\n      <td>\\N</td>\n      <td>Staff</td>\n      <td>Permanant</td>\n      <td>Buddhist</td>\n      <td>Driver</td>\n      <td>1965</td>\n    </tr>\n    <tr>\n      <th>1</th>\n      <td>348</td>\n      <td>Francis Mraz</td>\n      <td>Mr</td>\n      <td>Male</td>\n      <td>Married</td>\n      <td>3/14/1995</td>\n      <td>\\N</td>\n      <td>Active</td>\n      <td>\\N</td>\n      <td>Staff</td>\n      <td>Permanant</td>\n      <td>Buddhist</td>\n      <td>Driver</td>\n      <td>1973</td>\n    </tr>\n    <tr>\n      <th>2</th>\n      <td>349</td>\n      <td>Mr Emmet Blick Jr</td>\n      <td>Mr</td>\n      <td>Male</td>\n      <td>Married</td>\n      <td>1/27/1988</td>\n      <td>6/28/2021</td>\n      <td>Inactive</td>\n      <td>6/28/2021</td>\n      <td>Staff</td>\n      <td>Permanant</td>\n      <td>Buddhist</td>\n      <td>Account Clerk</td>\n      <td>1974</td>\n    </tr>\n    <tr>\n      <th>3</th>\n      <td>351</td>\n      <td>Mr Nelson Braun PhD</td>\n      <td>Ms</td>\n      <td>Female</td>\n      <td>Married</td>\n      <td>10/1/1999</td>\n      <td>1/31/2022</td>\n      <td>Inactive</td>\n      <td>1/31/2022</td>\n      <td>Staff</td>\n      <td>Permanant</td>\n      <td>Catholic</td>\n      <td>Purchasing Officer</td>\n      <td>1974</td>\n    </tr>\n    <tr>\n      <th>4</th>\n      <td>352</td>\n      <td>Maximillian Hand</td>\n      <td>Mr</td>\n      <td>Male</td>\n      <td>Married</td>\n      <td>1/26/2001</td>\n      <td>\\N</td>\n      <td>Active</td>\n      <td>\\N</td>\n      <td>Staff</td>\n      <td>Permanant</td>\n      <td>Buddhist</td>\n      <td>Store Keeper</td>\n      <td>1980</td>\n    </tr>\n    <tr>\n      <th>...</th>\n      <td>...</td>\n      <td>...</td>\n      <td>...</td>\n      <td>...</td>\n      <td>...</td>\n      <td>...</td>\n      <td>...</td>\n      <td>...</td>\n      <td>...</td>\n      <td>...</td>\n      <td>...</td>\n      <td>...</td>\n      <td>...</td>\n      <td>...</td>\n    </tr>\n    <tr>\n      <th>992</th>\n      <td>2836</td>\n      <td>Janis Borer Jr</td>\n      <td>Ms</td>\n      <td>Female</td>\n      <td>Single</td>\n      <td>11/1/2022</td>\n      <td>12/22/2022</td>\n      <td>Inactive</td>\n      <td>12/22/2022</td>\n      <td>Staff</td>\n      <td>Contarct Basis</td>\n      <td>Buddhist</td>\n      <td>Account Executive</td>\n      <td>1993</td>\n    </tr>\n    <tr>\n      <th>993</th>\n      <td>2890</td>\n      <td>Delphia Haley</td>\n      <td>Mr</td>\n      <td>Male</td>\n      <td>Single</td>\n      <td>11/21/2022</td>\n      <td>\\N</td>\n      <td>Active</td>\n      <td>\\N</td>\n      <td>Staff</td>\n      <td>Contarct Basis</td>\n      <td>Buddhist</td>\n      <td>Quantity Surveyor</td>\n      <td>1994</td>\n    </tr>\n    <tr>\n      <th>994</th>\n      <td>2972</td>\n      <td>Lance Stanton</td>\n      <td>Mr</td>\n      <td>Male</td>\n      <td>Single</td>\n      <td>12/5/2022</td>\n      <td>\\N</td>\n      <td>Active</td>\n      <td>\\N</td>\n      <td>Staff</td>\n      <td>Contarct Basis</td>\n      <td>Buddhist</td>\n      <td>Software Developer</td>\n      <td>1997</td>\n    </tr>\n    <tr>\n      <th>995</th>\n      <td>2973</td>\n      <td>Chauncey Reilly</td>\n      <td>Mr</td>\n      <td>Male</td>\n      <td>Single</td>\n      <td>12/8/2022</td>\n      <td>\\N</td>\n      <td>Active</td>\n      <td>\\N</td>\n      <td>Staff</td>\n      <td>Contarct Basis</td>\n      <td>Buddhist</td>\n      <td>Quantity Surveyor</td>\n      <td>1990</td>\n    </tr>\n    <tr>\n      <th>996</th>\n      <td>3041</td>\n      <td>Sudath</td>\n      <td>Mr</td>\n      <td>Male</td>\n      <td>Married</td>\n      <td>12/20/2022</td>\n      <td>\\N</td>\n      <td>Active</td>\n      <td>\\N</td>\n      <td>Management</td>\n      <td>Contarct Basis</td>\n      <td>Buddhist</td>\n      <td>Accountant</td>\n      <td>1979</td>\n    </tr>\n  </tbody>\n</table>\n<p>997 rows × 14 columns</p>\n</div>"
     },
     "execution_count": 235,
     "metadata": {},
     "output_type": "execute_result"
    }
   ],
   "source": [
    "employees"
   ],
   "metadata": {
    "collapsed": false,
    "ExecuteTime": {
     "start_time": "2023-07-16T18:50:40.886862Z",
     "end_time": "2023-07-16T18:50:40.994325Z"
    }
   }
  },
  {
   "cell_type": "code",
   "execution_count": 236,
   "outputs": [
    {
     "data": {
      "text/plain": "Employee_No             int64\nName                   object\nTitle                  object\nGender                 object\nMarital_Status         object\nDate_Joined            object\nDate_Resigned          object\nStatus                 object\nInactive_Date          object\nEmployment_Category    object\nEmployment_Type        object\nReligion               object\nDesignation            object\nYear_of_Birth           int64\ndtype: object"
     },
     "execution_count": 236,
     "metadata": {},
     "output_type": "execute_result"
    }
   ],
   "source": [
    "employees.dtypes"
   ],
   "metadata": {
    "collapsed": false,
    "ExecuteTime": {
     "start_time": "2023-07-16T18:50:40.918876Z",
     "end_time": "2023-07-16T18:50:41.027350Z"
    }
   }
  },
  {
   "cell_type": "code",
   "execution_count": 237,
   "outputs": [],
   "source": [
    "employees['Employee_No'] = employees['Employee_No'].astype('int32')\n",
    "employees['Year_of_Birth'] = employees['Year_of_Birth'].astype('int32')\n",
    "# employees['Resigned'] = employees['Resigned'].astype('int32')\n",
    "employees.loc[employees['Date_Resigned'] == '\\\\N', 'Date_Resigned'] = ''\n",
    "employees.loc[employees['Inactive_Date'] == '\\\\N', 'Inactive_Date'] = ''"
   ],
   "metadata": {
    "collapsed": false,
    "ExecuteTime": {
     "start_time": "2023-07-16T18:50:40.934321Z",
     "end_time": "2023-07-16T18:50:41.051872Z"
    }
   }
  },
  {
   "cell_type": "code",
   "execution_count": 238,
   "outputs": [
    {
     "data": {
      "text/plain": "     Employee_No                 Name Title  Gender Marital_Status  \\\n0            347    Myrl Bechtelar MD    Mr    Male        Married   \n1            348         Francis Mraz    Mr    Male        Married   \n2            349    Mr Emmet Blick Jr    Mr    Male        Married   \n3            351  Mr Nelson Braun PhD    Ms  Female        Married   \n4            352     Maximillian Hand    Mr    Male        Married   \n..           ...                  ...   ...     ...            ...   \n992         2836       Janis Borer Jr    Ms  Female         Single   \n993         2890        Delphia Haley    Mr    Male         Single   \n994         2972        Lance Stanton    Mr    Male         Single   \n995         2973      Chauncey Reilly    Mr    Male         Single   \n996         3041               Sudath    Mr    Male        Married   \n\n    Date_Joined Date_Resigned    Status Inactive_Date Employment_Category  \\\n0     12/8/1993                  Active                             Staff   \n1     3/14/1995                  Active                             Staff   \n2     1/27/1988     6/28/2021  Inactive     6/28/2021               Staff   \n3     10/1/1999     1/31/2022  Inactive     1/31/2022               Staff   \n4     1/26/2001                  Active                             Staff   \n..          ...           ...       ...           ...                 ...   \n992   11/1/2022    12/22/2022  Inactive    12/22/2022               Staff   \n993  11/21/2022                  Active                             Staff   \n994   12/5/2022                  Active                             Staff   \n995   12/8/2022                  Active                             Staff   \n996  12/20/2022                  Active                        Management   \n\n    Employment_Type  Religion         Designation  Year_of_Birth  \n0         Permanant  Buddhist              Driver           1965  \n1         Permanant  Buddhist              Driver           1973  \n2         Permanant  Buddhist       Account Clerk           1974  \n3         Permanant  Catholic  Purchasing Officer           1974  \n4         Permanant  Buddhist        Store Keeper           1980  \n..              ...       ...                 ...            ...  \n992  Contarct Basis  Buddhist   Account Executive           1993  \n993  Contarct Basis  Buddhist   Quantity Surveyor           1994  \n994  Contarct Basis  Buddhist  Software Developer           1997  \n995  Contarct Basis  Buddhist   Quantity Surveyor           1990  \n996  Contarct Basis  Buddhist          Accountant           1979  \n\n[997 rows x 14 columns]",
      "text/html": "<div>\n<style scoped>\n    .dataframe tbody tr th:only-of-type {\n        vertical-align: middle;\n    }\n\n    .dataframe tbody tr th {\n        vertical-align: top;\n    }\n\n    .dataframe thead th {\n        text-align: right;\n    }\n</style>\n<table border=\"1\" class=\"dataframe\">\n  <thead>\n    <tr style=\"text-align: right;\">\n      <th></th>\n      <th>Employee_No</th>\n      <th>Name</th>\n      <th>Title</th>\n      <th>Gender</th>\n      <th>Marital_Status</th>\n      <th>Date_Joined</th>\n      <th>Date_Resigned</th>\n      <th>Status</th>\n      <th>Inactive_Date</th>\n      <th>Employment_Category</th>\n      <th>Employment_Type</th>\n      <th>Religion</th>\n      <th>Designation</th>\n      <th>Year_of_Birth</th>\n    </tr>\n  </thead>\n  <tbody>\n    <tr>\n      <th>0</th>\n      <td>347</td>\n      <td>Myrl Bechtelar MD</td>\n      <td>Mr</td>\n      <td>Male</td>\n      <td>Married</td>\n      <td>12/8/1993</td>\n      <td></td>\n      <td>Active</td>\n      <td></td>\n      <td>Staff</td>\n      <td>Permanant</td>\n      <td>Buddhist</td>\n      <td>Driver</td>\n      <td>1965</td>\n    </tr>\n    <tr>\n      <th>1</th>\n      <td>348</td>\n      <td>Francis Mraz</td>\n      <td>Mr</td>\n      <td>Male</td>\n      <td>Married</td>\n      <td>3/14/1995</td>\n      <td></td>\n      <td>Active</td>\n      <td></td>\n      <td>Staff</td>\n      <td>Permanant</td>\n      <td>Buddhist</td>\n      <td>Driver</td>\n      <td>1973</td>\n    </tr>\n    <tr>\n      <th>2</th>\n      <td>349</td>\n      <td>Mr Emmet Blick Jr</td>\n      <td>Mr</td>\n      <td>Male</td>\n      <td>Married</td>\n      <td>1/27/1988</td>\n      <td>6/28/2021</td>\n      <td>Inactive</td>\n      <td>6/28/2021</td>\n      <td>Staff</td>\n      <td>Permanant</td>\n      <td>Buddhist</td>\n      <td>Account Clerk</td>\n      <td>1974</td>\n    </tr>\n    <tr>\n      <th>3</th>\n      <td>351</td>\n      <td>Mr Nelson Braun PhD</td>\n      <td>Ms</td>\n      <td>Female</td>\n      <td>Married</td>\n      <td>10/1/1999</td>\n      <td>1/31/2022</td>\n      <td>Inactive</td>\n      <td>1/31/2022</td>\n      <td>Staff</td>\n      <td>Permanant</td>\n      <td>Catholic</td>\n      <td>Purchasing Officer</td>\n      <td>1974</td>\n    </tr>\n    <tr>\n      <th>4</th>\n      <td>352</td>\n      <td>Maximillian Hand</td>\n      <td>Mr</td>\n      <td>Male</td>\n      <td>Married</td>\n      <td>1/26/2001</td>\n      <td></td>\n      <td>Active</td>\n      <td></td>\n      <td>Staff</td>\n      <td>Permanant</td>\n      <td>Buddhist</td>\n      <td>Store Keeper</td>\n      <td>1980</td>\n    </tr>\n    <tr>\n      <th>...</th>\n      <td>...</td>\n      <td>...</td>\n      <td>...</td>\n      <td>...</td>\n      <td>...</td>\n      <td>...</td>\n      <td>...</td>\n      <td>...</td>\n      <td>...</td>\n      <td>...</td>\n      <td>...</td>\n      <td>...</td>\n      <td>...</td>\n      <td>...</td>\n    </tr>\n    <tr>\n      <th>992</th>\n      <td>2836</td>\n      <td>Janis Borer Jr</td>\n      <td>Ms</td>\n      <td>Female</td>\n      <td>Single</td>\n      <td>11/1/2022</td>\n      <td>12/22/2022</td>\n      <td>Inactive</td>\n      <td>12/22/2022</td>\n      <td>Staff</td>\n      <td>Contarct Basis</td>\n      <td>Buddhist</td>\n      <td>Account Executive</td>\n      <td>1993</td>\n    </tr>\n    <tr>\n      <th>993</th>\n      <td>2890</td>\n      <td>Delphia Haley</td>\n      <td>Mr</td>\n      <td>Male</td>\n      <td>Single</td>\n      <td>11/21/2022</td>\n      <td></td>\n      <td>Active</td>\n      <td></td>\n      <td>Staff</td>\n      <td>Contarct Basis</td>\n      <td>Buddhist</td>\n      <td>Quantity Surveyor</td>\n      <td>1994</td>\n    </tr>\n    <tr>\n      <th>994</th>\n      <td>2972</td>\n      <td>Lance Stanton</td>\n      <td>Mr</td>\n      <td>Male</td>\n      <td>Single</td>\n      <td>12/5/2022</td>\n      <td></td>\n      <td>Active</td>\n      <td></td>\n      <td>Staff</td>\n      <td>Contarct Basis</td>\n      <td>Buddhist</td>\n      <td>Software Developer</td>\n      <td>1997</td>\n    </tr>\n    <tr>\n      <th>995</th>\n      <td>2973</td>\n      <td>Chauncey Reilly</td>\n      <td>Mr</td>\n      <td>Male</td>\n      <td>Single</td>\n      <td>12/8/2022</td>\n      <td></td>\n      <td>Active</td>\n      <td></td>\n      <td>Staff</td>\n      <td>Contarct Basis</td>\n      <td>Buddhist</td>\n      <td>Quantity Surveyor</td>\n      <td>1990</td>\n    </tr>\n    <tr>\n      <th>996</th>\n      <td>3041</td>\n      <td>Sudath</td>\n      <td>Mr</td>\n      <td>Male</td>\n      <td>Married</td>\n      <td>12/20/2022</td>\n      <td></td>\n      <td>Active</td>\n      <td></td>\n      <td>Management</td>\n      <td>Contarct Basis</td>\n      <td>Buddhist</td>\n      <td>Accountant</td>\n      <td>1979</td>\n    </tr>\n  </tbody>\n</table>\n<p>997 rows × 14 columns</p>\n</div>"
     },
     "execution_count": 238,
     "metadata": {},
     "output_type": "execute_result"
    }
   ],
   "source": [
    "employees"
   ],
   "metadata": {
    "collapsed": false,
    "ExecuteTime": {
     "start_time": "2023-07-16T18:50:40.950323Z",
     "end_time": "2023-07-16T18:50:41.052871Z"
    }
   }
  },
  {
   "cell_type": "code",
   "execution_count": 239,
   "outputs": [
    {
     "data": {
      "text/plain": "      Employee_No  year  month  SiteNo          Area  Accomadation Allowance  \\\n0             347  2021      7     1.0      Colombo                      0.0   \n1             347  2021      8     1.0      Colombo                      0.0   \n2             347  2021      9     1.0      Colombo                      0.0   \n3             347  2021     10     1.0      Colombo                      0.0   \n4             347  2021     11     1.0      Colombo                      0.0   \n...           ...   ...    ...     ...           ...                     ...   \n9030         3043  2022     12   194.1  Anuradhapura                     0.0   \n9031         3044  2022     12   194.1  Anuradhapura                     0.0   \n9032         3045  2022     12   194.1  Anuradhapura                     0.0   \n9033         3084  2022     12   197.0       Badulla                     0.0   \n9034         3095  2022     12   179.1         Kandy                     0.0   \n\n      Accommodation Allowance  Add. Allow. No Pay Deduction  \\\n0                         0.0                          0.00   \n1                         0.0                          0.00   \n2                         0.0                          0.00   \n3                         0.0                          0.00   \n4                         0.0                          0.00   \n...                       ...                           ...   \n9030                      0.0                          0.00   \n9031                      0.0                          0.00   \n9032                      0.0                          0.00   \n9033                      0.0                      41666.67   \n9034                      0.0                          0.00   \n\n      Additional Allowance_0  Additional Allowance_2  ...  \\\n0                        0.0                     0.0  ...   \n1                        0.0                     0.0  ...   \n2                        0.0                     0.0  ...   \n3                        0.0                     0.0  ...   \n4                        0.0                     0.0  ...   \n...                      ...                     ...  ...   \n9030                     0.0                     0.0  ...   \n9031                     0.0                     0.0  ...   \n9032                     0.0                     0.0  ...   \n9033                     0.0                 25000.0  ...   \n9034                     0.0                     0.0  ...   \n\n      WSL No of Full Worked Days  WSL No of Half Days  WSL OT 1.5  \\\n0                            0.0                  0.0         0.0   \n1                            0.0                  0.0         0.0   \n2                            0.0                  0.0         0.0   \n3                            0.0                  0.0         0.0   \n4                            0.0                  0.0         0.0   \n...                          ...                  ...         ...   \n9030                         0.0                  0.0         0.0   \n9031                         0.0                  0.0         0.0   \n9032                         0.0                  0.0         0.0   \n9033                         0.0                  0.0         0.0   \n9034                         4.0                  0.0         0.0   \n\n      WSL OT Hours 1.5  WSL OT Rate  WSL Total Earning  \\\n0                  0.0          0.0                0.0   \n1                  0.0          0.0                0.0   \n2                  0.0          0.0                0.0   \n3                  0.0          0.0                0.0   \n4                  0.0          0.0                0.0   \n...                ...          ...                ...   \n9030               0.0          0.0                0.0   \n9031               0.0          0.0                0.0   \n9032               0.0          0.0                0.0   \n9033               0.0          0.0                0.0   \n9034               0.0        937.5            20000.0   \n\n      WSL Total Working Days  WSLOther Allowance Rate  Working Days - Full  \\\n0                        0.0                      0.0                  0.0   \n1                        0.0                      0.0                  0.0   \n2                        0.0                      0.0                  0.0   \n3                        0.0                      0.0                  0.0   \n4                        0.0                      0.0                  0.0   \n...                      ...                      ...                  ...   \n9030                     0.0                      0.0                  0.0   \n9031                     0.0                      0.0                  0.0   \n9032                     0.0                      0.0                  0.0   \n9033                     0.0                      0.0                  0.0   \n9034                     4.0                      0.0                  0.0   \n\n      Working Days - Half Day  \n0                         0.0  \n1                         0.0  \n2                         0.0  \n3                         0.0  \n4                         0.0  \n...                       ...  \n9030                      0.0  \n9031                      0.0  \n9032                      0.0  \n9033                      0.0  \n9034                      0.0  \n\n[9035 rows x 109 columns]",
      "text/html": "<div>\n<style scoped>\n    .dataframe tbody tr th:only-of-type {\n        vertical-align: middle;\n    }\n\n    .dataframe tbody tr th {\n        vertical-align: top;\n    }\n\n    .dataframe thead th {\n        text-align: right;\n    }\n</style>\n<table border=\"1\" class=\"dataframe\">\n  <thead>\n    <tr style=\"text-align: right;\">\n      <th></th>\n      <th>Employee_No</th>\n      <th>year</th>\n      <th>month</th>\n      <th>SiteNo</th>\n      <th>Area</th>\n      <th>Accomadation Allowance</th>\n      <th>Accommodation Allowance</th>\n      <th>Add. Allow. No Pay Deduction</th>\n      <th>Additional Allowance_0</th>\n      <th>Additional Allowance_2</th>\n      <th>...</th>\n      <th>WSL No of Full Worked Days</th>\n      <th>WSL No of Half Days</th>\n      <th>WSL OT 1.5</th>\n      <th>WSL OT Hours 1.5</th>\n      <th>WSL OT Rate</th>\n      <th>WSL Total Earning</th>\n      <th>WSL Total Working Days</th>\n      <th>WSLOther Allowance Rate</th>\n      <th>Working Days - Full</th>\n      <th>Working Days - Half Day</th>\n    </tr>\n  </thead>\n  <tbody>\n    <tr>\n      <th>0</th>\n      <td>347</td>\n      <td>2021</td>\n      <td>7</td>\n      <td>1.0</td>\n      <td>Colombo</td>\n      <td>0.0</td>\n      <td>0.0</td>\n      <td>0.00</td>\n      <td>0.0</td>\n      <td>0.0</td>\n      <td>...</td>\n      <td>0.0</td>\n      <td>0.0</td>\n      <td>0.0</td>\n      <td>0.0</td>\n      <td>0.0</td>\n      <td>0.0</td>\n      <td>0.0</td>\n      <td>0.0</td>\n      <td>0.0</td>\n      <td>0.0</td>\n    </tr>\n    <tr>\n      <th>1</th>\n      <td>347</td>\n      <td>2021</td>\n      <td>8</td>\n      <td>1.0</td>\n      <td>Colombo</td>\n      <td>0.0</td>\n      <td>0.0</td>\n      <td>0.00</td>\n      <td>0.0</td>\n      <td>0.0</td>\n      <td>...</td>\n      <td>0.0</td>\n      <td>0.0</td>\n      <td>0.0</td>\n      <td>0.0</td>\n      <td>0.0</td>\n      <td>0.0</td>\n      <td>0.0</td>\n      <td>0.0</td>\n      <td>0.0</td>\n      <td>0.0</td>\n    </tr>\n    <tr>\n      <th>2</th>\n      <td>347</td>\n      <td>2021</td>\n      <td>9</td>\n      <td>1.0</td>\n      <td>Colombo</td>\n      <td>0.0</td>\n      <td>0.0</td>\n      <td>0.00</td>\n      <td>0.0</td>\n      <td>0.0</td>\n      <td>...</td>\n      <td>0.0</td>\n      <td>0.0</td>\n      <td>0.0</td>\n      <td>0.0</td>\n      <td>0.0</td>\n      <td>0.0</td>\n      <td>0.0</td>\n      <td>0.0</td>\n      <td>0.0</td>\n      <td>0.0</td>\n    </tr>\n    <tr>\n      <th>3</th>\n      <td>347</td>\n      <td>2021</td>\n      <td>10</td>\n      <td>1.0</td>\n      <td>Colombo</td>\n      <td>0.0</td>\n      <td>0.0</td>\n      <td>0.00</td>\n      <td>0.0</td>\n      <td>0.0</td>\n      <td>...</td>\n      <td>0.0</td>\n      <td>0.0</td>\n      <td>0.0</td>\n      <td>0.0</td>\n      <td>0.0</td>\n      <td>0.0</td>\n      <td>0.0</td>\n      <td>0.0</td>\n      <td>0.0</td>\n      <td>0.0</td>\n    </tr>\n    <tr>\n      <th>4</th>\n      <td>347</td>\n      <td>2021</td>\n      <td>11</td>\n      <td>1.0</td>\n      <td>Colombo</td>\n      <td>0.0</td>\n      <td>0.0</td>\n      <td>0.00</td>\n      <td>0.0</td>\n      <td>0.0</td>\n      <td>...</td>\n      <td>0.0</td>\n      <td>0.0</td>\n      <td>0.0</td>\n      <td>0.0</td>\n      <td>0.0</td>\n      <td>0.0</td>\n      <td>0.0</td>\n      <td>0.0</td>\n      <td>0.0</td>\n      <td>0.0</td>\n    </tr>\n    <tr>\n      <th>...</th>\n      <td>...</td>\n      <td>...</td>\n      <td>...</td>\n      <td>...</td>\n      <td>...</td>\n      <td>...</td>\n      <td>...</td>\n      <td>...</td>\n      <td>...</td>\n      <td>...</td>\n      <td>...</td>\n      <td>...</td>\n      <td>...</td>\n      <td>...</td>\n      <td>...</td>\n      <td>...</td>\n      <td>...</td>\n      <td>...</td>\n      <td>...</td>\n      <td>...</td>\n      <td>...</td>\n    </tr>\n    <tr>\n      <th>9030</th>\n      <td>3043</td>\n      <td>2022</td>\n      <td>12</td>\n      <td>194.1</td>\n      <td>Anuradhapura</td>\n      <td>0.0</td>\n      <td>0.0</td>\n      <td>0.00</td>\n      <td>0.0</td>\n      <td>0.0</td>\n      <td>...</td>\n      <td>0.0</td>\n      <td>0.0</td>\n      <td>0.0</td>\n      <td>0.0</td>\n      <td>0.0</td>\n      <td>0.0</td>\n      <td>0.0</td>\n      <td>0.0</td>\n      <td>0.0</td>\n      <td>0.0</td>\n    </tr>\n    <tr>\n      <th>9031</th>\n      <td>3044</td>\n      <td>2022</td>\n      <td>12</td>\n      <td>194.1</td>\n      <td>Anuradhapura</td>\n      <td>0.0</td>\n      <td>0.0</td>\n      <td>0.00</td>\n      <td>0.0</td>\n      <td>0.0</td>\n      <td>...</td>\n      <td>0.0</td>\n      <td>0.0</td>\n      <td>0.0</td>\n      <td>0.0</td>\n      <td>0.0</td>\n      <td>0.0</td>\n      <td>0.0</td>\n      <td>0.0</td>\n      <td>0.0</td>\n      <td>0.0</td>\n    </tr>\n    <tr>\n      <th>9032</th>\n      <td>3045</td>\n      <td>2022</td>\n      <td>12</td>\n      <td>194.1</td>\n      <td>Anuradhapura</td>\n      <td>0.0</td>\n      <td>0.0</td>\n      <td>0.00</td>\n      <td>0.0</td>\n      <td>0.0</td>\n      <td>...</td>\n      <td>0.0</td>\n      <td>0.0</td>\n      <td>0.0</td>\n      <td>0.0</td>\n      <td>0.0</td>\n      <td>0.0</td>\n      <td>0.0</td>\n      <td>0.0</td>\n      <td>0.0</td>\n      <td>0.0</td>\n    </tr>\n    <tr>\n      <th>9033</th>\n      <td>3084</td>\n      <td>2022</td>\n      <td>12</td>\n      <td>197.0</td>\n      <td>Badulla</td>\n      <td>0.0</td>\n      <td>0.0</td>\n      <td>41666.67</td>\n      <td>0.0</td>\n      <td>25000.0</td>\n      <td>...</td>\n      <td>0.0</td>\n      <td>0.0</td>\n      <td>0.0</td>\n      <td>0.0</td>\n      <td>0.0</td>\n      <td>0.0</td>\n      <td>0.0</td>\n      <td>0.0</td>\n      <td>0.0</td>\n      <td>0.0</td>\n    </tr>\n    <tr>\n      <th>9034</th>\n      <td>3095</td>\n      <td>2022</td>\n      <td>12</td>\n      <td>179.1</td>\n      <td>Kandy</td>\n      <td>0.0</td>\n      <td>0.0</td>\n      <td>0.00</td>\n      <td>0.0</td>\n      <td>0.0</td>\n      <td>...</td>\n      <td>4.0</td>\n      <td>0.0</td>\n      <td>0.0</td>\n      <td>0.0</td>\n      <td>937.5</td>\n      <td>20000.0</td>\n      <td>4.0</td>\n      <td>0.0</td>\n      <td>0.0</td>\n      <td>0.0</td>\n    </tr>\n  </tbody>\n</table>\n<p>9035 rows × 109 columns</p>\n</div>"
     },
     "execution_count": 239,
     "metadata": {},
     "output_type": "execute_result"
    }
   ],
   "source": [
    "salary"
   ],
   "metadata": {
    "collapsed": false,
    "ExecuteTime": {
     "start_time": "2023-07-16T18:50:40.967320Z",
     "end_time": "2023-07-16T18:50:41.118876Z"
    }
   }
  },
  {
   "cell_type": "code",
   "execution_count": 240,
   "outputs": [
    {
     "data": {
      "text/plain": "Employee_No                  int64\nyear                         int64\nmonth                        int64\nSiteNo                     float64\nArea                        object\n                            ...   \nWSL Total Earning          float64\nWSL Total Working Days     float64\nWSLOther Allowance Rate    float64\nWorking Days - Full        float64\nWorking Days - Half Day    float64\nLength: 109, dtype: object"
     },
     "execution_count": 240,
     "metadata": {},
     "output_type": "execute_result"
    }
   ],
   "source": [
    "salary.dtypes"
   ],
   "metadata": {
    "collapsed": false,
    "ExecuteTime": {
     "start_time": "2023-07-16T18:50:41.013322Z",
     "end_time": "2023-07-16T18:50:41.138452Z"
    }
   }
  },
  {
   "cell_type": "code",
   "execution_count": 241,
   "outputs": [],
   "source": [
    "salary['Employee_No'] = salary['Employee_No'].astype('int32')\n",
    "salary['year'] = salary['year'].astype('int32')\n",
    "salary['month'] = salary['month'].astype('int32')\n",
    "salary['SiteNo'] = salary['SiteNo'].astype('int32')"
   ],
   "metadata": {
    "collapsed": false,
    "ExecuteTime": {
     "start_time": "2023-07-16T18:50:41.029333Z",
     "end_time": "2023-07-16T18:50:41.138452Z"
    }
   }
  },
  {
   "cell_type": "code",
   "execution_count": 242,
   "outputs": [
    {
     "name": "stdout",
     "output_type": "stream",
     "text": [
      "0  -  Employee_No\n",
      "0  -  year\n",
      "0  -  month\n",
      "0  -  SiteNo\n",
      "0  -  Area\n",
      "0  -  Accomadation Allowance\n",
      "0  -  Accommodation Allowance\n",
      "0  -  Add. Allow. No Pay Deduction\n",
      "0  -  Additional Allowance_0\n",
      "0  -  Additional Allowance_2\n",
      "0  -  Allow - Extra Working Hours\n",
      "0  -  Attendance Allowance Rate\n",
      "0  -  Attendance Allowance_0\n",
      "0  -  Attendance Allowance_2\n",
      "0  -  BRA1\n",
      "0  -  BRA1 Amount\n",
      "0  -  BRA1WSL\n",
      "0  -  BRA2\n",
      "0  -  BRA2 Amount\n",
      "0  -  BRA2WSL\n",
      "0  -  Basic Day Rate\n",
      "0  -  Basic Rate for EPF\n",
      "0  -  Basic Rate_2\n",
      "0  -  Basic Rate_3\n",
      "0  -  Basic Salary for EPF\n",
      "0  -  Basic Salary_0\n",
      "0  -  Basic Salary_2\n",
      "0  -  Basic per Day\n",
      "0  -  EPF Employee 8%\n",
      "0  -  EPF Employer 12%\n",
      "0  -  EPF Staff No Pay Full Day\n",
      "0  -  EPF Staff No Pay Half Day\n",
      "0  -  EPF staff Halfdays\n",
      "0  -  EPF staff full workdays\n",
      "0  -  ETF Employer 3%\n",
      "0  -  Ex Work Hours Allownace\n",
      "0  -  Fixed Amount\n",
      "0  -  Fixed OT Entitlement\n",
      "0  -  Fixed OT Hours\n",
      "0  -  Hard Ship Allowance Rate\n",
      "0  -  Hard Ship Allowance_0\n",
      "0  -  Hard Ship Allowance_2\n",
      "0  -  Hard ship Allowance Rate\n",
      "0  -  Leave Leave Full Day\n",
      "0  -  Leave Leave Halfday\n",
      "0  -  Lieu Leave\n",
      "0  -  Meal Allowance\n",
      "0  -  Month Day Count\n",
      "0  -  Net Salary\n",
      "0  -  No Pay\n",
      "0  -  No Pay Days\n",
      "0  -  No Pay Deduction\n",
      "0  -  No Pay Rate\n",
      "0  -  No of Full Worked Days\n",
      "0  -  No of Half Days\n",
      "0  -  OT (Type = 2)\n",
      "0  -  OT Amount 1.5_0\n",
      "0  -  OT Amount 1.5_2\n",
      "0  -  OT Hours\n",
      "0  -  OT Rate\n",
      "0  -  OT Rate 1.5\n",
      "0  -  OT Rate 2\n",
      "0  -  Other Allowance\n",
      "0  -  Other Allowance Amount\n",
      "0  -  Other Allowance Rate\n",
      "0  -  Other Deduction\n",
      "0  -  Payee Month\n",
      "0  -  Per Day Rate Total\n",
      "0  -  Performance Allowance\n",
      "0  -  Performance Allowance Rate\n",
      "0  -  Performance Allownace Fixed\n",
      "0  -  Salary Advance\n",
      "0  -  Salary Arrears_0\n",
      "0  -  Salary Arrears_2\n",
      "0  -  Site Fixed Allowance\n",
      "0  -  Special Allowance\n",
      "0  -  Special Task Allowance\n",
      "0  -  Stamp Duty\n",
      "0  -  Telephone Allowance\n",
      "0  -  Telephone Deduction\n",
      "0  -  Total Cost to the Company\n",
      "0  -  Total Deduction\n",
      "0  -  Total Earnings_0\n",
      "0  -  Total Earnings_2\n",
      "0  -  Total Fixed\n",
      "0  -  Total V.Allowance\n",
      "0  -  Total Working Days\n",
      "0  -  Travelling Allowance\n",
      "0  -  V. ALLW -Site\n",
      "0  -  V. ALLW Rate -Site\n",
      "0  -  V. Allow - Drivers Travel\n",
      "0  -  V. Allow - Operator\n",
      "0  -  V. Allowance Attendance\n",
      "0  -  Vehicle Allownace\n",
      "0  -  WSL Advance\n",
      "0  -  WSL Basic\n",
      "0  -  WSL Basic Salary\n",
      "0  -  WSL Day Rate\n",
      "0  -  WSL Net Salary\n",
      "0  -  WSL No of Full Worked Days\n",
      "0  -  WSL No of Half Days\n",
      "0  -  WSL OT 1.5\n",
      "0  -  WSL OT Hours 1.5\n",
      "0  -  WSL OT Rate\n",
      "0  -  WSL Total Earning\n",
      "0  -  WSL Total Working Days\n",
      "0  -  WSLOther Allowance Rate\n",
      "0  -  Working Days - Full\n",
      "0  -  Working Days - Half Day\n"
     ]
    }
   ],
   "source": [
    "for col in salary.columns.tolist():\n",
    "    print(salary[salary[col] == '\\\\N'].shape[0], ' - ', col)"
   ],
   "metadata": {
    "collapsed": false,
    "ExecuteTime": {
     "start_time": "2023-07-16T18:50:41.044875Z",
     "end_time": "2023-07-16T18:50:41.214451Z"
    }
   }
  },
  {
   "cell_type": "markdown",
   "source": [
    "# Cleaning 'attendance' dataset"
   ],
   "metadata": {
    "collapsed": false
   }
  },
  {
   "cell_type": "code",
   "execution_count": 243,
   "outputs": [
    {
     "data": {
      "text/plain": "             id  project_code       date   out_date  Employee_No   in_time  \\\n0        280220         100.0   2/1/2021   2/1/2021         1272   8:30:00   \n1        280307           1.0   2/1/2021   2/1/2021         1539   8:30:00   \n2        280312           1.0   2/1/2021   2/1/2021         1540   7:45:00   \n3        280385         100.0   2/1/2021   2/1/2021         1273   8:00:00   \n4        322526           1.0   2/1/2021   2/1/2021          573  23:22:28   \n...         ...           ...        ...        ...          ...       ...   \n224052  1049809         206.0  8/18/2103  8/18/2103         2455   7:06:00   \n224053  1049810         206.0  8/18/2103  8/18/2103         2453   6:31:00   \n224054   986797         206.0  8/19/2103  8/19/2103         2406   7:35:41   \n224055   986798         206.0  8/19/2103  8/19/2103         2429   7:35:34   \n224056   986800         206.0  8/19/2103  8/19/2103         2428   7:14:24   \n\n        out_time Hourly_Time Shift_Start Shift_End  \n0       17:00:00         8.5     8:30:00  17:00:00  \n1       17:00:00         8.5     8:30:00  17:00:00  \n2       17:00:00        9.25     8:30:00  17:00:00  \n3       18:00:00          10     8:30:00  17:00:00  \n4       23:22:28           0     8:30:00  17:00:00  \n...          ...         ...         ...       ...  \n224052  12:07:41        5.03     8:00:00  17:00:00  \n224053  17:15:05       10.73     8:00:00  17:00:00  \n224054   7:35:41           0     0:00:00   0:00:00  \n224055   7:35:34           0     0:00:00   0:00:00  \n224056   7:14:24           0     0:00:00   0:00:00  \n\n[224057 rows x 10 columns]",
      "text/html": "<div>\n<style scoped>\n    .dataframe tbody tr th:only-of-type {\n        vertical-align: middle;\n    }\n\n    .dataframe tbody tr th {\n        vertical-align: top;\n    }\n\n    .dataframe thead th {\n        text-align: right;\n    }\n</style>\n<table border=\"1\" class=\"dataframe\">\n  <thead>\n    <tr style=\"text-align: right;\">\n      <th></th>\n      <th>id</th>\n      <th>project_code</th>\n      <th>date</th>\n      <th>out_date</th>\n      <th>Employee_No</th>\n      <th>in_time</th>\n      <th>out_time</th>\n      <th>Hourly_Time</th>\n      <th>Shift_Start</th>\n      <th>Shift_End</th>\n    </tr>\n  </thead>\n  <tbody>\n    <tr>\n      <th>0</th>\n      <td>280220</td>\n      <td>100.0</td>\n      <td>2/1/2021</td>\n      <td>2/1/2021</td>\n      <td>1272</td>\n      <td>8:30:00</td>\n      <td>17:00:00</td>\n      <td>8.5</td>\n      <td>8:30:00</td>\n      <td>17:00:00</td>\n    </tr>\n    <tr>\n      <th>1</th>\n      <td>280307</td>\n      <td>1.0</td>\n      <td>2/1/2021</td>\n      <td>2/1/2021</td>\n      <td>1539</td>\n      <td>8:30:00</td>\n      <td>17:00:00</td>\n      <td>8.5</td>\n      <td>8:30:00</td>\n      <td>17:00:00</td>\n    </tr>\n    <tr>\n      <th>2</th>\n      <td>280312</td>\n      <td>1.0</td>\n      <td>2/1/2021</td>\n      <td>2/1/2021</td>\n      <td>1540</td>\n      <td>7:45:00</td>\n      <td>17:00:00</td>\n      <td>9.25</td>\n      <td>8:30:00</td>\n      <td>17:00:00</td>\n    </tr>\n    <tr>\n      <th>3</th>\n      <td>280385</td>\n      <td>100.0</td>\n      <td>2/1/2021</td>\n      <td>2/1/2021</td>\n      <td>1273</td>\n      <td>8:00:00</td>\n      <td>18:00:00</td>\n      <td>10</td>\n      <td>8:30:00</td>\n      <td>17:00:00</td>\n    </tr>\n    <tr>\n      <th>4</th>\n      <td>322526</td>\n      <td>1.0</td>\n      <td>2/1/2021</td>\n      <td>2/1/2021</td>\n      <td>573</td>\n      <td>23:22:28</td>\n      <td>23:22:28</td>\n      <td>0</td>\n      <td>8:30:00</td>\n      <td>17:00:00</td>\n    </tr>\n    <tr>\n      <th>...</th>\n      <td>...</td>\n      <td>...</td>\n      <td>...</td>\n      <td>...</td>\n      <td>...</td>\n      <td>...</td>\n      <td>...</td>\n      <td>...</td>\n      <td>...</td>\n      <td>...</td>\n    </tr>\n    <tr>\n      <th>224052</th>\n      <td>1049809</td>\n      <td>206.0</td>\n      <td>8/18/2103</td>\n      <td>8/18/2103</td>\n      <td>2455</td>\n      <td>7:06:00</td>\n      <td>12:07:41</td>\n      <td>5.03</td>\n      <td>8:00:00</td>\n      <td>17:00:00</td>\n    </tr>\n    <tr>\n      <th>224053</th>\n      <td>1049810</td>\n      <td>206.0</td>\n      <td>8/18/2103</td>\n      <td>8/18/2103</td>\n      <td>2453</td>\n      <td>6:31:00</td>\n      <td>17:15:05</td>\n      <td>10.73</td>\n      <td>8:00:00</td>\n      <td>17:00:00</td>\n    </tr>\n    <tr>\n      <th>224054</th>\n      <td>986797</td>\n      <td>206.0</td>\n      <td>8/19/2103</td>\n      <td>8/19/2103</td>\n      <td>2406</td>\n      <td>7:35:41</td>\n      <td>7:35:41</td>\n      <td>0</td>\n      <td>0:00:00</td>\n      <td>0:00:00</td>\n    </tr>\n    <tr>\n      <th>224055</th>\n      <td>986798</td>\n      <td>206.0</td>\n      <td>8/19/2103</td>\n      <td>8/19/2103</td>\n      <td>2429</td>\n      <td>7:35:34</td>\n      <td>7:35:34</td>\n      <td>0</td>\n      <td>0:00:00</td>\n      <td>0:00:00</td>\n    </tr>\n    <tr>\n      <th>224056</th>\n      <td>986800</td>\n      <td>206.0</td>\n      <td>8/19/2103</td>\n      <td>8/19/2103</td>\n      <td>2428</td>\n      <td>7:14:24</td>\n      <td>7:14:24</td>\n      <td>0</td>\n      <td>0:00:00</td>\n      <td>0:00:00</td>\n    </tr>\n  </tbody>\n</table>\n<p>224057 rows × 10 columns</p>\n</div>"
     },
     "execution_count": 243,
     "metadata": {},
     "output_type": "execute_result"
    }
   ],
   "source": [
    "attendance"
   ],
   "metadata": {
    "collapsed": false,
    "ExecuteTime": {
     "start_time": "2023-07-16T18:50:41.091874Z",
     "end_time": "2023-07-16T18:50:41.294978Z"
    }
   }
  },
  {
   "cell_type": "code",
   "execution_count": 244,
   "outputs": [
    {
     "data": {
      "text/plain": "id                int64\nproject_code    float64\ndate             object\nout_date         object\nEmployee_No       int64\nin_time          object\nout_time         object\nHourly_Time      object\nShift_Start      object\nShift_End        object\ndtype: object"
     },
     "execution_count": 244,
     "metadata": {},
     "output_type": "execute_result"
    }
   ],
   "source": [
    "attendance.dtypes"
   ],
   "metadata": {
    "collapsed": false,
    "ExecuteTime": {
     "start_time": "2023-07-16T18:50:41.126878Z",
     "end_time": "2023-07-16T18:50:41.313980Z"
    }
   }
  },
  {
   "cell_type": "code",
   "execution_count": 245,
   "outputs": [],
   "source": [
    "attendance['project_code'] = attendance['project_code'].astype('int32')\n",
    "attendance['Employee_No'] = attendance['Employee_No'].astype('int32')"
   ],
   "metadata": {
    "collapsed": false,
    "ExecuteTime": {
     "start_time": "2023-07-16T18:50:41.141452Z",
     "end_time": "2023-07-16T18:50:41.357501Z"
    }
   }
  },
  {
   "cell_type": "code",
   "execution_count": 246,
   "outputs": [
    {
     "name": "stdout",
     "output_type": "stream",
     "text": [
      "0  -  id\n",
      "0  -  project_code\n",
      "0  -  date\n",
      "0  -  out_date\n",
      "0  -  Employee_No\n",
      "0  -  in_time\n",
      "0  -  out_time\n",
      "15  -  Hourly_Time\n",
      "0  -  Shift_Start\n",
      "0  -  Shift_End\n"
     ]
    }
   ],
   "source": [
    "for col in attendance.columns.tolist():\n",
    "    print(attendance[attendance[col] == '\\\\N'].shape[0], ' - ', col)"
   ],
   "metadata": {
    "collapsed": false,
    "ExecuteTime": {
     "start_time": "2023-07-16T18:50:41.156450Z",
     "end_time": "2023-07-16T18:50:41.466010Z"
    }
   }
  },
  {
   "cell_type": "code",
   "execution_count": 247,
   "outputs": [
    {
     "data": {
      "text/plain": "           id  project_code       date   out_date  Employee_No  in_time  \\\n735    340612           199   2/6/2021   2/6/2021          399  7:30:00   \n4927   351400           198   3/4/2021   3/5/2021          908  7:30:00   \n5617   341167           199   3/6/2021   3/6/2021          399  7:30:00   \n9560   348467           190  3/17/2021  3/18/2021          501  7:05:00   \n9561   348481           190  3/17/2021  3/18/2021         1218  7:55:00   \n9562   348493           190  3/17/2021  3/18/2021         1085  7:55:00   \n9856   341522           199  3/18/2021  3/18/2021          813  8:00:00   \n15553  400868           196   4/2/2021   4/2/2021         1551  7:33:24   \n16814  389076           169   4/6/2021   4/6/2021          385  8:00:00   \n25682  436125           198   5/7/2021   5/7/2021          413  7:40:00   \n29689  516864           198  5/19/2021  5/20/2021          584  8:04:47   \n32645  517402           198  5/29/2021  5/29/2021         1737  7:55:26   \n42524  535416           198  6/22/2021  6/22/2021         1013  7:54:17   \n43554  535419           198  6/25/2021  6/25/2021         1013  8:00:27   \n49981  579590           203  7/11/2021  7/11/2021         1960  4:00:00   \n\n       out_time Hourly_Time Shift_Start Shift_End  \n735    24:00:00          \\N     8:00:00  17:00:00  \n4927   24:00:00          \\N     8:00:00  17:00:00  \n5617   24:00:00          \\N     8:00:00  17:00:00  \n9560   24:00:00          \\N     8:00:00  17:00:00  \n9561   24:00:00          \\N     8:00:00  17:00:00  \n9562   24:00:00          \\N     8:00:00  17:00:00  \n9856   24:00:00          \\N     8:00:00  17:00:00  \n15553  24:50:00          \\N     8:00:00  17:00:00  \n16814  24:00:00          \\N     8:00:00  17:00:00  \n25682  24:00:00          \\N     8:00:00  17:00:00  \n29689  24:00:00          \\N     8:00:00  17:00:00  \n32645  24:00:00          \\N     8:00:00  17:00:00  \n42524  24:00:00          \\N     8:00:00  17:00:00  \n43554  24:00:00          \\N     8:00:00  17:00:00  \n49981  24:00:00          \\N     0:00:00   0:00:00  ",
      "text/html": "<div>\n<style scoped>\n    .dataframe tbody tr th:only-of-type {\n        vertical-align: middle;\n    }\n\n    .dataframe tbody tr th {\n        vertical-align: top;\n    }\n\n    .dataframe thead th {\n        text-align: right;\n    }\n</style>\n<table border=\"1\" class=\"dataframe\">\n  <thead>\n    <tr style=\"text-align: right;\">\n      <th></th>\n      <th>id</th>\n      <th>project_code</th>\n      <th>date</th>\n      <th>out_date</th>\n      <th>Employee_No</th>\n      <th>in_time</th>\n      <th>out_time</th>\n      <th>Hourly_Time</th>\n      <th>Shift_Start</th>\n      <th>Shift_End</th>\n    </tr>\n  </thead>\n  <tbody>\n    <tr>\n      <th>735</th>\n      <td>340612</td>\n      <td>199</td>\n      <td>2/6/2021</td>\n      <td>2/6/2021</td>\n      <td>399</td>\n      <td>7:30:00</td>\n      <td>24:00:00</td>\n      <td>\\N</td>\n      <td>8:00:00</td>\n      <td>17:00:00</td>\n    </tr>\n    <tr>\n      <th>4927</th>\n      <td>351400</td>\n      <td>198</td>\n      <td>3/4/2021</td>\n      <td>3/5/2021</td>\n      <td>908</td>\n      <td>7:30:00</td>\n      <td>24:00:00</td>\n      <td>\\N</td>\n      <td>8:00:00</td>\n      <td>17:00:00</td>\n    </tr>\n    <tr>\n      <th>5617</th>\n      <td>341167</td>\n      <td>199</td>\n      <td>3/6/2021</td>\n      <td>3/6/2021</td>\n      <td>399</td>\n      <td>7:30:00</td>\n      <td>24:00:00</td>\n      <td>\\N</td>\n      <td>8:00:00</td>\n      <td>17:00:00</td>\n    </tr>\n    <tr>\n      <th>9560</th>\n      <td>348467</td>\n      <td>190</td>\n      <td>3/17/2021</td>\n      <td>3/18/2021</td>\n      <td>501</td>\n      <td>7:05:00</td>\n      <td>24:00:00</td>\n      <td>\\N</td>\n      <td>8:00:00</td>\n      <td>17:00:00</td>\n    </tr>\n    <tr>\n      <th>9561</th>\n      <td>348481</td>\n      <td>190</td>\n      <td>3/17/2021</td>\n      <td>3/18/2021</td>\n      <td>1218</td>\n      <td>7:55:00</td>\n      <td>24:00:00</td>\n      <td>\\N</td>\n      <td>8:00:00</td>\n      <td>17:00:00</td>\n    </tr>\n    <tr>\n      <th>9562</th>\n      <td>348493</td>\n      <td>190</td>\n      <td>3/17/2021</td>\n      <td>3/18/2021</td>\n      <td>1085</td>\n      <td>7:55:00</td>\n      <td>24:00:00</td>\n      <td>\\N</td>\n      <td>8:00:00</td>\n      <td>17:00:00</td>\n    </tr>\n    <tr>\n      <th>9856</th>\n      <td>341522</td>\n      <td>199</td>\n      <td>3/18/2021</td>\n      <td>3/18/2021</td>\n      <td>813</td>\n      <td>8:00:00</td>\n      <td>24:00:00</td>\n      <td>\\N</td>\n      <td>8:00:00</td>\n      <td>17:00:00</td>\n    </tr>\n    <tr>\n      <th>15553</th>\n      <td>400868</td>\n      <td>196</td>\n      <td>4/2/2021</td>\n      <td>4/2/2021</td>\n      <td>1551</td>\n      <td>7:33:24</td>\n      <td>24:50:00</td>\n      <td>\\N</td>\n      <td>8:00:00</td>\n      <td>17:00:00</td>\n    </tr>\n    <tr>\n      <th>16814</th>\n      <td>389076</td>\n      <td>169</td>\n      <td>4/6/2021</td>\n      <td>4/6/2021</td>\n      <td>385</td>\n      <td>8:00:00</td>\n      <td>24:00:00</td>\n      <td>\\N</td>\n      <td>8:00:00</td>\n      <td>17:00:00</td>\n    </tr>\n    <tr>\n      <th>25682</th>\n      <td>436125</td>\n      <td>198</td>\n      <td>5/7/2021</td>\n      <td>5/7/2021</td>\n      <td>413</td>\n      <td>7:40:00</td>\n      <td>24:00:00</td>\n      <td>\\N</td>\n      <td>8:00:00</td>\n      <td>17:00:00</td>\n    </tr>\n    <tr>\n      <th>29689</th>\n      <td>516864</td>\n      <td>198</td>\n      <td>5/19/2021</td>\n      <td>5/20/2021</td>\n      <td>584</td>\n      <td>8:04:47</td>\n      <td>24:00:00</td>\n      <td>\\N</td>\n      <td>8:00:00</td>\n      <td>17:00:00</td>\n    </tr>\n    <tr>\n      <th>32645</th>\n      <td>517402</td>\n      <td>198</td>\n      <td>5/29/2021</td>\n      <td>5/29/2021</td>\n      <td>1737</td>\n      <td>7:55:26</td>\n      <td>24:00:00</td>\n      <td>\\N</td>\n      <td>8:00:00</td>\n      <td>17:00:00</td>\n    </tr>\n    <tr>\n      <th>42524</th>\n      <td>535416</td>\n      <td>198</td>\n      <td>6/22/2021</td>\n      <td>6/22/2021</td>\n      <td>1013</td>\n      <td>7:54:17</td>\n      <td>24:00:00</td>\n      <td>\\N</td>\n      <td>8:00:00</td>\n      <td>17:00:00</td>\n    </tr>\n    <tr>\n      <th>43554</th>\n      <td>535419</td>\n      <td>198</td>\n      <td>6/25/2021</td>\n      <td>6/25/2021</td>\n      <td>1013</td>\n      <td>8:00:27</td>\n      <td>24:00:00</td>\n      <td>\\N</td>\n      <td>8:00:00</td>\n      <td>17:00:00</td>\n    </tr>\n    <tr>\n      <th>49981</th>\n      <td>579590</td>\n      <td>203</td>\n      <td>7/11/2021</td>\n      <td>7/11/2021</td>\n      <td>1960</td>\n      <td>4:00:00</td>\n      <td>24:00:00</td>\n      <td>\\N</td>\n      <td>0:00:00</td>\n      <td>0:00:00</td>\n    </tr>\n  </tbody>\n</table>\n</div>"
     },
     "execution_count": 247,
     "metadata": {},
     "output_type": "execute_result"
    }
   ],
   "source": [
    "df_N = attendance[attendance['Hourly_Time'] == '\\\\N']\n",
    "df_N"
   ],
   "metadata": {
    "collapsed": false,
    "ExecuteTime": {
     "start_time": "2023-07-16T18:50:41.268981Z",
     "end_time": "2023-07-16T18:50:41.485013Z"
    }
   }
  },
  {
   "cell_type": "code",
   "execution_count": 248,
   "outputs": [],
   "source": [
    "for index, row in attendance.iterrows():\n",
    "    if int(row['out_time'].split(':')[0]) == 24:\n",
    "        in_time = row['in_time'].split(':')\n",
    "        out_time = row['out_time'].split(':')\n",
    "\n",
    "        date = row['date'].split('/')\n",
    "        out_date = row['out_date'].split('/')\n",
    "        if date[1] <= out_date[1]:\n",
    "            out_date = out_date[0] +'/' + str(int(date[1]) + 1) + '/' + out_date[2]\n",
    "            attendance.at[index, 'out_date'] = out_date\n",
    "\n",
    "        out_time = '0:' + out_time[1] + ':' + out_time[2]\n",
    "        attendance.at[index, 'out_time'] = out_time"
   ],
   "metadata": {
    "collapsed": false,
    "ExecuteTime": {
     "start_time": "2023-07-16T18:50:41.316983Z",
     "end_time": "2023-07-16T18:50:51.906171Z"
    }
   }
  },
  {
   "cell_type": "code",
   "execution_count": 249,
   "outputs": [
    {
     "data": {
      "text/plain": "           id  project_code       date   out_date  Employee_No  in_time  \\\n735    340612           199   2/6/2021   2/7/2021          399  7:30:00   \n4927   351400           198   3/4/2021   3/5/2021          908  7:30:00   \n5617   341167           199   3/6/2021   3/7/2021          399  7:30:00   \n9560   348467           190  3/17/2021  3/18/2021          501  7:05:00   \n9561   348481           190  3/17/2021  3/18/2021         1218  7:55:00   \n9562   348493           190  3/17/2021  3/18/2021         1085  7:55:00   \n9856   341522           199  3/18/2021  3/19/2021          813  8:00:00   \n15553  400868           196   4/2/2021   4/3/2021         1551  7:33:24   \n16814  389076           169   4/6/2021   4/7/2021          385  8:00:00   \n25682  436125           198   5/7/2021   5/8/2021          413  7:40:00   \n29689  516864           198  5/19/2021  5/20/2021          584  8:04:47   \n32645  517402           198  5/29/2021  5/30/2021         1737  7:55:26   \n42524  535416           198  6/22/2021  6/23/2021         1013  7:54:17   \n43554  535419           198  6/25/2021  6/26/2021         1013  8:00:27   \n49981  579590           203  7/11/2021  7/12/2021         1960  4:00:00   \n\n      out_time Hourly_Time Shift_Start Shift_End  \n735    0:00:00          \\N     8:00:00  17:00:00  \n4927   0:00:00          \\N     8:00:00  17:00:00  \n5617   0:00:00          \\N     8:00:00  17:00:00  \n9560   0:00:00          \\N     8:00:00  17:00:00  \n9561   0:00:00          \\N     8:00:00  17:00:00  \n9562   0:00:00          \\N     8:00:00  17:00:00  \n9856   0:00:00          \\N     8:00:00  17:00:00  \n15553  0:50:00          \\N     8:00:00  17:00:00  \n16814  0:00:00          \\N     8:00:00  17:00:00  \n25682  0:00:00          \\N     8:00:00  17:00:00  \n29689  0:00:00          \\N     8:00:00  17:00:00  \n32645  0:00:00          \\N     8:00:00  17:00:00  \n42524  0:00:00          \\N     8:00:00  17:00:00  \n43554  0:00:00          \\N     8:00:00  17:00:00  \n49981  0:00:00          \\N     0:00:00   0:00:00  ",
      "text/html": "<div>\n<style scoped>\n    .dataframe tbody tr th:only-of-type {\n        vertical-align: middle;\n    }\n\n    .dataframe tbody tr th {\n        vertical-align: top;\n    }\n\n    .dataframe thead th {\n        text-align: right;\n    }\n</style>\n<table border=\"1\" class=\"dataframe\">\n  <thead>\n    <tr style=\"text-align: right;\">\n      <th></th>\n      <th>id</th>\n      <th>project_code</th>\n      <th>date</th>\n      <th>out_date</th>\n      <th>Employee_No</th>\n      <th>in_time</th>\n      <th>out_time</th>\n      <th>Hourly_Time</th>\n      <th>Shift_Start</th>\n      <th>Shift_End</th>\n    </tr>\n  </thead>\n  <tbody>\n    <tr>\n      <th>735</th>\n      <td>340612</td>\n      <td>199</td>\n      <td>2/6/2021</td>\n      <td>2/7/2021</td>\n      <td>399</td>\n      <td>7:30:00</td>\n      <td>0:00:00</td>\n      <td>\\N</td>\n      <td>8:00:00</td>\n      <td>17:00:00</td>\n    </tr>\n    <tr>\n      <th>4927</th>\n      <td>351400</td>\n      <td>198</td>\n      <td>3/4/2021</td>\n      <td>3/5/2021</td>\n      <td>908</td>\n      <td>7:30:00</td>\n      <td>0:00:00</td>\n      <td>\\N</td>\n      <td>8:00:00</td>\n      <td>17:00:00</td>\n    </tr>\n    <tr>\n      <th>5617</th>\n      <td>341167</td>\n      <td>199</td>\n      <td>3/6/2021</td>\n      <td>3/7/2021</td>\n      <td>399</td>\n      <td>7:30:00</td>\n      <td>0:00:00</td>\n      <td>\\N</td>\n      <td>8:00:00</td>\n      <td>17:00:00</td>\n    </tr>\n    <tr>\n      <th>9560</th>\n      <td>348467</td>\n      <td>190</td>\n      <td>3/17/2021</td>\n      <td>3/18/2021</td>\n      <td>501</td>\n      <td>7:05:00</td>\n      <td>0:00:00</td>\n      <td>\\N</td>\n      <td>8:00:00</td>\n      <td>17:00:00</td>\n    </tr>\n    <tr>\n      <th>9561</th>\n      <td>348481</td>\n      <td>190</td>\n      <td>3/17/2021</td>\n      <td>3/18/2021</td>\n      <td>1218</td>\n      <td>7:55:00</td>\n      <td>0:00:00</td>\n      <td>\\N</td>\n      <td>8:00:00</td>\n      <td>17:00:00</td>\n    </tr>\n    <tr>\n      <th>9562</th>\n      <td>348493</td>\n      <td>190</td>\n      <td>3/17/2021</td>\n      <td>3/18/2021</td>\n      <td>1085</td>\n      <td>7:55:00</td>\n      <td>0:00:00</td>\n      <td>\\N</td>\n      <td>8:00:00</td>\n      <td>17:00:00</td>\n    </tr>\n    <tr>\n      <th>9856</th>\n      <td>341522</td>\n      <td>199</td>\n      <td>3/18/2021</td>\n      <td>3/19/2021</td>\n      <td>813</td>\n      <td>8:00:00</td>\n      <td>0:00:00</td>\n      <td>\\N</td>\n      <td>8:00:00</td>\n      <td>17:00:00</td>\n    </tr>\n    <tr>\n      <th>15553</th>\n      <td>400868</td>\n      <td>196</td>\n      <td>4/2/2021</td>\n      <td>4/3/2021</td>\n      <td>1551</td>\n      <td>7:33:24</td>\n      <td>0:50:00</td>\n      <td>\\N</td>\n      <td>8:00:00</td>\n      <td>17:00:00</td>\n    </tr>\n    <tr>\n      <th>16814</th>\n      <td>389076</td>\n      <td>169</td>\n      <td>4/6/2021</td>\n      <td>4/7/2021</td>\n      <td>385</td>\n      <td>8:00:00</td>\n      <td>0:00:00</td>\n      <td>\\N</td>\n      <td>8:00:00</td>\n      <td>17:00:00</td>\n    </tr>\n    <tr>\n      <th>25682</th>\n      <td>436125</td>\n      <td>198</td>\n      <td>5/7/2021</td>\n      <td>5/8/2021</td>\n      <td>413</td>\n      <td>7:40:00</td>\n      <td>0:00:00</td>\n      <td>\\N</td>\n      <td>8:00:00</td>\n      <td>17:00:00</td>\n    </tr>\n    <tr>\n      <th>29689</th>\n      <td>516864</td>\n      <td>198</td>\n      <td>5/19/2021</td>\n      <td>5/20/2021</td>\n      <td>584</td>\n      <td>8:04:47</td>\n      <td>0:00:00</td>\n      <td>\\N</td>\n      <td>8:00:00</td>\n      <td>17:00:00</td>\n    </tr>\n    <tr>\n      <th>32645</th>\n      <td>517402</td>\n      <td>198</td>\n      <td>5/29/2021</td>\n      <td>5/30/2021</td>\n      <td>1737</td>\n      <td>7:55:26</td>\n      <td>0:00:00</td>\n      <td>\\N</td>\n      <td>8:00:00</td>\n      <td>17:00:00</td>\n    </tr>\n    <tr>\n      <th>42524</th>\n      <td>535416</td>\n      <td>198</td>\n      <td>6/22/2021</td>\n      <td>6/23/2021</td>\n      <td>1013</td>\n      <td>7:54:17</td>\n      <td>0:00:00</td>\n      <td>\\N</td>\n      <td>8:00:00</td>\n      <td>17:00:00</td>\n    </tr>\n    <tr>\n      <th>43554</th>\n      <td>535419</td>\n      <td>198</td>\n      <td>6/25/2021</td>\n      <td>6/26/2021</td>\n      <td>1013</td>\n      <td>8:00:27</td>\n      <td>0:00:00</td>\n      <td>\\N</td>\n      <td>8:00:00</td>\n      <td>17:00:00</td>\n    </tr>\n    <tr>\n      <th>49981</th>\n      <td>579590</td>\n      <td>203</td>\n      <td>7/11/2021</td>\n      <td>7/12/2021</td>\n      <td>1960</td>\n      <td>4:00:00</td>\n      <td>0:00:00</td>\n      <td>\\N</td>\n      <td>0:00:00</td>\n      <td>0:00:00</td>\n    </tr>\n  </tbody>\n</table>\n</div>"
     },
     "execution_count": 249,
     "metadata": {},
     "output_type": "execute_result"
    }
   ],
   "source": [
    "df_N = attendance[attendance['Hourly_Time'] == '\\\\N']\n",
    "df_N"
   ],
   "metadata": {
    "collapsed": false,
    "ExecuteTime": {
     "start_time": "2023-07-16T18:50:51.909171Z",
     "end_time": "2023-07-16T18:50:51.949680Z"
    }
   }
  },
  {
   "cell_type": "code",
   "execution_count": 250,
   "outputs": [
    {
     "name": "stdout",
     "output_type": "stream",
     "text": [
      "7:30:00 0:00:00 16.5 735\n",
      "7:30:00 0:00:00 16.5 4927\n",
      "7:30:00 0:00:00 16.5 5617\n",
      "7:05:00 0:00:00 16.92 9560\n",
      "7:55:00 0:00:00 16.08 9561\n",
      "7:55:00 0:00:00 16.08 9562\n",
      "8:00:00 0:00:00 16.0 9856\n",
      "7:33:24 0:50:00 17.28 15553\n",
      "8:00:00 0:00:00 16.0 16814\n",
      "7:40:00 0:00:00 16.33 25682\n",
      "8:04:47 0:00:00 15.92 29689\n",
      "7:55:26 0:00:00 16.08 32645\n",
      "7:54:17 0:00:00 16.1 42524\n",
      "8:00:27 0:00:00 15.99 43554\n",
      "4:00:00 0:00:00 20.0 49981\n"
     ]
    }
   ],
   "source": [
    "changed = []\n",
    "for index, row in attendance.iterrows():\n",
    "    if row['Hourly_Time'] == '\\\\N':\n",
    "        in_time = row['in_time'].split(':')\n",
    "        in_time = int(in_time[0]) * 3600 + int(in_time[1]) * 60 + int(in_time[2])\n",
    "        out_time = row['out_time'].split(':')\n",
    "        if int(out_time[0]) == 0:\n",
    "            out_time = 24 * 3600 + int(out_time[1]) * 60 + int(out_time[2])\n",
    "        else:\n",
    "            out_time = int(out_time[0]) * 3600 + int(out_time[1]) * 60 + int(out_time[2])\n",
    "        if in_time <= out_time:\n",
    "            hourly_time = round((out_time - in_time) / 3600, 2)\n",
    "            print(row['in_time'], row['out_time'], hourly_time, index)\n",
    "            attendance.at[index, 'Hourly_Time'] = hourly_time\n",
    "            changed.append(index)\n",
    "        else:\n",
    "            print('Error')"
   ],
   "metadata": {
    "collapsed": false,
    "ExecuteTime": {
     "start_time": "2023-07-16T18:50:51.942683Z",
     "end_time": "2023-07-16T18:51:02.434773Z"
    }
   }
  },
  {
   "cell_type": "code",
   "execution_count": 251,
   "outputs": [
    {
     "name": "stdout",
     "output_type": "stream",
     "text": [
      "id                340612\n",
      "project_code         199\n",
      "date            2/6/2021\n",
      "out_date        2/7/2021\n",
      "Employee_No          399\n",
      "in_time          7:30:00\n",
      "out_time         0:00:00\n",
      "Hourly_Time         16.5\n",
      "Shift_Start      8:00:00\n",
      "Shift_End       17:00:00\n",
      "Name: 735, dtype: object\n",
      "id                351400\n",
      "project_code         198\n",
      "date            3/4/2021\n",
      "out_date        3/5/2021\n",
      "Employee_No          908\n",
      "in_time          7:30:00\n",
      "out_time         0:00:00\n",
      "Hourly_Time         16.5\n",
      "Shift_Start      8:00:00\n",
      "Shift_End       17:00:00\n",
      "Name: 4927, dtype: object\n",
      "id                341167\n",
      "project_code         199\n",
      "date            3/6/2021\n",
      "out_date        3/7/2021\n",
      "Employee_No          399\n",
      "in_time          7:30:00\n",
      "out_time         0:00:00\n",
      "Hourly_Time         16.5\n",
      "Shift_Start      8:00:00\n",
      "Shift_End       17:00:00\n",
      "Name: 5617, dtype: object\n",
      "id                 348467\n",
      "project_code          190\n",
      "date            3/17/2021\n",
      "out_date        3/18/2021\n",
      "Employee_No           501\n",
      "in_time           7:05:00\n",
      "out_time          0:00:00\n",
      "Hourly_Time         16.92\n",
      "Shift_Start       8:00:00\n",
      "Shift_End        17:00:00\n",
      "Name: 9560, dtype: object\n",
      "id                 348481\n",
      "project_code          190\n",
      "date            3/17/2021\n",
      "out_date        3/18/2021\n",
      "Employee_No          1218\n",
      "in_time           7:55:00\n",
      "out_time          0:00:00\n",
      "Hourly_Time         16.08\n",
      "Shift_Start       8:00:00\n",
      "Shift_End        17:00:00\n",
      "Name: 9561, dtype: object\n",
      "id                 348493\n",
      "project_code          190\n",
      "date            3/17/2021\n",
      "out_date        3/18/2021\n",
      "Employee_No          1085\n",
      "in_time           7:55:00\n",
      "out_time          0:00:00\n",
      "Hourly_Time         16.08\n",
      "Shift_Start       8:00:00\n",
      "Shift_End        17:00:00\n",
      "Name: 9562, dtype: object\n",
      "id                 341522\n",
      "project_code          199\n",
      "date            3/18/2021\n",
      "out_date        3/19/2021\n",
      "Employee_No           813\n",
      "in_time           8:00:00\n",
      "out_time          0:00:00\n",
      "Hourly_Time          16.0\n",
      "Shift_Start       8:00:00\n",
      "Shift_End        17:00:00\n",
      "Name: 9856, dtype: object\n",
      "id                400868\n",
      "project_code         196\n",
      "date            4/2/2021\n",
      "out_date        4/3/2021\n",
      "Employee_No         1551\n",
      "in_time          7:33:24\n",
      "out_time         0:50:00\n",
      "Hourly_Time        17.28\n",
      "Shift_Start      8:00:00\n",
      "Shift_End       17:00:00\n",
      "Name: 15553, dtype: object\n",
      "id                389076\n",
      "project_code         169\n",
      "date            4/6/2021\n",
      "out_date        4/7/2021\n",
      "Employee_No          385\n",
      "in_time          8:00:00\n",
      "out_time         0:00:00\n",
      "Hourly_Time         16.0\n",
      "Shift_Start      8:00:00\n",
      "Shift_End       17:00:00\n",
      "Name: 16814, dtype: object\n",
      "id                436125\n",
      "project_code         198\n",
      "date            5/7/2021\n",
      "out_date        5/8/2021\n",
      "Employee_No          413\n",
      "in_time          7:40:00\n",
      "out_time         0:00:00\n",
      "Hourly_Time        16.33\n",
      "Shift_Start      8:00:00\n",
      "Shift_End       17:00:00\n",
      "Name: 25682, dtype: object\n",
      "id                 516864\n",
      "project_code          198\n",
      "date            5/19/2021\n",
      "out_date        5/20/2021\n",
      "Employee_No           584\n",
      "in_time           8:04:47\n",
      "out_time          0:00:00\n",
      "Hourly_Time         15.92\n",
      "Shift_Start       8:00:00\n",
      "Shift_End        17:00:00\n",
      "Name: 29689, dtype: object\n",
      "id                 517402\n",
      "project_code          198\n",
      "date            5/29/2021\n",
      "out_date        5/30/2021\n",
      "Employee_No          1737\n",
      "in_time           7:55:26\n",
      "out_time          0:00:00\n",
      "Hourly_Time         16.08\n",
      "Shift_Start       8:00:00\n",
      "Shift_End        17:00:00\n",
      "Name: 32645, dtype: object\n",
      "id                 535416\n",
      "project_code          198\n",
      "date            6/22/2021\n",
      "out_date        6/23/2021\n",
      "Employee_No          1013\n",
      "in_time           7:54:17\n",
      "out_time          0:00:00\n",
      "Hourly_Time          16.1\n",
      "Shift_Start       8:00:00\n",
      "Shift_End        17:00:00\n",
      "Name: 42524, dtype: object\n",
      "id                 535419\n",
      "project_code          198\n",
      "date            6/25/2021\n",
      "out_date        6/26/2021\n",
      "Employee_No          1013\n",
      "in_time           8:00:27\n",
      "out_time          0:00:00\n",
      "Hourly_Time         15.99\n",
      "Shift_Start       8:00:00\n",
      "Shift_End        17:00:00\n",
      "Name: 43554, dtype: object\n",
      "id                 579590\n",
      "project_code          203\n",
      "date            7/11/2021\n",
      "out_date        7/12/2021\n",
      "Employee_No          1960\n",
      "in_time           4:00:00\n",
      "out_time          0:00:00\n",
      "Hourly_Time          20.0\n",
      "Shift_Start       0:00:00\n",
      "Shift_End         0:00:00\n",
      "Name: 49981, dtype: object\n"
     ]
    }
   ],
   "source": [
    "for row in changed:\n",
    "    print(attendance.iloc[row])"
   ],
   "metadata": {
    "collapsed": false,
    "ExecuteTime": {
     "start_time": "2023-07-16T18:51:02.436775Z",
     "end_time": "2023-07-16T18:51:02.496302Z"
    }
   }
  },
  {
   "cell_type": "code",
   "execution_count": 252,
   "outputs": [
    {
     "data": {
      "text/plain": "             id  project_code       date    out_date  Employee_No  in_time  \\\n142203  1265422           201  2/28/2022  0000-00-00         2392  8:00:00   \n\n       out_time Hourly_Time Shift_Start Shift_End  \n142203  0:45:03       16.75     8:00:00  17:00:00  ",
      "text/html": "<div>\n<style scoped>\n    .dataframe tbody tr th:only-of-type {\n        vertical-align: middle;\n    }\n\n    .dataframe tbody tr th {\n        vertical-align: top;\n    }\n\n    .dataframe thead th {\n        text-align: right;\n    }\n</style>\n<table border=\"1\" class=\"dataframe\">\n  <thead>\n    <tr style=\"text-align: right;\">\n      <th></th>\n      <th>id</th>\n      <th>project_code</th>\n      <th>date</th>\n      <th>out_date</th>\n      <th>Employee_No</th>\n      <th>in_time</th>\n      <th>out_time</th>\n      <th>Hourly_Time</th>\n      <th>Shift_Start</th>\n      <th>Shift_End</th>\n    </tr>\n  </thead>\n  <tbody>\n    <tr>\n      <th>142203</th>\n      <td>1265422</td>\n      <td>201</td>\n      <td>2/28/2022</td>\n      <td>0000-00-00</td>\n      <td>2392</td>\n      <td>8:00:00</td>\n      <td>0:45:03</td>\n      <td>16.75</td>\n      <td>8:00:00</td>\n      <td>17:00:00</td>\n    </tr>\n  </tbody>\n</table>\n</div>"
     },
     "execution_count": 252,
     "metadata": {},
     "output_type": "execute_result"
    }
   ],
   "source": [
    "attendance[(attendance['date'] == '0000-00-00') | (attendance['out_date'] == '0000-00-00')]"
   ],
   "metadata": {
    "collapsed": false,
    "ExecuteTime": {
     "start_time": "2023-07-16T18:51:02.499282Z",
     "end_time": "2023-07-16T18:51:02.519291Z"
    }
   }
  },
  {
   "cell_type": "code",
   "execution_count": 253,
   "outputs": [],
   "source": [
    "attendance.at[142203, 'out_date'] = '3/1/2022'"
   ],
   "metadata": {
    "collapsed": false,
    "ExecuteTime": {
     "start_time": "2023-07-16T18:51:02.517282Z",
     "end_time": "2023-07-16T18:51:02.542806Z"
    }
   }
  },
  {
   "cell_type": "markdown",
   "source": [
    "# Cleaning 'leaves' dataset"
   ],
   "metadata": {
    "collapsed": false
   }
  },
  {
   "cell_type": "code",
   "execution_count": 254,
   "outputs": [],
   "source": [
    "leaves = leaves.drop_duplicates()"
   ],
   "metadata": {
    "collapsed": false,
    "ExecuteTime": {
     "start_time": "2023-07-16T18:51:02.532295Z",
     "end_time": "2023-07-16T18:51:02.574932Z"
    }
   }
  },
  {
   "cell_type": "code",
   "execution_count": 255,
   "outputs": [
    {
     "name": "stdout",
     "output_type": "stream",
     "text": [
      "False\n"
     ]
    }
   ],
   "source": [
    "print(leaves.duplicated().any())"
   ],
   "metadata": {
    "collapsed": false,
    "ExecuteTime": {
     "start_time": "2023-07-16T18:51:02.546937Z",
     "end_time": "2023-07-16T18:51:02.612934Z"
    }
   }
  },
  {
   "cell_type": "code",
   "execution_count": 256,
   "outputs": [
    {
     "data": {
      "text/plain": "Employee_No       0\nleave_date        0\nType              0\nApplied Date      0\nRemarks         245\napply_type        0\ndtype: int64"
     },
     "execution_count": 256,
     "metadata": {},
     "output_type": "execute_result"
    }
   ],
   "source": [
    "leaves.isna().sum()"
   ],
   "metadata": {
    "collapsed": false,
    "ExecuteTime": {
     "start_time": "2023-07-16T18:51:02.571959Z",
     "end_time": "2023-07-16T18:51:02.668201Z"
    }
   }
  },
  {
   "cell_type": "code",
   "execution_count": 257,
   "outputs": [],
   "source": [
    "leaves = leaves.fillna('\\\\N')"
   ],
   "metadata": {
    "collapsed": false,
    "ExecuteTime": {
     "start_time": "2023-07-16T18:51:02.581936Z",
     "end_time": "2023-07-16T18:51:02.680200Z"
    }
   }
  },
  {
   "cell_type": "code",
   "execution_count": 258,
   "outputs": [
    {
     "data": {
      "text/plain": "Employee_No     0\nleave_date      0\nType            0\nApplied Date    0\nRemarks         0\napply_type      0\ndtype: int64"
     },
     "execution_count": 258,
     "metadata": {},
     "output_type": "execute_result"
    }
   ],
   "source": [
    "leaves.isna().sum()"
   ],
   "metadata": {
    "collapsed": false,
    "ExecuteTime": {
     "start_time": "2023-07-16T18:51:02.595937Z",
     "end_time": "2023-07-16T18:51:02.680200Z"
    }
   }
  },
  {
   "cell_type": "markdown",
   "source": [
    "# Look for outliers in employees"
   ],
   "metadata": {
    "collapsed": false
   }
  },
  {
   "cell_type": "code",
   "execution_count": 259,
   "outputs": [
    {
     "data": {
      "text/plain": "<Axes: >"
     },
     "execution_count": 259,
     "metadata": {},
     "output_type": "execute_result"
    }
   ],
   "source": [
    "employees.boxplot(['Year_of_Birth'])"
   ],
   "metadata": {
    "collapsed": false,
    "ExecuteTime": {
     "start_time": "2023-07-16T18:51:02.612934Z",
     "end_time": "2023-07-16T18:51:02.681199Z"
    }
   }
  },
  {
   "cell_type": "code",
   "execution_count": 259,
   "outputs": [],
   "source": [],
   "metadata": {
    "collapsed": false,
    "ExecuteTime": {
     "start_time": "2023-07-16T18:51:02.641201Z",
     "end_time": "2023-07-16T18:51:02.682199Z"
    }
   }
  },
  {
   "cell_type": "markdown",
   "source": [
    "# Look for outliers in salary"
   ],
   "metadata": {
    "collapsed": false
   }
  },
  {
   "cell_type": "code",
   "execution_count": 260,
   "outputs": [
    {
     "name": "stdout",
     "output_type": "stream",
     "text": [
      "Employee_No 347 1565 1517 1517\n",
      "year 2020 2022 2021 2021\n",
      "month 1 7 7 7\n",
      "SiteNo 1 194 176 176\n",
      "Accomadation Allowance 0 0 4 4\n",
      "Accommodation Allowance 0 0 22 22\n",
      "Add. Allow. No Pay Deduction 0 0 653 653\n",
      "Additional Allowance_0 0 0 3 3\n",
      "Additional Allowance_2 0 0 6262 6262\n",
      "Allow - Extra Working Hours 0 0 315 315\n",
      "Attendance Allowance Rate 0 0 13 13\n",
      "Attendance Allowance_0 0 0 209 209\n",
      "Attendance Allowance_2 0 0 104 104\n",
      "BRA1 0 40 200 200\n",
      "BRA1 Amount 0 400 457 457\n",
      "BRA1WSL 0 0 1 1\n",
      "BRA2 0 100 734 734\n",
      "BRA2 Amount 0 1000 1144 1144\n",
      "BRA2WSL 0 0 2 2\n",
      "Basic Day Rate 0 500 397 397\n",
      "Basic Rate for EPF 0 640 482 482\n",
      "Basic Rate_2 0 0 11980 11980\n",
      "Basic Rate_3 0 0 369 369\n",
      "Basic Salary for EPF 0 0 6485 6485\n",
      "Basic Salary_0 0 16000 21031 21031\n",
      "Basic Salary_2 0 0 250 250\n",
      "Basic per Day 0 500 647 647\n",
      "EPF Employee 8% 0 166 1068 1068\n",
      "EPF Employer 12% 0 248 1603 1603\n",
      "EPF Staff No Pay Full Day 0 0 1 1\n",
      "EPF Staff No Pay Half Day 0 0 0 0\n",
      "EPF staff Halfdays 0 0 0 0\n",
      "EPF staff full workdays 0 0 7 7\n",
      "ETF Employer 3% 0 62 401 401\n",
      "Ex Work Hours Allownace 0 0 288 288\n",
      "Fixed Amount 0 0 9349 9349\n",
      "Fixed OT Entitlement 0 0 778 778\n",
      "Fixed OT Hours 0 0 6 6\n",
      "Hard Ship Allowance Rate 0 0 11 11\n",
      "Hard Ship Allowance_0 0 0 228 228\n",
      "Hard Ship Allowance_2 0 0 117 117\n",
      "Hard ship Allowance Rate 0 0 1 1\n",
      "Leave Leave Full Day 0 0 0 0\n",
      "Leave Leave Halfday 0 0 0 0\n",
      "Lieu Leave 0 0 0 0\n",
      "Meal Allowance 0 0 4 4\n",
      "Month Day Count 0 0 6 6\n",
      "Net Salary 0 33475 40685 40685\n",
      "No Pay 0 0 9 9\n",
      "No Pay Days 0 0 1 1\n",
      "No Pay Deduction 0 0 870 870\n",
      "No Pay Rate 0 0 2 2\n",
      "No of Full Worked Days 0 10 11 11\n",
      "No of Half Days 0 0 0 0\n",
      "OT (Type = 2) 0 0 4 4\n",
      "OT Amount 1.5_0 0 0 3089 3089\n",
      "OT Amount 1.5_2 0 0 20 20\n",
      "OT Hours 0 0 20 20\n",
      "OT Rate 0 0 74 74\n",
      "OT Rate 1.5 0 120 92 92\n",
      "OT Rate 2 0 0 29 29\n",
      "Other Allowance 0 0 1252 1252\n",
      "Other Allowance Amount 0 3195 8740 8740\n",
      "Other Allowance Rate 0 460 479 479\n",
      "Other Deduction 0 0 123 123\n",
      "Payee Month 0 0 27 27\n",
      "Per Day Rate Total 0 1200 959 959\n",
      "Performance Allowance 0 0 607 607\n",
      "Performance Allowance Rate 0 0 678 678\n",
      "Performance Allownace Fixed 0 0 1281 1281\n",
      "Salary Advance 0 0 1177 1177\n",
      "Salary Arrears_0 0 0 128 128\n",
      "Salary Arrears_2 0 0 3 3\n",
      "Site Fixed Allowance 0 0 28 28\n",
      "Special Allowance 0 0 18 18\n",
      "Special Task Allowance 0 0 41 41\n",
      "Stamp Duty 0 25 18 18\n",
      "Telephone Allowance 0 0 7 7\n",
      "Telephone Deduction 0 0 2 2\n",
      "Total Cost to the Company 0 0 11456 11456\n",
      "Total Deduction 0 1025 3676 3676\n",
      "Total Earnings_0 0 0 334 334\n",
      "Total Earnings_2 0 37274 45104 45104\n",
      "Total Fixed 0 0 22115 22115\n",
      "Total V.Allowance 0 0 833 833\n",
      "Total Working Days 0 21 19 19\n",
      "Travelling Allowance 0 0 333 333\n",
      "V. ALLW -Site 0 0 118 118\n",
      "V. ALLW Rate -Site 0 0 4 4\n",
      "V. Allow - Drivers Travel 0 0 18 18\n",
      "V. Allow - Operator 0 0 14 14\n",
      "V. Allowance Attendance 0 0 68 68\n",
      "Vehicle Allownace 0 0 0 0\n",
      "WSL Advance 0 0 268 268\n",
      "WSL Basic 0 0 27 27\n",
      "WSL Basic Salary 0 0 842 842\n",
      "WSL Day Rate 0 0 44 44\n",
      "WSL Net Salary 0 0 228 228\n",
      "WSL No of Full Worked Days 0 0 0 0\n",
      "WSL No of Half Days 0 0 0 0\n",
      "WSL OT 1.5 0 0 35 35\n",
      "WSL OT Hours 1.5 0 0 0 0\n",
      "WSL OT Rate 0 0 3 3\n",
      "WSL Total Earning 0 0 489 489\n",
      "WSL Total Working Days 0 0 0 0\n",
      "WSLOther Allowance Rate 0 0 14 14\n",
      "Working Days - Full 0 0 0 0\n",
      "Working Days - Half Day 0 0 0 0\n"
     ]
    }
   ],
   "source": [
    "# for col in salary.columns.tolist():\n",
    "#     if salary[col].dtype == np.int32 or salary[col].dtype == np.int64 or salary[col].dtype == np.float64:\n",
    "#         plt.figure()\n",
    "#         salary.boxplot([col])\n",
    "\n",
    "for col in salary.columns.tolist():\n",
    "    if salary[col].dtype == np.int32 or salary[col].dtype == np.int64 or salary[col].dtype == np.float64:\n",
    "        min_val = salary[col].min()\n",
    "        median_val = salary[col].median()\n",
    "        mean_val = salary[col].mean()\n",
    "        max_val = salary[col].mean()\n",
    "        print(col, round(min_val), round(median_val), round(mean_val), round(max_val))"
   ],
   "metadata": {
    "collapsed": false,
    "ExecuteTime": {
     "start_time": "2023-07-16T18:51:02.655201Z",
     "end_time": "2023-07-16T18:51:02.780405Z"
    }
   }
  },
  {
   "cell_type": "markdown",
   "source": [
    "# Merge the 'salary', 'attendance' and 'leaves' datasets with 'employees' dataset"
   ],
   "metadata": {
    "collapsed": false
   }
  },
  {
   "cell_type": "code",
   "execution_count": 261,
   "outputs": [
    {
     "name": "stdout",
     "output_type": "stream",
     "text": [
      "(5760, 122)\n",
      "719 \n",
      "\n",
      "(144475, 23)\n",
      "742 \n",
      "\n",
      "(886, 19)\n",
      "57\n"
     ]
    }
   ],
   "source": [
    "employees_salary = pd.merge(employees, salary, how='inner', on=['Employee_No'])\n",
    "employees_attendance = pd.merge(employees, attendance, how='inner', on=['Employee_No'])\n",
    "employees_leaves = pd.merge(employees, leaves, how='inner', on=['Employee_No'])\n",
    "\n",
    "print(employees_salary.shape)\n",
    "print(employees_salary['Employee_No'].nunique(), '\\n')\n",
    "\n",
    "print(employees_attendance.shape)\n",
    "print(employees_attendance['Employee_No'].nunique(), '\\n')\n",
    "\n",
    "print(employees_leaves.shape)\n",
    "print(employees_leaves['Employee_No'].nunique())"
   ],
   "metadata": {
    "collapsed": false,
    "ExecuteTime": {
     "start_time": "2023-07-16T18:51:02.709203Z",
     "end_time": "2023-07-16T18:51:02.857925Z"
    }
   }
  },
  {
   "cell_type": "code",
   "execution_count": 262,
   "outputs": [
    {
     "name": "stdout",
     "output_type": "stream",
     "text": [
      "False\n",
      "False\n",
      "False\n"
     ]
    }
   ],
   "source": [
    "print(employees_salary.duplicated().any())\n",
    "print(employees_attendance.duplicated().any())\n",
    "print(employees_leaves.duplicated().any())"
   ],
   "metadata": {
    "collapsed": false,
    "ExecuteTime": {
     "start_time": "2023-07-16T18:51:02.860930Z",
     "end_time": "2023-07-16T18:51:03.137253Z"
    }
   }
  },
  {
   "cell_type": "code",
   "execution_count": 263,
   "outputs": [
    {
     "name": "stdout",
     "output_type": "stream",
     "text": [
      "0\n",
      "0\n",
      "0\n"
     ]
    }
   ],
   "source": [
    "print(employees_salary.isna().sum().sum())\n",
    "print(employees_attendance.isna().sum().sum())\n",
    "print(employees_leaves.isna().sum().sum())"
   ],
   "metadata": {
    "collapsed": false,
    "ExecuteTime": {
     "start_time": "2023-07-16T18:51:03.115249Z",
     "end_time": "2023-07-16T18:51:03.523417Z"
    }
   }
  },
  {
   "cell_type": "code",
   "execution_count": 264,
   "outputs": [],
   "source": [
    "employees_salary = employees_salary.reset_index(drop=True)\n",
    "employees_attendance = employees_attendance.reset_index(drop=True)\n",
    "employees_leaves = employees_leaves.reset_index(drop=True)"
   ],
   "metadata": {
    "collapsed": false,
    "ExecuteTime": {
     "start_time": "2023-07-16T18:51:03.509326Z",
     "end_time": "2023-07-16T18:51:03.587939Z"
    }
   }
  },
  {
   "cell_type": "code",
   "execution_count": 265,
   "outputs": [
    {
     "data": {
      "text/plain": "      Employee_No               Name Title Gender Marital_Status Date_Joined  \\\n0             347  Myrl Bechtelar MD    Mr   Male        Married   12/8/1993   \n1             347  Myrl Bechtelar MD    Mr   Male        Married   12/8/1993   \n2             347  Myrl Bechtelar MD    Mr   Male        Married   12/8/1993   \n3             347  Myrl Bechtelar MD    Mr   Male        Married   12/8/1993   \n4             347  Myrl Bechtelar MD    Mr   Male        Married   12/8/1993   \n...           ...                ...   ...    ...            ...         ...   \n5755         2890      Delphia Haley    Mr   Male         Single  11/21/2022   \n5756         2972      Lance Stanton    Mr   Male         Single   12/5/2022   \n5757         2973    Chauncey Reilly    Mr   Male         Single   12/8/2022   \n5758         2973    Chauncey Reilly    Mr   Male         Single   12/8/2022   \n5759         3041             Sudath    Mr   Male        Married  12/20/2022   \n\n     Date_Resigned  Status Inactive_Date Employment_Category  ...  \\\n0                   Active                             Staff  ...   \n1                   Active                             Staff  ...   \n2                   Active                             Staff  ...   \n3                   Active                             Staff  ...   \n4                   Active                             Staff  ...   \n...            ...     ...           ...                 ...  ...   \n5755                Active                             Staff  ...   \n5756                Active                             Staff  ...   \n5757                Active                             Staff  ...   \n5758                Active                             Staff  ...   \n5759                Active                        Management  ...   \n\n     WSL No of Full Worked Days WSL No of Half Days WSL OT 1.5  \\\n0                           0.0                 0.0        0.0   \n1                           0.0                 0.0        0.0   \n2                           0.0                 0.0        0.0   \n3                           0.0                 0.0        0.0   \n4                           0.0                 0.0        0.0   \n...                         ...                 ...        ...   \n5755                        0.0                 0.0        0.0   \n5756                        0.0                 0.0        0.0   \n5757                        0.0                 0.0        0.0   \n5758                        0.0                 0.0        0.0   \n5759                        0.0                 0.0        0.0   \n\n      WSL OT Hours 1.5  WSL OT Rate  WSL Total Earning  \\\n0                  0.0          0.0                0.0   \n1                  0.0          0.0                0.0   \n2                  0.0          0.0                0.0   \n3                  0.0          0.0                0.0   \n4                  0.0          0.0                0.0   \n...                ...          ...                ...   \n5755               0.0          0.0                0.0   \n5756               0.0          0.0                0.0   \n5757               0.0          0.0                0.0   \n5758               0.0          0.0                0.0   \n5759               0.0          0.0                0.0   \n\n      WSL Total Working Days WSLOther Allowance Rate  Working Days - Full  \\\n0                        0.0                     0.0                  0.0   \n1                        0.0                     0.0                  0.0   \n2                        0.0                     0.0                  0.0   \n3                        0.0                     0.0                  0.0   \n4                        0.0                     0.0                  0.0   \n...                      ...                     ...                  ...   \n5755                     0.0                     0.0                  0.0   \n5756                     0.0                     0.0                  0.0   \n5757                     0.0                     0.0                  0.0   \n5758                     0.0                     0.0                  0.0   \n5759                     0.0                     0.0                  0.0   \n\n      Working Days - Half Day  \n0                         0.0  \n1                         0.0  \n2                         0.0  \n3                         0.0  \n4                         0.0  \n...                       ...  \n5755                      0.0  \n5756                      0.0  \n5757                      0.0  \n5758                      0.0  \n5759                      0.0  \n\n[5760 rows x 122 columns]",
      "text/html": "<div>\n<style scoped>\n    .dataframe tbody tr th:only-of-type {\n        vertical-align: middle;\n    }\n\n    .dataframe tbody tr th {\n        vertical-align: top;\n    }\n\n    .dataframe thead th {\n        text-align: right;\n    }\n</style>\n<table border=\"1\" class=\"dataframe\">\n  <thead>\n    <tr style=\"text-align: right;\">\n      <th></th>\n      <th>Employee_No</th>\n      <th>Name</th>\n      <th>Title</th>\n      <th>Gender</th>\n      <th>Marital_Status</th>\n      <th>Date_Joined</th>\n      <th>Date_Resigned</th>\n      <th>Status</th>\n      <th>Inactive_Date</th>\n      <th>Employment_Category</th>\n      <th>...</th>\n      <th>WSL No of Full Worked Days</th>\n      <th>WSL No of Half Days</th>\n      <th>WSL OT 1.5</th>\n      <th>WSL OT Hours 1.5</th>\n      <th>WSL OT Rate</th>\n      <th>WSL Total Earning</th>\n      <th>WSL Total Working Days</th>\n      <th>WSLOther Allowance Rate</th>\n      <th>Working Days - Full</th>\n      <th>Working Days - Half Day</th>\n    </tr>\n  </thead>\n  <tbody>\n    <tr>\n      <th>0</th>\n      <td>347</td>\n      <td>Myrl Bechtelar MD</td>\n      <td>Mr</td>\n      <td>Male</td>\n      <td>Married</td>\n      <td>12/8/1993</td>\n      <td></td>\n      <td>Active</td>\n      <td></td>\n      <td>Staff</td>\n      <td>...</td>\n      <td>0.0</td>\n      <td>0.0</td>\n      <td>0.0</td>\n      <td>0.0</td>\n      <td>0.0</td>\n      <td>0.0</td>\n      <td>0.0</td>\n      <td>0.0</td>\n      <td>0.0</td>\n      <td>0.0</td>\n    </tr>\n    <tr>\n      <th>1</th>\n      <td>347</td>\n      <td>Myrl Bechtelar MD</td>\n      <td>Mr</td>\n      <td>Male</td>\n      <td>Married</td>\n      <td>12/8/1993</td>\n      <td></td>\n      <td>Active</td>\n      <td></td>\n      <td>Staff</td>\n      <td>...</td>\n      <td>0.0</td>\n      <td>0.0</td>\n      <td>0.0</td>\n      <td>0.0</td>\n      <td>0.0</td>\n      <td>0.0</td>\n      <td>0.0</td>\n      <td>0.0</td>\n      <td>0.0</td>\n      <td>0.0</td>\n    </tr>\n    <tr>\n      <th>2</th>\n      <td>347</td>\n      <td>Myrl Bechtelar MD</td>\n      <td>Mr</td>\n      <td>Male</td>\n      <td>Married</td>\n      <td>12/8/1993</td>\n      <td></td>\n      <td>Active</td>\n      <td></td>\n      <td>Staff</td>\n      <td>...</td>\n      <td>0.0</td>\n      <td>0.0</td>\n      <td>0.0</td>\n      <td>0.0</td>\n      <td>0.0</td>\n      <td>0.0</td>\n      <td>0.0</td>\n      <td>0.0</td>\n      <td>0.0</td>\n      <td>0.0</td>\n    </tr>\n    <tr>\n      <th>3</th>\n      <td>347</td>\n      <td>Myrl Bechtelar MD</td>\n      <td>Mr</td>\n      <td>Male</td>\n      <td>Married</td>\n      <td>12/8/1993</td>\n      <td></td>\n      <td>Active</td>\n      <td></td>\n      <td>Staff</td>\n      <td>...</td>\n      <td>0.0</td>\n      <td>0.0</td>\n      <td>0.0</td>\n      <td>0.0</td>\n      <td>0.0</td>\n      <td>0.0</td>\n      <td>0.0</td>\n      <td>0.0</td>\n      <td>0.0</td>\n      <td>0.0</td>\n    </tr>\n    <tr>\n      <th>4</th>\n      <td>347</td>\n      <td>Myrl Bechtelar MD</td>\n      <td>Mr</td>\n      <td>Male</td>\n      <td>Married</td>\n      <td>12/8/1993</td>\n      <td></td>\n      <td>Active</td>\n      <td></td>\n      <td>Staff</td>\n      <td>...</td>\n      <td>0.0</td>\n      <td>0.0</td>\n      <td>0.0</td>\n      <td>0.0</td>\n      <td>0.0</td>\n      <td>0.0</td>\n      <td>0.0</td>\n      <td>0.0</td>\n      <td>0.0</td>\n      <td>0.0</td>\n    </tr>\n    <tr>\n      <th>...</th>\n      <td>...</td>\n      <td>...</td>\n      <td>...</td>\n      <td>...</td>\n      <td>...</td>\n      <td>...</td>\n      <td>...</td>\n      <td>...</td>\n      <td>...</td>\n      <td>...</td>\n      <td>...</td>\n      <td>...</td>\n      <td>...</td>\n      <td>...</td>\n      <td>...</td>\n      <td>...</td>\n      <td>...</td>\n      <td>...</td>\n      <td>...</td>\n      <td>...</td>\n      <td>...</td>\n    </tr>\n    <tr>\n      <th>5755</th>\n      <td>2890</td>\n      <td>Delphia Haley</td>\n      <td>Mr</td>\n      <td>Male</td>\n      <td>Single</td>\n      <td>11/21/2022</td>\n      <td></td>\n      <td>Active</td>\n      <td></td>\n      <td>Staff</td>\n      <td>...</td>\n      <td>0.0</td>\n      <td>0.0</td>\n      <td>0.0</td>\n      <td>0.0</td>\n      <td>0.0</td>\n      <td>0.0</td>\n      <td>0.0</td>\n      <td>0.0</td>\n      <td>0.0</td>\n      <td>0.0</td>\n    </tr>\n    <tr>\n      <th>5756</th>\n      <td>2972</td>\n      <td>Lance Stanton</td>\n      <td>Mr</td>\n      <td>Male</td>\n      <td>Single</td>\n      <td>12/5/2022</td>\n      <td></td>\n      <td>Active</td>\n      <td></td>\n      <td>Staff</td>\n      <td>...</td>\n      <td>0.0</td>\n      <td>0.0</td>\n      <td>0.0</td>\n      <td>0.0</td>\n      <td>0.0</td>\n      <td>0.0</td>\n      <td>0.0</td>\n      <td>0.0</td>\n      <td>0.0</td>\n      <td>0.0</td>\n    </tr>\n    <tr>\n      <th>5757</th>\n      <td>2973</td>\n      <td>Chauncey Reilly</td>\n      <td>Mr</td>\n      <td>Male</td>\n      <td>Single</td>\n      <td>12/8/2022</td>\n      <td></td>\n      <td>Active</td>\n      <td></td>\n      <td>Staff</td>\n      <td>...</td>\n      <td>0.0</td>\n      <td>0.0</td>\n      <td>0.0</td>\n      <td>0.0</td>\n      <td>0.0</td>\n      <td>0.0</td>\n      <td>0.0</td>\n      <td>0.0</td>\n      <td>0.0</td>\n      <td>0.0</td>\n    </tr>\n    <tr>\n      <th>5758</th>\n      <td>2973</td>\n      <td>Chauncey Reilly</td>\n      <td>Mr</td>\n      <td>Male</td>\n      <td>Single</td>\n      <td>12/8/2022</td>\n      <td></td>\n      <td>Active</td>\n      <td></td>\n      <td>Staff</td>\n      <td>...</td>\n      <td>0.0</td>\n      <td>0.0</td>\n      <td>0.0</td>\n      <td>0.0</td>\n      <td>0.0</td>\n      <td>0.0</td>\n      <td>0.0</td>\n      <td>0.0</td>\n      <td>0.0</td>\n      <td>0.0</td>\n    </tr>\n    <tr>\n      <th>5759</th>\n      <td>3041</td>\n      <td>Sudath</td>\n      <td>Mr</td>\n      <td>Male</td>\n      <td>Married</td>\n      <td>12/20/2022</td>\n      <td></td>\n      <td>Active</td>\n      <td></td>\n      <td>Management</td>\n      <td>...</td>\n      <td>0.0</td>\n      <td>0.0</td>\n      <td>0.0</td>\n      <td>0.0</td>\n      <td>0.0</td>\n      <td>0.0</td>\n      <td>0.0</td>\n      <td>0.0</td>\n      <td>0.0</td>\n      <td>0.0</td>\n    </tr>\n  </tbody>\n</table>\n<p>5760 rows × 122 columns</p>\n</div>"
     },
     "execution_count": 265,
     "metadata": {},
     "output_type": "execute_result"
    }
   ],
   "source": [
    "employees_salary"
   ],
   "metadata": {
    "collapsed": false,
    "ExecuteTime": {
     "start_time": "2023-07-16T18:51:03.586938Z",
     "end_time": "2023-07-16T18:51:03.631946Z"
    }
   }
  },
  {
   "cell_type": "code",
   "execution_count": 266,
   "outputs": [
    {
     "data": {
      "text/plain": "        Employee_No               Name Title Gender Marital_Status  \\\n0               347  Myrl Bechtelar MD    Mr   Male        Married   \n1               347  Myrl Bechtelar MD    Mr   Male        Married   \n2               347  Myrl Bechtelar MD    Mr   Male        Married   \n3               347  Myrl Bechtelar MD    Mr   Male        Married   \n4               347  Myrl Bechtelar MD    Mr   Male        Married   \n...             ...                ...   ...    ...            ...   \n144470         3041             Sudath    Mr   Male        Married   \n144471         3041             Sudath    Mr   Male        Married   \n144472         3041             Sudath    Mr   Male        Married   \n144473         3041             Sudath    Mr   Male        Married   \n144474         3041             Sudath    Mr   Male        Married   \n\n       Date_Joined Date_Resigned  Status Inactive_Date Employment_Category  \\\n0        12/8/1993                Active                             Staff   \n1        12/8/1993                Active                             Staff   \n2        12/8/1993                Active                             Staff   \n3        12/8/1993                Active                             Staff   \n4        12/8/1993                Active                             Staff   \n...            ...           ...     ...           ...                 ...   \n144470  12/20/2022                Active                        Management   \n144471  12/20/2022                Active                        Management   \n144472  12/20/2022                Active                        Management   \n144473  12/20/2022                Active                        Management   \n144474  12/20/2022                Active                        Management   \n\n        ... Year_of_Birth       id project_code        date    out_date  \\\n0       ...          1965   322582            1    2/1/2021    2/1/2021   \n1       ...          1965   377359            1    3/1/2021    3/1/2021   \n2       ...          1965   377360          193    3/1/2021    3/1/2021   \n3       ...          1965   377361            1    3/2/2021    3/2/2021   \n4       ...          1965   377362          193    3/2/2021    3/2/2021   \n...     ...           ...      ...          ...         ...         ...   \n144470  ...          1979  6918582            1  12/27/2022  12/27/2022   \n144471  ...          1979  6936778            1  12/28/2022  12/28/2022   \n144472  ...          1979  7100645            1    1/3/2023    1/3/2023   \n144473  ...          1979  7156068            1    1/4/2023    1/4/2023   \n144474  ...          1979  7156046            1    1/5/2023    1/5/2023   \n\n        in_time  out_time Hourly_Time Shift_Start Shift_End  \n0       8:28:33  18:36:00       10.12     8:30:00  17:00:00  \n1       9:07:56  18:00:24        8.87     8:30:00  17:00:00  \n2       8:28:43  17:08:19        8.66     8:30:00  17:00:00  \n3       8:58:34  18:05:30        9.12     8:30:00  17:00:00  \n4       8:19:10  17:25:48        9.11     8:30:00  17:00:00  \n...         ...       ...         ...         ...       ...  \n144470  8:26:17  17:33:06        9.11     8:30:00  17:00:00  \n144471  8:34:54   8:34:54           0     8:30:00  17:00:00  \n144472  7:57:06   7:57:06           0     8:30:00  17:00:00  \n144473  8:16:05  18:06:42        9.84     8:30:00  17:00:00  \n144474  7:58:16   7:58:16           0     8:30:00  17:00:00  \n\n[144475 rows x 23 columns]",
      "text/html": "<div>\n<style scoped>\n    .dataframe tbody tr th:only-of-type {\n        vertical-align: middle;\n    }\n\n    .dataframe tbody tr th {\n        vertical-align: top;\n    }\n\n    .dataframe thead th {\n        text-align: right;\n    }\n</style>\n<table border=\"1\" class=\"dataframe\">\n  <thead>\n    <tr style=\"text-align: right;\">\n      <th></th>\n      <th>Employee_No</th>\n      <th>Name</th>\n      <th>Title</th>\n      <th>Gender</th>\n      <th>Marital_Status</th>\n      <th>Date_Joined</th>\n      <th>Date_Resigned</th>\n      <th>Status</th>\n      <th>Inactive_Date</th>\n      <th>Employment_Category</th>\n      <th>...</th>\n      <th>Year_of_Birth</th>\n      <th>id</th>\n      <th>project_code</th>\n      <th>date</th>\n      <th>out_date</th>\n      <th>in_time</th>\n      <th>out_time</th>\n      <th>Hourly_Time</th>\n      <th>Shift_Start</th>\n      <th>Shift_End</th>\n    </tr>\n  </thead>\n  <tbody>\n    <tr>\n      <th>0</th>\n      <td>347</td>\n      <td>Myrl Bechtelar MD</td>\n      <td>Mr</td>\n      <td>Male</td>\n      <td>Married</td>\n      <td>12/8/1993</td>\n      <td></td>\n      <td>Active</td>\n      <td></td>\n      <td>Staff</td>\n      <td>...</td>\n      <td>1965</td>\n      <td>322582</td>\n      <td>1</td>\n      <td>2/1/2021</td>\n      <td>2/1/2021</td>\n      <td>8:28:33</td>\n      <td>18:36:00</td>\n      <td>10.12</td>\n      <td>8:30:00</td>\n      <td>17:00:00</td>\n    </tr>\n    <tr>\n      <th>1</th>\n      <td>347</td>\n      <td>Myrl Bechtelar MD</td>\n      <td>Mr</td>\n      <td>Male</td>\n      <td>Married</td>\n      <td>12/8/1993</td>\n      <td></td>\n      <td>Active</td>\n      <td></td>\n      <td>Staff</td>\n      <td>...</td>\n      <td>1965</td>\n      <td>377359</td>\n      <td>1</td>\n      <td>3/1/2021</td>\n      <td>3/1/2021</td>\n      <td>9:07:56</td>\n      <td>18:00:24</td>\n      <td>8.87</td>\n      <td>8:30:00</td>\n      <td>17:00:00</td>\n    </tr>\n    <tr>\n      <th>2</th>\n      <td>347</td>\n      <td>Myrl Bechtelar MD</td>\n      <td>Mr</td>\n      <td>Male</td>\n      <td>Married</td>\n      <td>12/8/1993</td>\n      <td></td>\n      <td>Active</td>\n      <td></td>\n      <td>Staff</td>\n      <td>...</td>\n      <td>1965</td>\n      <td>377360</td>\n      <td>193</td>\n      <td>3/1/2021</td>\n      <td>3/1/2021</td>\n      <td>8:28:43</td>\n      <td>17:08:19</td>\n      <td>8.66</td>\n      <td>8:30:00</td>\n      <td>17:00:00</td>\n    </tr>\n    <tr>\n      <th>3</th>\n      <td>347</td>\n      <td>Myrl Bechtelar MD</td>\n      <td>Mr</td>\n      <td>Male</td>\n      <td>Married</td>\n      <td>12/8/1993</td>\n      <td></td>\n      <td>Active</td>\n      <td></td>\n      <td>Staff</td>\n      <td>...</td>\n      <td>1965</td>\n      <td>377361</td>\n      <td>1</td>\n      <td>3/2/2021</td>\n      <td>3/2/2021</td>\n      <td>8:58:34</td>\n      <td>18:05:30</td>\n      <td>9.12</td>\n      <td>8:30:00</td>\n      <td>17:00:00</td>\n    </tr>\n    <tr>\n      <th>4</th>\n      <td>347</td>\n      <td>Myrl Bechtelar MD</td>\n      <td>Mr</td>\n      <td>Male</td>\n      <td>Married</td>\n      <td>12/8/1993</td>\n      <td></td>\n      <td>Active</td>\n      <td></td>\n      <td>Staff</td>\n      <td>...</td>\n      <td>1965</td>\n      <td>377362</td>\n      <td>193</td>\n      <td>3/2/2021</td>\n      <td>3/2/2021</td>\n      <td>8:19:10</td>\n      <td>17:25:48</td>\n      <td>9.11</td>\n      <td>8:30:00</td>\n      <td>17:00:00</td>\n    </tr>\n    <tr>\n      <th>...</th>\n      <td>...</td>\n      <td>...</td>\n      <td>...</td>\n      <td>...</td>\n      <td>...</td>\n      <td>...</td>\n      <td>...</td>\n      <td>...</td>\n      <td>...</td>\n      <td>...</td>\n      <td>...</td>\n      <td>...</td>\n      <td>...</td>\n      <td>...</td>\n      <td>...</td>\n      <td>...</td>\n      <td>...</td>\n      <td>...</td>\n      <td>...</td>\n      <td>...</td>\n      <td>...</td>\n    </tr>\n    <tr>\n      <th>144470</th>\n      <td>3041</td>\n      <td>Sudath</td>\n      <td>Mr</td>\n      <td>Male</td>\n      <td>Married</td>\n      <td>12/20/2022</td>\n      <td></td>\n      <td>Active</td>\n      <td></td>\n      <td>Management</td>\n      <td>...</td>\n      <td>1979</td>\n      <td>6918582</td>\n      <td>1</td>\n      <td>12/27/2022</td>\n      <td>12/27/2022</td>\n      <td>8:26:17</td>\n      <td>17:33:06</td>\n      <td>9.11</td>\n      <td>8:30:00</td>\n      <td>17:00:00</td>\n    </tr>\n    <tr>\n      <th>144471</th>\n      <td>3041</td>\n      <td>Sudath</td>\n      <td>Mr</td>\n      <td>Male</td>\n      <td>Married</td>\n      <td>12/20/2022</td>\n      <td></td>\n      <td>Active</td>\n      <td></td>\n      <td>Management</td>\n      <td>...</td>\n      <td>1979</td>\n      <td>6936778</td>\n      <td>1</td>\n      <td>12/28/2022</td>\n      <td>12/28/2022</td>\n      <td>8:34:54</td>\n      <td>8:34:54</td>\n      <td>0</td>\n      <td>8:30:00</td>\n      <td>17:00:00</td>\n    </tr>\n    <tr>\n      <th>144472</th>\n      <td>3041</td>\n      <td>Sudath</td>\n      <td>Mr</td>\n      <td>Male</td>\n      <td>Married</td>\n      <td>12/20/2022</td>\n      <td></td>\n      <td>Active</td>\n      <td></td>\n      <td>Management</td>\n      <td>...</td>\n      <td>1979</td>\n      <td>7100645</td>\n      <td>1</td>\n      <td>1/3/2023</td>\n      <td>1/3/2023</td>\n      <td>7:57:06</td>\n      <td>7:57:06</td>\n      <td>0</td>\n      <td>8:30:00</td>\n      <td>17:00:00</td>\n    </tr>\n    <tr>\n      <th>144473</th>\n      <td>3041</td>\n      <td>Sudath</td>\n      <td>Mr</td>\n      <td>Male</td>\n      <td>Married</td>\n      <td>12/20/2022</td>\n      <td></td>\n      <td>Active</td>\n      <td></td>\n      <td>Management</td>\n      <td>...</td>\n      <td>1979</td>\n      <td>7156068</td>\n      <td>1</td>\n      <td>1/4/2023</td>\n      <td>1/4/2023</td>\n      <td>8:16:05</td>\n      <td>18:06:42</td>\n      <td>9.84</td>\n      <td>8:30:00</td>\n      <td>17:00:00</td>\n    </tr>\n    <tr>\n      <th>144474</th>\n      <td>3041</td>\n      <td>Sudath</td>\n      <td>Mr</td>\n      <td>Male</td>\n      <td>Married</td>\n      <td>12/20/2022</td>\n      <td></td>\n      <td>Active</td>\n      <td></td>\n      <td>Management</td>\n      <td>...</td>\n      <td>1979</td>\n      <td>7156046</td>\n      <td>1</td>\n      <td>1/5/2023</td>\n      <td>1/5/2023</td>\n      <td>7:58:16</td>\n      <td>7:58:16</td>\n      <td>0</td>\n      <td>8:30:00</td>\n      <td>17:00:00</td>\n    </tr>\n  </tbody>\n</table>\n<p>144475 rows × 23 columns</p>\n</div>"
     },
     "execution_count": 266,
     "metadata": {},
     "output_type": "execute_result"
    }
   ],
   "source": [
    "employees_attendance"
   ],
   "metadata": {
    "collapsed": false,
    "ExecuteTime": {
     "start_time": "2023-07-16T18:51:03.618936Z",
     "end_time": "2023-07-16T18:51:03.769618Z"
    }
   }
  },
  {
   "cell_type": "code",
   "execution_count": 267,
   "outputs": [
    {
     "data": {
      "text/plain": "     Employee_No                  Name Title Gender Marital_Status  \\\n0            347     Myrl Bechtelar MD    Mr   Male        Married   \n1            347     Myrl Bechtelar MD    Mr   Male        Married   \n2            347     Myrl Bechtelar MD    Mr   Male        Married   \n3            347     Myrl Bechtelar MD    Mr   Male        Married   \n4            347     Myrl Bechtelar MD    Mr   Male        Married   \n..           ...                   ...   ...    ...            ...   \n881         2737  Prof Ismael Prosacco    Mr   Male        Married   \n882         2831   Ms Katelin Medhurst    Mr   Male         Single   \n883         2972         Lance Stanton    Mr   Male         Single   \n884         2972         Lance Stanton    Mr   Male         Single   \n885         2972         Lance Stanton    Mr   Male         Single   \n\n    Date_Joined Date_Resigned  Status Inactive_Date Employment_Category  \\\n0     12/8/1993                Active                             Staff   \n1     12/8/1993                Active                             Staff   \n2     12/8/1993                Active                             Staff   \n3     12/8/1993                Active                             Staff   \n4     12/8/1993                Active                             Staff   \n..          ...           ...     ...           ...                 ...   \n881   9/27/2022                Active                             Staff   \n882  10/25/2022                Active                             Staff   \n883   12/5/2022                Active                             Staff   \n884   12/5/2022                Active                             Staff   \n885   12/5/2022                Active                             Staff   \n\n    Employment_Type  Religion           Designation  Year_of_Birth  \\\n0         Permanant  Buddhist                Driver           1965   \n1         Permanant  Buddhist                Driver           1965   \n2         Permanant  Buddhist                Driver           1965   \n3         Permanant  Buddhist                Driver           1965   \n4         Permanant  Buddhist                Driver           1965   \n..              ...       ...                   ...            ...   \n881  Contarct Basis  Buddhist  Assistant Accountant           1984   \n882  Contarct Basis  Buddhist    Management Trainee           1996   \n883  Contarct Basis  Buddhist    Software Developer           1997   \n884  Contarct Basis  Buddhist    Software Developer           1997   \n885  Contarct Basis  Buddhist    Software Developer           1997   \n\n     leave_date      Type     Applied Date             Remarks apply_type  \n0     1/29/2020  Half Day   1/4/2022 15:33                  \\N      Anual  \n1     1/29/2020  Half Day   1/4/2022 15:36                  \\N      Anual  \n2     1/29/2020  Half Day   1/4/2022 18:02                  \\N      Anual  \n3     5/12/2022  Full Day  6/13/2022 10:30                  \\N      Anual  \n4     5/13/2022  Full Day  6/13/2022 10:30                  \\N      Anual  \n..          ...       ...              ...                 ...        ...  \n881   12/8/2022  Full Day   2/3/2023 16:05            Personal     Casual  \n882  11/19/2022  Half Day  12/8/2022 18:20  For channel doctor     Casual  \n883  12/31/2022  Half Day   1/7/2023 11:20            Personal     Casual  \n884   1/28/2023  Half Day   2/3/2023 14:00            Personal     Casual  \n885   1/30/2023  Full Day   2/3/2023 14:00            Personal     Casual  \n\n[886 rows x 19 columns]",
      "text/html": "<div>\n<style scoped>\n    .dataframe tbody tr th:only-of-type {\n        vertical-align: middle;\n    }\n\n    .dataframe tbody tr th {\n        vertical-align: top;\n    }\n\n    .dataframe thead th {\n        text-align: right;\n    }\n</style>\n<table border=\"1\" class=\"dataframe\">\n  <thead>\n    <tr style=\"text-align: right;\">\n      <th></th>\n      <th>Employee_No</th>\n      <th>Name</th>\n      <th>Title</th>\n      <th>Gender</th>\n      <th>Marital_Status</th>\n      <th>Date_Joined</th>\n      <th>Date_Resigned</th>\n      <th>Status</th>\n      <th>Inactive_Date</th>\n      <th>Employment_Category</th>\n      <th>Employment_Type</th>\n      <th>Religion</th>\n      <th>Designation</th>\n      <th>Year_of_Birth</th>\n      <th>leave_date</th>\n      <th>Type</th>\n      <th>Applied Date</th>\n      <th>Remarks</th>\n      <th>apply_type</th>\n    </tr>\n  </thead>\n  <tbody>\n    <tr>\n      <th>0</th>\n      <td>347</td>\n      <td>Myrl Bechtelar MD</td>\n      <td>Mr</td>\n      <td>Male</td>\n      <td>Married</td>\n      <td>12/8/1993</td>\n      <td></td>\n      <td>Active</td>\n      <td></td>\n      <td>Staff</td>\n      <td>Permanant</td>\n      <td>Buddhist</td>\n      <td>Driver</td>\n      <td>1965</td>\n      <td>1/29/2020</td>\n      <td>Half Day</td>\n      <td>1/4/2022 15:33</td>\n      <td>\\N</td>\n      <td>Anual</td>\n    </tr>\n    <tr>\n      <th>1</th>\n      <td>347</td>\n      <td>Myrl Bechtelar MD</td>\n      <td>Mr</td>\n      <td>Male</td>\n      <td>Married</td>\n      <td>12/8/1993</td>\n      <td></td>\n      <td>Active</td>\n      <td></td>\n      <td>Staff</td>\n      <td>Permanant</td>\n      <td>Buddhist</td>\n      <td>Driver</td>\n      <td>1965</td>\n      <td>1/29/2020</td>\n      <td>Half Day</td>\n      <td>1/4/2022 15:36</td>\n      <td>\\N</td>\n      <td>Anual</td>\n    </tr>\n    <tr>\n      <th>2</th>\n      <td>347</td>\n      <td>Myrl Bechtelar MD</td>\n      <td>Mr</td>\n      <td>Male</td>\n      <td>Married</td>\n      <td>12/8/1993</td>\n      <td></td>\n      <td>Active</td>\n      <td></td>\n      <td>Staff</td>\n      <td>Permanant</td>\n      <td>Buddhist</td>\n      <td>Driver</td>\n      <td>1965</td>\n      <td>1/29/2020</td>\n      <td>Half Day</td>\n      <td>1/4/2022 18:02</td>\n      <td>\\N</td>\n      <td>Anual</td>\n    </tr>\n    <tr>\n      <th>3</th>\n      <td>347</td>\n      <td>Myrl Bechtelar MD</td>\n      <td>Mr</td>\n      <td>Male</td>\n      <td>Married</td>\n      <td>12/8/1993</td>\n      <td></td>\n      <td>Active</td>\n      <td></td>\n      <td>Staff</td>\n      <td>Permanant</td>\n      <td>Buddhist</td>\n      <td>Driver</td>\n      <td>1965</td>\n      <td>5/12/2022</td>\n      <td>Full Day</td>\n      <td>6/13/2022 10:30</td>\n      <td>\\N</td>\n      <td>Anual</td>\n    </tr>\n    <tr>\n      <th>4</th>\n      <td>347</td>\n      <td>Myrl Bechtelar MD</td>\n      <td>Mr</td>\n      <td>Male</td>\n      <td>Married</td>\n      <td>12/8/1993</td>\n      <td></td>\n      <td>Active</td>\n      <td></td>\n      <td>Staff</td>\n      <td>Permanant</td>\n      <td>Buddhist</td>\n      <td>Driver</td>\n      <td>1965</td>\n      <td>5/13/2022</td>\n      <td>Full Day</td>\n      <td>6/13/2022 10:30</td>\n      <td>\\N</td>\n      <td>Anual</td>\n    </tr>\n    <tr>\n      <th>...</th>\n      <td>...</td>\n      <td>...</td>\n      <td>...</td>\n      <td>...</td>\n      <td>...</td>\n      <td>...</td>\n      <td>...</td>\n      <td>...</td>\n      <td>...</td>\n      <td>...</td>\n      <td>...</td>\n      <td>...</td>\n      <td>...</td>\n      <td>...</td>\n      <td>...</td>\n      <td>...</td>\n      <td>...</td>\n      <td>...</td>\n      <td>...</td>\n    </tr>\n    <tr>\n      <th>881</th>\n      <td>2737</td>\n      <td>Prof Ismael Prosacco</td>\n      <td>Mr</td>\n      <td>Male</td>\n      <td>Married</td>\n      <td>9/27/2022</td>\n      <td></td>\n      <td>Active</td>\n      <td></td>\n      <td>Staff</td>\n      <td>Contarct Basis</td>\n      <td>Buddhist</td>\n      <td>Assistant Accountant</td>\n      <td>1984</td>\n      <td>12/8/2022</td>\n      <td>Full Day</td>\n      <td>2/3/2023 16:05</td>\n      <td>Personal</td>\n      <td>Casual</td>\n    </tr>\n    <tr>\n      <th>882</th>\n      <td>2831</td>\n      <td>Ms Katelin Medhurst</td>\n      <td>Mr</td>\n      <td>Male</td>\n      <td>Single</td>\n      <td>10/25/2022</td>\n      <td></td>\n      <td>Active</td>\n      <td></td>\n      <td>Staff</td>\n      <td>Contarct Basis</td>\n      <td>Buddhist</td>\n      <td>Management Trainee</td>\n      <td>1996</td>\n      <td>11/19/2022</td>\n      <td>Half Day</td>\n      <td>12/8/2022 18:20</td>\n      <td>For channel doctor</td>\n      <td>Casual</td>\n    </tr>\n    <tr>\n      <th>883</th>\n      <td>2972</td>\n      <td>Lance Stanton</td>\n      <td>Mr</td>\n      <td>Male</td>\n      <td>Single</td>\n      <td>12/5/2022</td>\n      <td></td>\n      <td>Active</td>\n      <td></td>\n      <td>Staff</td>\n      <td>Contarct Basis</td>\n      <td>Buddhist</td>\n      <td>Software Developer</td>\n      <td>1997</td>\n      <td>12/31/2022</td>\n      <td>Half Day</td>\n      <td>1/7/2023 11:20</td>\n      <td>Personal</td>\n      <td>Casual</td>\n    </tr>\n    <tr>\n      <th>884</th>\n      <td>2972</td>\n      <td>Lance Stanton</td>\n      <td>Mr</td>\n      <td>Male</td>\n      <td>Single</td>\n      <td>12/5/2022</td>\n      <td></td>\n      <td>Active</td>\n      <td></td>\n      <td>Staff</td>\n      <td>Contarct Basis</td>\n      <td>Buddhist</td>\n      <td>Software Developer</td>\n      <td>1997</td>\n      <td>1/28/2023</td>\n      <td>Half Day</td>\n      <td>2/3/2023 14:00</td>\n      <td>Personal</td>\n      <td>Casual</td>\n    </tr>\n    <tr>\n      <th>885</th>\n      <td>2972</td>\n      <td>Lance Stanton</td>\n      <td>Mr</td>\n      <td>Male</td>\n      <td>Single</td>\n      <td>12/5/2022</td>\n      <td></td>\n      <td>Active</td>\n      <td></td>\n      <td>Staff</td>\n      <td>Contarct Basis</td>\n      <td>Buddhist</td>\n      <td>Software Developer</td>\n      <td>1997</td>\n      <td>1/30/2023</td>\n      <td>Full Day</td>\n      <td>2/3/2023 14:00</td>\n      <td>Personal</td>\n      <td>Casual</td>\n    </tr>\n  </tbody>\n</table>\n<p>886 rows × 19 columns</p>\n</div>"
     },
     "execution_count": 267,
     "metadata": {},
     "output_type": "execute_result"
    }
   ],
   "source": [
    "employees_leaves"
   ],
   "metadata": {
    "collapsed": false,
    "ExecuteTime": {
     "start_time": "2023-07-16T18:51:03.743618Z",
     "end_time": "2023-07-16T18:51:03.779616Z"
    }
   }
  },
  {
   "cell_type": "markdown",
   "source": [
    "# Export the cleaned datasets"
   ],
   "metadata": {
    "collapsed": false
   }
  },
  {
   "cell_type": "code",
   "execution_count": 268,
   "outputs": [],
   "source": [
    "employees.to_csv('final_datasets/employees.csv')\n",
    "salary.to_csv('final_datasets/salary.csv')\n",
    "attendance.to_csv('final_datasets/attendance.csv')\n",
    "employees_salary.to_csv('final_datasets/employees_salary.csv')\n",
    "employees_attendance.to_csv('final_datasets/employees_attendance.csv')"
   ],
   "metadata": {
    "collapsed": false,
    "ExecuteTime": {
     "start_time": "2023-07-16T18:51:03.775615Z",
     "end_time": "2023-07-16T18:51:07.443157Z"
    }
   }
  },
  {
   "cell_type": "code",
   "execution_count": 45,
   "outputs": [
    {
     "data": {
      "text/plain": "(144475, 24)"
     },
     "execution_count": 45,
     "metadata": {},
     "output_type": "execute_result"
    }
   ],
   "source": [
    "test = pd.read_csv('final_datasets/employees_attendance.csv', low_memory=False)\n",
    "test.shape"
   ],
   "metadata": {
    "collapsed": false,
    "ExecuteTime": {
     "start_time": "2023-07-15T11:03:41.793566Z",
     "end_time": "2023-07-15T11:03:42.299503Z"
    }
   }
  },
  {
   "cell_type": "code",
   "execution_count": null,
   "outputs": [],
   "source": [],
   "metadata": {
    "collapsed": false
   }
  }
 ],
 "metadata": {
  "kernelspec": {
   "display_name": "Python 3",
   "language": "python",
   "name": "python3"
  },
  "language_info": {
   "codemirror_mode": {
    "name": "ipython",
    "version": 2
   },
   "file_extension": ".py",
   "mimetype": "text/x-python",
   "name": "python",
   "nbconvert_exporter": "python",
   "pygments_lexer": "ipython2",
   "version": "2.7.6"
  }
 },
 "nbformat": 4,
 "nbformat_minor": 0
}
